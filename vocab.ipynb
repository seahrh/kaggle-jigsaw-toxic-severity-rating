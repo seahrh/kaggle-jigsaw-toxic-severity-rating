{
 "cells": [
  {
   "cell_type": "code",
   "execution_count": 1,
   "id": "99880378",
   "metadata": {},
   "outputs": [],
   "source": [
    "import gc\n",
    "import csv\n",
    "import json\n",
    "import numpy as np\n",
    "import pandas as pd\n",
    "from sklearn.feature_extraction.text import TfidfVectorizer\n",
    "import spacy\n",
    "from tqdm import tqdm"
   ]
  },
  {
   "cell_type": "code",
   "execution_count": 2,
   "id": "71f820bc",
   "metadata": {},
   "outputs": [],
   "source": [
    "percentiles=[.01, .05, .1, .2, .3, .4, .5, .6, .7, .8, .9, .95, .99]\n",
    "pd.set_option(\"use_inf_as_na\", True)\n",
    "pd.set_option(\"max_info_columns\", 9999)\n",
    "pd.set_option(\"display.max_columns\", 9999)\n",
    "pd.set_option(\"display.max_rows\", 9999)\n",
    "pd.set_option('max_colwidth', 9999)\n",
    "tqdm.pandas()"
   ]
  },
  {
   "cell_type": "code",
   "execution_count": 3,
   "id": "6bad991f",
   "metadata": {},
   "outputs": [
    {
     "data": {
      "text/plain": [
       "['tok2vec', 'tagger', 'parser', 'attribute_ruler', 'lemmatizer', 'ner']"
      ]
     },
     "execution_count": 3,
     "metadata": {},
     "output_type": "execute_result"
    }
   ],
   "source": [
    "nlp = spacy.load(\"en_core_web_lg\", exclude=[\"textcat\"])\n",
    "nlp.pipe_names"
   ]
  },
  {
   "cell_type": "code",
   "execution_count": 4,
   "id": "33403fab",
   "metadata": {},
   "outputs": [
    {
     "name": "stdout",
     "output_type": "stream",
     "text": [
      "<class 'pandas.core.frame.DataFrame'>\n",
      "RangeIndex: 19970 entries, 0 to 19969\n",
      "Data columns (total 4 columns):\n",
      " #   Column     Non-Null Count  Dtype  \n",
      "---  ------     --------------  -----  \n",
      " 0   term       19969 non-null  object \n",
      " 1   valence    19970 non-null  float16\n",
      " 2   arousal    19970 non-null  float16\n",
      " 3   dominance  19970 non-null  float16\n",
      "dtypes: float16(3), object(1)\n",
      "memory usage: 273.2+ KB\n"
     ]
    }
   ],
   "source": [
    "df = pd.read_csv(\"data/vad.tsv\", header=0, names=[\"term\", \"valence\", \"arousal\", \"dominance\"], \n",
    "                 sep=\"\\t\", engine=\"c\", low_memory=False)\n",
    "cols = [\"valence\", \"arousal\", \"dominance\"]\n",
    "df[cols] = df[cols].astype(np.float16)\n",
    "df.info()"
   ]
  },
  {
   "cell_type": "code",
   "execution_count": 5,
   "id": "c3129979",
   "metadata": {},
   "outputs": [
    {
     "data": {
      "text/html": [
       "<div>\n",
       "<style scoped>\n",
       "    .dataframe tbody tr th:only-of-type {\n",
       "        vertical-align: middle;\n",
       "    }\n",
       "\n",
       "    .dataframe tbody tr th {\n",
       "        vertical-align: top;\n",
       "    }\n",
       "\n",
       "    .dataframe thead th {\n",
       "        text-align: right;\n",
       "    }\n",
       "</style>\n",
       "<table border=\"1\" class=\"dataframe\">\n",
       "  <thead>\n",
       "    <tr style=\"text-align: right;\">\n",
       "      <th></th>\n",
       "      <th>term</th>\n",
       "      <th>valence</th>\n",
       "      <th>arousal</th>\n",
       "      <th>dominance</th>\n",
       "    </tr>\n",
       "  </thead>\n",
       "  <tbody>\n",
       "    <tr>\n",
       "      <th>0</th>\n",
       "      <td>aaaah</td>\n",
       "      <td>0.520020</td>\n",
       "      <td>0.636230</td>\n",
       "      <td>0.281982</td>\n",
       "    </tr>\n",
       "    <tr>\n",
       "      <th>1</th>\n",
       "      <td>aardvark</td>\n",
       "      <td>0.427002</td>\n",
       "      <td>0.489990</td>\n",
       "      <td>0.437012</td>\n",
       "    </tr>\n",
       "    <tr>\n",
       "      <th>2</th>\n",
       "      <td>aback</td>\n",
       "      <td>0.385010</td>\n",
       "      <td>0.406982</td>\n",
       "      <td>0.288086</td>\n",
       "    </tr>\n",
       "    <tr>\n",
       "      <th>3</th>\n",
       "      <td>abacus</td>\n",
       "      <td>0.509766</td>\n",
       "      <td>0.275879</td>\n",
       "      <td>0.485107</td>\n",
       "    </tr>\n",
       "    <tr>\n",
       "      <th>4</th>\n",
       "      <td>abalone</td>\n",
       "      <td>0.500000</td>\n",
       "      <td>0.479980</td>\n",
       "      <td>0.412109</td>\n",
       "    </tr>\n",
       "  </tbody>\n",
       "</table>\n",
       "</div>"
      ],
      "text/plain": [
       "       term   valence   arousal  dominance\n",
       "0     aaaah  0.520020  0.636230   0.281982\n",
       "1  aardvark  0.427002  0.489990   0.437012\n",
       "2     aback  0.385010  0.406982   0.288086\n",
       "3    abacus  0.509766  0.275879   0.485107\n",
       "4   abalone  0.500000  0.479980   0.412109"
      ]
     },
     "execution_count": 5,
     "metadata": {},
     "output_type": "execute_result"
    }
   ],
   "source": [
    "df.head()"
   ]
  },
  {
   "cell_type": "code",
   "execution_count": 6,
   "id": "eb26f52c",
   "metadata": {},
   "outputs": [
    {
     "name": "stderr",
     "output_type": "stream",
     "text": [
      "19970it [00:00, 798857.90it/s]"
     ]
    },
    {
     "name": "stdout",
     "output_type": "stream",
     "text": [
      "len(terms)=4000\n"
     ]
    },
    {
     "name": "stderr",
     "output_type": "stream",
     "text": [
      "\n"
     ]
    }
   ],
   "source": [
    "terms = []\n",
    "for t in tqdm(df.itertuples()):\n",
    "    v = getattr(t, \"valence\")\n",
    "    a = getattr(t, \"arousal\")\n",
    "    if v < 0.25 or a > 0.75:\n",
    "        terms.append(getattr(t, \"term\"))\n",
    "print(f\"len(terms)={len(terms)}\")"
   ]
  },
  {
   "cell_type": "code",
   "execution_count": 7,
   "id": "7e47fcad",
   "metadata": {},
   "outputs": [
    {
     "name": "stdout",
     "output_type": "stream",
     "text": [
      "<class 'pandas.core.frame.DataFrame'>\n",
      "RangeIndex: 658 entries, 0 to 657\n",
      "Data columns (total 1 columns):\n",
      " #   Column  Non-Null Count  Dtype \n",
      "---  ------  --------------  ----- \n",
      " 0   term    658 non-null    object\n",
      "dtypes: object(1)\n",
      "memory usage: 5.3+ KB\n"
     ]
    }
   ],
   "source": [
    "df = pd.read_csv(\"input/hatevocabraw.tsv\", header=0, names=[\"term\"], engine=\"c\", low_memory=False)\n",
    "df.info()"
   ]
  },
  {
   "cell_type": "code",
   "execution_count": 8,
   "id": "0c38b0ec",
   "metadata": {},
   "outputs": [
    {
     "data": {
      "text/html": [
       "<div>\n",
       "<style scoped>\n",
       "    .dataframe tbody tr th:only-of-type {\n",
       "        vertical-align: middle;\n",
       "    }\n",
       "\n",
       "    .dataframe tbody tr th {\n",
       "        vertical-align: top;\n",
       "    }\n",
       "\n",
       "    .dataframe thead th {\n",
       "        text-align: right;\n",
       "    }\n",
       "</style>\n",
       "<table border=\"1\" class=\"dataframe\">\n",
       "  <thead>\n",
       "    <tr style=\"text-align: right;\">\n",
       "      <th></th>\n",
       "      <th>term</th>\n",
       "    </tr>\n",
       "  </thead>\n",
       "  <tbody>\n",
       "    <tr>\n",
       "      <th>0</th>\n",
       "      <td>african</td>\n",
       "    </tr>\n",
       "    <tr>\n",
       "      <th>1</th>\n",
       "      <td>african american</td>\n",
       "    </tr>\n",
       "    <tr>\n",
       "      <th>2</th>\n",
       "      <td>alabama hot pocket</td>\n",
       "    </tr>\n",
       "    <tr>\n",
       "      <th>3</th>\n",
       "      <td>alaskan pipeline</td>\n",
       "    </tr>\n",
       "    <tr>\n",
       "      <th>4</th>\n",
       "      <td>american</td>\n",
       "    </tr>\n",
       "  </tbody>\n",
       "</table>\n",
       "</div>"
      ],
      "text/plain": [
       "                 term\n",
       "0             african\n",
       "1    african american\n",
       "2  alabama hot pocket\n",
       "3    alaskan pipeline\n",
       "4            american"
      ]
     },
     "execution_count": 8,
     "metadata": {},
     "output_type": "execute_result"
    }
   ],
   "source": [
    "df.head()"
   ]
  },
  {
   "cell_type": "code",
   "execution_count": 9,
   "id": "459392c1",
   "metadata": {},
   "outputs": [
    {
     "name": "stdout",
     "output_type": "stream",
     "text": [
      "len(terms)=4098\n",
      "['abandon', 'abandonment', 'abash', 'abduct', 'abduction', 'aberrant', 'aberration', 'abhor', 'abhorrence', 'abhorrent', 'ablaze', 'abnormal', 'abnormality', 'abominable', 'abominate', 'abomination', 'abort', 'abortion', 'abortive', 'abrupt', 'abruptly', 'abscess', 'absence', 'absent', 'absentee', 'absurd', 'absurdity', 'abuse', 'abusive', 'accelerant', 'accelerate', 'acceleration', 'accelerator', 'accident', 'accidental', 'acclaim', 'accurse', 'accusation', 'accusative', 'accuse', 'accuser', 'ache', 'achievement', 'achy', 'acidity', 'acne', 'acrobat', 'action', 'action figure', 'activation', 'addict', 'addicted', 'addiction', 'adrenalin', 'adrenaline', 'adulterate', 'adulterer', 'adultery', 'adventure', 'adventurer', 'adventurous', 'adversary', 'adversity', 'aerobic', 'afire', 'afraid', 'african', 'african american', 'age', 'aged', 'agglomeration', 'aggravate', 'aggravating', 'aggravation', 'aggresive', 'aggression', 'aggressive', 'aggressively', 'aggressiveness', 'aggressor', 'aghast', 'agitate', 'agitation', 'agonizing', 'agony', 'agoraphobia', 'agressive', 'ail', 'ailment', 'aimless', 'airliner', 'airspeed', 'alabama hot pocket', 'alarm', 'alarming', 'alaskan pipeline', 'alcoholic', 'alcoholism', 'alert', 'alertness', 'alienate', 'allergic', 'almighty', 'aloof', 'alter', 'alteration', 'altercation', 'alzheimers', 'amaze', 'amazed', 'amazedness', 'amazement', 'amazing', 'amazingly', 'ambiguity', 'ambition', 'ambitious', 'ambush', 'american', 'ammo', 'amphetamine', 'amputate', 'amputation', 'amuse', 'amusement', 'amusing', 'anaconda', 'anal', 'analplug', 'analsex', 'anarchism', 'anarchist', 'anarchy', 'anemia', 'anemic', 'aneurysm', 'anger', 'angina', 'angry', 'angst', 'anguish', 'anilingus', 'animate', 'annihilate', 'annihilation', 'anniversary', 'annoy', 'annoyance', 'annulment', 'anomaly', 'anorexic', 'antagonism', 'antagonist', 'antagonize', 'anthrax', 'antichrist', 'antipathy', 'antisocial', 'anus', 'anxiety', 'anxietyattack', 'anxious', 'anxiousness', 'apathetic', 'apathy', 'apeshit', 'aphrodisiac', 'apocalypse', 'apocalyptic', 'appal', 'appalling', 'appendage', 'appendectomy', 'appendicitis', 'applaud', 'applause', 'ardent', 'ardor', 'arduous', 'argue', 'armament', 'armed', 'army', 'arousal', 'arouse', 'arraignment', 'arrest', 'arrogance', 'arrogant', 'arse', 'arsehole', 'arson', 'arsonist', 'arthritis', 'artillery', 'ashame', 'asian', 'asphyxia', 'asphyxiation', 'ass', 'assailant', 'assassin', 'assassinate', 'assassination', 'assault', 'asset', 'asshole', 'assmunch', 'asthma', 'asthmatic', 'astigmatism', 'astonish', 'astonishing', 'astonishingly', 'astray', 'asunder', 'atheist', 'athletic', 'athleticism', 'atomic', 'atrocious', 'atrocity', 'atrophy', 'attack', 'attacker', 'attestation', 'attraction', 'attrition', 'audacious', 'audacity', 'audition', 'autism', 'auto erotic', 'autoerotic', 'avalanche', 'avarice', 'avenge', 'avenger', 'aversion', 'awe', 'awesome', 'awestruck', 'awful', 'awkwardness', 'awry', 'axis', 'babeland', 'baby batter', 'baby juice', 'bachelorette', 'backoff', 'backside', 'backwardness', 'bacteria', 'bacterial', 'bacterium', 'bad', 'badass', 'badhabit', 'badly', 'badness', 'baffle', 'balk', 'ball', 'ball gag', 'ball gravy', 'ball kicking', 'ball lick', 'ball sack', 'ball suck', 'ballgame', 'ballistic', 'ballplayer', 'ban', 'bandage', 'bandit', 'bang', 'bangbro', 'bangbus', 'banish', 'banishment', 'bankrupt', 'bankruptcy', 'bar', 'barb', 'barbarian', 'barbaric', 'barbarism', 'bareback', 'barely legal', 'barenaked', 'barrage', 'barren', 'baseball', 'basketball', 'bastard', 'bastarde', 'bastardo', 'bastinado', 'battalion', 'batter', 'battle', 'battlefield', 'battleground', 'bawdy', 'bawl', 'bayonet', 'bazooka', 'bbw', 'bdsm', 'beaner', 'beast', 'beastiality', 'beastly', 'beat', 'beaver cleaver', 'beaver lip', 'befuddled', 'beggar', 'begrudge', 'behemoth', 'belated', 'belch', 'belittle', 'bellow', 'bellyful', 'bereaved', 'bereft', 'bestial', 'bestiality', 'bet', 'betray', 'betrayal', 'beware', 'bewb', 'bewildered', 'bicker', 'bickering', 'big black', 'big breast', 'big knocker', 'big tit', 'biggestfear', 'bigoted', 'bile', 'bimbo', 'bipolar', 'birdlock', 'birth', 'birthday', 'bisexual', 'bitch', 'bitchy', 'bite', 'bitter', 'bitterly', 'bitterness', 'black', 'black cock', 'blacken', 'blacklist', 'blackmail', 'blackmailer', 'blackout', 'blame', 'blasphemous', 'blasphemy', 'blast', 'blastoff', 'blaze', 'bleak', 'bleed', 'bleeder', 'blemish', 'blemished', 'blight', 'blind', 'blindfold', 'blindness', 'bloat', 'bloated', 'blockhead', 'blonde action', 'blood', 'bloodbath', 'bloodshe', 'bloodshot', 'bloodthirsty', 'bloody', 'bloodyhell', 'blotch', 'blow', 'blow job', 'blow your load', 'blowjob', 'blowout', 'blue waffle', 'blumpkin', 'blunder', 'blurry', 'blush', 'boa constrictor', 'boastful', 'bogus', 'boisterous', 'bollock', 'bomb', 'bombard', 'bombardier', 'bombardment', 'bomber', 'bombshell', 'bondage', 'boner', 'bonker', 'boo', 'boob', 'booby', 'bookmaker', 'booty call', 'bored', 'boredom', 'boring', 'bossy', 'bother', 'bounty', 'bout', 'bowel', 'boxer', 'boxing', 'boy', 'boycott', 'brainless', 'brainstorm', 'brainwash', 'brash', 'brawl', 'breach', 'break', 'breakable', 'breakaway', 'breakneck', 'breathtaking', 'bribe', 'bribery', 'brick', 'brokenheart', 'brokenhearted', 'brothel', 'brown shower', 'bruise', 'brunette action', 'brunt', 'brutal', 'brutality', 'brute', 'brutish', 'buddhist', 'budge', 'bugger', 'bukkake', 'bulimic', 'bulldyke', 'bullet', 'bullet vibe', 'bullfighter', 'bullheaded', 'bullshit', 'bully', 'bummer', 'bung hole', 'bunghole', 'burdensome', 'bureaucrat', 'burglar', 'burglary', 'burial', 'burn', 'burner', 'burnout', 'burp', 'burst', 'bury', 'bust', 'bustle', 'busty', 'butt', 'buttcheek', 'butthole', 'buy', 'bygone', 'cadaver', 'caffeine', 'calamitous', 'calamity', 'callous', 'camel toe', 'camgirl', 'camslut', 'camwhore', 'canadian', 'cancel', 'cancellation', 'cancer', 'cannibal', 'cannibalism', 'cannonball', 'capricious', 'captive', 'captivity', 'carcass', 'carcinoma', 'cardiac', 'cardiology', 'cardiomyopathy', 'carelessness', 'carie', 'carnival', 'carnivorous', 'carpet muncher', 'carpetmuncher', 'carsick', 'casket', 'castaway', 'castrate', 'castration', 'casualty', 'catapult', 'catastrophe', 'catastrophic', 'catch', 'catholic', 'caveman', 'cawk', 'celebrate', 'celebration', 'cellblock', 'cellmate', 'cellulite', 'cemetery', 'censorship', 'censure', 'cesspool', 'chagrin', 'chainsaw', 'challenge', 'challenger', 'champ', 'champion', 'championship', 'chaos', 'chaotic', 'char', 'charlatan', 'chase', 'chaser', 'chastened', 'chastisement', 'cheapskate', 'cheat', 'cheater', 'cheer', 'cheerfulness', 'cheerleading', 'cheerless', 'cheetah', 'chemo', 'chemotherapy', 'chicken pox', 'chickenpox', 'childbirth', 'childloss', 'chilling', 'chinese', 'chink', 'choad', 'chocolate rosebud', 'choke', 'cholera', 'cholesterol', 'choosy', 'christian', 'cialis', 'cigarette', 'circlejerk', 'cirrhosis', 'claim', 'clap', 'clash', 'clatter', 'claustrophobia', 'claustrophobic', 'cleaver', 'cleveland steamer', 'climax', 'clingy', 'clit', 'clitoris', 'clog', 'clone', 'close', 'closure', 'clot', 'cloud', 'clover clamp', 'clumsy', 'clusterfuck', 'clutter', 'coach', 'coaster', 'cocaine', 'cock', 'cockroach', 'cocksucker', 'cocky', 'coffin', 'coldness', 'colic', 'collapse', 'collide', 'collision', 'colonoscopy', 'coma', 'comatose', 'combat', 'combatant', 'combustion', 'command', 'compel', 'competence', 'competency', 'competition', 'competitor', 'complain', 'complaint', 'complicate', 'compulsion', 'compulsive', 'conceited', 'concert', 'concerto', 'concussion', 'condemn', 'condemnation', 'condolence', 'condom', 'confiscation', 'conflict', 'confront', 'confrontation', 'confuse', 'confused', 'confusing', 'congratulation', 'conjure', 'conquer', 'conqueror', 'conscription', 'consequence', 'conspiracy', 'conspirator', 'conspire', 'consternation', 'constipation', 'constrain', 'contagion', 'contagious', 'contaminate', 'contamination', 'contempt', 'contemptible', 'contemptuous', 'contender', 'contraband', 'contraction', 'contradict', 'controversial', 'controversy', 'contusion', 'convict', 'coon', 'cooter', 'cop', 'coprolagnia', 'coprophilia', 'cornhole', 'corpse', 'corrosion', 'corrosive', 'corrupt', 'corruption', 'counterattack', 'counterclaim', 'counterfeit', 'coup', 'court', 'covet', 'coward', 'cowardice', 'cowardly', 'crabby', 'crack', 'cramp', 'cramped', 'cranky', 'cranny', 'crap', 'crappy', 'crash', 'crass', 'crave', 'crazed', 'craziness', 'crazy', 'creampie', 'creepy', 'cremation', 'crestfallen', 'cretin', 'crime', 'criminal', 'criminality', 'cringe', 'cripple', 'crisis', 'critical', 'criticise', 'criticism', 'criticize', 'critique', 'crook', 'crooked', 'crossfire', 'crow', 'crowd', 'crucifixion', 'crucify', 'crude', 'cruel', 'cruelly', 'cruelty', 'crumble', 'crummy', 'crush', 'cry', 'crypt', 'cuckold', 'culpability', 'culpable', 'culprit', 'cum', 'cumme', 'cumshot', 'cunnilingus', 'cunt', 'curfew', 'curiosity', 'curse', 'curt', 'curtailment', 'cuss', 'cutlass', 'cutter', 'cutthroat', 'cyanide', 'cyclone', 'cynic', 'cynical', 'cynicism', 'cyst', 'cytomegalovirus', 'dagger', 'damage', 'damm', 'dammit', 'damn', 'damnation', 'dance', 'dancer', 'danger', 'dangerous', 'dangerously', 'dare', 'dark', 'darken', 'darkie', 'darkly', 'darkness', 'darkroom', 'darkside', 'darn', 'dastardly', 'date rape', 'daterape', 'daze', 'dazzle', 'dazzling', 'deactivate', 'dead', 'deadbeat', 'deadline', 'deadlock', 'deadly', 'deaf', 'deafen', 'deafness', 'dearth', 'death', 'deathbed', 'deathly', 'debacle', 'debase', 'debatable', 'debauchery', 'debilitate', 'debrief', 'debris', 'debt', 'debtor', 'decadence', 'decathlon', 'decay', 'deceased', 'deceit', 'deceitful', 'deceive', 'deception', 'deceptive', 'decline', 'decompose', 'decomposition', 'decompression', 'decoy', 'decrease', 'decrepit', 'decry', 'deep throat', 'deepthroat', 'defamation', 'defamatory', 'defeat', 'defeatist', 'defect', 'defection', 'defective', 'defector', 'defend', 'defenseless', 'defer', 'defiance', 'defiant', 'deficiency', 'deficient', 'deflate', 'deflect', 'deflection', 'defloration', 'deform', 'deformity', 'defraud', 'defunct', 'defuse', 'defy', 'degeneracy', 'degenerate', 'degeneration', 'degradation', 'degrade', 'dehydration', 'dejected', 'delay', 'deletion', 'delinquency', 'delinquent', 'delirious', 'delirium', 'delude', 'deluge', 'delusional', 'demeaning', 'demented', 'dementia', 'demise', 'demolish', 'demolition', 'demon', 'demonic', 'demoralize', 'dendrophilia', 'deniability', 'denial', 'denounce', 'denunciation', 'deny', 'depart', 'depletion', 'deplorable', 'deplore', 'deport', 'deportation', 'depraved', 'depravity', 'depreciate', 'depreciation', 'depress', 'depressed', 'depression', 'depressive', 'depresson', 'deprivation', 'derail', 'deranged', 'derelict', 'derogation', 'derogatory', 'descend', 'desecrate', 'desecration', 'desert', 'deserter', 'desertion', 'desire', 'desirous', 'desist', 'desolate', 'desolation', 'despair', 'desperate', 'desperation', 'despicable', 'despise', 'despondent', 'despotic', 'destitute', 'destroy', 'destroyer', 'destruct', 'destruction', 'destructive', 'detachment', 'detective', 'deteriorate', 'deterioration', 'detest', 'detestation', 'detonate', 'detonation', 'detonator', 'detrimental', 'devastate', 'devastating', 'devastation', 'deviant', 'deviate', 'deviation', 'devil', 'devilish', 'devoid', 'devour', 'diabete', 'diabetic', 'diabolical', 'dialysis', 'diarrhea', 'diarrhoea', 'dicey', 'dick', 'dickhead', 'dictator', 'dictatorial', 'dictatorship', 'die', 'differ', 'difficult', 'difficulty', 'dilapidated', 'dildo', 'dilemma', 'diminish', 'dingleberrie', 'dingleberry', 'dingy', 'dire', 'dirt', 'dirty', 'dirty pillow', 'dirty sanchez', 'disability', 'disable', 'disadvantage', 'disaffected', 'disagree', 'disagreeable', 'disagreement', 'disallow', 'disapointment', 'disappear', 'disappearance', 'disappoint', 'disappointing', 'disappointment', 'disapproval', 'disapprove', 'disarray', 'disaster', 'disastrous', 'disbelief', 'disbelieve', 'disbursement', 'discard', 'disclaim', 'disco', 'discolor', 'discoloration', 'discomfort', 'disconcert', 'disconcerting', 'disconnection', 'discontent', 'discontinuance', 'discontinuous', 'discord', 'discourage', 'discouragement', 'discover', 'discredit', 'discriminate', 'discrimination', 'discuss', 'discussion', 'disdain', 'disdainful', 'disease', 'diseased', 'disembodied', 'disfigure', 'disgrace', 'disgraceful', 'disgruntled', 'disgust', 'disgusted', 'disgusting', 'dishearten', 'disheartening', 'dishonest', 'dishonesty', 'dishonor', 'dishonorable', 'disillusionment', 'disinclination', 'disinformation', 'disingenuous', 'disintegrate', 'disintegration', 'dislike', 'dislocate', 'dislocation', 'dislodge', 'disloyal', 'disloyalty', 'dismal', 'dismay', 'dismemberment', 'dismiss', 'dismissal', 'dismissive', 'disobedience', 'disobey', 'disorder', 'disorderly', 'disorganized', 'disorient', 'disorientation', 'disown', 'disparage', 'disparity', 'dispassionate', 'dispirited', 'displease', 'displeasure', 'disposal', 'dispute', 'disqualification', 'disqualify', 'disquiet', 'disregard', 'disreputable', 'disrepute', 'disrespect', 'disrespectful', 'disrupt', 'disruption', 'disruptive', 'dissatisfaction', 'dissatisfied', 'dissent', 'disservice', 'dissociation', 'dissolution', 'dissonance', 'distance', 'distant', 'distaste', 'distort', 'distract', 'distraught', 'distress', 'distressing', 'distrust', 'disturb', 'disturbance', 'disuse', 'diversion', 'divorce', 'divorcee', 'dizziness', 'dizzy', 'dock', 'dodge', 'dog style', 'dogface', 'doggie style', 'doggiestyle', 'doggy style', 'doggystyle', 'dolcett', 'doldrum', 'dolor', 'dominance', 'dominant', 'dominate', 'domination', 'dominatrix', 'domme', 'dong', 'donkey punch', 'dontlikeyou', 'dontunderstand', 'doom', 'doomsday', 'dope', 'double dong', 'double penetration', 'doubt', 'douche', 'down', 'downcast', 'downer', 'downfall', 'downhearted', 'downside', 'downtime', 'downward', 'dp action', 'dragon', 'drainage', 'drama', 'dramatic', 'drastic', 'dread', 'dreadful', 'dreadfully', 'droop', 'drought', 'drown', 'drudgery', 'drug', 'drug deal', 'druggist', 'drunk', 'drunk driving', 'drunkard', 'drunken', 'drunkenness', 'dry hump', 'dud', 'dull', 'dumb', 'dumpster', 'dunce', 'dung', 'dupe', 'dusky', 'dvda', 'dyke', 'dynamite', 'dysfunction', 'dysfunctional', 'dyspepsia', 'eager', 'earn', 'earthquake', 'eat my ass', 'ebullient', 'eccentric', 'ecchi', 'ecstasy', 'ecstatic', 'edgy', 'eerie', 'effort', 'egomaniac', 'egotistical', 'egregious', 'ejaculate', 'ejaculation', 'ejection', 'elate', 'elation', 'elderly', 'electricity', 'electrify', 'electrocution', 'elevation', 'elimination', 'elusive', 'emaciated', 'embargo', 'embarrass', 'embarrassed', 'embarrassment', 'embattle', 'embezzlement', 'embezzler', 'embolism', 'emergence', 'emergency', 'emetophobia', 'emigrate', 'emotion', 'emphysema', 'empower', 'emptiness', 'empty', 'enchantment', 'end', 'endanger', 'endangerment', 'endeavor', 'endocarditis', 'enemy', 'energetic', 'energize', 'engage', 'enjoy', 'enmity', 'enrage', 'enslave', 'enslavement', 'entanglement', 'enterprise', 'enthusiasm', 'enthusiast', 'enthusiastic', 'entice', 'entrapment', 'envious', 'envy', 'epidemic', 'epilepsy', 'epileptic', 'eradication', 'erase', 'erect', 'erectile', 'erection', 'erode', 'erosion', 'erotic', 'erotica', 'erotism', 'err', 'errant', 'erroneous', 'error', 'erupt', 'eruption', 'escalation', 'escape', 'eschew', 'escort', 'estranged', 'eunuch', 'euphoria', 'euphoric', 'european', 'euthanasia', 'evacuate', 'evacuation', 'evasion', 'evasive', 'eventful', 'evict', 'eviction', 'evil', 'exacerbate', 'exacerbation', 'exaggerate', 'exaggerated', 'exaggeration', 'exalt', 'exaltation', 'exasperate', 'exasperation', 'exceed', 'excess', 'excessively', 'excitability', 'excitable', 'excitation', 'excite', 'excited', 'exciting', 'exclude', 'exclusion', 'excrement', 'excruciating', 'excuse', 'execution', 'executioner', 'executor', 'exercise', 'exertion', 'exhausted', 'exhilarate', 'exhilarated', 'exhilaration', 'exhumation', 'exhume', 'exile', 'exorbitant', 'exorcism', 'exorcist', 'expatriate', 'expedite', 'expedition', 'expense', 'experimental', 'experimentation', 'expire', 'expiry', 'explode', 'exploit', 'exploitation', 'explosion', 'explosive', 'exposure', 'expropriation', 'expulsion', 'exterminate', 'extermination', 'exterminator', 'extinct', 'extinction', 'extinguish', 'extort', 'extortion', 'extradition', 'extraordinaire', 'extraterrestrial', 'extravagance', 'extravagant', 'extravaganza', 'extreme', 'extreme disgust', 'extreme surprise', 'extremely', 'extremely negative', 'extrusion', 'exuberance', 'f0ck', 'faceless', 'faece', 'fag', 'faggot', 'fail', 'failure', 'faint', 'faithless', 'fake', 'faker', 'fall', 'fallacy', 'false', 'falsehood', 'falsely', 'falsification', 'falsify', 'falsity', 'fame', 'famine', 'famished', 'famous', 'famously', 'fanatic', 'fanatical', 'fanaticism', 'fang', 'fanny', 'farewell', 'fart', 'fascinating', 'fascination', 'fascism', 'fascist', 'fat', 'fatal', 'fatalism', 'fatality', 'fatigue', 'fault', 'faulty', 'fck', 'fcker', 'fckr', 'fcku', 'fcuk', 'fear', 'fearful', 'fearfully', 'fearless', 'fearsome', 'fecal', 'fece', 'feeble', 'feign', 'feisty', 'felch', 'fellatio', 'felon', 'felony', 'feltch', 'female', 'female squirting', 'femdom', 'feminist', 'ferocious', 'ferocity', 'fervor', 'feud', 'feudalism', 'fever', 'fiasco', 'fibrosis', 'fictitious', 'fidgety', 'field hockey', 'fiend', 'fiendish', 'fierce', 'fiery', 'fiesta', 'figging', 'fight', 'fighter', 'filth', 'filthy', 'finalize', 'finger', 'fingerbang', 'fire', 'firearm', 'fireball', 'firefight', 'firefighter', 'firepower', 'firestorm', 'firework', 'fishy', 'fistfight', 'fisting', 'flabbergast', 'flaccid', 'flamboyant', 'flamethrower', 'flammable', 'flare', 'flatulence', 'flawed', 'flee', 'flighty', 'flinch', 'flirt', 'flood', 'flop', 'flu', 'flunk', 'flunky', 'flurry', 'flush', 'flustered', 'fly', 'foe', 'foil', 'fold', 'folly', 'fool', 'foolhardy', 'foolishness', 'foot fetish', 'football', 'footjob', 'forbid', 'force', 'foreclose', 'foreclosure', 'forensic', 'foreskin', 'forfeit', 'forfeiture', 'forger', 'forgery', 'forget', 'forgetful', 'fornicate', 'fornication', 'forsake', 'fortification', 'fortify', 'foul', 'fracture', 'fragment', 'frantic', 'frantically', 'fraud', 'fraudulent', 'freak', 'freakingout', 'freakish', 'freaky', 'freeze', 'frenetic', 'frenzied', 'frenzy', 'friction', 'friendless', 'fright', 'frighten', 'frightening', 'frightful', 'frigid', 'frolic', 'frostbite', 'frotte', 'frown', 'frustrate', 'frustrating', 'frustration', 'fuck', 'fuck button', 'fuckedoff', 'fucker', 'fuckface', 'fuckin', 'fucking', 'fuckoff', 'fuckr', 'fucksake', 'fucktard', 'fuckyeah', 'fuct', 'fudge packer', 'fudgepacker', 'fugitive', 'fuk', 'fume', 'fun', 'funeral', 'funky', 'furious', 'furiously', 'furor', 'fury', 'fuss', 'fustrated', 'futanari', 'futile', 'futility', 'g - spot', 'gaiety', 'gallop', 'gallow', 'gamble', 'gambling', 'game', 'gang', 'gang bang', 'gangbang', 'gangrene', 'gangster', 'gaol', 'garbage', 'garbled', 'gasp', 'gaunt', 'gay', 'gay sex', 'genital', 'genitalia', 'genocide', 'germ', 'getaway', 'ghastly', 'ghost', 'ghostly', 'giant', 'giant cock', 'giddy', 'gift', 'gig', 'gigantic', 'girl', 'girl go wild', 'girl on', 'girl on top', 'girlfriend', 'glad', 'gladiator', 'glare', 'glaucoma', 'gleeful', 'gloom', 'gloomy', 'glory hole', 'gloryhole', 'glum', 'goatcx', 'goatse', 'gobshite', 'god damn', 'godammet', 'godammit', 'goddammet', 'goddammit', 'goddamn', 'goddamned', 'gofuckyourself', 'gokkun', 'golden shower', 'gonorrhea', 'goo girl', 'goodbye', 'goodpoop', 'gook', 'goregasm', 'gory', 'gossip', 'gothic', 'grandeur', 'grave', 'graveyard', 'great disgust', 'great surprise', 'greatly negative', 'greed', 'greedy', 'green snake', 'grenade', 'grief', 'grievance', 'grieve', 'grievous', 'grime', 'grimy', 'gripe', 'grisly', 'groggy', 'grope', 'gross', 'grotesque', 'grouchy', 'group sex', 'growl', 'growthefuckup', 'grr', 'grrr', 'grubby', 'grudge', 'grudging', 'grudgingly', 'gruele', 'gruesome', 'grumble', 'grumpy', 'grunt', 'guerilla', 'guerrilla', 'guillotine', 'guilt', 'guilty', 'gun', 'gunboat', 'gunfight', 'gunfighter', 'gunfire', 'gunman', 'gunner', 'gunnery', 'gunplay', 'gunpoint', 'gunpowder', 'gunshot', 'gunslinger', 'guro', 'gust', 'gymnast', 'gypo', 'hack', 'hacker', 'hag', 'haggard', 'hairless', 'halt', 'hammer', 'hamper', 'hand job', 'handgun', 'handicap', 'handicapped', 'handjob', 'hangman', 'hangover', 'hangry', 'happy', 'happydance', 'happynewyear', 'happyvalentinesday', 'harass', 'harassment', 'hard core', 'hardcore', 'hardheaded', 'hardship', 'harlot', 'harm', 'harmful', 'harrowing', 'hassle', 'hasty', 'hate', 'hateeee', 'hateeveryone', 'hateful', 'hater', 'hateyou', 'hatred', 'haughty', 'havoc', 'hazard', 'hazardous', 'headache', 'headless', 'headstone', 'heady', 'hearse', 'heartache', 'heartattack', 'heartbreak', 'heartbreaking', 'heartbroken', 'heartburn', 'heartless', 'heartsick', 'heathen', 'heave', 'heaviness', 'heavy metal', 'heck', 'hectic', 'heinous', 'heist', 'helicopter', 'hell', 'hellfire', 'hellhole', 'hellish', 'helpless', 'helplessness', 'hematoma', 'hemorrhage', 'hemorrhoid', 'hentai', 'hepatitis', 'heresy', 'heretic', 'heretical', 'hernia', 'hero', 'heroic', 'heroin', 'heroine', 'heroism', 'herpe', 'herpesvirus', 'heterosexual', 'hide', 'hideous', 'hijack', 'hijacker', 'hike', 'hiker', 'hindrance', 'hispanic', 'hit', 'hitler', 'hoax', 'hockey', 'holler', 'holocaust', 'homeless', 'homicidal', 'homicide', 'homo', 'homoerotic', 'homophobic', 'homosexual', 'honkey', 'hooker', 'hopeless', 'hopelessness', 'hore', 'horny', 'horrendous', 'horrible', 'horribly', 'horrid', 'horrific', 'horrify', 'horrifying', 'horror', 'horseshit', 'hostage', 'hostile', 'hostility', 'hot carl', 'hot chick', 'hothead', 'how to kill', 'how to murder', 'huge fat', 'humbug', 'humiliate', 'humiliation', 'humorist', 'hump', 'humpback', 'hunchback', 'hunger', 'hungry', 'hunt', 'hunter', 'hurdle', 'hurricane', 'hurry', 'hurryup', 'hurt', 'hurtful', 'hussy', 'hustler', 'hydrophobia', 'hyperactive', 'hypertension', 'hyperventilate', 'hypochondriac', 'hypocrisy', 'hypocrite', 'hypocritical', 'hypodermic', 'hypothermia', 'hysterectomy', 'hysteria', 'hysterical', 'idiocy', 'idiot', 'idiotic', 'idle', 'idler', 'idol', 'ignite', 'ignorance', 'ignorant', 'ignore', 'ihatespider', 'ill', 'illegal', 'illegality', 'illegally', 'illegitimate', 'illicit', 'illiterate', 'illness', 'illogical', 'imbalance', 'imbecile', 'immature', 'immaturity', 'immediately', 'imminent', 'immobile', 'immoral', 'immorality', 'impact', 'impair', 'impairment', 'impassioned', 'impatience', 'impatiently', 'impeach', 'impeachment', 'impediment', 'imperfect', 'imperfection', 'imperialist', 'impermissible', 'impertinence', 'impertinent', 'impetuous', 'impolite', 'impossibility', 'impossible', 'impostor', 'impotence', 'impotent', 'impound', 'impoverished', 'impractical', 'impress', 'impressive', 'imprison', 'imprisonment', 'improbable', 'improper', 'impropriety', 'improvisation', 'imprudent', 'impudence', 'impulse', 'impulsive', 'impurity', 'inability', 'inaccessible', 'inaccurate', 'inactivate', 'inactivation', 'inactivity', 'inadequate', 'inadequateness', 'inadmissible', 'inappropriate', 'inattention', 'incapable', 'incapacity', 'incarceration', 'incendiary', 'incessant', 'incessantly', 'incest', 'incestuous', 'incident', 'incineration', 'incision', 'incitement', 'incoherent', 'incompatible', 'incompetence', 'incompetent', 'incomplete', 'inconceivable', 'inconclusive', 'incongruous', 'inconsiderate', 'inconsistency', 'incontinence', 'inconvenience', 'inconvenient', 'incorrect', 'incorrigible', 'incredible', 'incriminate', 'incrimination', 'incurable', 'incursion', 'indebted', 'indecency', 'indecent', 'indecision', 'indefensible', 'indian', 'indict', 'indictment', 'indigent', 'indigestion', 'indignation', 'indignity', 'indiscreet', 'indisposed', 'indolent', 'indomitable', 'inducement', 'ineffective', 'ineffectual', 'inefficiency', 'inefficient', 'ineligible', 'inept', 'ineptitude', 'inequality', 'inexact', 'inexperience', 'inexplicable', 'inexpressible', 'infamous', 'infamy', 'infanticide', 'infarct', 'infatuate', 'infeasible', 'infect', 'infection', 'infectious', 'inferiority', 'infernal', 'inferno', 'infertility', 'infestation', 'infidel', 'infidelity', 'infiltration', 'infirm', 'infirmity', 'inflammation', 'inflammatory', 'inflation', 'inflict', 'infraction', 'infrequently', 'infringement', 'infuriate', 'infuriating', 'ingrate', 'inhibit', 'inhuman', 'inhumane', 'inhumanity', 'inimical', 'iniquity', 'injure', 'injurious', 'injury', 'injustice', 'inmate', 'innovate', 'inoperable', 'inoperative', 'inordinate', 'inquisitor', 'insane', 'insanity', 'insecticide', 'insecure', 'insecurity', 'insensitive', 'insidious', 'insignificant', 'insipid', 'insolence', 'insolent', 'insolvent', 'insomnia', 'insomniac', 'instability', 'instigate', 'instigation', 'insubordination', 'insufferable', 'insufficiency', 'insufficient', 'insufficiently', 'insulate', 'insulation', 'insult', 'insurgent', 'insurrection', 'intense', 'intensely', 'intensify', 'intensity', 'intensive', 'interactive', 'intercept', 'intercourse', 'interment', 'interrogate', 'interrogation', 'interrupt', 'interruption', 'interview', 'intimacy', 'intimidate', 'intimidation', 'intolerable', 'intolerance', 'intolerant', 'intoxicate', 'intoxicating', 'intractable', 'intrigue', 'intrude', 'intruder', 'inundation', 'invade', 'invader', 'invalid', 'invalidation', 'invalidity', 'invasion', 'invasive', 'invidious', 'invigorate', 'invincible', 'irate', 'ire', 'irk', 'irrational', 'irrationality', 'irreconcilable', 'irregularity', 'irrelevant', 'irreparable', 'irresistible', 'irresponsible', 'irreverent', 'irreversible', 'irritability', 'irritable', 'irritate', 'irritation', 'islam', 'isolate', 'isolation', 'issue', 'itch', 'jack off', 'jackass', 'jackhammer', 'jagged', 'jail', 'jail bait', 'jailbait', 'jailbird', 'jailer', 'jailhouse', 'jam', 'japanese', 'jar', 'jaundice', 'jealous', 'jealousy', 'jeer', 'jelly donut', 'jeopardize', 'jeopardy', 'jerk', 'jerk off', 'jerky', 'jesussuck', 'jewish', 'jigaboo', 'jiggaboo', 'jiggerboo', 'jitter', 'jittery', 'jiz', 'jizz', 'jizzum', 'jobinterview', 'joke', 'joker', 'joy', 'judge', 'judo', 'juggle', 'juggler', 'juggs', 'jump', 'jumpy', 'junk', 'junkie', 'junkyard', 'kaffir', 'kamikaze', 'karate', 'kick', 'kickboxing', 'kidder', 'kidnap', 'kidnapper', 'kike', 'kill', 'killer', 'killin', 'killjoy', 'kinbaku', 'king snake', 'kinkster', 'kinky', 'kiss', 'kneel', 'knob', 'knockout', 'knot', 'knucklehead', 'kunt', 'labia', 'labyrinth', 'laceration', 'lack', 'lag', 'lame', 'lament', 'landslide', 'languish', 'larceny', 'larva', 'laryngitis', 'lash', 'late', 'lateness', 'latina', 'latino', 'latinx', 'latrine', 'laugh', 'laughingstock', 'launch', 'lawless', 'lawlessness', 'lawsuit', 'leak', 'leakage', 'leaky', 'leather restraint', 'leather straight jacket', 'leave', 'leavemealone', 'lecherous', 'leech', 'leftout', 'leftover', 'lemon party', 'leopard', 'leper', 'leprosy', 'lesbian', 'lesbo', 'lesion', 'lessen', 'lethal', 'lethargic', 'lethargy', 'leukemia', 'lewd', 'lgbt', 'lgbtq', 'liar', 'libel', 'libelous', 'lice', 'lie', 'lifeless', 'lifesuck', 'limit', 'limitation', 'listless', 'litigant', 'litigate', 'litigation', 'lively', 'livesex', 'livid', 'loafer', 'loath', 'loathe', 'loathful', 'loathsome', 'lockup', 'loco', 'lolita', 'lone', 'loneliness', 'loophole', 'lopsided', 'lose', 'loser', 'loss', 'loudly', 'louse', 'lousy', 'loveless', 'lovemake', 'lovemylife', 'lover', 'lovesick', 'ludicrous', 'lunacy', 'lunatic', 'lurid', 'lurk', 'lush', 'lust', 'lustful', 'lusty', 'lymphoma', 'lynch', 'mad', 'madhouse', 'madman', 'madness', 'mafia', 'maggot', 'magnificence', 'maim', 'make i come', 'malady', 'malaise', 'malaria', 'male', 'male squirting', 'malevolent', 'malfeasance', 'malformation', 'malfunction', 'malice', 'malicious', 'malign', 'malignancy', 'malignant', 'malnutrition', 'malpractice', 'man', 'mangy', 'manhunt', 'maniac', 'maniacal', 'manic', 'manipulation', 'manipulative', 'manslaughter', 'marathon', 'marginal', 'marijuana', 'marketing', 'marksman', 'maroon', 'marred', 'marry', 'marvel', 'marvellous', 'masochism', 'masochist', 'massacre', 'masturbate', 'masturbation', 'matador', 'materialism', 'mating', 'maximize', 'mayhem', 'meager', 'meaningless', 'meanness', 'measle', 'medallist', 'meddle', 'mediocre', 'mediocrity', 'melancholic', 'melancholy', 'melodrama', 'melodramatic', 'menace', 'menacing', 'menage a trois', 'meningitis', 'menopause', 'mense', 'mercenary', 'merciless', 'mess', 'metastasis', 'meteoric', 'meteorite', 'methadone', 'mexican', 'middle aged', 'middle eastern', 'miff', 'mighty', 'migraine', 'milf', 'millennial', 'millionaire', 'mindless', 'minefield', 'misappropriation', 'misbehave', 'misbehavior', 'miscalculation', 'miscarriage', 'mischief', 'mischievous', 'misconception', 'misconduct', 'misdemeanor', 'misdirection', 'miser', 'miserable', 'misery', 'misfire', 'misfit', 'misfortune', 'mishap', 'misinformed', 'misinterpretation', 'mislead', 'mismanagement', 'misplace', 'misread', 'misrepresent', 'missile', 'missionary position', 'mistake', 'mistreat', 'mistress', 'mistrust', 'misunderstand', 'misunderstanding', 'misunderstood', 'misuse', 'mob', 'mobster', 'mock', 'mockery', 'moderate disgust', 'moderate negative', 'modicum', 'moldy', 'molest', 'molestation', 'molester', 'mong', 'mongoloid', 'monster', 'monstrosity', 'monstrous', 'moody', 'morbid', 'morbidness', 'morgue', 'moribund', 'moron', 'moronic', 'morose', 'morphine', 'mortal', 'mortality', 'mortician', 'mortification', 'mortify', 'mortuary', 'mosquito', 'moss', 'motherfuck', 'motherfucker', 'motherfucking', 'motherless', 'motivate', 'motivation', 'motorcycle', 'mound of venus', 'mountaineer', 'mourn', 'mournful', 'mousetrap', 'mr hand', 'mthrfckr', 'muck', 'mucus', 'muddle', 'muff', 'muff diver', 'muffdive', 'mugger', 'multiple sclerosis', 'multitude', 'mumps', 'murder', 'murderer', 'murderess', 'murderous', 'murky', 'muslim', 'mutilate', 'mutilation', 'mutiny', 'myopia', 'nail gun', 'naked', 'nakedness', 'nambla', 'narcissism', 'narcissist', 'narcotic', 'nasty', 'naughty', 'nausea', 'nauseate', 'nauseating', 'nauseous', 'navy', 'nawashi', 'nazi', 'necrosis', 'nefarious', 'negative', 'negativity', 'neglect', 'negligence', 'negligent', 'negligently', 'negligible', 'negro', 'neonazi', 'nerve', 'nervous', 'nervousness', 'nervouswreck', 'nervy', 'nether', 'neuralgia', 'neurosis', 'neurotic', 'newyear', 'nicotine', 'nig nog', 'nigga', 'niggah', 'nigger', 'nightclub', 'nightlife', 'nightmare', 'nimphomania', 'ninja', 'nipple', 'nitwit', 'no emotion', 'no sentiment', 'no surprise', 'no trust', 'nohope', 'noise', 'noisy', 'nonbinary', 'nonce', 'noncompliance', 'nonexistent', 'nonpayment', 'nonsense', 'nonsensical', 'nosebleed', 'not positive', 'nothappy', 'nothingness', 'notready', 'noxious', 'nsfw', 'nsfw image', 'nuclear', 'nude', 'nudist', 'nudity', 'nuisance', 'nuke', 'numb', 'nutcase', 'nutsack', 'nutten', 'nympho', 'nymphomania', 'nymphomaniac', 'obese', 'obesity', 'obituary', 'obligation', 'oblige', 'obliterate', 'obliteration', 'oblivion', 'oblivious', 'obnoxious', 'obscene', 'obscenity', 'obscure', 'obscurity', 'obsess', 'obsession', 'obsessive', 'obstacle', 'obstinate', 'obstruct', 'obstruction', 'obstructive', 'octopussy', 'odious', 'offence', 'offend', 'offender', 'offense', 'offensive', 'ogre', 'ohshit', 'old', 'omnipotence', 'omorashi', 'oncology', 'onslaught', 'ooze', 'opinionated', 'opponent', 'opportunism', 'oppose', 'opposite', 'opposition', 'oppress', 'oppression', 'oppressor', 'orc', 'ordnance', 'orgasm', 'orgy', 'orphan', 'orphanage', 'ostentatious', 'ostracize', 'outburst', 'outcast', 'outcry', 'outdated', 'outlast', 'outlive', 'outrage', 'outrageous', 'outrun', 'outstanding', 'outwit', 'ovation', 'overactive', 'overbearing', 'overburden', 'overcharge', 'overcome', 'overdo', 'overdose', 'overdue', 'overestimate', 'overflow', 'overgrowth', 'overhang', 'overkill', 'overlord', 'overplay', 'overpower', 'overreact', 'override', 'overrule', 'overrun', 'overstate', 'overthinke', 'overthrow', 'overtired', 'overturn', 'overweight', 'overwhelm', 'overwhelming', 'overworked', 'overwrought', 'overzealous', 'paedo', 'paedophile', 'paganism', 'pain', 'pained', 'painful', 'painfully', 'paki', 'palsy', 'pandemic', 'pandemonium', 'pang', 'panic', 'panicky', 'pantheon', 'pantie', 'panty', 'parachute', 'paralysis', 'paralyze', 'paramilitary', 'paranoia', 'paranoid', 'paranormal', 'paraplegic', 'parasite', 'parasitic', 'parkinson', 'party', 'passion', 'passionate', 'passivity', 'pathetic', 'pathological', 'paucity', 'peck', 'pecker', 'pedantic', 'pedo', 'pedobear', 'pedofile', 'pedophile', 'peeper', 'peeve', 'peg', 'pen1s', 'penal', 'penalty', 'penance', 'penetrate', 'penetration', 'penis', 'penitentiary', 'penniless', 'perdition', 'perforate', 'peril', 'perilous', 'perish', 'perjury', 'perky', 'pernicious', 'perpetrate', 'perpetrator', 'persecute', 'persecution', 'perturbation', 'perverse', 'perversion', 'pervert', 'perverted', 'pesky', 'pessimism', 'pessimist', 'pessimistic', 'pest', 'pester', 'pestilence', 'petrify', 'petty', 'petulant', 'phantom', 'phlegm', 'phobia', 'phone sex', 'phony', 'phuk', 'piece of shit', 'pieceofshit', 'pig', 'pigsty', 'pikey', 'pillage', 'pimp', 'pimple', 'pinch', 'piracy', 'piranha', 'pirate', 'piss', 'piss pig', 'pissedoff', 'pissesmeoff', 'pissingmeoff', 'pisspig', 'pistol', 'pitfall', 'pitiful', 'pity', 'plagiarism', 'plague', 'plaintiff', 'plaudit', 'play', 'playboy', 'plead', 'pleasure chest', 'plucky', 'plunder', 'pneumonia', 'poach', 'poacher', 'pointless', 'poison', 'poisonous', 'pole smoker', 'polemic', 'police', 'police officer', 'pollute', 'pollution', 'poltergeist', 'ponyplay', 'poof', 'poon', 'poontang', 'poop', 'poop chute', 'poopchute', 'poor', 'poorly', 'popularity', 'popularize', 'porky', 'porn', 'porno', 'pornographic', 'pornography', 'possess', 'posthumous', 'potent', 'pound', 'poverty', 'powerful', 'powerhouse', 'powerless', 'pox', 'precarious', 'precipice', 'precipitate', 'predator', 'predatory', 'pregnancy', 'pregnant', 'prejudice', 'prejudiced', 'prejudicial', 'premonition', 'preposterous', 'press', 'pretend', 'pretentious', 'prick', 'prince albert piercing', 'prison', 'prisoner', 'prize', 'probation', 'problem', 'problematic', 'process', 'proclamation', 'procreate', 'profane', 'profanity', 'proficiency', 'prohibit', 'prohibition', 'prohibitive', 'projectile', 'promiscuity', 'promiscuous', 'promotion', 'pron', 'propel', 'propulsion', 'prosecution', 'prostitute', 'prostitution', 'protest', 'protestant', 'protocol', 'provocation', 'provocative', 'provoke', 'psoriasis', 'psychiatric', 'psychiatry', 'psycho', 'psychopath', 'psychopathic', 'psychosis', 'psychotic', 'pthc', 'puberty', 'pubis', 'publicspeake', 'puke', 'pump', 'punani', 'punany', 'punch', 'puncture', 'pungent', 'punish', 'punishable', 'punishment', 'purge', 'pursue', 'pus', 'pusher', 'pushy', 'pussy', 'putrid', 'puzzle', 'pyrotechnic', 'python', 'quake', 'quandary', 'quarantine', 'quarrel', 'quarter', 'queaf', 'queasiness', 'queef', 'queer', 'quick', 'quickly', 'quicksand', 'quim', 'quit', 'quiver', 'rabble', 'rabid', 'rabie', 'racetrack', 'racism', 'racist', 'racketeering', 'radiation', 'radical', 'radioactive', 'radioactivity', 'rage', 'rage boner', 'ragged', 'raggedy', 'raghead', 'raider', 'rampage', 'rampant', 'rancid', 'ransom', 'rant', 'rape', 'rapid', 'rapidity', 'rapist', 'rapper', 'raptor', 'rapture', 'rascal', 'rash', 'rattlesnake', 'ravage', 'rave', 'ravish', 'raw', 'reaction', 'reactive', 'reactor', 'rebel', 'rebellion', 'rebellious', 'rebuke', 'rebut', 'recede', 'recidivism', 'reckless', 'recklessness', 'recluse', 'recoil', 'recruit', 'rectal', 'rectum', 'redness', 'reduce', 'redundant', 'reek', 'refusal', 'refuse', 'regret', 'regretful', 'regrettable', 'regurgitation', 'reject', 'rejection', 'relapse', 'reluctance', 'remand', 'remarry', 'rematch', 'remiss', 'remorse', 'removal', 'remuneration', 'renegade', 'renounce', 'repel', 'repress', 'repression', 'reprimand', 'reprisal', 'reproach', 'repudiation', 'repugnance', 'repugnant', 'repulsion', 'repulsive', 'rescue', 'resent', 'resentful', 'resentment', 'resign', 'resignation', 'resist', 'restless', 'restlessness', 'restrain', 'restraint', 'restrict', 'restriction', 'restrictive', 'resuscitation', 'retaliate', 'retaliation', 'retaliatory', 'retard', 'retardation', 'retrenchment', 'retrograde', 'rev', 'revenge', 'reverse cowgirl', 'revive', 'revolt', 'revolting', 'revolution', 'revolutionary', 'revolutionize', 'revolver', 'revulsion', 'rheumatism', 'rhythm', 'richness', 'rickety', 'rid', 'riddled', 'ridicule', 'ridiculous', 'rifle', 'rifleman', 'rift', 'rig', 'rigidity', 'rigorous', 'rim', 'rimjob', 'riot', 'riotous', 'rip', 'ripper', 'risk', 'risky', 'rivalry', 'roach', 'roar', 'rob', 'robber', 'robbery', 'rocket', 'rollercoaster', 'rollick', 'rosy palm', 'rot', 'rotten', 'rough', 'roughness', 'rout', 'rowdy', 'rubbish', 'rude', 'rudeness', 'rueful', 'ruffian', 'rugby', 'ruin', 'ruination', 'rule', 'rumba', 'rummage', 'run', 'runaway', 'rupture', 'rush', 'rustler', 'rusty trombone', 'ruthless', 's&m', 'sabotage', 'saboteur', 'sacrifice', 'sacrificial', 'sacrilegious', 'sad', 'sadden', 'sadism', 'sadist', 'sadistic', 'sadly', 'sadness', 'sag', 'saliva', 'salmonella', 'sanctimonious', 'sanction', 'sandstorm', 'santorum', 'sarcasm', 'sarcastic', 'sardonic', 'satanic', 'satisfy', 'savage', 'savagery', 'scam', 'scandal', 'scandalous', 'scapegoat', 'scar', 'scarcely', 'scarcity', 'scare', 'scarecrow', 'scary', 'scat', 'scatter', 'scavenger', 'sceptical', 'schizophrenia', 'schizophrenic', 'schlong', 'scissor', 'scoff', 'scold', 'scorch', 'scorn', 'scornful', 'scorpion', 'scoundrel', 'scourge', 'scramble', 'scrap', 'scratchy', 'scream', 'screamer', 'screech', 'screw', 'scrotum', 'scrounge', 'scruffy', 'scuff', 'scuffle', 'scumbag', 'sear', 'seasick', 'seclusion', 'secondhand', 'seduce', 'seducer', 'seduction', 'seductive', 'seedy', 'seethe', 'segregate', 'seismic', 'seizure', 'selfish', 'selfishness', 'semen', 'sensational', 'senseless', 'sensual', 'sensuality', 'sensuous', 'sentencing', 'separate', 'separation', 'separatist', 'sepsis', 'sequester', 'sequestration', 'serpent', 'setback', 'sever', 'severe', 'severely', 'sewerage', 'sex', 'sexcam', 'sexist', 'sexo', 'sexual', 'sexuality', 'sexually', 'sexy', 'shabby', 'shadowy', 'shag', 'shake', 'shame', 'shameful', 'shark', 'sharpshooter', 'shatter', 'shave beaver', 'shave pussy', 'shell', 'shemale', 'shibari', 'shipwreck', 'shit', 'shitblimp', 'shite', 'shitface', 'shithead', 'shitload', 'shitt', 'shitty', 'shiver', 'shiz', 'shock', 'shocker', 'shocking', 'shockingly', 'shoddy', 'shoot', 'shooter', 'shootout', 'shoplift', 'shoplifter', 'short', 'shortage', 'shortcoming', 'shota', 'shotgun', 'shout', 'show', 'showdown', 'shrapnel', 'shre', 'shriek', 'shrimping', 'shrink', 'shrivel', 'shrug', 'shudder', 'shut', 'shutdown', 'shutter', 'sick', 'sicken', 'sickening', 'sickly', 'sickness', 'sikh', 'sin', 'sinful', 'sinister', 'sink', 'sinner', 'skater', 'skeet', 'skeleton', 'skeptic', 'skeptical', 'skepticism', 'ski', 'skier', 'skip', 'skittish', 'slag', 'slander', 'slanderous', 'slanteye', 'slap', 'slaughter', 'slaughterhouse', 'slave', 'slavery', 'slay', 'slayer', 'sleepless', 'sleeplessness', 'slight disgust', 'slightly negative', 'slimy', 'slippery', 'sloth', 'sluggish', 'slump', 'slur', 'slut', 'slutty', 'smallpox', 'smash', 'smear', 'smelly', 'smite', 'smitten', 'smoke', 'smoker', 'smoking', 'smolder', 'smug', 'smuggle', 'smuggler', 'smuggling', 'smut', 'snag', 'snake', 'snare', 'snarl', 'snatch', 'snatcher', 'sneak', 'sneaky', 'sneer', 'snide', 'snipe', 'sniper', 'snoop', 'snooze', 'snore', 'snot', 'snotty', 'snowballing', 'snowboarder', 'snowstorm', 'snub', 'sob', 'soccer', 'sociopath', 'sockpuppet', 'sodding', 'sodomize', 'sodomy', 'soil', 'solitary', 'solitude', 'somber', 'some disgust', 'some surprise', 'somersault', 'somewhat negative', 'sordid', 'sore', 'soreness', 'sorrow', 'sorrowful', 'soscare', 'soulless', 'sourpuss', 'spaceship', 'spam', 'spank', 'spar', 'sparkle', 'sparse', 'spasm', 'spastic', 'spaz', 'spectacle', 'speed', 'speedboat', 'sperm', 'spic', 'spick', 'spider', 'spiny', 'spirit', 'spit', 'spite', 'spiteful', 'spitfire', 'splint', 'splinter', 'splitting', 'splooge', 'splooge moose', 'spoil', 'spoo', 'spooge', 'spook', 'spooky', 'sprain', 'spread leg', 'spunk', 'spunky', 'spurious', 'squabble', 'squall', 'squander', 'squeaky', 'squeamish', 'squirm', 'squish', 'stab', 'stain', 'stale', 'stalker', 'stampede', 'standoff', 'stardom', 'startle', 'startling', 'starvation', 'starve', 'steal', 'stench', 'stereotype', 'sterility', 'stick', 'stiff', 'stifle', 'stillbirth', 'stimulant', 'stimulate', 'stimulation', 'stimulus', 'sting', 'stingy', 'stink', 'stinker', 'stinking', 'stinky', 'stir', 'stomachache', 'stomp', 'stone', 'stoppage', 'storm', 'stormy', 'stowaway', 'straight', 'strain', 'strained', 'straitjacket', 'strangle', 'strangulation', 'strap on', 'strapon', 'strappado', 'stray', 'strengthen', 'strenuous', 'stress', 'stressful', 'stressin', 'stricken', 'strife', 'strike', 'strip club', 'stripper', 'striptease', 'strive', 'strongly', 'struggle', 'stubborn', 'stubbornness', 'stumble', 'stunner', 'stunt', 'stupefy', 'stupid', 'stupidity', 'stupidpeople', 'style doggy', 'subdue', 'substandard', 'subtract', 'subtraction', 'subversive', 'succeed', 'success', 'succumb', 'suck', 'sue', 'suffer', 'sufferer', 'suffocate', 'suffocation', 'suicidal', 'suicide', 'suicide girl', 'suicidebombe', 'sulfur', 'sultry woman', 'sunburn', 'sunless', 'superhero', 'superman', 'supernatural', 'superpower', 'superstar', 'superstition', 'surgery', 'surly', 'surprise', 'surprising', 'surprisingly', 'surrender', 'survival', 'survive', 'suspect', 'suspend', 'suspense', 'suspicion', 'suspicious', 'suture', 'swamp', 'swastika', 'sweatshop', 'swelter', 'swift', 'swiftly', 'swindle', 'swindler', 'swinger', 'swollen', 'swordsman', 'syncope', 'syndrome', 'syphili', 'taboo', 'tacky', 'taint', 'taint love', 'takeoff', 'tame', 'tamper', 'tantalize', 'tantrum', 'taoist', 'tardy', 'tarnish', 'tart', 'tartar', 'taste my', 'tasteless', 'tasty', 'taunt', 'tea bagging', 'tear', 'tearful', 'teary', 'tease', 'tedious', 'tedium', 'teenage', 'telltale', 'temperamental', 'tempest', 'tempt', 'temptation', 'temptress', 'tension', 'terminate', 'terrible', 'terribly', 'terrify', 'terrifying', 'terror', 'terrorism', 'terrorist', 'terrorize', 'testosterone', 'testy', 'tetanus', 'thankless', 'theft', 'thief', 'thorny', 'thoughtless', 'threat', 'threaten', 'threesome', 'thrill', 'thriller', 'throate', 'throb', 'throe', 'throng', 'throttle', 'throw', 'thruster', 'thug', 'thumbzilla', 'thump', 'thunder', 'thunderclap', 'thunderstorm', 'thunderstruck', 'thyroid', 'ticklish', 'tidal wave', 'tie up', 'tiger', 'tight white', 'tired', 'tiresome', 'tiring', 'tit', 'titanic', 'titty', 'tittyfuck', 'tomb', 'tombstone', 'tongue in a', 'toothache', 'topless', 'topple', 'torment', 'tornado', 'torpedo', 'tort', 'tortuous', 'torture', 'tosser', 'touchdown', 'towelhead', 'toxic', 'toxicity', 'toxin', 'tragedy', 'tragic', 'training', 'traitor', 'traitorous', 'tramp', 'trample', 'tran', 'tranny', 'transcend', 'transgender', 'transgression', 'transplant', 'transsexual', 'trap', 'trapdoor', 'trash', 'trashy', 'trauma', 'traumatic', 'treacherous', 'treachery', 'treason', 'treasure', 'tremble', 'tremendous', 'tremor', 'trench', 'trespass', 'triathlon', 'tribadism', 'trickery', 'tricky', 'trigger', 'triumph', 'triumphant', 'trouble', 'troublemaker', 'troublesome', 'truculent', 'tsunami', 'tub girl', 'tuberculosis', 'tubgirl', 'tumor', 'tumour', 'tumultuous', 'turbidity', 'turbulence', 'turbulent', 'turd', 'turmoil', 'tushy', 'tussle', 'twat', 'twink', 'twinkie', 'twist', 'twit', 'twitchy', 'typhoon', 'typo', 'tyrannical', 'tyranny', 'tyrant', 'ugliness', 'ugly', 'ultimatum', 'unable', 'unacceptable', 'unaccountable', 'unacknowledged', 'unannounced', 'unanticipated', 'unappreciated', 'unapproved', 'unattached', 'unattainable', 'unattractive', 'unaware', 'unbearable', 'unbeaten', 'unbecoming', 'unbelievable', 'unbridled', 'uncaring', 'uncertainty', 'uncharted', 'uncivilized', 'unclean', 'unclear', 'uncomfortable', 'unconnected', 'unconscionable', 'unconscious', 'unconsciousness', 'unconstitutional', 'uncontrollable', 'uncontrolle', 'unconventional', 'unconvincing', 'uncouth', 'undefeated', 'underhanded', 'underpaid', 'underprivileged', 'underrated', 'understaffed', 'underworld', 'undeserved', 'undesirable', 'undesired', 'undetected', 'undignified', 'undo', 'undress', 'undue', 'unearned', 'uneasiness', 'uneasy', 'uneducated', 'unemployed', 'unemployment', 'unequal', 'unethical', 'uneven', 'unexpectedly', 'unfair', 'unfairness', 'unfaithful', 'unfamiliar', 'unfavorable', 'unfeeling', 'unfinished', 'unfortunate', 'unfortunately', 'unfriendly', 'unfulfilled', 'ungrateful', 'unguarded', 'unhappiness', 'unhappy', 'unhealthy', 'unhelpful', 'unimpresse', 'unimproved', 'uninformed', 'uninspired', 'unintelligible', 'uninteresting', 'uninvited', 'unjust', 'unjustifiable', 'unkind', 'unlawful', 'unleash', 'unlucky', 'unmanageable', 'unmanned', 'unmove', 'unnatural', 'unnecessary', 'unneeded', 'unordere', 'unpleasant', 'unpleasantness', 'unplug', 'unpopular', 'unpredictable', 'unprepared', 'unproductive', 'unprofessional', 'unprofitable', 'unprotected', 'unqualified', 'unreachable', 'unreal', 'unrealistic', 'unreasonable', 'unrecorded', 'unrelenting', 'unreliable', 'unrepentant', 'unrequited', 'unresolved', 'unresponsive', 'unrest', 'unrestrained', 'unromantic', 'unruly', 'unsafe', 'unsanitary', 'unsatisfactory', 'unsatisfied', 'unsavory', 'unscrupulous', 'unseat', 'unsettled', 'unsightly', 'unsolicited', 'unsolved', 'unsound', 'unspecified', 'unspoken', 'unstable', 'unsteady', 'unstoppable', 'unsuccessful', 'unsuitable', 'unsure', 'unsympathetic', 'untamed', 'untenable', 'untidy', 'untimely', 'untitled', 'untold', 'untoward', 'untrained', 'untrue', 'untrustworthy', 'unverified', 'unwanted', 'unwarranted', 'unwelcome', 'unwell', 'unwillingly', 'unwillingness', 'unwise', 'unworthy', 'unyielding', 'upheaval', 'uplift', 'uprising', 'uproar', 'upset', 'upskirt', 'uptight', 'urethra play', 'urgency', 'urgent', 'urinal', 'urn', 'urophilia', 'useless', 'usurp', 'vag', 'vagina', 'vaginal', 'vagrancy', 'vagueness', 'vamp', 'vampire', 'vandal', 'vandalism', 'vanish', 'vanquish', 'varicella', 'varicose', 'vasectomy', 'velocity', 'vendetta', 'vengeance', 'vengeful', 'venom', 'venomous', 'venture', 'venus mound', 'vermin', 'verve', 'very negative', 'vesicular', 'vex', 'viagra', 'vibrant', 'vibrator', 'vice', 'vicious', 'victim', 'victimize', 'victoria', 'victorious', 'video game', 'vigor', 'vigorous', 'vike', 'vile', 'villain', 'villainous', 'vindictive', 'violate', 'violation', 'violence', 'violent', 'violently', 'violet wand', 'viper', 'viral', 'virulence', 'vivacious', 'void', 'volatile', 'volatility', 'volcanic', 'volcano', 'voltage', 'vomit', 'voodoo', 'voracious', 'vorarephilia', 'voyeur', 'voyeurweb', 'voyuer', 'vulgar', 'vulgarity', 'vulnerable', 'vulva', 'wacky', 'wager', 'wait', 'walkout', 'wallop', 'wallow', 'wane', 'wank', 'wanker', 'war', 'warcrime', 'warfare', 'warhead', 'warlike', 'warlord', 'warn', 'warp', 'warrior', 'warship', 'wart', 'wartime', 'waste', 'wasteful', 'watchdog', 'weak', 'weaken', 'weakling', 'weakness', 'weapon', 'weaponry', 'weariness', 'weary', 'wedding', 'weed', 'weep', 'weepy', 'weirdo', 'werewolf', 'wet dream', 'wetback', 'whack', 'wheelchair', 'wheeze', 'whiny', 'whip', 'whiplash', 'whirl', 'whirlwind', 'white', 'white power', 'whor', 'whore', 'whorehouse', 'wicked', 'wickedness', 'widow', 'widower', 'wild', 'wildfire', 'willpower', 'wilt', 'wimp', 'wimpy', 'windfall', 'winger', 'winner', 'winning', 'wiretap', 'witchcraft', 'withdraw', 'wither', 'withhold', 'witless', 'wo nt', 'wobbly', 'woeful', 'woefully', 'wog', 'woman', 'womanizer', 'wonder', 'wonderful', 'wonderfully', 'woozy', 'workload', 'workout', 'worldsex', 'worm', 'worry', 'worsen', 'worstfeele', 'worthless', 'wound', 'wrack', 'wrangle', 'wrap man', 'wrath', 'wrathful', 'wreck', 'wreckage', 'wrecker', 'wrench', 'wrestle', 'wrestler', 'wretch', 'wretched', 'wrinkle', 'wrinkled starfish', 'wrong', 'wrongdoe', 'wrongful', 'wrongly', 'wry', 'wtf', 'xenophobia', 'xxx', 'yaoi', 'yeahhh', 'yell', 'yellow shower', 'yessss', 'yiffy', 'young', 'yousuck', 'yucky', 'zealot', 'zealous', 'zest', 'zombie', 'zoophilia']\n"
     ]
    }
   ],
   "source": [
    "terms += list(df[\"term\"])\n",
    "terms = [str(t).strip() for t in terms]\n",
    "tmp = []\n",
    "for doc in nlp.pipe(terms):\n",
    "    if len(doc) > 3:\n",
    "        continue\n",
    "    t = \" \".join([token.lemma_ for token in doc])\n",
    "    if len(t) < 3:\n",
    "        continue\n",
    "    t = t.lower()\n",
    "    tmp.append(t)\n",
    "terms = list(set(tmp))\n",
    "terms.sort()\n",
    "print(f\"len(terms)={len(terms)}\\n{terms}\")"
   ]
  },
  {
   "cell_type": "code",
   "execution_count": 10,
   "id": "5084ca57",
   "metadata": {},
   "outputs": [
    {
     "data": {
      "text/plain": [
       "767"
      ]
     },
     "execution_count": 10,
     "metadata": {},
     "output_type": "execute_result"
    }
   ],
   "source": [
    "df = pd.read_parquet(\"input/pre_ruddit.parquet\")\n",
    "texts = list(df[\"text3\"])\n",
    "df = pd.read_parquet(\"input/pre_val.parquet\")\n",
    "texts += list(df[\"text3\"])\n",
    "del df\n",
    "gc.collect()"
   ]
  },
  {
   "cell_type": "code",
   "execution_count": 11,
   "id": "0102663e",
   "metadata": {},
   "outputs": [
    {
     "name": "stdout",
     "output_type": "stream",
     "text": [
      "idf.shape=(4098,)\n",
      "Wall time: 1.74 s\n"
     ]
    }
   ],
   "source": [
    "%%time\n",
    "vec = TfidfVectorizer(vocabulary=terms, ngram_range=(1, 3), analyzer=\"word\")\n",
    "vec = vec.fit(texts)\n",
    "print(f\"idf.shape={vec.idf_.shape}\")\n",
    "idf = vec.idf_.tolist()\n",
    "with open(\"output/vocab.json\", \"w\") as f:\n",
    "    json.dump({\n",
    "        \"term\": terms,\n",
    "        \"idf\": idf,\n",
    "    }, f)"
   ]
  },
  {
   "cell_type": "code",
   "execution_count": 12,
   "id": "1414caaf",
   "metadata": {},
   "outputs": [
    {
     "name": "stdout",
     "output_type": "stream",
     "text": [
      "Wall time: 11 ms\n"
     ]
    }
   ],
   "source": [
    "%%time\n",
    "with open('output/vocab.tsv', 'w', newline='') as f:\n",
    "    w = csv.writer(f, delimiter='\\t')\n",
    "    w.writerow([\"term\", \"idf\"])\n",
    "    for i in range(len(terms)):\n",
    "        w.writerow([terms[i], idf[i]])"
   ]
  },
  {
   "cell_type": "code",
   "execution_count": null,
   "id": "84f00d5c",
   "metadata": {},
   "outputs": [],
   "source": []
  }
 ],
 "metadata": {
  "kernelspec": {
   "display_name": "Python 3 (ipykernel)",
   "language": "python",
   "name": "python3"
  },
  "language_info": {
   "codemirror_mode": {
    "name": "ipython",
    "version": 3
   },
   "file_extension": ".py",
   "mimetype": "text/x-python",
   "name": "python",
   "nbconvert_exporter": "python",
   "pygments_lexer": "ipython3",
   "version": "3.7.5"
  }
 },
 "nbformat": 4,
 "nbformat_minor": 5
}
