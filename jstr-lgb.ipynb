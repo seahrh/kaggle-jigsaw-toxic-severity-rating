{
 "cells": [
  {
   "cell_type": "code",
   "execution_count": 1,
   "id": "00e8bb79",
   "metadata": {
    "_cell_guid": "b1076dfc-b9ad-4769-8c92-a6c4dae69d19",
    "_uuid": "8f2839f25d086af736a60e9eeb907d3b93b6e0e5",
    "execution": {
     "iopub.execute_input": "2022-02-07T11:29:12.568630Z",
     "iopub.status.busy": "2022-02-07T11:29:12.566962Z",
     "iopub.status.idle": "2022-02-07T11:29:21.363363Z",
     "shell.execute_reply": "2022-02-07T11:29:21.362350Z",
     "shell.execute_reply.started": "2022-02-07T11:26:22.488310Z"
    },
    "papermill": {
     "duration": 8.827616,
     "end_time": "2022-02-07T11:29:21.363532",
     "exception": false,
     "start_time": "2022-02-07T11:29:12.535916",
     "status": "completed"
    },
    "tags": []
   },
   "outputs": [
    {
     "data": {
      "text/html": [
       "<style type='text/css'>\n",
       ".datatable table.frame { margin-bottom: 0; }\n",
       ".datatable table.frame thead { border-bottom: none; }\n",
       ".datatable table.frame tr.coltypes td {  color: #FFFFFF;  line-height: 6px;  padding: 0 0.5em;}\n",
       ".datatable .bool    { background: #DDDD99; }\n",
       ".datatable .object  { background: #565656; }\n",
       ".datatable .int     { background: #5D9E5D; }\n",
       ".datatable .float   { background: #4040CC; }\n",
       ".datatable .str     { background: #CC4040; }\n",
       ".datatable .time    { background: #40CC40; }\n",
       ".datatable .row_index {  background: var(--jp-border-color3);  border-right: 1px solid var(--jp-border-color0);  color: var(--jp-ui-font-color3);  font-size: 9px;}\n",
       ".datatable .frame tbody td { text-align: left; }\n",
       ".datatable .frame tr.coltypes .row_index {  background: var(--jp-border-color0);}\n",
       ".datatable th:nth-child(2) { padding-left: 12px; }\n",
       ".datatable .hellipsis {  color: var(--jp-cell-editor-border-color);}\n",
       ".datatable .vellipsis {  background: var(--jp-layout-color0);  color: var(--jp-cell-editor-border-color);}\n",
       ".datatable .na {  color: var(--jp-cell-editor-border-color);  font-size: 80%;}\n",
       ".datatable .sp {  opacity: 0.25;}\n",
       ".datatable .footer { font-size: 9px; }\n",
       ".datatable .frame_dimensions {  background: var(--jp-border-color3);  border-top: 1px solid var(--jp-border-color0);  color: var(--jp-ui-font-color3);  display: inline-block;  opacity: 0.6;  padding: 1px 10px 1px 5px;}\n",
       "</style>\n"
      ],
      "text/plain": [
       "<IPython.core.display.HTML object>"
      ]
     },
     "metadata": {},
     "output_type": "display_data"
    }
   ],
   "source": [
    "import random\n",
    "import glob\n",
    "import os\n",
    "import sys\n",
    "import gc\n",
    "import json\n",
    "import math\n",
    "import numpy as np\n",
    "import pandas as pd\n",
    "import lightgbm as lgb\n",
    "import torch\n",
    "import scipy\n",
    "from scipy.stats import rankdata\n",
    "from transformers import AutoTokenizer, AutoModelForSequenceClassification\n",
    "from sklearn.feature_extraction.text import TfidfVectorizer\n",
    "from tqdm import tqdm\n",
    "from typing import Dict, List, Tuple, NamedTuple, Callable, Any, Iterable, Set"
   ]
  },
  {
   "cell_type": "code",
   "execution_count": 2,
   "id": "0a538829",
   "metadata": {
    "execution": {
     "iopub.execute_input": "2022-02-07T11:29:21.477482Z",
     "iopub.status.busy": "2022-02-07T11:29:21.476288Z",
     "iopub.status.idle": "2022-02-07T11:29:21.480862Z",
     "shell.execute_reply": "2022-02-07T11:29:21.481298Z",
     "shell.execute_reply.started": "2022-02-07T10:55:27.141818Z"
    },
    "papermill": {
     "duration": 0.091619,
     "end_time": "2022-02-07T11:29:21.481447",
     "exception": false,
     "start_time": "2022-02-07T11:29:21.389828",
     "status": "completed"
    },
    "tags": []
   },
   "outputs": [
    {
     "name": "stdout",
     "output_type": "stream",
     "text": [
      "device=0, Tesla P100-PCIE-16GB\n",
      "Mem Allocated: 0.0 GB\n",
      "Mem Cached:    0.0 GB\n"
     ]
    }
   ],
   "source": [
    "# You can write up to 20GB to the current directory (/kaggle/working/) that gets preserved as output when you create a version using \"Save & Run All\" \n",
    "# You can also write temporary files to /kaggle/temp/, but they won't be saved outside of the current session\n",
    "class Conf(NamedTuple):\n",
    "    device: torch.device = torch.device('cuda' if torch.cuda.is_available() else 'cpu')\n",
    "    input_dir: str = '/kaggle/input/'\n",
    "    comp_dir: str = f\"{input_dir}jigsaw-toxic-severity-rating/\"\n",
    "    temp_dir: str = '/kaggle/temp/'\n",
    "    working_dir: str = '/kaggle/working/'\n",
    "    resource_dir: str = f'{input_dir}jtsr-lib/kaggle-jigsaw-toxic-severity-rating-1.0/'\n",
    "    pretrained_dir: str = f\"{input_dir}pretrained/pretrained/\"\n",
    "    lgb_model: str = f'{resource_dir}models/lgb/20220207_175155/model.txt'\n",
    "    dtfy_batch_size: int = 256\n",
    "    dtfy_model_max_length: int = 512\n",
    "    dtfy_models: Dict[str, str] = {\n",
    "        \"dto_\": f\"{pretrained_dir}unitaryai/detoxify/toxic_original-c1212f89.ckpt\",\n",
    "        \"dtu_\": f\"{pretrained_dir}unitaryai/detoxify/toxic_debiased-c7548aa0.ckpt\",\n",
    "        \"dtm_\": f\"{pretrained_dir}unitaryai/detoxify/multilingual_debiased-0b549669.ckpt\"\n",
    "    }\n",
    "    dtfy_configs: Dict[str, str] = {\n",
    "        \"dto_\": f\"{pretrained_dir}bert-base-uncased\",\n",
    "        \"dtu_\": f\"{pretrained_dir}roberta-base\",\n",
    "        \"dtm_\": f\"{pretrained_dir}xlm-roberta-base\"\n",
    "    }\n",
    "    tweeteval_model_max_length: int = 512\n",
    "    tweeteval_batch_size: int = 128\n",
    "    tweeteval_models: Dict[str, str] = {\n",
    "        \"te_roberta_off\": f\"{pretrained_dir}cardiffnlp/twitter-roberta-base-offensive\",\n",
    "        \"te_roberta_emo_anger\": f\"{pretrained_dir}cardiffnlp/twitter-roberta-base-emotion\",\n",
    "        \"te_roberta_snt_neg\": f\"{pretrained_dir}cardiffnlp/twitter-roberta-base-sentiment\",\n",
    "        \"te_roberta_iro\": f\"{pretrained_dir}cardiffnlp/twitter-roberta-base-irony\",\n",
    "        \"te_xlm_roberta_snt_neg\": f\"{pretrained_dir}cardiffnlp/twitter-xlm-roberta-base-sentiment\",\n",
    "    }\n",
    "    tweeteval_label_index: Dict[str, int] = {\n",
    "        \"te_roberta_off\": 1,\n",
    "        \"te_roberta_emo_anger\": 0,\n",
    "        \"te_roberta_snt_neg\": 0,\n",
    "        \"te_roberta_iro\": 1,\n",
    "        \"te_xlm_roberta_snt_neg\": 0,\n",
    "    }\n",
    "    hatebert_model_max_length: int = 512\n",
    "    hatebert_batch_size: int = 128\n",
    "    hatebert_models: Dict[str, str] = {\n",
    "        \"hb_bert_off\": f\"{pretrained_dir}hatebert/bert-offenseval\",\n",
    "        \"hb_bert_abu\" : f\"{pretrained_dir}hatebert/bert-abuseval\",\n",
    "        \"hb_hatebert_off\": f\"{pretrained_dir}hatebert/hatebert-offenseval\",\n",
    "        \"hb_hatebert_abu\" : f\"{pretrained_dir}hatebert/hatebert-abuseval\",\n",
    "    }\n",
    "    em_enable: bool = False\n",
    "    em_max_seq_length: int = 128\n",
    "    em_batch_size: int = 1000\n",
    "    em_models: Dict[str, str] = {\n",
    "        \"paraphrase-MiniLM-L6-v2\": f\"{pretrained_dir}sentence-transformers/paraphrase-MiniLM-L6-v2\"\n",
    "    }\n",
    "    vocab_file: str = f\"{resource_dir}data/vocab.json\"\n",
    "    vad_file: str = f\"{resource_dir}data/vad.tsv\"\n",
    "\n",
    "\n",
    "conf = Conf()\n",
    "if conf.device.type == 'cuda':\n",
    "    for i in range(torch.cuda.device_count()):\n",
    "        print(f\"device={i}, {torch.cuda.get_device_name(i)}\")\n",
    "        print('Mem Allocated:', round(torch.cuda.memory_allocated(i)/1024**3,1), 'GB')\n",
    "        print('Mem Cached:   ', round(torch.cuda.memory_reserved(i)/1024**3,1), 'GB')"
   ]
  },
  {
   "cell_type": "code",
   "execution_count": 3,
   "id": "7795ce8c",
   "metadata": {
    "execution": {
     "iopub.execute_input": "2022-02-07T11:29:21.538544Z",
     "iopub.status.busy": "2022-02-07T11:29:21.538000Z",
     "iopub.status.idle": "2022-02-07T11:29:31.167538Z",
     "shell.execute_reply": "2022-02-07T11:29:31.167054Z",
     "shell.execute_reply.started": "2022-02-07T10:55:27.160108Z"
    },
    "papermill": {
     "duration": 9.661578,
     "end_time": "2022-02-07T11:29:31.167672",
     "exception": false,
     "start_time": "2022-02-07T11:29:21.506094",
     "status": "completed"
    },
    "tags": []
   },
   "outputs": [],
   "source": [
    "os.environ[\"TOKENIZERS_PARALLELISM\"] = \"false\"\n",
    "pd.set_option(\"use_inf_as_na\", True)\n",
    "pd.set_option(\"max_info_columns\", 9999)\n",
    "pd.set_option(\"display.max_columns\", 9999)\n",
    "pd.set_option(\"display.max_rows\", 9999)\n",
    "pd.set_option('max_colwidth', 9999)\n",
    "tqdm.pandas()\n",
    "sys.path.append(f\"{conf.input_dir}pyphen/Pyphen-0.11.0\")\n",
    "sys.path.append(f\"{conf.input_dir}textstat/textstat-0.7.2\")\n",
    "sys.path.append(f\"{conf.input_dir}sentence-transformers/sentence-transformers-2.1.0\")\n",
    "sys.path.append(f'{conf.input_dir}d/ruhong/sgcharts-ml/src')\n",
    "sys.path.append(f'{conf.resource_dir}src')\n",
    "import textstat\n",
    "from sentence_transformers import SentenceTransformer\n",
    "import scml\n",
    "from scml import nlp as snlp\n",
    "import mylib"
   ]
  },
  {
   "cell_type": "code",
   "execution_count": 4,
   "id": "53a26710",
   "metadata": {
    "execution": {
     "iopub.execute_input": "2022-02-07T11:29:31.218383Z",
     "iopub.status.busy": "2022-02-07T11:29:31.217723Z",
     "iopub.status.idle": "2022-02-07T11:29:31.360734Z",
     "shell.execute_reply": "2022-02-07T11:29:31.362229Z",
     "shell.execute_reply.started": "2022-02-07T10:55:27.180071Z"
    },
    "papermill": {
     "duration": 0.171574,
     "end_time": "2022-02-07T11:29:31.362572",
     "exception": false,
     "start_time": "2022-02-07T11:29:31.190998",
     "status": "completed"
    },
    "tags": []
   },
   "outputs": [
    {
     "name": "stdout",
     "output_type": "stream",
     "text": [
      "<class 'pandas.core.frame.DataFrame'>\n",
      "RangeIndex: 7537 entries, 0 to 7536\n",
      "Data columns (total 2 columns):\n",
      " #   Column      Non-Null Count  Dtype \n",
      "---  ------      --------------  ----- \n",
      " 0   comment_id  7537 non-null   int64 \n",
      " 1   text        7537 non-null   object\n",
      "dtypes: int64(1), object(1)\n",
      "memory usage: 117.9+ KB\n"
     ]
    }
   ],
   "source": [
    "df = pd.read_csv(f\"{conf.comp_dir}comments_to_score.csv\")\n",
    "df.info()"
   ]
  },
  {
   "cell_type": "markdown",
   "id": "b93ecfd3",
   "metadata": {
    "papermill": {
     "duration": 0.039727,
     "end_time": "2022-02-07T11:29:31.441168",
     "exception": false,
     "start_time": "2022-02-07T11:29:31.401441",
     "status": "completed"
    },
    "tags": []
   },
   "source": [
    "# Preprocess text"
   ]
  },
  {
   "cell_type": "code",
   "execution_count": 5,
   "id": "e8ca3589",
   "metadata": {
    "execution": {
     "iopub.execute_input": "2022-02-07T11:29:31.540495Z",
     "iopub.status.busy": "2022-02-07T11:29:31.539633Z",
     "iopub.status.idle": "2022-02-07T11:49:29.807020Z",
     "shell.execute_reply": "2022-02-07T11:49:29.806536Z",
     "shell.execute_reply.started": "2022-02-07T10:55:27.246144Z"
    },
    "papermill": {
     "duration": 1198.321304,
     "end_time": "2022-02-07T11:49:29.807151",
     "exception": false,
     "start_time": "2022-02-07T11:29:31.485847",
     "status": "completed"
    },
    "tags": []
   },
   "outputs": [
    {
     "name": "stdout",
     "output_type": "stream",
     "text": [
      "text1\n"
     ]
    },
    {
     "name": "stderr",
     "output_type": "stream",
     "text": [
      "100%|██████████| 7537/7537 [00:50<00:00, 148.20it/s]\n"
     ]
    },
    {
     "name": "stdout",
     "output_type": "stream",
     "text": [
      "text2\n"
     ]
    },
    {
     "name": "stderr",
     "output_type": "stream",
     "text": [
      "100%|██████████| 7537/7537 [17:05<00:00,  7.35it/s]\n"
     ]
    },
    {
     "name": "stdout",
     "output_type": "stream",
     "text": [
      "text3\n"
     ]
    },
    {
     "name": "stderr",
     "output_type": "stream",
     "text": [
      "100%|██████████| 7537/7537 [02:02<00:00, 61.62it/s]\n"
     ]
    }
   ],
   "source": [
    "def pre1(row) -> str:\n",
    "    return mylib.pre1(row[\"text\"])\n",
    "\n",
    "\n",
    "def pre2(row) -> str:\n",
    "    return mylib.pre2(row[\"text1\"])\n",
    "\n",
    "\n",
    "def pre3(row) -> str:\n",
    "    return mylib.pre3(row[\"text2\"])\n",
    "\n",
    "\n",
    "col = \"text1\"\n",
    "print(col)\n",
    "df[col] = df.progress_apply(pre1, axis=1)\n",
    "col = \"text2\"\n",
    "print(col)\n",
    "df[col] = df.progress_apply(pre2, axis=1)\n",
    "col = \"text3\"\n",
    "print(col)\n",
    "df[col] = df.progress_apply(pre3, axis=1)"
   ]
  },
  {
   "cell_type": "markdown",
   "id": "e4a56132",
   "metadata": {
    "papermill": {
     "duration": 1.49048,
     "end_time": "2022-02-07T11:49:32.709519",
     "exception": false,
     "start_time": "2022-02-07T11:49:31.219039",
     "status": "completed"
    },
    "tags": []
   },
   "source": [
    "# Character level features"
   ]
  },
  {
   "cell_type": "code",
   "execution_count": 6,
   "id": "f6f1f83d",
   "metadata": {
    "execution": {
     "iopub.execute_input": "2022-02-07T11:49:35.574897Z",
     "iopub.status.busy": "2022-02-07T11:49:35.574085Z",
     "iopub.status.idle": "2022-02-07T11:49:35.583840Z",
     "shell.execute_reply": "2022-02-07T11:49:35.584249Z",
     "shell.execute_reply.started": "2022-02-07T11:17:59.394634Z"
    },
    "papermill": {
     "duration": 1.427577,
     "end_time": "2022-02-07T11:49:35.584394",
     "exception": false,
     "start_time": "2022-02-07T11:49:34.156817",
     "status": "completed"
    },
    "tags": []
   },
   "outputs": [
    {
     "name": "stdout",
     "output_type": "stream",
     "text": [
      "CPU times: user 8.82 ms, sys: 4 µs, total: 8.82 ms\n",
      "Wall time: 8.57 ms\n"
     ]
    }
   ],
   "source": [
    "%%time\n",
    "col = \"length\"\n",
    "df[col] = df[\"text1\"].str.len()\n",
    "df[col] = df[col].astype(np.int16)"
   ]
  },
  {
   "cell_type": "code",
   "execution_count": 7,
   "id": "4804d0fd",
   "metadata": {
    "execution": {
     "iopub.execute_input": "2022-02-07T11:49:38.801264Z",
     "iopub.status.busy": "2022-02-07T11:49:38.800674Z",
     "iopub.status.idle": "2022-02-07T11:49:38.804783Z",
     "shell.execute_reply": "2022-02-07T11:49:38.804365Z",
     "shell.execute_reply.started": "2022-02-07T11:17:59.413430Z"
    },
    "papermill": {
     "duration": 1.477347,
     "end_time": "2022-02-07T11:49:38.804891",
     "exception": false,
     "start_time": "2022-02-07T11:49:37.327544",
     "status": "completed"
    },
    "tags": []
   },
   "outputs": [],
   "source": [
    "def digit_frac(row) -> float:\n",
    "    return mylib.digit_frac(row[\"text1\"])\n",
    "\n",
    "\n",
    "def letter_frac(row) -> float:\n",
    "    return mylib.letter_frac(row[\"text1\"])\n",
    "\n",
    "\n",
    "def space_frac(row) -> float:\n",
    "    return mylib.space_frac(row[\"text1\"])\n",
    "\n",
    "\n",
    "def punc_frac(row) -> float:\n",
    "    return mylib.punc_frac(row[\"text1\"])\n",
    "\n",
    "\n",
    "def upper_frac(row) -> float:\n",
    "    return mylib.upper_frac(row[\"text1\"])\n",
    "\n",
    "\n",
    "def repeat_char_frac(row) -> float:\n",
    "    return mylib.repeat_char_frac(row[\"text1\"])\n",
    "\n",
    "\n",
    "def repeat_substring_frac(row) -> float:\n",
    "    return mylib.repeat_substring_frac(row[\"text1\"])\n",
    "\n",
    "\n",
    "char_fns: Dict[str, Callable] = {\n",
    "    \"digit_frac\": digit_frac,\n",
    "    \"letter_frac\": letter_frac,\n",
    "    \"space_frac\": space_frac,\n",
    "    \"punc_frac\": punc_frac,\n",
    "    \"upper_frac\": upper_frac,\n",
    "    \"repeat_char_frac\": repeat_char_frac,\n",
    "    \"repeat_substring_frac\": repeat_substring_frac,\n",
    "}"
   ]
  },
  {
   "cell_type": "code",
   "execution_count": 8,
   "id": "8d50af2b",
   "metadata": {
    "execution": {
     "iopub.execute_input": "2022-02-07T11:49:41.636731Z",
     "iopub.status.busy": "2022-02-07T11:49:41.635787Z",
     "iopub.status.idle": "2022-02-07T11:53:36.795518Z",
     "shell.execute_reply": "2022-02-07T11:53:36.795884Z",
     "shell.execute_reply.started": "2022-02-07T11:17:59.426169Z"
    },
    "papermill": {
     "duration": 236.592424,
     "end_time": "2022-02-07T11:53:36.796090",
     "exception": false,
     "start_time": "2022-02-07T11:49:40.203666",
     "status": "completed"
    },
    "tags": []
   },
   "outputs": [
    {
     "name": "stdout",
     "output_type": "stream",
     "text": [
      "digit_frac\n"
     ]
    },
    {
     "name": "stderr",
     "output_type": "stream",
     "text": [
      "100%|██████████| 7537/7537 [00:00<00:00, 22677.92it/s]\n"
     ]
    },
    {
     "name": "stdout",
     "output_type": "stream",
     "text": [
      "letter_frac\n"
     ]
    },
    {
     "name": "stderr",
     "output_type": "stream",
     "text": [
      "100%|██████████| 7537/7537 [00:00<00:00, 21549.82it/s]\n"
     ]
    },
    {
     "name": "stdout",
     "output_type": "stream",
     "text": [
      "space_frac\n"
     ]
    },
    {
     "name": "stderr",
     "output_type": "stream",
     "text": [
      "100%|██████████| 7537/7537 [00:00<00:00, 19978.75it/s]\n"
     ]
    },
    {
     "name": "stdout",
     "output_type": "stream",
     "text": [
      "punc_frac\n"
     ]
    },
    {
     "name": "stderr",
     "output_type": "stream",
     "text": [
      "100%|██████████| 7537/7537 [00:00<00:00, 16582.98it/s]\n"
     ]
    },
    {
     "name": "stdout",
     "output_type": "stream",
     "text": [
      "upper_frac\n"
     ]
    },
    {
     "name": "stderr",
     "output_type": "stream",
     "text": [
      "100%|██████████| 7537/7537 [00:00<00:00, 21147.67it/s]\n"
     ]
    },
    {
     "name": "stdout",
     "output_type": "stream",
     "text": [
      "repeat_char_frac\n"
     ]
    },
    {
     "name": "stderr",
     "output_type": "stream",
     "text": [
      "100%|██████████| 7537/7537 [00:00<00:00, 8016.03it/s]\n"
     ]
    },
    {
     "name": "stdout",
     "output_type": "stream",
     "text": [
      "repeat_substring_frac\n"
     ]
    },
    {
     "name": "stderr",
     "output_type": "stream",
     "text": [
      "100%|██████████| 7537/7537 [03:52<00:00, 32.44it/s]\n"
     ]
    }
   ],
   "source": [
    "for col, fn in char_fns.items():\n",
    "    print(col)\n",
    "    df[col] = df.progress_apply(fn, axis=1)\n",
    "    df[col] = df[col].astype(np.float32)"
   ]
  },
  {
   "cell_type": "markdown",
   "id": "61c8f9bc",
   "metadata": {
    "papermill": {
     "duration": 1.659953,
     "end_time": "2022-02-07T11:53:40.316384",
     "exception": false,
     "start_time": "2022-02-07T11:53:38.656431",
     "status": "completed"
    },
    "tags": []
   },
   "source": [
    "# Textstat features"
   ]
  },
  {
   "cell_type": "code",
   "execution_count": 9,
   "id": "a83039eb",
   "metadata": {
    "execution": {
     "iopub.execute_input": "2022-02-07T11:53:43.584605Z",
     "iopub.status.busy": "2022-02-07T11:53:43.583724Z",
     "iopub.status.idle": "2022-02-07T11:53:43.585493Z",
     "shell.execute_reply": "2022-02-07T11:53:43.585890Z",
     "shell.execute_reply.started": "2022-02-07T11:22:22.347697Z"
    },
    "papermill": {
     "duration": 1.645195,
     "end_time": "2022-02-07T11:53:43.586041",
     "exception": false,
     "start_time": "2022-02-07T11:53:41.940846",
     "status": "completed"
    },
    "tags": []
   },
   "outputs": [],
   "source": [
    "def syllable_count(row) -> int:\n",
    "    return textstat.syllable_count(row[\"text1\"])\n",
    "\n",
    "\n",
    "def lexicon_count(row) -> int:\n",
    "    return textstat.lexicon_count(row[\"text1\"])\n",
    "\n",
    "\n",
    "def sentence_count(row) -> int:\n",
    "    return textstat.sentence_count(row[\"text1\"])\n",
    "\n",
    "\n",
    "def syllables_per_word(row) -> float:\n",
    "    return row[\"syllable_count\"] / (row[\"lexicon_count\"] + 1)\n",
    "\n",
    "\n",
    "def syllables_per_sent(row) -> float:\n",
    "    return row[\"syllable_count\"] / (row[\"sentence_count\"] + 1)\n",
    "\n",
    "\n",
    "def words_per_sent(row) -> float:\n",
    "    return row[\"lexicon_count\"] / (row[\"sentence_count\"] + 1)\n",
    "\n",
    "\n",
    "def flesch_reading_ease(row) -> float:\n",
    "    return textstat.flesch_reading_ease(row[\"text1\"])\n",
    "\n",
    "\n",
    "def flesch_kincaid_grade(row) -> float:\n",
    "    return textstat.flesch_kincaid_grade(row[\"text1\"])\n",
    "\n",
    "\n",
    "def gunning_fog(row) -> float:\n",
    "    return textstat.gunning_fog(row[\"text1\"])\n",
    "\n",
    "\n",
    "def smog_index(row) -> float:\n",
    "    return textstat.smog_index(row[\"text1\"])\n",
    "\n",
    "\n",
    "def automated_readability_index(row) -> float:\n",
    "    return textstat.automated_readability_index(row[\"text1\"])\n",
    "\n",
    "\n",
    "def coleman_liau_index(row) -> float:\n",
    "    return textstat.coleman_liau_index(row[\"text1\"])\n",
    "\n",
    "\n",
    "def linsear_write_formula(row) -> float:\n",
    "    return textstat.linsear_write_formula(row[\"text1\"])\n",
    "\n",
    "\n",
    "def dale_chall_readability_score(row) -> float:\n",
    "    return textstat.dale_chall_readability_score(row[\"text1\"])\n",
    "\n",
    "\n",
    "\n",
    "preprocess_fns: List[Tuple[str, Callable, Any]] = [\n",
    "    (\"syllable_count\", syllable_count, np.int32),\n",
    "    (\"lexicon_count\", lexicon_count, np.int32),\n",
    "    (\"sentence_count\", sentence_count, np.int32),\n",
    "]\n",
    "textstat_fns: List[Tuple[str, Callable, Any]] = [\n",
    "    (\"syllables_per_word\", syllables_per_word, np.float32),\n",
    "    (\"syllables_per_sent\", syllables_per_sent, np.float32),\n",
    "    (\"words_per_sent\", words_per_sent, np.float32),\n",
    "    (\"flesch_reading_ease\", flesch_reading_ease, np.float32),\n",
    "    (\"flesch_kincaid_grade\", flesch_kincaid_grade, np.float32),\n",
    "    (\"gunning_fog\", gunning_fog, np.float32),\n",
    "    (\"smog_index\", smog_index, np.float32),\n",
    "    (\"automated_readability_index\", automated_readability_index, np.float32),\n",
    "    (\"coleman_liau_index\", coleman_liau_index, np.float32),\n",
    "    (\"linsear_write_formula\", linsear_write_formula, np.float32),\n",
    "    (\"dale_chall_readability_score\", dale_chall_readability_score, np.float32),\n",
    "]"
   ]
  },
  {
   "cell_type": "code",
   "execution_count": 10,
   "id": "1d2815cb",
   "metadata": {
    "execution": {
     "iopub.execute_input": "2022-02-07T11:53:47.246959Z",
     "iopub.status.busy": "2022-02-07T11:53:47.246029Z",
     "iopub.status.idle": "2022-02-07T11:54:02.449814Z",
     "shell.execute_reply": "2022-02-07T11:54:02.450225Z",
     "shell.execute_reply.started": "2022-02-07T11:22:22.367108Z"
    },
    "papermill": {
     "duration": 17.269492,
     "end_time": "2022-02-07T11:54:02.450387",
     "exception": false,
     "start_time": "2022-02-07T11:53:45.180895",
     "status": "completed"
    },
    "tags": []
   },
   "outputs": [
    {
     "name": "stdout",
     "output_type": "stream",
     "text": [
      "syllable_count\n"
     ]
    },
    {
     "name": "stderr",
     "output_type": "stream",
     "text": [
      "100%|██████████| 7537/7537 [00:02<00:00, 2827.60it/s]\n"
     ]
    },
    {
     "name": "stdout",
     "output_type": "stream",
     "text": [
      "lexicon_count\n"
     ]
    },
    {
     "name": "stderr",
     "output_type": "stream",
     "text": [
      "100%|██████████| 7537/7537 [00:00<00:00, 32594.85it/s]\n"
     ]
    },
    {
     "name": "stdout",
     "output_type": "stream",
     "text": [
      "sentence_count\n"
     ]
    },
    {
     "name": "stderr",
     "output_type": "stream",
     "text": [
      "100%|██████████| 7537/7537 [00:00<00:00, 15260.61it/s]\n"
     ]
    },
    {
     "name": "stdout",
     "output_type": "stream",
     "text": [
      "syllables_per_word\n"
     ]
    },
    {
     "name": "stderr",
     "output_type": "stream",
     "text": [
      "100%|██████████| 7537/7537 [00:00<00:00, 53531.82it/s]\n"
     ]
    },
    {
     "name": "stdout",
     "output_type": "stream",
     "text": [
      "syllables_per_sent\n"
     ]
    },
    {
     "name": "stderr",
     "output_type": "stream",
     "text": [
      "100%|██████████| 7537/7537 [00:00<00:00, 53683.73it/s]\n"
     ]
    },
    {
     "name": "stdout",
     "output_type": "stream",
     "text": [
      "words_per_sent\n"
     ]
    },
    {
     "name": "stderr",
     "output_type": "stream",
     "text": [
      "100%|██████████| 7537/7537 [00:00<00:00, 53114.49it/s]\n"
     ]
    },
    {
     "name": "stdout",
     "output_type": "stream",
     "text": [
      "flesch_reading_ease\n"
     ]
    },
    {
     "name": "stderr",
     "output_type": "stream",
     "text": [
      "100%|██████████| 7537/7537 [00:01<00:00, 4677.21it/s]\n"
     ]
    },
    {
     "name": "stdout",
     "output_type": "stream",
     "text": [
      "flesch_kincaid_grade\n"
     ]
    },
    {
     "name": "stderr",
     "output_type": "stream",
     "text": [
      "100%|██████████| 7537/7537 [00:01<00:00, 4797.26it/s]\n"
     ]
    },
    {
     "name": "stdout",
     "output_type": "stream",
     "text": [
      "gunning_fog\n"
     ]
    },
    {
     "name": "stderr",
     "output_type": "stream",
     "text": [
      "100%|██████████| 7537/7537 [00:01<00:00, 3990.03it/s]\n"
     ]
    },
    {
     "name": "stdout",
     "output_type": "stream",
     "text": [
      "smog_index\n"
     ]
    },
    {
     "name": "stderr",
     "output_type": "stream",
     "text": [
      "100%|██████████| 7537/7537 [00:01<00:00, 5198.77it/s]\n"
     ]
    },
    {
     "name": "stdout",
     "output_type": "stream",
     "text": [
      "automated_readability_index\n"
     ]
    },
    {
     "name": "stderr",
     "output_type": "stream",
     "text": [
      "100%|██████████| 7537/7537 [00:00<00:00, 11193.01it/s]\n"
     ]
    },
    {
     "name": "stdout",
     "output_type": "stream",
     "text": [
      "coleman_liau_index\n"
     ]
    },
    {
     "name": "stderr",
     "output_type": "stream",
     "text": [
      "100%|██████████| 7537/7537 [00:00<00:00, 9645.07it/s]\n"
     ]
    },
    {
     "name": "stdout",
     "output_type": "stream",
     "text": [
      "linsear_write_formula\n"
     ]
    },
    {
     "name": "stderr",
     "output_type": "stream",
     "text": [
      "100%|██████████| 7537/7537 [00:01<00:00, 4990.61it/s]\n"
     ]
    },
    {
     "name": "stdout",
     "output_type": "stream",
     "text": [
      "dale_chall_readability_score\n"
     ]
    },
    {
     "name": "stderr",
     "output_type": "stream",
     "text": [
      "100%|██████████| 7537/7537 [00:01<00:00, 4112.35it/s]\n"
     ]
    }
   ],
   "source": [
    "for col, fn, dtype in preprocess_fns:\n",
    "    print(col)\n",
    "    df[col] = df.progress_apply(fn, axis=1)\n",
    "    df[col] = df[col].astype(dtype)\n",
    "for col, fn, dtype in textstat_fns:\n",
    "    print(col)\n",
    "    df[col] = df.progress_apply(fn, axis=1)\n",
    "    df[col] = df[col].astype(dtype)"
   ]
  },
  {
   "cell_type": "markdown",
   "id": "12dbac90",
   "metadata": {
    "papermill": {
     "duration": 1.696197,
     "end_time": "2022-02-07T11:54:05.829561",
     "exception": false,
     "start_time": "2022-02-07T11:54:04.133364",
     "status": "completed"
    },
    "tags": []
   },
   "source": [
    "# VAD lexicon\n",
    "- only using Valence and Arousal scores"
   ]
  },
  {
   "cell_type": "code",
   "execution_count": 11,
   "id": "e10b6924",
   "metadata": {
    "execution": {
     "iopub.execute_input": "2022-02-07T11:54:09.132837Z",
     "iopub.status.busy": "2022-02-07T11:54:09.132324Z",
     "iopub.status.idle": "2022-02-07T11:54:09.179173Z",
     "shell.execute_reply": "2022-02-07T11:54:09.179768Z",
     "shell.execute_reply.started": "2022-02-07T11:22:40.923158Z"
    },
    "papermill": {
     "duration": 1.705952,
     "end_time": "2022-02-07T11:54:09.180052",
     "exception": false,
     "start_time": "2022-02-07T11:54:07.474100",
     "status": "completed"
    },
    "tags": []
   },
   "outputs": [
    {
     "name": "stdout",
     "output_type": "stream",
     "text": [
      "<class 'pandas.core.frame.DataFrame'>\n",
      "RangeIndex: 19970 entries, 0 to 19969\n",
      "Data columns (total 4 columns):\n",
      " #   Column     Non-Null Count  Dtype  \n",
      "---  ------     --------------  -----  \n",
      " 0   term       19969 non-null  object \n",
      " 1   valence    19970 non-null  float16\n",
      " 2   arousal    19970 non-null  float16\n",
      " 3   dominance  19970 non-null  float16\n",
      "dtypes: float16(3), object(1)\n",
      "memory usage: 273.2+ KB\n"
     ]
    }
   ],
   "source": [
    "vad_df = pd.read_csv(conf.vad_file, header=0, names=[\"term\", \"valence\", \"arousal\", \"dominance\"], \n",
    "                 sep=\"\\t\", engine=\"c\", low_memory=False)\n",
    "cols = [\"valence\", \"arousal\", \"dominance\"]\n",
    "vad_df[cols] = vad_df[cols].astype(np.float16)\n",
    "vad_df.info()"
   ]
  },
  {
   "cell_type": "code",
   "execution_count": 12,
   "id": "a405708c",
   "metadata": {
    "execution": {
     "iopub.execute_input": "2022-02-07T11:54:12.788108Z",
     "iopub.status.busy": "2022-02-07T11:54:12.787280Z",
     "iopub.status.idle": "2022-02-07T11:54:12.853562Z",
     "shell.execute_reply": "2022-02-07T11:54:12.853984Z",
     "shell.execute_reply.started": "2022-02-07T11:22:40.982712Z"
    },
    "papermill": {
     "duration": 1.845907,
     "end_time": "2022-02-07T11:54:12.854125",
     "exception": false,
     "start_time": "2022-02-07T11:54:11.008218",
     "status": "completed"
    },
    "tags": []
   },
   "outputs": [
    {
     "name": "stderr",
     "output_type": "stream",
     "text": [
      "19970it [00:00, 333441.82it/s]"
     ]
    },
    {
     "name": "stdout",
     "output_type": "stream",
     "text": [
      "len(valence)=3011, len(arousal)=1944\n"
     ]
    },
    {
     "name": "stderr",
     "output_type": "stream",
     "text": [
      "\n"
     ]
    }
   ],
   "source": [
    "valence: Dict[str, float] = {}\n",
    "arousal: Dict[str, float] = {}\n",
    "for t in tqdm(vad_df.itertuples()):\n",
    "    v = getattr(t, \"valence\")\n",
    "    a = getattr(t, \"arousal\")\n",
    "    term = str(getattr(t, \"term\")).strip().lower()\n",
    "    if v < 0.25:\n",
    "        valence[term] = v\n",
    "    if a > 0.75:\n",
    "        arousal[term] = a\n",
    "print(f\"len(valence)={len(valence)}, len(arousal)={len(arousal)}\")"
   ]
  },
  {
   "cell_type": "code",
   "execution_count": 13,
   "id": "a73b5295",
   "metadata": {
    "execution": {
     "iopub.execute_input": "2022-02-07T11:54:16.173326Z",
     "iopub.status.busy": "2022-02-07T11:54:16.172500Z",
     "iopub.status.idle": "2022-02-07T11:54:16.848823Z",
     "shell.execute_reply": "2022-02-07T11:54:16.849282Z",
     "shell.execute_reply.started": "2022-02-07T11:22:41.067894Z"
    },
    "papermill": {
     "duration": 2.340931,
     "end_time": "2022-02-07T11:54:16.849440",
     "exception": false,
     "start_time": "2022-02-07T11:54:14.508509",
     "status": "completed"
    },
    "tags": []
   },
   "outputs": [
    {
     "name": "stderr",
     "output_type": "stream",
     "text": [
      "100%|██████████| 7537/7537 [00:00<00:00, 19520.71it/s]\n"
     ]
    },
    {
     "data": {
      "text/plain": [
       "0"
      ]
     },
     "execution_count": 13,
     "metadata": {},
     "output_type": "execute_result"
    }
   ],
   "source": [
    "vad_fs = [\"valence_min\", \"valence_max\", \"valence_mean\", \"arousal_min\", \"arousal_max\", \"arousal_mean\"]\n",
    "rows = []\n",
    "for text in tqdm(df[\"text3\"]):\n",
    "    vs = []\n",
    "    ars = []\n",
    "    tokens = text.split()\n",
    "    for t in tokens:\n",
    "        if t in valence:\n",
    "            vs.append(valence[t])\n",
    "        if t in arousal:\n",
    "            ars.append(arousal[t])\n",
    "    if len(vs) == 0:\n",
    "        vs = [-1]\n",
    "    if len(ars) == 0:\n",
    "        ars = [-1]\n",
    "    row = [min(vs), max(vs), np.mean(vs), min(ars), max(ars), np.mean(ars)]\n",
    "    rows.append(row)\n",
    "df[vad_fs] = rows\n",
    "df[vad_fs] = df[vad_fs].astype(np.float32)\n",
    "del rows, valence, arousal, vad_df\n",
    "gc.collect()"
   ]
  },
  {
   "cell_type": "markdown",
   "id": "ac099467",
   "metadata": {
    "papermill": {
     "duration": 2.119768,
     "end_time": "2022-02-07T11:54:20.668649",
     "exception": false,
     "start_time": "2022-02-07T11:54:18.548881",
     "status": "completed"
    },
    "tags": []
   },
   "source": [
    "# TF-IDF features"
   ]
  },
  {
   "cell_type": "code",
   "execution_count": 14,
   "id": "eac90a6c",
   "metadata": {
    "execution": {
     "iopub.execute_input": "2022-02-07T11:54:24.260815Z",
     "iopub.status.busy": "2022-02-07T11:54:24.260310Z",
     "iopub.status.idle": "2022-02-07T11:54:24.278248Z",
     "shell.execute_reply": "2022-02-07T11:54:24.278645Z",
     "shell.execute_reply.started": "2022-02-07T11:22:41.903030Z"
    },
    "papermill": {
     "duration": 1.682001,
     "end_time": "2022-02-07T11:54:24.278791",
     "exception": false,
     "start_time": "2022-02-07T11:54:22.596790",
     "status": "completed"
    },
    "tags": []
   },
   "outputs": [
    {
     "name": "stdout",
     "output_type": "stream",
     "text": [
      "len(vocab)=4098\n",
      "['abandon', 'abandonment', 'abash', 'abduct', 'abduction', 'aberrant', 'aberration', 'abhor', 'abhorrence', 'abhorrent', 'ablaze', 'abnormal', 'abnormality', 'abominable', 'abominate', 'abomination', 'abort', 'abortion', 'abortive', 'abrupt', 'abruptly', 'abscess', 'absence', 'absent', 'absentee', 'absurd', 'absurdity', 'abuse', 'abusive', 'accelerant', 'accelerate', 'acceleration', 'accelerator', 'accident', 'accidental', 'acclaim', 'accurse', 'accusation', 'accusative', 'accuse', 'accuser', 'ache', 'achievement', 'achy', 'acidity', 'acne', 'acrobat', 'action', 'action figure', 'activation', 'addict', 'addicted', 'addiction', 'adrenalin', 'adrenaline', 'adulterate', 'adulterer', 'adultery', 'adventure', 'adventurer', 'adventurous', 'adversary', 'adversity', 'aerobic', 'afire', 'afraid', 'african', 'african american', 'age', 'aged', 'agglomeration', 'aggravate', 'aggravating', 'aggravation', 'aggresive', 'aggression', 'aggressive', 'aggressively', 'aggressiveness', 'aggressor', 'aghast', 'agitate', 'agitation', 'agonizing', 'agony', 'agoraphobia', 'agressive', 'ail', 'ailment', 'aimless', 'airliner', 'airspeed', 'alabama hot pocket', 'alarm', 'alarming', 'alaskan pipeline', 'alcoholic', 'alcoholism', 'alert', 'alertness', 'alienate', 'allergic', 'almighty', 'aloof', 'alter', 'alteration', 'altercation', 'alzheimers', 'amaze', 'amazed', 'amazedness', 'amazement', 'amazing', 'amazingly', 'ambiguity', 'ambition', 'ambitious', 'ambush', 'american', 'ammo', 'amphetamine', 'amputate', 'amputation', 'amuse', 'amusement', 'amusing', 'anaconda', 'anal', 'analplug', 'analsex', 'anarchism', 'anarchist', 'anarchy', 'anemia', 'anemic', 'aneurysm', 'anger', 'angina', 'angry', 'angst', 'anguish', 'anilingus', 'animate', 'annihilate', 'annihilation', 'anniversary', 'annoy', 'annoyance', 'annulment', 'anomaly', 'anorexic', 'antagonism', 'antagonist', 'antagonize', 'anthrax', 'antichrist', 'antipathy', 'antisocial', 'anus', 'anxiety', 'anxietyattack', 'anxious', 'anxiousness', 'apathetic', 'apathy', 'apeshit', 'aphrodisiac', 'apocalypse', 'apocalyptic', 'appal', 'appalling', 'appendage', 'appendectomy', 'appendicitis', 'applaud', 'applause', 'ardent', 'ardor', 'arduous', 'argue', 'armament', 'armed', 'army', 'arousal', 'arouse', 'arraignment', 'arrest', 'arrogance', 'arrogant', 'arse', 'arsehole', 'arson', 'arsonist', 'arthritis', 'artillery', 'ashame', 'asian', 'asphyxia', 'asphyxiation', 'ass', 'assailant', 'assassin', 'assassinate', 'assassination', 'assault', 'asset', 'asshole', 'assmunch', 'asthma', 'asthmatic', 'astigmatism', 'astonish', 'astonishing', 'astonishingly', 'astray', 'asunder', 'atheist', 'athletic', 'athleticism', 'atomic', 'atrocious', 'atrocity', 'atrophy', 'attack', 'attacker', 'attestation', 'attraction', 'attrition', 'audacious', 'audacity', 'audition', 'autism', 'auto erotic', 'autoerotic', 'avalanche', 'avarice', 'avenge', 'avenger', 'aversion', 'awe', 'awesome', 'awestruck', 'awful', 'awkwardness', 'awry', 'axis', 'babeland', 'baby batter', 'baby juice', 'bachelorette', 'backoff', 'backside', 'backwardness', 'bacteria', 'bacterial', 'bacterium', 'bad', 'badass', 'badhabit', 'badly', 'badness', 'baffle', 'balk', 'ball', 'ball gag', 'ball gravy', 'ball kicking', 'ball lick', 'ball sack', 'ball suck', 'ballgame', 'ballistic', 'ballplayer', 'ban', 'bandage', 'bandit', 'bang', 'bangbro', 'bangbus', 'banish', 'banishment', 'bankrupt', 'bankruptcy', 'bar', 'barb', 'barbarian', 'barbaric', 'barbarism', 'bareback', 'barely legal', 'barenaked', 'barrage', 'barren', 'baseball', 'basketball', 'bastard', 'bastarde', 'bastardo', 'bastinado', 'battalion', 'batter', 'battle', 'battlefield', 'battleground', 'bawdy', 'bawl', 'bayonet', 'bazooka', 'bbw', 'bdsm', 'beaner', 'beast', 'beastiality', 'beastly', 'beat', 'beaver cleaver', 'beaver lip', 'befuddled', 'beggar', 'begrudge', 'behemoth', 'belated', 'belch', 'belittle', 'bellow', 'bellyful', 'bereaved', 'bereft', 'bestial', 'bestiality', 'bet', 'betray', 'betrayal', 'beware', 'bewb', 'bewildered', 'bicker', 'bickering', 'big black', 'big breast', 'big knocker', 'big tit', 'biggestfear', 'bigoted', 'bile', 'bimbo', 'bipolar', 'birdlock', 'birth', 'birthday', 'bisexual', 'bitch', 'bitchy', 'bite', 'bitter', 'bitterly', 'bitterness', 'black', 'black cock', 'blacken', 'blacklist', 'blackmail', 'blackmailer', 'blackout', 'blame', 'blasphemous', 'blasphemy', 'blast', 'blastoff', 'blaze', 'bleak', 'bleed', 'bleeder', 'blemish', 'blemished', 'blight', 'blind', 'blindfold', 'blindness', 'bloat', 'bloated', 'blockhead', 'blonde action', 'blood', 'bloodbath', 'bloodshe', 'bloodshot', 'bloodthirsty', 'bloody', 'bloodyhell', 'blotch', 'blow', 'blow job', 'blow your load', 'blowjob', 'blowout', 'blue waffle', 'blumpkin', 'blunder', 'blurry', 'blush', 'boa constrictor', 'boastful', 'bogus', 'boisterous', 'bollock', 'bomb', 'bombard', 'bombardier', 'bombardment', 'bomber', 'bombshell', 'bondage', 'boner', 'bonker', 'boo', 'boob', 'booby', 'bookmaker', 'booty call', 'bored', 'boredom', 'boring', 'bossy', 'bother', 'bounty', 'bout', 'bowel', 'boxer', 'boxing', 'boy', 'boycott', 'brainless', 'brainstorm', 'brainwash', 'brash', 'brawl', 'breach', 'break', 'breakable', 'breakaway', 'breakneck', 'breathtaking', 'bribe', 'bribery', 'brick', 'brokenheart', 'brokenhearted', 'brothel', 'brown shower', 'bruise', 'brunette action', 'brunt', 'brutal', 'brutality', 'brute', 'brutish', 'buddhist', 'budge', 'bugger', 'bukkake', 'bulimic', 'bulldyke', 'bullet', 'bullet vibe', 'bullfighter', 'bullheaded', 'bullshit', 'bully', 'bummer', 'bung hole', 'bunghole', 'burdensome', 'bureaucrat', 'burglar', 'burglary', 'burial', 'burn', 'burner', 'burnout', 'burp', 'burst', 'bury', 'bust', 'bustle', 'busty', 'butt', 'buttcheek', 'butthole', 'buy', 'bygone', 'cadaver', 'caffeine', 'calamitous', 'calamity', 'callous', 'camel toe', 'camgirl', 'camslut', 'camwhore', 'canadian', 'cancel', 'cancellation', 'cancer', 'cannibal', 'cannibalism', 'cannonball', 'capricious', 'captive', 'captivity', 'carcass', 'carcinoma', 'cardiac', 'cardiology', 'cardiomyopathy', 'carelessness', 'carie', 'carnival', 'carnivorous', 'carpet muncher', 'carpetmuncher', 'carsick', 'casket', 'castaway', 'castrate', 'castration', 'casualty', 'catapult', 'catastrophe', 'catastrophic', 'catch', 'catholic', 'caveman', 'cawk', 'celebrate', 'celebration', 'cellblock', 'cellmate', 'cellulite', 'cemetery', 'censorship', 'censure', 'cesspool', 'chagrin', 'chainsaw', 'challenge', 'challenger', 'champ', 'champion', 'championship', 'chaos', 'chaotic', 'char', 'charlatan', 'chase', 'chaser', 'chastened', 'chastisement', 'cheapskate', 'cheat', 'cheater', 'cheer', 'cheerfulness', 'cheerleading', 'cheerless', 'cheetah', 'chemo', 'chemotherapy', 'chicken pox', 'chickenpox', 'childbirth', 'childloss', 'chilling', 'chinese', 'chink', 'choad', 'chocolate rosebud', 'choke', 'cholera', 'cholesterol', 'choosy', 'christian', 'cialis', 'cigarette', 'circlejerk', 'cirrhosis', 'claim', 'clap', 'clash', 'clatter', 'claustrophobia', 'claustrophobic', 'cleaver', 'cleveland steamer', 'climax', 'clingy', 'clit', 'clitoris', 'clog', 'clone', 'close', 'closure', 'clot', 'cloud', 'clover clamp', 'clumsy', 'clusterfuck', 'clutter', 'coach', 'coaster', 'cocaine', 'cock', 'cockroach', 'cocksucker', 'cocky', 'coffin', 'coldness', 'colic', 'collapse', 'collide', 'collision', 'colonoscopy', 'coma', 'comatose', 'combat', 'combatant', 'combustion', 'command', 'compel', 'competence', 'competency', 'competition', 'competitor', 'complain', 'complaint', 'complicate', 'compulsion', 'compulsive', 'conceited', 'concert', 'concerto', 'concussion', 'condemn', 'condemnation', 'condolence', 'condom', 'confiscation', 'conflict', 'confront', 'confrontation', 'confuse', 'confused', 'confusing', 'congratulation', 'conjure', 'conquer', 'conqueror', 'conscription', 'consequence', 'conspiracy', 'conspirator', 'conspire', 'consternation', 'constipation', 'constrain', 'contagion', 'contagious', 'contaminate', 'contamination', 'contempt', 'contemptible', 'contemptuous', 'contender', 'contraband', 'contraction', 'contradict', 'controversial', 'controversy', 'contusion', 'convict', 'coon', 'cooter', 'cop', 'coprolagnia', 'coprophilia', 'cornhole', 'corpse', 'corrosion', 'corrosive', 'corrupt', 'corruption', 'counterattack', 'counterclaim', 'counterfeit', 'coup', 'court', 'covet', 'coward', 'cowardice', 'cowardly', 'crabby', 'crack', 'cramp', 'cramped', 'cranky', 'cranny', 'crap', 'crappy', 'crash', 'crass', 'crave', 'crazed', 'craziness', 'crazy', 'creampie', 'creepy', 'cremation', 'crestfallen', 'cretin', 'crime', 'criminal', 'criminality', 'cringe', 'cripple', 'crisis', 'critical', 'criticise', 'criticism', 'criticize', 'critique', 'crook', 'crooked', 'crossfire', 'crow', 'crowd', 'crucifixion', 'crucify', 'crude', 'cruel', 'cruelly', 'cruelty', 'crumble', 'crummy', 'crush', 'cry', 'crypt', 'cuckold', 'culpability', 'culpable', 'culprit', 'cum', 'cumme', 'cumshot', 'cunnilingus', 'cunt', 'curfew', 'curiosity', 'curse', 'curt', 'curtailment', 'cuss', 'cutlass', 'cutter', 'cutthroat', 'cyanide', 'cyclone', 'cynic', 'cynical', 'cynicism', 'cyst', 'cytomegalovirus', 'dagger', 'damage', 'damm', 'dammit', 'damn', 'damnation', 'dance', 'dancer', 'danger', 'dangerous', 'dangerously', 'dare', 'dark', 'darken', 'darkie', 'darkly', 'darkness', 'darkroom', 'darkside', 'darn', 'dastardly', 'date rape', 'daterape', 'daze', 'dazzle', 'dazzling', 'deactivate', 'dead', 'deadbeat', 'deadline', 'deadlock', 'deadly', 'deaf', 'deafen', 'deafness', 'dearth', 'death', 'deathbed', 'deathly', 'debacle', 'debase', 'debatable', 'debauchery', 'debilitate', 'debrief', 'debris', 'debt', 'debtor', 'decadence', 'decathlon', 'decay', 'deceased', 'deceit', 'deceitful', 'deceive', 'deception', 'deceptive', 'decline', 'decompose', 'decomposition', 'decompression', 'decoy', 'decrease', 'decrepit', 'decry', 'deep throat', 'deepthroat', 'defamation', 'defamatory', 'defeat', 'defeatist', 'defect', 'defection', 'defective', 'defector', 'defend', 'defenseless', 'defer', 'defiance', 'defiant', 'deficiency', 'deficient', 'deflate', 'deflect', 'deflection', 'defloration', 'deform', 'deformity', 'defraud', 'defunct', 'defuse', 'defy', 'degeneracy', 'degenerate', 'degeneration', 'degradation', 'degrade', 'dehydration', 'dejected', 'delay', 'deletion', 'delinquency', 'delinquent', 'delirious', 'delirium', 'delude', 'deluge', 'delusional', 'demeaning', 'demented', 'dementia', 'demise', 'demolish', 'demolition', 'demon', 'demonic', 'demoralize', 'dendrophilia', 'deniability', 'denial', 'denounce', 'denunciation', 'deny', 'depart', 'depletion', 'deplorable', 'deplore', 'deport', 'deportation', 'depraved', 'depravity', 'depreciate', 'depreciation', 'depress', 'depressed', 'depression', 'depressive', 'depresson', 'deprivation', 'derail', 'deranged', 'derelict', 'derogation', 'derogatory', 'descend', 'desecrate', 'desecration', 'desert', 'deserter', 'desertion', 'desire', 'desirous', 'desist', 'desolate', 'desolation', 'despair', 'desperate', 'desperation', 'despicable', 'despise', 'despondent', 'despotic', 'destitute', 'destroy', 'destroyer', 'destruct', 'destruction', 'destructive', 'detachment', 'detective', 'deteriorate', 'deterioration', 'detest', 'detestation', 'detonate', 'detonation', 'detonator', 'detrimental', 'devastate', 'devastating', 'devastation', 'deviant', 'deviate', 'deviation', 'devil', 'devilish', 'devoid', 'devour', 'diabete', 'diabetic', 'diabolical', 'dialysis', 'diarrhea', 'diarrhoea', 'dicey', 'dick', 'dickhead', 'dictator', 'dictatorial', 'dictatorship', 'die', 'differ', 'difficult', 'difficulty', 'dilapidated', 'dildo', 'dilemma', 'diminish', 'dingleberrie', 'dingleberry', 'dingy', 'dire', 'dirt', 'dirty', 'dirty pillow', 'dirty sanchez', 'disability', 'disable', 'disadvantage', 'disaffected', 'disagree', 'disagreeable', 'disagreement', 'disallow', 'disapointment', 'disappear', 'disappearance', 'disappoint', 'disappointing', 'disappointment', 'disapproval', 'disapprove', 'disarray', 'disaster', 'disastrous', 'disbelief', 'disbelieve', 'disbursement', 'discard', 'disclaim', 'disco', 'discolor', 'discoloration', 'discomfort', 'disconcert', 'disconcerting', 'disconnection', 'discontent', 'discontinuance', 'discontinuous', 'discord', 'discourage', 'discouragement', 'discover', 'discredit', 'discriminate', 'discrimination', 'discuss', 'discussion', 'disdain', 'disdainful', 'disease', 'diseased', 'disembodied', 'disfigure', 'disgrace', 'disgraceful', 'disgruntled', 'disgust', 'disgusted', 'disgusting', 'dishearten', 'disheartening', 'dishonest', 'dishonesty', 'dishonor', 'dishonorable', 'disillusionment', 'disinclination', 'disinformation', 'disingenuous', 'disintegrate', 'disintegration', 'dislike', 'dislocate', 'dislocation', 'dislodge', 'disloyal', 'disloyalty', 'dismal', 'dismay', 'dismemberment', 'dismiss', 'dismissal', 'dismissive', 'disobedience', 'disobey', 'disorder', 'disorderly', 'disorganized', 'disorient', 'disorientation', 'disown', 'disparage', 'disparity', 'dispassionate', 'dispirited', 'displease', 'displeasure', 'disposal', 'dispute', 'disqualification', 'disqualify', 'disquiet', 'disregard', 'disreputable', 'disrepute', 'disrespect', 'disrespectful', 'disrupt', 'disruption', 'disruptive', 'dissatisfaction', 'dissatisfied', 'dissent', 'disservice', 'dissociation', 'dissolution', 'dissonance', 'distance', 'distant', 'distaste', 'distort', 'distract', 'distraught', 'distress', 'distressing', 'distrust', 'disturb', 'disturbance', 'disuse', 'diversion', 'divorce', 'divorcee', 'dizziness', 'dizzy', 'dock', 'dodge', 'dog style', 'dogface', 'doggie style', 'doggiestyle', 'doggy style', 'doggystyle', 'dolcett', 'doldrum', 'dolor', 'dominance', 'dominant', 'dominate', 'domination', 'dominatrix', 'domme', 'dong', 'donkey punch', 'dontlikeyou', 'dontunderstand', 'doom', 'doomsday', 'dope', 'double dong', 'double penetration', 'doubt', 'douche', 'down', 'downcast', 'downer', 'downfall', 'downhearted', 'downside', 'downtime', 'downward', 'dp action', 'dragon', 'drainage', 'drama', 'dramatic', 'drastic', 'dread', 'dreadful', 'dreadfully', 'droop', 'drought', 'drown', 'drudgery', 'drug', 'drug deal', 'druggist', 'drunk', 'drunk driving', 'drunkard', 'drunken', 'drunkenness', 'dry hump', 'dud', 'dull', 'dumb', 'dumpster', 'dunce', 'dung', 'dupe', 'dusky', 'dvda', 'dyke', 'dynamite', 'dysfunction', 'dysfunctional', 'dyspepsia', 'eager', 'earn', 'earthquake', 'eat my ass', 'ebullient', 'eccentric', 'ecchi', 'ecstasy', 'ecstatic', 'edgy', 'eerie', 'effort', 'egomaniac', 'egotistical', 'egregious', 'ejaculate', 'ejaculation', 'ejection', 'elate', 'elation', 'elderly', 'electricity', 'electrify', 'electrocution', 'elevation', 'elimination', 'elusive', 'emaciated', 'embargo', 'embarrass', 'embarrassed', 'embarrassment', 'embattle', 'embezzlement', 'embezzler', 'embolism', 'emergence', 'emergency', 'emetophobia', 'emigrate', 'emotion', 'emphysema', 'empower', 'emptiness', 'empty', 'enchantment', 'end', 'endanger', 'endangerment', 'endeavor', 'endocarditis', 'enemy', 'energetic', 'energize', 'engage', 'enjoy', 'enmity', 'enrage', 'enslave', 'enslavement', 'entanglement', 'enterprise', 'enthusiasm', 'enthusiast', 'enthusiastic', 'entice', 'entrapment', 'envious', 'envy', 'epidemic', 'epilepsy', 'epileptic', 'eradication', 'erase', 'erect', 'erectile', 'erection', 'erode', 'erosion', 'erotic', 'erotica', 'erotism', 'err', 'errant', 'erroneous', 'error', 'erupt', 'eruption', 'escalation', 'escape', 'eschew', 'escort', 'estranged', 'eunuch', 'euphoria', 'euphoric', 'european', 'euthanasia', 'evacuate', 'evacuation', 'evasion', 'evasive', 'eventful', 'evict', 'eviction', 'evil', 'exacerbate', 'exacerbation', 'exaggerate', 'exaggerated', 'exaggeration', 'exalt', 'exaltation', 'exasperate', 'exasperation', 'exceed', 'excess', 'excessively', 'excitability', 'excitable', 'excitation', 'excite', 'excited', 'exciting', 'exclude', 'exclusion', 'excrement', 'excruciating', 'excuse', 'execution', 'executioner', 'executor', 'exercise', 'exertion', 'exhausted', 'exhilarate', 'exhilarated', 'exhilaration', 'exhumation', 'exhume', 'exile', 'exorbitant', 'exorcism', 'exorcist', 'expatriate', 'expedite', 'expedition', 'expense', 'experimental', 'experimentation', 'expire', 'expiry', 'explode', 'exploit', 'exploitation', 'explosion', 'explosive', 'exposure', 'expropriation', 'expulsion', 'exterminate', 'extermination', 'exterminator', 'extinct', 'extinction', 'extinguish', 'extort', 'extortion', 'extradition', 'extraordinaire', 'extraterrestrial', 'extravagance', 'extravagant', 'extravaganza', 'extreme', 'extreme disgust', 'extreme surprise', 'extremely', 'extremely negative', 'extrusion', 'exuberance', 'f0ck', 'faceless', 'faece', 'fag', 'faggot', 'fail', 'failure', 'faint', 'faithless', 'fake', 'faker', 'fall', 'fallacy', 'false', 'falsehood', 'falsely', 'falsification', 'falsify', 'falsity', 'fame', 'famine', 'famished', 'famous', 'famously', 'fanatic', 'fanatical', 'fanaticism', 'fang', 'fanny', 'farewell', 'fart', 'fascinating', 'fascination', 'fascism', 'fascist', 'fat', 'fatal', 'fatalism', 'fatality', 'fatigue', 'fault', 'faulty', 'fck', 'fcker', 'fckr', 'fcku', 'fcuk', 'fear', 'fearful', 'fearfully', 'fearless', 'fearsome', 'fecal', 'fece', 'feeble', 'feign', 'feisty', 'felch', 'fellatio', 'felon', 'felony', 'feltch', 'female', 'female squirting', 'femdom', 'feminist', 'ferocious', 'ferocity', 'fervor', 'feud', 'feudalism', 'fever', 'fiasco', 'fibrosis', 'fictitious', 'fidgety', 'field hockey', 'fiend', 'fiendish', 'fierce', 'fiery', 'fiesta', 'figging', 'fight', 'fighter', 'filth', 'filthy', 'finalize', 'finger', 'fingerbang', 'fire', 'firearm', 'fireball', 'firefight', 'firefighter', 'firepower', 'firestorm', 'firework', 'fishy', 'fistfight', 'fisting', 'flabbergast', 'flaccid', 'flamboyant', 'flamethrower', 'flammable', 'flare', 'flatulence', 'flawed', 'flee', 'flighty', 'flinch', 'flirt', 'flood', 'flop', 'flu', 'flunk', 'flunky', 'flurry', 'flush', 'flustered', 'fly', 'foe', 'foil', 'fold', 'folly', 'fool', 'foolhardy', 'foolishness', 'foot fetish', 'football', 'footjob', 'forbid', 'force', 'foreclose', 'foreclosure', 'forensic', 'foreskin', 'forfeit', 'forfeiture', 'forger', 'forgery', 'forget', 'forgetful', 'fornicate', 'fornication', 'forsake', 'fortification', 'fortify', 'foul', 'fracture', 'fragment', 'frantic', 'frantically', 'fraud', 'fraudulent', 'freak', 'freakingout', 'freakish', 'freaky', 'freeze', 'frenetic', 'frenzied', 'frenzy', 'friction', 'friendless', 'fright', 'frighten', 'frightening', 'frightful', 'frigid', 'frolic', 'frostbite', 'frotte', 'frown', 'frustrate', 'frustrating', 'frustration', 'fuck', 'fuck button', 'fuckedoff', 'fucker', 'fuckface', 'fuckin', 'fucking', 'fuckoff', 'fuckr', 'fucksake', 'fucktard', 'fuckyeah', 'fuct', 'fudge packer', 'fudgepacker', 'fugitive', 'fuk', 'fume', 'fun', 'funeral', 'funky', 'furious', 'furiously', 'furor', 'fury', 'fuss', 'fustrated', 'futanari', 'futile', 'futility', 'g - spot', 'gaiety', 'gallop', 'gallow', 'gamble', 'gambling', 'game', 'gang', 'gang bang', 'gangbang', 'gangrene', 'gangster', 'gaol', 'garbage', 'garbled', 'gasp', 'gaunt', 'gay', 'gay sex', 'genital', 'genitalia', 'genocide', 'germ', 'getaway', 'ghastly', 'ghost', 'ghostly', 'giant', 'giant cock', 'giddy', 'gift', 'gig', 'gigantic', 'girl', 'girl go wild', 'girl on', 'girl on top', 'girlfriend', 'glad', 'gladiator', 'glare', 'glaucoma', 'gleeful', 'gloom', 'gloomy', 'glory hole', 'gloryhole', 'glum', 'goatcx', 'goatse', 'gobshite', 'god damn', 'godammet', 'godammit', 'goddammet', 'goddammit', 'goddamn', 'goddamned', 'gofuckyourself', 'gokkun', 'golden shower', 'gonorrhea', 'goo girl', 'goodbye', 'goodpoop', 'gook', 'goregasm', 'gory', 'gossip', 'gothic', 'grandeur', 'grave', 'graveyard', 'great disgust', 'great surprise', 'greatly negative', 'greed', 'greedy', 'green snake', 'grenade', 'grief', 'grievance', 'grieve', 'grievous', 'grime', 'grimy', 'gripe', 'grisly', 'groggy', 'grope', 'gross', 'grotesque', 'grouchy', 'group sex', 'growl', 'growthefuckup', 'grr', 'grrr', 'grubby', 'grudge', 'grudging', 'grudgingly', 'gruele', 'gruesome', 'grumble', 'grumpy', 'grunt', 'guerilla', 'guerrilla', 'guillotine', 'guilt', 'guilty', 'gun', 'gunboat', 'gunfight', 'gunfighter', 'gunfire', 'gunman', 'gunner', 'gunnery', 'gunplay', 'gunpoint', 'gunpowder', 'gunshot', 'gunslinger', 'guro', 'gust', 'gymnast', 'gypo', 'hack', 'hacker', 'hag', 'haggard', 'hairless', 'halt', 'hammer', 'hamper', 'hand job', 'handgun', 'handicap', 'handicapped', 'handjob', 'hangman', 'hangover', 'hangry', 'happy', 'happydance', 'happynewyear', 'happyvalentinesday', 'harass', 'harassment', 'hard core', 'hardcore', 'hardheaded', 'hardship', 'harlot', 'harm', 'harmful', 'harrowing', 'hassle', 'hasty', 'hate', 'hateeee', 'hateeveryone', 'hateful', 'hater', 'hateyou', 'hatred', 'haughty', 'havoc', 'hazard', 'hazardous', 'headache', 'headless', 'headstone', 'heady', 'hearse', 'heartache', 'heartattack', 'heartbreak', 'heartbreaking', 'heartbroken', 'heartburn', 'heartless', 'heartsick', 'heathen', 'heave', 'heaviness', 'heavy metal', 'heck', 'hectic', 'heinous', 'heist', 'helicopter', 'hell', 'hellfire', 'hellhole', 'hellish', 'helpless', 'helplessness', 'hematoma', 'hemorrhage', 'hemorrhoid', 'hentai', 'hepatitis', 'heresy', 'heretic', 'heretical', 'hernia', 'hero', 'heroic', 'heroin', 'heroine', 'heroism', 'herpe', 'herpesvirus', 'heterosexual', 'hide', 'hideous', 'hijack', 'hijacker', 'hike', 'hiker', 'hindrance', 'hispanic', 'hit', 'hitler', 'hoax', 'hockey', 'holler', 'holocaust', 'homeless', 'homicidal', 'homicide', 'homo', 'homoerotic', 'homophobic', 'homosexual', 'honkey', 'hooker', 'hopeless', 'hopelessness', 'hore', 'horny', 'horrendous', 'horrible', 'horribly', 'horrid', 'horrific', 'horrify', 'horrifying', 'horror', 'horseshit', 'hostage', 'hostile', 'hostility', 'hot carl', 'hot chick', 'hothead', 'how to kill', 'how to murder', 'huge fat', 'humbug', 'humiliate', 'humiliation', 'humorist', 'hump', 'humpback', 'hunchback', 'hunger', 'hungry', 'hunt', 'hunter', 'hurdle', 'hurricane', 'hurry', 'hurryup', 'hurt', 'hurtful', 'hussy', 'hustler', 'hydrophobia', 'hyperactive', 'hypertension', 'hyperventilate', 'hypochondriac', 'hypocrisy', 'hypocrite', 'hypocritical', 'hypodermic', 'hypothermia', 'hysterectomy', 'hysteria', 'hysterical', 'idiocy', 'idiot', 'idiotic', 'idle', 'idler', 'idol', 'ignite', 'ignorance', 'ignorant', 'ignore', 'ihatespider', 'ill', 'illegal', 'illegality', 'illegally', 'illegitimate', 'illicit', 'illiterate', 'illness', 'illogical', 'imbalance', 'imbecile', 'immature', 'immaturity', 'immediately', 'imminent', 'immobile', 'immoral', 'immorality', 'impact', 'impair', 'impairment', 'impassioned', 'impatience', 'impatiently', 'impeach', 'impeachment', 'impediment', 'imperfect', 'imperfection', 'imperialist', 'impermissible', 'impertinence', 'impertinent', 'impetuous', 'impolite', 'impossibility', 'impossible', 'impostor', 'impotence', 'impotent', 'impound', 'impoverished', 'impractical', 'impress', 'impressive', 'imprison', 'imprisonment', 'improbable', 'improper', 'impropriety', 'improvisation', 'imprudent', 'impudence', 'impulse', 'impulsive', 'impurity', 'inability', 'inaccessible', 'inaccurate', 'inactivate', 'inactivation', 'inactivity', 'inadequate', 'inadequateness', 'inadmissible', 'inappropriate', 'inattention', 'incapable', 'incapacity', 'incarceration', 'incendiary', 'incessant', 'incessantly', 'incest', 'incestuous', 'incident', 'incineration', 'incision', 'incitement', 'incoherent', 'incompatible', 'incompetence', 'incompetent', 'incomplete', 'inconceivable', 'inconclusive', 'incongruous', 'inconsiderate', 'inconsistency', 'incontinence', 'inconvenience', 'inconvenient', 'incorrect', 'incorrigible', 'incredible', 'incriminate', 'incrimination', 'incurable', 'incursion', 'indebted', 'indecency', 'indecent', 'indecision', 'indefensible', 'indian', 'indict', 'indictment', 'indigent', 'indigestion', 'indignation', 'indignity', 'indiscreet', 'indisposed', 'indolent', 'indomitable', 'inducement', 'ineffective', 'ineffectual', 'inefficiency', 'inefficient', 'ineligible', 'inept', 'ineptitude', 'inequality', 'inexact', 'inexperience', 'inexplicable', 'inexpressible', 'infamous', 'infamy', 'infanticide', 'infarct', 'infatuate', 'infeasible', 'infect', 'infection', 'infectious', 'inferiority', 'infernal', 'inferno', 'infertility', 'infestation', 'infidel', 'infidelity', 'infiltration', 'infirm', 'infirmity', 'inflammation', 'inflammatory', 'inflation', 'inflict', 'infraction', 'infrequently', 'infringement', 'infuriate', 'infuriating', 'ingrate', 'inhibit', 'inhuman', 'inhumane', 'inhumanity', 'inimical', 'iniquity', 'injure', 'injurious', 'injury', 'injustice', 'inmate', 'innovate', 'inoperable', 'inoperative', 'inordinate', 'inquisitor', 'insane', 'insanity', 'insecticide', 'insecure', 'insecurity', 'insensitive', 'insidious', 'insignificant', 'insipid', 'insolence', 'insolent', 'insolvent', 'insomnia', 'insomniac', 'instability', 'instigate', 'instigation', 'insubordination', 'insufferable', 'insufficiency', 'insufficient', 'insufficiently', 'insulate', 'insulation', 'insult', 'insurgent', 'insurrection', 'intense', 'intensely', 'intensify', 'intensity', 'intensive', 'interactive', 'intercept', 'intercourse', 'interment', 'interrogate', 'interrogation', 'interrupt', 'interruption', 'interview', 'intimacy', 'intimidate', 'intimidation', 'intolerable', 'intolerance', 'intolerant', 'intoxicate', 'intoxicating', 'intractable', 'intrigue', 'intrude', 'intruder', 'inundation', 'invade', 'invader', 'invalid', 'invalidation', 'invalidity', 'invasion', 'invasive', 'invidious', 'invigorate', 'invincible', 'irate', 'ire', 'irk', 'irrational', 'irrationality', 'irreconcilable', 'irregularity', 'irrelevant', 'irreparable', 'irresistible', 'irresponsible', 'irreverent', 'irreversible', 'irritability', 'irritable', 'irritate', 'irritation', 'islam', 'isolate', 'isolation', 'issue', 'itch', 'jack off', 'jackass', 'jackhammer', 'jagged', 'jail', 'jail bait', 'jailbait', 'jailbird', 'jailer', 'jailhouse', 'jam', 'japanese', 'jar', 'jaundice', 'jealous', 'jealousy', 'jeer', 'jelly donut', 'jeopardize', 'jeopardy', 'jerk', 'jerk off', 'jerky', 'jesussuck', 'jewish', 'jigaboo', 'jiggaboo', 'jiggerboo', 'jitter', 'jittery', 'jiz', 'jizz', 'jizzum', 'jobinterview', 'joke', 'joker', 'joy', 'judge', 'judo', 'juggle', 'juggler', 'juggs', 'jump', 'jumpy', 'junk', 'junkie', 'junkyard', 'kaffir', 'kamikaze', 'karate', 'kick', 'kickboxing', 'kidder', 'kidnap', 'kidnapper', 'kike', 'kill', 'killer', 'killin', 'killjoy', 'kinbaku', 'king snake', 'kinkster', 'kinky', 'kiss', 'kneel', 'knob', 'knockout', 'knot', 'knucklehead', 'kunt', 'labia', 'labyrinth', 'laceration', 'lack', 'lag', 'lame', 'lament', 'landslide', 'languish', 'larceny', 'larva', 'laryngitis', 'lash', 'late', 'lateness', 'latina', 'latino', 'latinx', 'latrine', 'laugh', 'laughingstock', 'launch', 'lawless', 'lawlessness', 'lawsuit', 'leak', 'leakage', 'leaky', 'leather restraint', 'leather straight jacket', 'leave', 'leavemealone', 'lecherous', 'leech', 'leftout', 'leftover', 'lemon party', 'leopard', 'leper', 'leprosy', 'lesbian', 'lesbo', 'lesion', 'lessen', 'lethal', 'lethargic', 'lethargy', 'leukemia', 'lewd', 'lgbt', 'lgbtq', 'liar', 'libel', 'libelous', 'lice', 'lie', 'lifeless', 'lifesuck', 'limit', 'limitation', 'listless', 'litigant', 'litigate', 'litigation', 'lively', 'livesex', 'livid', 'loafer', 'loath', 'loathe', 'loathful', 'loathsome', 'lockup', 'loco', 'lolita', 'lone', 'loneliness', 'loophole', 'lopsided', 'lose', 'loser', 'loss', 'loudly', 'louse', 'lousy', 'loveless', 'lovemake', 'lovemylife', 'lover', 'lovesick', 'ludicrous', 'lunacy', 'lunatic', 'lurid', 'lurk', 'lush', 'lust', 'lustful', 'lusty', 'lymphoma', 'lynch', 'mad', 'madhouse', 'madman', 'madness', 'mafia', 'maggot', 'magnificence', 'maim', 'make i come', 'malady', 'malaise', 'malaria', 'male', 'male squirting', 'malevolent', 'malfeasance', 'malformation', 'malfunction', 'malice', 'malicious', 'malign', 'malignancy', 'malignant', 'malnutrition', 'malpractice', 'man', 'mangy', 'manhunt', 'maniac', 'maniacal', 'manic', 'manipulation', 'manipulative', 'manslaughter', 'marathon', 'marginal', 'marijuana', 'marketing', 'marksman', 'maroon', 'marred', 'marry', 'marvel', 'marvellous', 'masochism', 'masochist', 'massacre', 'masturbate', 'masturbation', 'matador', 'materialism', 'mating', 'maximize', 'mayhem', 'meager', 'meaningless', 'meanness', 'measle', 'medallist', 'meddle', 'mediocre', 'mediocrity', 'melancholic', 'melancholy', 'melodrama', 'melodramatic', 'menace', 'menacing', 'menage a trois', 'meningitis', 'menopause', 'mense', 'mercenary', 'merciless', 'mess', 'metastasis', 'meteoric', 'meteorite', 'methadone', 'mexican', 'middle aged', 'middle eastern', 'miff', 'mighty', 'migraine', 'milf', 'millennial', 'millionaire', 'mindless', 'minefield', 'misappropriation', 'misbehave', 'misbehavior', 'miscalculation', 'miscarriage', 'mischief', 'mischievous', 'misconception', 'misconduct', 'misdemeanor', 'misdirection', 'miser', 'miserable', 'misery', 'misfire', 'misfit', 'misfortune', 'mishap', 'misinformed', 'misinterpretation', 'mislead', 'mismanagement', 'misplace', 'misread', 'misrepresent', 'missile', 'missionary position', 'mistake', 'mistreat', 'mistress', 'mistrust', 'misunderstand', 'misunderstanding', 'misunderstood', 'misuse', 'mob', 'mobster', 'mock', 'mockery', 'moderate disgust', 'moderate negative', 'modicum', 'moldy', 'molest', 'molestation', 'molester', 'mong', 'mongoloid', 'monster', 'monstrosity', 'monstrous', 'moody', 'morbid', 'morbidness', 'morgue', 'moribund', 'moron', 'moronic', 'morose', 'morphine', 'mortal', 'mortality', 'mortician', 'mortification', 'mortify', 'mortuary', 'mosquito', 'moss', 'motherfuck', 'motherfucker', 'motherfucking', 'motherless', 'motivate', 'motivation', 'motorcycle', 'mound of venus', 'mountaineer', 'mourn', 'mournful', 'mousetrap', 'mr hand', 'mthrfckr', 'muck', 'mucus', 'muddle', 'muff', 'muff diver', 'muffdive', 'mugger', 'multiple sclerosis', 'multitude', 'mumps', 'murder', 'murderer', 'murderess', 'murderous', 'murky', 'muslim', 'mutilate', 'mutilation', 'mutiny', 'myopia', 'nail gun', 'naked', 'nakedness', 'nambla', 'narcissism', 'narcissist', 'narcotic', 'nasty', 'naughty', 'nausea', 'nauseate', 'nauseating', 'nauseous', 'navy', 'nawashi', 'nazi', 'necrosis', 'nefarious', 'negative', 'negativity', 'neglect', 'negligence', 'negligent', 'negligently', 'negligible', 'negro', 'neonazi', 'nerve', 'nervous', 'nervousness', 'nervouswreck', 'nervy', 'nether', 'neuralgia', 'neurosis', 'neurotic', 'newyear', 'nicotine', 'nig nog', 'nigga', 'niggah', 'nigger', 'nightclub', 'nightlife', 'nightmare', 'nimphomania', 'ninja', 'nipple', 'nitwit', 'no emotion', 'no sentiment', 'no surprise', 'no trust', 'nohope', 'noise', 'noisy', 'nonbinary', 'nonce', 'noncompliance', 'nonexistent', 'nonpayment', 'nonsense', 'nonsensical', 'nosebleed', 'not positive', 'nothappy', 'nothingness', 'notready', 'noxious', 'nsfw', 'nsfw image', 'nuclear', 'nude', 'nudist', 'nudity', 'nuisance', 'nuke', 'numb', 'nutcase', 'nutsack', 'nutten', 'nympho', 'nymphomania', 'nymphomaniac', 'obese', 'obesity', 'obituary', 'obligation', 'oblige', 'obliterate', 'obliteration', 'oblivion', 'oblivious', 'obnoxious', 'obscene', 'obscenity', 'obscure', 'obscurity', 'obsess', 'obsession', 'obsessive', 'obstacle', 'obstinate', 'obstruct', 'obstruction', 'obstructive', 'octopussy', 'odious', 'offence', 'offend', 'offender', 'offense', 'offensive', 'ogre', 'ohshit', 'old', 'omnipotence', 'omorashi', 'oncology', 'onslaught', 'ooze', 'opinionated', 'opponent', 'opportunism', 'oppose', 'opposite', 'opposition', 'oppress', 'oppression', 'oppressor', 'orc', 'ordnance', 'orgasm', 'orgy', 'orphan', 'orphanage', 'ostentatious', 'ostracize', 'outburst', 'outcast', 'outcry', 'outdated', 'outlast', 'outlive', 'outrage', 'outrageous', 'outrun', 'outstanding', 'outwit', 'ovation', 'overactive', 'overbearing', 'overburden', 'overcharge', 'overcome', 'overdo', 'overdose', 'overdue', 'overestimate', 'overflow', 'overgrowth', 'overhang', 'overkill', 'overlord', 'overplay', 'overpower', 'overreact', 'override', 'overrule', 'overrun', 'overstate', 'overthinke', 'overthrow', 'overtired', 'overturn', 'overweight', 'overwhelm', 'overwhelming', 'overworked', 'overwrought', 'overzealous', 'paedo', 'paedophile', 'paganism', 'pain', 'pained', 'painful', 'painfully', 'paki', 'palsy', 'pandemic', 'pandemonium', 'pang', 'panic', 'panicky', 'pantheon', 'pantie', 'panty', 'parachute', 'paralysis', 'paralyze', 'paramilitary', 'paranoia', 'paranoid', 'paranormal', 'paraplegic', 'parasite', 'parasitic', 'parkinson', 'party', 'passion', 'passionate', 'passivity', 'pathetic', 'pathological', 'paucity', 'peck', 'pecker', 'pedantic', 'pedo', 'pedobear', 'pedofile', 'pedophile', 'peeper', 'peeve', 'peg', 'pen1s', 'penal', 'penalty', 'penance', 'penetrate', 'penetration', 'penis', 'penitentiary', 'penniless', 'perdition', 'perforate', 'peril', 'perilous', 'perish', 'perjury', 'perky', 'pernicious', 'perpetrate', 'perpetrator', 'persecute', 'persecution', 'perturbation', 'perverse', 'perversion', 'pervert', 'perverted', 'pesky', 'pessimism', 'pessimist', 'pessimistic', 'pest', 'pester', 'pestilence', 'petrify', 'petty', 'petulant', 'phantom', 'phlegm', 'phobia', 'phone sex', 'phony', 'phuk', 'piece of shit', 'pieceofshit', 'pig', 'pigsty', 'pikey', 'pillage', 'pimp', 'pimple', 'pinch', 'piracy', 'piranha', 'pirate', 'piss', 'piss pig', 'pissedoff', 'pissesmeoff', 'pissingmeoff', 'pisspig', 'pistol', 'pitfall', 'pitiful', 'pity', 'plagiarism', 'plague', 'plaintiff', 'plaudit', 'play', 'playboy', 'plead', 'pleasure chest', 'plucky', 'plunder', 'pneumonia', 'poach', 'poacher', 'pointless', 'poison', 'poisonous', 'pole smoker', 'polemic', 'police', 'police officer', 'pollute', 'pollution', 'poltergeist', 'ponyplay', 'poof', 'poon', 'poontang', 'poop', 'poop chute', 'poopchute', 'poor', 'poorly', 'popularity', 'popularize', 'porky', 'porn', 'porno', 'pornographic', 'pornography', 'possess', 'posthumous', 'potent', 'pound', 'poverty', 'powerful', 'powerhouse', 'powerless', 'pox', 'precarious', 'precipice', 'precipitate', 'predator', 'predatory', 'pregnancy', 'pregnant', 'prejudice', 'prejudiced', 'prejudicial', 'premonition', 'preposterous', 'press', 'pretend', 'pretentious', 'prick', 'prince albert piercing', 'prison', 'prisoner', 'prize', 'probation', 'problem', 'problematic', 'process', 'proclamation', 'procreate', 'profane', 'profanity', 'proficiency', 'prohibit', 'prohibition', 'prohibitive', 'projectile', 'promiscuity', 'promiscuous', 'promotion', 'pron', 'propel', 'propulsion', 'prosecution', 'prostitute', 'prostitution', 'protest', 'protestant', 'protocol', 'provocation', 'provocative', 'provoke', 'psoriasis', 'psychiatric', 'psychiatry', 'psycho', 'psychopath', 'psychopathic', 'psychosis', 'psychotic', 'pthc', 'puberty', 'pubis', 'publicspeake', 'puke', 'pump', 'punani', 'punany', 'punch', 'puncture', 'pungent', 'punish', 'punishable', 'punishment', 'purge', 'pursue', 'pus', 'pusher', 'pushy', 'pussy', 'putrid', 'puzzle', 'pyrotechnic', 'python', 'quake', 'quandary', 'quarantine', 'quarrel', 'quarter', 'queaf', 'queasiness', 'queef', 'queer', 'quick', 'quickly', 'quicksand', 'quim', 'quit', 'quiver', 'rabble', 'rabid', 'rabie', 'racetrack', 'racism', 'racist', 'racketeering', 'radiation', 'radical', 'radioactive', 'radioactivity', 'rage', 'rage boner', 'ragged', 'raggedy', 'raghead', 'raider', 'rampage', 'rampant', 'rancid', 'ransom', 'rant', 'rape', 'rapid', 'rapidity', 'rapist', 'rapper', 'raptor', 'rapture', 'rascal', 'rash', 'rattlesnake', 'ravage', 'rave', 'ravish', 'raw', 'reaction', 'reactive', 'reactor', 'rebel', 'rebellion', 'rebellious', 'rebuke', 'rebut', 'recede', 'recidivism', 'reckless', 'recklessness', 'recluse', 'recoil', 'recruit', 'rectal', 'rectum', 'redness', 'reduce', 'redundant', 'reek', 'refusal', 'refuse', 'regret', 'regretful', 'regrettable', 'regurgitation', 'reject', 'rejection', 'relapse', 'reluctance', 'remand', 'remarry', 'rematch', 'remiss', 'remorse', 'removal', 'remuneration', 'renegade', 'renounce', 'repel', 'repress', 'repression', 'reprimand', 'reprisal', 'reproach', 'repudiation', 'repugnance', 'repugnant', 'repulsion', 'repulsive', 'rescue', 'resent', 'resentful', 'resentment', 'resign', 'resignation', 'resist', 'restless', 'restlessness', 'restrain', 'restraint', 'restrict', 'restriction', 'restrictive', 'resuscitation', 'retaliate', 'retaliation', 'retaliatory', 'retard', 'retardation', 'retrenchment', 'retrograde', 'rev', 'revenge', 'reverse cowgirl', 'revive', 'revolt', 'revolting', 'revolution', 'revolutionary', 'revolutionize', 'revolver', 'revulsion', 'rheumatism', 'rhythm', 'richness', 'rickety', 'rid', 'riddled', 'ridicule', 'ridiculous', 'rifle', 'rifleman', 'rift', 'rig', 'rigidity', 'rigorous', 'rim', 'rimjob', 'riot', 'riotous', 'rip', 'ripper', 'risk', 'risky', 'rivalry', 'roach', 'roar', 'rob', 'robber', 'robbery', 'rocket', 'rollercoaster', 'rollick', 'rosy palm', 'rot', 'rotten', 'rough', 'roughness', 'rout', 'rowdy', 'rubbish', 'rude', 'rudeness', 'rueful', 'ruffian', 'rugby', 'ruin', 'ruination', 'rule', 'rumba', 'rummage', 'run', 'runaway', 'rupture', 'rush', 'rustler', 'rusty trombone', 'ruthless', 's&m', 'sabotage', 'saboteur', 'sacrifice', 'sacrificial', 'sacrilegious', 'sad', 'sadden', 'sadism', 'sadist', 'sadistic', 'sadly', 'sadness', 'sag', 'saliva', 'salmonella', 'sanctimonious', 'sanction', 'sandstorm', 'santorum', 'sarcasm', 'sarcastic', 'sardonic', 'satanic', 'satisfy', 'savage', 'savagery', 'scam', 'scandal', 'scandalous', 'scapegoat', 'scar', 'scarcely', 'scarcity', 'scare', 'scarecrow', 'scary', 'scat', 'scatter', 'scavenger', 'sceptical', 'schizophrenia', 'schizophrenic', 'schlong', 'scissor', 'scoff', 'scold', 'scorch', 'scorn', 'scornful', 'scorpion', 'scoundrel', 'scourge', 'scramble', 'scrap', 'scratchy', 'scream', 'screamer', 'screech', 'screw', 'scrotum', 'scrounge', 'scruffy', 'scuff', 'scuffle', 'scumbag', 'sear', 'seasick', 'seclusion', 'secondhand', 'seduce', 'seducer', 'seduction', 'seductive', 'seedy', 'seethe', 'segregate', 'seismic', 'seizure', 'selfish', 'selfishness', 'semen', 'sensational', 'senseless', 'sensual', 'sensuality', 'sensuous', 'sentencing', 'separate', 'separation', 'separatist', 'sepsis', 'sequester', 'sequestration', 'serpent', 'setback', 'sever', 'severe', 'severely', 'sewerage', 'sex', 'sexcam', 'sexist', 'sexo', 'sexual', 'sexuality', 'sexually', 'sexy', 'shabby', 'shadowy', 'shag', 'shake', 'shame', 'shameful', 'shark', 'sharpshooter', 'shatter', 'shave beaver', 'shave pussy', 'shell', 'shemale', 'shibari', 'shipwreck', 'shit', 'shitblimp', 'shite', 'shitface', 'shithead', 'shitload', 'shitt', 'shitty', 'shiver', 'shiz', 'shock', 'shocker', 'shocking', 'shockingly', 'shoddy', 'shoot', 'shooter', 'shootout', 'shoplift', 'shoplifter', 'short', 'shortage', 'shortcoming', 'shota', 'shotgun', 'shout', 'show', 'showdown', 'shrapnel', 'shre', 'shriek', 'shrimping', 'shrink', 'shrivel', 'shrug', 'shudder', 'shut', 'shutdown', 'shutter', 'sick', 'sicken', 'sickening', 'sickly', 'sickness', 'sikh', 'sin', 'sinful', 'sinister', 'sink', 'sinner', 'skater', 'skeet', 'skeleton', 'skeptic', 'skeptical', 'skepticism', 'ski', 'skier', 'skip', 'skittish', 'slag', 'slander', 'slanderous', 'slanteye', 'slap', 'slaughter', 'slaughterhouse', 'slave', 'slavery', 'slay', 'slayer', 'sleepless', 'sleeplessness', 'slight disgust', 'slightly negative', 'slimy', 'slippery', 'sloth', 'sluggish', 'slump', 'slur', 'slut', 'slutty', 'smallpox', 'smash', 'smear', 'smelly', 'smite', 'smitten', 'smoke', 'smoker', 'smoking', 'smolder', 'smug', 'smuggle', 'smuggler', 'smuggling', 'smut', 'snag', 'snake', 'snare', 'snarl', 'snatch', 'snatcher', 'sneak', 'sneaky', 'sneer', 'snide', 'snipe', 'sniper', 'snoop', 'snooze', 'snore', 'snot', 'snotty', 'snowballing', 'snowboarder', 'snowstorm', 'snub', 'sob', 'soccer', 'sociopath', 'sockpuppet', 'sodding', 'sodomize', 'sodomy', 'soil', 'solitary', 'solitude', 'somber', 'some disgust', 'some surprise', 'somersault', 'somewhat negative', 'sordid', 'sore', 'soreness', 'sorrow', 'sorrowful', 'soscare', 'soulless', 'sourpuss', 'spaceship', 'spam', 'spank', 'spar', 'sparkle', 'sparse', 'spasm', 'spastic', 'spaz', 'spectacle', 'speed', 'speedboat', 'sperm', 'spic', 'spick', 'spider', 'spiny', 'spirit', 'spit', 'spite', 'spiteful', 'spitfire', 'splint', 'splinter', 'splitting', 'splooge', 'splooge moose', 'spoil', 'spoo', 'spooge', 'spook', 'spooky', 'sprain', 'spread leg', 'spunk', 'spunky', 'spurious', 'squabble', 'squall', 'squander', 'squeaky', 'squeamish', 'squirm', 'squish', 'stab', 'stain', 'stale', 'stalker', 'stampede', 'standoff', 'stardom', 'startle', 'startling', 'starvation', 'starve', 'steal', 'stench', 'stereotype', 'sterility', 'stick', 'stiff', 'stifle', 'stillbirth', 'stimulant', 'stimulate', 'stimulation', 'stimulus', 'sting', 'stingy', 'stink', 'stinker', 'stinking', 'stinky', 'stir', 'stomachache', 'stomp', 'stone', 'stoppage', 'storm', 'stormy', 'stowaway', 'straight', 'strain', 'strained', 'straitjacket', 'strangle', 'strangulation', 'strap on', 'strapon', 'strappado', 'stray', 'strengthen', 'strenuous', 'stress', 'stressful', 'stressin', 'stricken', 'strife', 'strike', 'strip club', 'stripper', 'striptease', 'strive', 'strongly', 'struggle', 'stubborn', 'stubbornness', 'stumble', 'stunner', 'stunt', 'stupefy', 'stupid', 'stupidity', 'stupidpeople', 'style doggy', 'subdue', 'substandard', 'subtract', 'subtraction', 'subversive', 'succeed', 'success', 'succumb', 'suck', 'sue', 'suffer', 'sufferer', 'suffocate', 'suffocation', 'suicidal', 'suicide', 'suicide girl', 'suicidebombe', 'sulfur', 'sultry woman', 'sunburn', 'sunless', 'superhero', 'superman', 'supernatural', 'superpower', 'superstar', 'superstition', 'surgery', 'surly', 'surprise', 'surprising', 'surprisingly', 'surrender', 'survival', 'survive', 'suspect', 'suspend', 'suspense', 'suspicion', 'suspicious', 'suture', 'swamp', 'swastika', 'sweatshop', 'swelter', 'swift', 'swiftly', 'swindle', 'swindler', 'swinger', 'swollen', 'swordsman', 'syncope', 'syndrome', 'syphili', 'taboo', 'tacky', 'taint', 'taint love', 'takeoff', 'tame', 'tamper', 'tantalize', 'tantrum', 'taoist', 'tardy', 'tarnish', 'tart', 'tartar', 'taste my', 'tasteless', 'tasty', 'taunt', 'tea bagging', 'tear', 'tearful', 'teary', 'tease', 'tedious', 'tedium', 'teenage', 'telltale', 'temperamental', 'tempest', 'tempt', 'temptation', 'temptress', 'tension', 'terminate', 'terrible', 'terribly', 'terrify', 'terrifying', 'terror', 'terrorism', 'terrorist', 'terrorize', 'testosterone', 'testy', 'tetanus', 'thankless', 'theft', 'thief', 'thorny', 'thoughtless', 'threat', 'threaten', 'threesome', 'thrill', 'thriller', 'throate', 'throb', 'throe', 'throng', 'throttle', 'throw', 'thruster', 'thug', 'thumbzilla', 'thump', 'thunder', 'thunderclap', 'thunderstorm', 'thunderstruck', 'thyroid', 'ticklish', 'tidal wave', 'tie up', 'tiger', 'tight white', 'tired', 'tiresome', 'tiring', 'tit', 'titanic', 'titty', 'tittyfuck', 'tomb', 'tombstone', 'tongue in a', 'toothache', 'topless', 'topple', 'torment', 'tornado', 'torpedo', 'tort', 'tortuous', 'torture', 'tosser', 'touchdown', 'towelhead', 'toxic', 'toxicity', 'toxin', 'tragedy', 'tragic', 'training', 'traitor', 'traitorous', 'tramp', 'trample', 'tran', 'tranny', 'transcend', 'transgender', 'transgression', 'transplant', 'transsexual', 'trap', 'trapdoor', 'trash', 'trashy', 'trauma', 'traumatic', 'treacherous', 'treachery', 'treason', 'treasure', 'tremble', 'tremendous', 'tremor', 'trench', 'trespass', 'triathlon', 'tribadism', 'trickery', 'tricky', 'trigger', 'triumph', 'triumphant', 'trouble', 'troublemaker', 'troublesome', 'truculent', 'tsunami', 'tub girl', 'tuberculosis', 'tubgirl', 'tumor', 'tumour', 'tumultuous', 'turbidity', 'turbulence', 'turbulent', 'turd', 'turmoil', 'tushy', 'tussle', 'twat', 'twink', 'twinkie', 'twist', 'twit', 'twitchy', 'typhoon', 'typo', 'tyrannical', 'tyranny', 'tyrant', 'ugliness', 'ugly', 'ultimatum', 'unable', 'unacceptable', 'unaccountable', 'unacknowledged', 'unannounced', 'unanticipated', 'unappreciated', 'unapproved', 'unattached', 'unattainable', 'unattractive', 'unaware', 'unbearable', 'unbeaten', 'unbecoming', 'unbelievable', 'unbridled', 'uncaring', 'uncertainty', 'uncharted', 'uncivilized', 'unclean', 'unclear', 'uncomfortable', 'unconnected', 'unconscionable', 'unconscious', 'unconsciousness', 'unconstitutional', 'uncontrollable', 'uncontrolle', 'unconventional', 'unconvincing', 'uncouth', 'undefeated', 'underhanded', 'underpaid', 'underprivileged', 'underrated', 'understaffed', 'underworld', 'undeserved', 'undesirable', 'undesired', 'undetected', 'undignified', 'undo', 'undress', 'undue', 'unearned', 'uneasiness', 'uneasy', 'uneducated', 'unemployed', 'unemployment', 'unequal', 'unethical', 'uneven', 'unexpectedly', 'unfair', 'unfairness', 'unfaithful', 'unfamiliar', 'unfavorable', 'unfeeling', 'unfinished', 'unfortunate', 'unfortunately', 'unfriendly', 'unfulfilled', 'ungrateful', 'unguarded', 'unhappiness', 'unhappy', 'unhealthy', 'unhelpful', 'unimpresse', 'unimproved', 'uninformed', 'uninspired', 'unintelligible', 'uninteresting', 'uninvited', 'unjust', 'unjustifiable', 'unkind', 'unlawful', 'unleash', 'unlucky', 'unmanageable', 'unmanned', 'unmove', 'unnatural', 'unnecessary', 'unneeded', 'unordere', 'unpleasant', 'unpleasantness', 'unplug', 'unpopular', 'unpredictable', 'unprepared', 'unproductive', 'unprofessional', 'unprofitable', 'unprotected', 'unqualified', 'unreachable', 'unreal', 'unrealistic', 'unreasonable', 'unrecorded', 'unrelenting', 'unreliable', 'unrepentant', 'unrequited', 'unresolved', 'unresponsive', 'unrest', 'unrestrained', 'unromantic', 'unruly', 'unsafe', 'unsanitary', 'unsatisfactory', 'unsatisfied', 'unsavory', 'unscrupulous', 'unseat', 'unsettled', 'unsightly', 'unsolicited', 'unsolved', 'unsound', 'unspecified', 'unspoken', 'unstable', 'unsteady', 'unstoppable', 'unsuccessful', 'unsuitable', 'unsure', 'unsympathetic', 'untamed', 'untenable', 'untidy', 'untimely', 'untitled', 'untold', 'untoward', 'untrained', 'untrue', 'untrustworthy', 'unverified', 'unwanted', 'unwarranted', 'unwelcome', 'unwell', 'unwillingly', 'unwillingness', 'unwise', 'unworthy', 'unyielding', 'upheaval', 'uplift', 'uprising', 'uproar', 'upset', 'upskirt', 'uptight', 'urethra play', 'urgency', 'urgent', 'urinal', 'urn', 'urophilia', 'useless', 'usurp', 'vag', 'vagina', 'vaginal', 'vagrancy', 'vagueness', 'vamp', 'vampire', 'vandal', 'vandalism', 'vanish', 'vanquish', 'varicella', 'varicose', 'vasectomy', 'velocity', 'vendetta', 'vengeance', 'vengeful', 'venom', 'venomous', 'venture', 'venus mound', 'vermin', 'verve', 'very negative', 'vesicular', 'vex', 'viagra', 'vibrant', 'vibrator', 'vice', 'vicious', 'victim', 'victimize', 'victoria', 'victorious', 'video game', 'vigor', 'vigorous', 'vike', 'vile', 'villain', 'villainous', 'vindictive', 'violate', 'violation', 'violence', 'violent', 'violently', 'violet wand', 'viper', 'viral', 'virulence', 'vivacious', 'void', 'volatile', 'volatility', 'volcanic', 'volcano', 'voltage', 'vomit', 'voodoo', 'voracious', 'vorarephilia', 'voyeur', 'voyeurweb', 'voyuer', 'vulgar', 'vulgarity', 'vulnerable', 'vulva', 'wacky', 'wager', 'wait', 'walkout', 'wallop', 'wallow', 'wane', 'wank', 'wanker', 'war', 'warcrime', 'warfare', 'warhead', 'warlike', 'warlord', 'warn', 'warp', 'warrior', 'warship', 'wart', 'wartime', 'waste', 'wasteful', 'watchdog', 'weak', 'weaken', 'weakling', 'weakness', 'weapon', 'weaponry', 'weariness', 'weary', 'wedding', 'weed', 'weep', 'weepy', 'weirdo', 'werewolf', 'wet dream', 'wetback', 'whack', 'wheelchair', 'wheeze', 'whiny', 'whip', 'whiplash', 'whirl', 'whirlwind', 'white', 'white power', 'whor', 'whore', 'whorehouse', 'wicked', 'wickedness', 'widow', 'widower', 'wild', 'wildfire', 'willpower', 'wilt', 'wimp', 'wimpy', 'windfall', 'winger', 'winner', 'winning', 'wiretap', 'witchcraft', 'withdraw', 'wither', 'withhold', 'witless', 'wo nt', 'wobbly', 'woeful', 'woefully', 'wog', 'woman', 'womanizer', 'wonder', 'wonderful', 'wonderfully', 'woozy', 'workload', 'workout', 'worldsex', 'worm', 'worry', 'worsen', 'worstfeele', 'worthless', 'wound', 'wrack', 'wrangle', 'wrap man', 'wrath', 'wrathful', 'wreck', 'wreckage', 'wrecker', 'wrench', 'wrestle', 'wrestler', 'wretch', 'wretched', 'wrinkle', 'wrinkled starfish', 'wrong', 'wrongdoe', 'wrongful', 'wrongly', 'wry', 'wtf', 'xenophobia', 'xxx', 'yaoi', 'yeahhh', 'yell', 'yellow shower', 'yessss', 'yiffy', 'young', 'yousuck', 'yucky', 'zealot', 'zealous', 'zest', 'zombie', 'zoophilia']\n"
     ]
    }
   ],
   "source": [
    "vocabulary, idf = [], []\n",
    "with open(conf.vocab_file) as f:\n",
    "    tmp = json.load(f)\n",
    "    vocabulary = tmp[\"term\"]\n",
    "    idf = tmp[\"idf\"]\n",
    "print(f\"len(vocab)={len(vocabulary)}\\n{vocabulary}\")\n",
    "assert len(vocabulary) == len(idf)"
   ]
  },
  {
   "cell_type": "code",
   "execution_count": 15,
   "id": "5ae4537f",
   "metadata": {
    "execution": {
     "iopub.execute_input": "2022-02-07T11:54:27.638941Z",
     "iopub.status.busy": "2022-02-07T11:54:27.637953Z",
     "iopub.status.idle": "2022-02-07T11:54:31.530269Z",
     "shell.execute_reply": "2022-02-07T11:54:31.529494Z",
     "shell.execute_reply.started": "2022-02-07T11:27:06.510015Z"
    },
    "papermill": {
     "duration": 5.599817,
     "end_time": "2022-02-07T11:54:31.530399",
     "exception": false,
     "start_time": "2022-02-07T11:54:25.930582",
     "status": "completed"
    },
    "tags": []
   },
   "outputs": [
    {
     "name": "stdout",
     "output_type": "stream",
     "text": [
      "x.shape=(7537, 4098)\n",
      "  (0, 4076)\t0.31831910955399473\n",
      "  (0, 3023)\t0.7022081476704467\n",
      "  (0, 1028)\t0.3398354030545193\n",
      "  (0, 17)\t0.5385987009534691\n"
     ]
    },
    {
     "name": "stderr",
     "output_type": "stream",
     "text": [
      "/opt/conda/lib/python3.7/site-packages/pandas/core/frame.py:3678: PerformanceWarning: DataFrame is highly fragmented.  This is usually the result of calling `frame.insert` many times, which has poor performance.  Consider joining all columns at once using pd.concat(axis=1) instead.  To get a de-fragmented frame, use `newframe = frame.copy()`\n",
      "  self[col] = igetitem(value, i)\n"
     ]
    },
    {
     "name": "stdout",
     "output_type": "stream",
     "text": [
      "CPU times: user 3.65 s, sys: 235 ms, total: 3.89 s\n",
      "Wall time: 3.89 s\n"
     ]
    }
   ],
   "source": [
    "%%time\n",
    "vec = TfidfVectorizer(vocabulary=vocabulary, ngram_range=(1, 3), analyzer=\"word\")\n",
    "vec.idf_ = idf\n",
    "x = vec.transform(df[\"text3\"])\n",
    "print(f\"x.shape={x.shape}\\n{x[0]}\")\n",
    "ti_features = []\n",
    "for t in vocabulary:\n",
    "    words = [\"ti\"] + t.split()\n",
    "    ti_features.append(\"_\".join(words))\n",
    "df[ti_features] = scipy.sparse.csr_matrix(x).todense()\n",
    "#print(\"cast float32\")\n",
    "#for col in tqdm(ti_features):\n",
    "    #df[col] = df[col].astype(np.float32)\n",
    "#df = df.copy()  # defragment"
   ]
  },
  {
   "cell_type": "markdown",
   "id": "7e626d27",
   "metadata": {
    "papermill": {
     "duration": 1.690734,
     "end_time": "2022-02-07T11:54:35.200504",
     "exception": false,
     "start_time": "2022-02-07T11:54:33.509770",
     "status": "completed"
    },
    "tags": []
   },
   "source": [
    "# TweetEval labels"
   ]
  },
  {
   "cell_type": "code",
   "execution_count": 16,
   "id": "571f20ea",
   "metadata": {
    "execution": {
     "iopub.execute_input": "2022-02-07T11:54:38.570964Z",
     "iopub.status.busy": "2022-02-07T11:54:38.570406Z",
     "iopub.status.idle": "2022-02-07T12:06:33.563050Z",
     "shell.execute_reply": "2022-02-07T12:06:33.563468Z"
    },
    "papermill": {
     "duration": 716.657609,
     "end_time": "2022-02-07T12:06:33.563615",
     "exception": false,
     "start_time": "2022-02-07T11:54:36.906006",
     "status": "completed"
    },
    "tags": []
   },
   "outputs": [
    {
     "name": "stderr",
     "output_type": "stream",
     "text": [
      "100%|██████████| 59/59 [02:10<00:00,  2.22s/it]\n",
      "/opt/conda/lib/python3.7/site-packages/ipykernel_launcher.py:26: PerformanceWarning: DataFrame is highly fragmented.  This is usually the result of calling `frame.insert` many times, which has poor performance.  Consider joining all columns at once using pd.concat(axis=1) instead.  To get a de-fragmented frame, use `newframe = frame.copy()`\n"
     ]
    },
    {
     "name": "stdout",
     "output_type": "stream",
     "text": [
      "te_roberta_off torch.Size([7537, 2])\n",
      "logits[:10]=tensor([[0.8552, 0.1448],\n",
      "        [0.5652, 0.4348],\n",
      "        [0.6350, 0.3650],\n",
      "        [0.7850, 0.2150],\n",
      "        [0.2349, 0.7651],\n",
      "        [0.8033, 0.1967],\n",
      "        [0.4922, 0.5078],\n",
      "        [0.5990, 0.4010],\n",
      "        [0.8934, 0.1066],\n",
      "        [0.4272, 0.5728]])\n"
     ]
    },
    {
     "name": "stderr",
     "output_type": "stream",
     "text": [
      "100%|██████████| 59/59 [02:10<00:00,  2.21s/it]\n"
     ]
    },
    {
     "name": "stdout",
     "output_type": "stream",
     "text": [
      "te_roberta_emo_anger torch.Size([7537, 4])\n",
      "logits[:10]=tensor([[0.8563, 0.0076, 0.0692, 0.0669],\n",
      "        [0.8189, 0.0080, 0.0457, 0.1274],\n",
      "        [0.1097, 0.6517, 0.1256, 0.1130],\n",
      "        [0.2242, 0.0778, 0.4488, 0.2491],\n",
      "        [0.9620, 0.0060, 0.0176, 0.0144],\n",
      "        [0.9665, 0.0059, 0.0126, 0.0149],\n",
      "        [0.9655, 0.0071, 0.0146, 0.0128],\n",
      "        [0.9705, 0.0118, 0.0096, 0.0082],\n",
      "        [0.4742, 0.0528, 0.0511, 0.4218],\n",
      "        [0.1118, 0.1862, 0.5323, 0.1697]])\n"
     ]
    },
    {
     "name": "stderr",
     "output_type": "stream",
     "text": [
      "100%|██████████| 59/59 [02:10<00:00,  2.21s/it]\n"
     ]
    },
    {
     "name": "stdout",
     "output_type": "stream",
     "text": [
      "te_roberta_snt_neg torch.Size([7537, 3])\n",
      "logits[:10]=tensor([[0.5242, 0.4327, 0.0430],\n",
      "        [0.7244, 0.2631, 0.0124],\n",
      "        [0.5209, 0.4081, 0.0710],\n",
      "        [0.4763, 0.4429, 0.0808],\n",
      "        [0.9311, 0.0628, 0.0062],\n",
      "        [0.7649, 0.2173, 0.0178],\n",
      "        [0.6707, 0.2919, 0.0375],\n",
      "        [0.6546, 0.3091, 0.0364],\n",
      "        [0.5482, 0.4088, 0.0431],\n",
      "        [0.1799, 0.6844, 0.1357]])\n"
     ]
    },
    {
     "name": "stderr",
     "output_type": "stream",
     "text": [
      "100%|██████████| 59/59 [02:10<00:00,  2.21s/it]\n"
     ]
    },
    {
     "name": "stdout",
     "output_type": "stream",
     "text": [
      "te_roberta_iro torch.Size([7537, 2])\n",
      "logits[:10]=tensor([[0.9067, 0.0933],\n",
      "        [0.8761, 0.1239],\n",
      "        [0.9444, 0.0556],\n",
      "        [0.9441, 0.0559],\n",
      "        [0.9086, 0.0914],\n",
      "        [0.9012, 0.0988],\n",
      "        [0.8880, 0.1120],\n",
      "        [0.0324, 0.9676],\n",
      "        [0.9544, 0.0456],\n",
      "        [0.9358, 0.0642]])\n"
     ]
    },
    {
     "name": "stderr",
     "output_type": "stream",
     "text": [
      "100%|██████████| 59/59 [02:10<00:00,  2.21s/it]\n"
     ]
    },
    {
     "name": "stdout",
     "output_type": "stream",
     "text": [
      "te_xlm_roberta_snt_neg torch.Size([7537, 3])\n",
      "logits[:10]=tensor([[0.5317, 0.3431, 0.1252],\n",
      "        [0.8481, 0.1225, 0.0293],\n",
      "        [0.6220, 0.2778, 0.1002],\n",
      "        [0.4569, 0.3656, 0.1775],\n",
      "        [0.9133, 0.0721, 0.0147],\n",
      "        [0.7865, 0.1806, 0.0329],\n",
      "        [0.6098, 0.2676, 0.1226],\n",
      "        [0.7394, 0.2131, 0.0475],\n",
      "        [0.3477, 0.5753, 0.0770],\n",
      "        [0.2641, 0.6160, 0.1199]])\n"
     ]
    }
   ],
   "source": [
    "sentences = list(df[\"text2\"])\n",
    "for col, model_dir in conf.tweeteval_models.items():\n",
    "    tokenizer = AutoTokenizer.from_pretrained(\n",
    "        model_dir, \n",
    "        model_max_length=conf.tweeteval_model_max_length\n",
    "    )\n",
    "    #print(f\"{repr(tokenizer)}\\nmodel_input_names={tokenizer.model_input_names}\")\n",
    "    x = tokenizer(sentences, truncation=True, padding=\"max_length\")\n",
    "    batches = torch.utils.data.DataLoader(mylib.Dataset(x), batch_size=conf.tweeteval_batch_size, shuffle=False)\n",
    "    model = AutoModelForSequenceClassification.from_pretrained(model_dir)\n",
    "    model.eval()\n",
    "    model.to(conf.device)\n",
    "    logits = None\n",
    "    with torch.no_grad():\n",
    "        for batch in tqdm(batches):\n",
    "            for k, v in batch.items():\n",
    "                batch[k] = v.to(conf.device)\n",
    "            outputs = model(**batch)\n",
    "            tmp = outputs.logits.detach().cpu()\n",
    "            if logits is None:\n",
    "                logits = tmp\n",
    "            else:\n",
    "                logits = torch.cat((logits, tmp), 0)\n",
    "    logits = torch.nn.functional.softmax(logits, dim=1)\n",
    "    print(f\"{col} {logits.size()}\\nlogits[:10]={logits[:10]}\")\n",
    "    df[col] = logits[:,conf.tweeteval_label_index[col]]\n",
    "    df[col] = df[col].astype(np.float32)\n",
    "    del tokenizer, model\n",
    "    gc.collect()"
   ]
  },
  {
   "cell_type": "markdown",
   "id": "324afa72",
   "metadata": {
    "papermill": {
     "duration": 1.795003,
     "end_time": "2022-02-07T12:06:37.103534",
     "exception": false,
     "start_time": "2022-02-07T12:06:35.308531",
     "status": "completed"
    },
    "tags": []
   },
   "source": [
    "# HateBert labels"
   ]
  },
  {
   "cell_type": "code",
   "execution_count": 17,
   "id": "29d9c796",
   "metadata": {
    "execution": {
     "iopub.execute_input": "2022-02-07T12:06:40.867837Z",
     "iopub.status.busy": "2022-02-07T12:06:40.867325Z",
     "iopub.status.idle": "2022-02-07T12:06:40.965129Z",
     "shell.execute_reply": "2022-02-07T12:06:40.965545Z"
    },
    "papermill": {
     "duration": 1.983658,
     "end_time": "2022-02-07T12:06:40.965689",
     "exception": false,
     "start_time": "2022-02-07T12:06:38.982031",
     "status": "completed"
    },
    "tags": []
   },
   "outputs": [
    {
     "name": "stdout",
     "output_type": "stream",
     "text": [
      "PreTrainedTokenizerFast(name_or_path='/kaggle/input/pretrained/pretrained/hatebert/hatebert-offenseval', vocab_size=30522, model_max_len=512, is_fast=True, padding_side='right', special_tokens={'unk_token': '[UNK]', 'sep_token': '[SEP]', 'pad_token': '[PAD]', 'cls_token': '[CLS]', 'mask_token': '[MASK]'})\n",
      "model_input_names=['input_ids', 'token_type_ids', 'attention_mask']\n"
     ]
    }
   ],
   "source": [
    "# all Hatebert models use the same tokenizer\n",
    "tokenizer = AutoTokenizer.from_pretrained(\n",
    "    conf.hatebert_models[\"hb_hatebert_off\"], \n",
    "    model_max_length=conf.hatebert_model_max_length\n",
    ")\n",
    "print(f\"{repr(tokenizer)}\\nmodel_input_names={tokenizer.model_input_names}\")"
   ]
  },
  {
   "cell_type": "code",
   "execution_count": 18,
   "id": "41bb992d",
   "metadata": {
    "execution": {
     "iopub.execute_input": "2022-02-07T12:06:44.567530Z",
     "iopub.status.busy": "2022-02-07T12:06:44.566830Z",
     "iopub.status.idle": "2022-02-07T12:06:47.183323Z",
     "shell.execute_reply": "2022-02-07T12:06:47.183824Z"
    },
    "papermill": {
     "duration": 4.422416,
     "end_time": "2022-02-07T12:06:47.183991",
     "exception": false,
     "start_time": "2022-02-07T12:06:42.761575",
     "status": "completed"
    },
    "tags": []
   },
   "outputs": [
    {
     "name": "stdout",
     "output_type": "stream",
     "text": [
      "dict_keys(['input_ids', 'token_type_ids', 'attention_mask'])\n",
      "len=7537\n",
      "CPU times: user 2.61 s, sys: 5.99 ms, total: 2.62 s\n",
      "Wall time: 2.62 s\n"
     ]
    }
   ],
   "source": [
    "%%time\n",
    "x = tokenizer(sentences, truncation=True, padding=\"max_length\")\n",
    "print(f\"{repr(x.keys())}\\nlen={len(x['input_ids'])}\")"
   ]
  },
  {
   "cell_type": "code",
   "execution_count": 19,
   "id": "42c3903b",
   "metadata": {
    "execution": {
     "iopub.execute_input": "2022-02-07T12:06:51.129662Z",
     "iopub.status.busy": "2022-02-07T12:06:51.129066Z",
     "iopub.status.idle": "2022-02-07T12:15:58.438866Z",
     "shell.execute_reply": "2022-02-07T12:15:58.439288Z"
    },
    "papermill": {
     "duration": 549.517299,
     "end_time": "2022-02-07T12:15:58.439437",
     "exception": false,
     "start_time": "2022-02-07T12:06:48.922138",
     "status": "completed"
    },
    "tags": []
   },
   "outputs": [
    {
     "name": "stderr",
     "output_type": "stream",
     "text": [
      "100%|██████████| 59/59 [02:10<00:00,  2.22s/it]\n",
      "/opt/conda/lib/python3.7/site-packages/ipykernel_launcher.py:19: PerformanceWarning: DataFrame is highly fragmented.  This is usually the result of calling `frame.insert` many times, which has poor performance.  Consider joining all columns at once using pd.concat(axis=1) instead.  To get a de-fragmented frame, use `newframe = frame.copy()`\n"
     ]
    },
    {
     "name": "stdout",
     "output_type": "stream",
     "text": [
      "hb_bert_off torch.Size([7537, 2])\n",
      "logits[:10]=tensor([[0.9358, 0.0642],\n",
      "        [0.9747, 0.0253],\n",
      "        [0.8336, 0.1664],\n",
      "        [0.8787, 0.1213],\n",
      "        [0.0822, 0.9178],\n",
      "        [0.6007, 0.3993],\n",
      "        [0.0797, 0.9203],\n",
      "        [0.1229, 0.8771],\n",
      "        [0.9645, 0.0355],\n",
      "        [0.7761, 0.2239]])\n"
     ]
    },
    {
     "name": "stderr",
     "output_type": "stream",
     "text": [
      "100%|██████████| 59/59 [02:10<00:00,  2.22s/it]\n"
     ]
    },
    {
     "name": "stdout",
     "output_type": "stream",
     "text": [
      "hb_bert_abu torch.Size([7537, 2])\n",
      "logits[:10]=tensor([[0.9828, 0.0172],\n",
      "        [0.9922, 0.0078],\n",
      "        [0.9708, 0.0292],\n",
      "        [0.9884, 0.0116],\n",
      "        [0.0778, 0.9222],\n",
      "        [0.9731, 0.0269],\n",
      "        [0.1342, 0.8658],\n",
      "        [0.4784, 0.5216],\n",
      "        [0.9937, 0.0063],\n",
      "        [0.9810, 0.0190]])\n"
     ]
    },
    {
     "name": "stderr",
     "output_type": "stream",
     "text": [
      "100%|██████████| 59/59 [02:10<00:00,  2.22s/it]\n"
     ]
    },
    {
     "name": "stdout",
     "output_type": "stream",
     "text": [
      "hb_hatebert_off torch.Size([7537, 2])\n",
      "logits[:10]=tensor([[0.9728, 0.0272],\n",
      "        [0.8874, 0.1126],\n",
      "        [0.7843, 0.2157],\n",
      "        [0.8808, 0.1192],\n",
      "        [0.1017, 0.8983],\n",
      "        [0.9402, 0.0598],\n",
      "        [0.2147, 0.7853],\n",
      "        [0.4136, 0.5864],\n",
      "        [0.9730, 0.0270],\n",
      "        [0.7613, 0.2387]])\n"
     ]
    },
    {
     "name": "stderr",
     "output_type": "stream",
     "text": [
      "100%|██████████| 59/59 [02:10<00:00,  2.22s/it]"
     ]
    },
    {
     "name": "stdout",
     "output_type": "stream",
     "text": [
      "hb_hatebert_abu torch.Size([7537, 2])\n",
      "logits[:10]=tensor([[0.9812, 0.0188],\n",
      "        [0.9792, 0.0208],\n",
      "        [0.9427, 0.0573],\n",
      "        [0.9693, 0.0307],\n",
      "        [0.1908, 0.8092],\n",
      "        [0.9762, 0.0238],\n",
      "        [0.2722, 0.7278],\n",
      "        [0.9531, 0.0469],\n",
      "        [0.9907, 0.0093],\n",
      "        [0.9031, 0.0969]])\n"
     ]
    },
    {
     "name": "stderr",
     "output_type": "stream",
     "text": [
      "\n"
     ]
    }
   ],
   "source": [
    "batches = torch.utils.data.DataLoader(mylib.Dataset(x), batch_size=conf.hatebert_batch_size, shuffle=False)\n",
    "for col, model_dir in conf.hatebert_models.items():    \n",
    "    model = AutoModelForSequenceClassification.from_pretrained(model_dir)\n",
    "    model.eval()\n",
    "    model.to(conf.device)\n",
    "    logits = None\n",
    "    with torch.no_grad():\n",
    "        for batch in tqdm(batches):\n",
    "            for k, v in batch.items():\n",
    "                batch[k] = v.to(conf.device)\n",
    "            outputs = model(**batch)\n",
    "            tmp = outputs.logits.detach().cpu()\n",
    "            if logits is None:\n",
    "                logits = tmp\n",
    "            else:\n",
    "                logits = torch.cat((logits, tmp), 0)\n",
    "    logits = torch.nn.functional.softmax(logits, dim=1)\n",
    "    print(f\"{col} {logits.size()}\\nlogits[:10]={logits[:10]}\")\n",
    "    df[col] = logits[:,1]\n",
    "    df[col] = df[col].astype(np.float32)"
   ]
  },
  {
   "cell_type": "markdown",
   "id": "abc0e75c",
   "metadata": {
    "papermill": {
     "duration": 1.809526,
     "end_time": "2022-02-07T12:16:02.323393",
     "exception": false,
     "start_time": "2022-02-07T12:16:00.513867",
     "status": "completed"
    },
    "tags": []
   },
   "source": [
    "# Detoxify labels"
   ]
  },
  {
   "cell_type": "code",
   "execution_count": 20,
   "id": "a6f68f1e",
   "metadata": {
    "execution": {
     "iopub.execute_input": "2022-02-07T12:16:06.478424Z",
     "iopub.status.busy": "2022-02-07T12:16:06.477712Z",
     "iopub.status.idle": "2022-02-07T12:23:38.142739Z",
     "shell.execute_reply": "2022-02-07T12:23:38.141415Z"
    },
    "papermill": {
     "duration": 453.916215,
     "end_time": "2022-02-07T12:23:38.142880",
     "exception": false,
     "start_time": "2022-02-07T12:16:04.226665",
     "status": "completed"
    },
    "tags": []
   },
   "outputs": [
    {
     "name": "stderr",
     "output_type": "stream",
     "text": [
      "  0%|          | 0/3 [00:00<?, ?it/s]/opt/conda/lib/python3.7/site-packages/ipykernel_launcher.py:14: PerformanceWarning: DataFrame is highly fragmented.  This is usually the result of calling `frame.insert` many times, which has poor performance.  Consider joining all columns at once using pd.concat(axis=1) instead.  To get a de-fragmented frame, use `newframe = frame.copy()`\n",
      "  \n",
      "100%|██████████| 3/3 [07:29<00:00, 149.94s/it]\n"
     ]
    }
   ],
   "source": [
    "gc.collect()\n",
    "dtfy_fs = []\n",
    "for prefix, checkpoint in tqdm(conf.dtfy_models.items()):\n",
    "    res = mylib.detoxify_labels(\n",
    "        sentences,\n",
    "        checkpoint=checkpoint,\n",
    "        config_dir=conf.dtfy_configs[prefix],\n",
    "        model_max_length=conf.dtfy_model_max_length,\n",
    "        device=conf.device,\n",
    "        batch_size=conf.dtfy_batch_size\n",
    "    )\n",
    "    for k, v in res.items():\n",
    "        col = prefix + k\n",
    "        df[col] = v\n",
    "        df[col] = df[col].astype(np.float32)\n",
    "        dtfy_fs.append(col)\n",
    "    gc.collect()"
   ]
  },
  {
   "cell_type": "code",
   "execution_count": 21,
   "id": "75065991",
   "metadata": {
    "execution": {
     "iopub.execute_input": "2022-02-07T12:23:42.532088Z",
     "iopub.status.busy": "2022-02-07T12:23:42.531426Z",
     "iopub.status.idle": "2022-02-07T12:23:42.534266Z",
     "shell.execute_reply": "2022-02-07T12:23:42.534672Z"
    },
    "papermill": {
     "duration": 2.083983,
     "end_time": "2022-02-07T12:23:42.534805",
     "exception": false,
     "start_time": "2022-02-07T12:23:40.450822",
     "status": "completed"
    },
    "tags": []
   },
   "outputs": [
    {
     "name": "stdout",
     "output_type": "stream",
     "text": [
      "['dto_toxicity', 'dto_severe_toxicity', 'dto_obscene', 'dto_threat', 'dto_insult', 'dto_identity_attack', 'dtu_toxicity', 'dtu_severe_toxicity', 'dtu_obscene', 'dtu_identity_attack', 'dtu_insult', 'dtu_threat', 'dtu_sexual_explicit', 'dtm_toxicity', 'dtm_severe_toxicity', 'dtm_obscene', 'dtm_identity_attack', 'dtm_insult', 'dtm_threat', 'dtm_sexual_explicit']\n"
     ]
    }
   ],
   "source": [
    "print(dtfy_fs)"
   ]
  },
  {
   "cell_type": "markdown",
   "id": "665e84af",
   "metadata": {
    "papermill": {
     "duration": 1.963945,
     "end_time": "2022-02-07T12:23:46.339278",
     "exception": false,
     "start_time": "2022-02-07T12:23:44.375333",
     "status": "completed"
    },
    "tags": []
   },
   "source": [
    "# Embeddings"
   ]
  },
  {
   "cell_type": "code",
   "execution_count": 22,
   "id": "b2e3d20d",
   "metadata": {
    "execution": {
     "iopub.execute_input": "2022-02-07T12:23:49.967630Z",
     "iopub.status.busy": "2022-02-07T12:23:49.966783Z",
     "iopub.status.idle": "2022-02-07T12:23:49.968813Z",
     "shell.execute_reply": "2022-02-07T12:23:49.969218Z"
    },
    "papermill": {
     "duration": 1.810764,
     "end_time": "2022-02-07T12:23:49.969394",
     "exception": false,
     "start_time": "2022-02-07T12:23:48.158630",
     "status": "completed"
    },
    "tags": []
   },
   "outputs": [],
   "source": [
    "if conf.em_enable:\n",
    "    model = SentenceTransformer(conf.em_models[\"paraphrase-MiniLM-L6-v2\"], device=conf.device)\n",
    "    model.max_seq_length = conf.em_max_seq_length\n",
    "    em = model.encode(sentences=sentences, batch_size=conf.em_batch_size, show_progress_bar=True, convert_to_numpy=True)\n",
    "    print(f\"em.shape={em.shape}\")"
   ]
  },
  {
   "cell_type": "code",
   "execution_count": 23,
   "id": "4ccfee96",
   "metadata": {
    "execution": {
     "iopub.execute_input": "2022-02-07T12:23:54.300941Z",
     "iopub.status.busy": "2022-02-07T12:23:54.299972Z",
     "iopub.status.idle": "2022-02-07T12:23:54.304389Z",
     "shell.execute_reply": "2022-02-07T12:23:54.304812Z"
    },
    "papermill": {
     "duration": 2.516361,
     "end_time": "2022-02-07T12:23:54.304976",
     "exception": false,
     "start_time": "2022-02-07T12:23:51.788615",
     "status": "completed"
    },
    "tags": []
   },
   "outputs": [
    {
     "name": "stdout",
     "output_type": "stream",
     "text": [
      "CPU times: user 354 ms, sys: 2 ms, total: 356 ms\n",
      "Wall time: 354 ms\n"
     ]
    },
    {
     "data": {
      "text/plain": [
       "63"
      ]
     },
     "execution_count": 23,
     "metadata": {},
     "output_type": "execute_result"
    }
   ],
   "source": [
    "%%time\n",
    "if conf.em_enable:\n",
    "    em_size = em.shape[1]\n",
    "    em_cols = [f\"zz{i:04d}\" for i in range(em_size)]\n",
    "    df[em_cols] = em\n",
    "    df[em_cols] = df[em_cols].astype(np.float32)\n",
    "del sentences\n",
    "gc.collect()"
   ]
  },
  {
   "cell_type": "markdown",
   "id": "b36eb359",
   "metadata": {
    "papermill": {
     "duration": 1.835379,
     "end_time": "2022-02-07T12:23:58.008883",
     "exception": false,
     "start_time": "2022-02-07T12:23:56.173504",
     "status": "completed"
    },
    "tags": []
   },
   "source": [
    "# Inference"
   ]
  },
  {
   "cell_type": "code",
   "execution_count": 24,
   "id": "5b79c511",
   "metadata": {
    "execution": {
     "iopub.execute_input": "2022-02-07T12:24:01.708668Z",
     "iopub.status.busy": "2022-02-07T12:24:01.708006Z",
     "iopub.status.idle": "2022-02-07T12:24:02.889570Z",
     "shell.execute_reply": "2022-02-07T12:24:02.889144Z"
    },
    "papermill": {
     "duration": 3.05573,
     "end_time": "2022-02-07T12:24:02.889693",
     "exception": false,
     "start_time": "2022-02-07T12:23:59.833963",
     "status": "completed"
    },
    "tags": []
   },
   "outputs": [
    {
     "name": "stdout",
     "output_type": "stream",
     "text": [
      "4152 features\n",
      "['arousal_max', 'arousal_mean', 'arousal_min', 'automated_readability_index', 'coleman_liau_index', 'dale_chall_readability_score', 'digit_frac', 'dtm_identity_attack', 'dtm_insult', 'dtm_obscene', 'dtm_severe_toxicity', 'dtm_sexual_explicit', 'dtm_threat', 'dtm_toxicity', 'dto_identity_attack', 'dto_insult', 'dto_obscene', 'dto_severe_toxicity', 'dto_threat', 'dto_toxicity', 'dtu_identity_attack', 'dtu_insult', 'dtu_obscene', 'dtu_severe_toxicity', 'dtu_sexual_explicit', 'dtu_threat', 'dtu_toxicity', 'flesch_kincaid_grade', 'flesch_reading_ease', 'gunning_fog', 'hb_bert_abu', 'hb_bert_off', 'hb_hatebert_abu', 'hb_hatebert_off', 'length', 'letter_frac', 'linsear_write_formula', 'punc_frac', 'repeat_char_frac', 'repeat_substring_frac', 'smog_index', 'space_frac', 'syllables_per_sent', 'syllables_per_word', 'te_roberta_emo_anger', 'te_roberta_iro', 'te_roberta_off', 'te_roberta_snt_neg', 'te_xlm_roberta_snt_neg', 'ti_abandon', 'ti_abandonment', 'ti_abash', 'ti_abduct', 'ti_abduction', 'ti_aberrant', 'ti_aberration', 'ti_abhor', 'ti_abhorrence', 'ti_abhorrent', 'ti_ablaze', 'ti_abnormal', 'ti_abnormality', 'ti_abominable', 'ti_abominate', 'ti_abomination', 'ti_abort', 'ti_abortion', 'ti_abortive', 'ti_abrupt', 'ti_abruptly', 'ti_abscess', 'ti_absence', 'ti_absent', 'ti_absentee', 'ti_absurd', 'ti_absurdity', 'ti_abuse', 'ti_abusive', 'ti_accelerant', 'ti_accelerate', 'ti_acceleration', 'ti_accelerator', 'ti_accident', 'ti_accidental', 'ti_acclaim', 'ti_accurse', 'ti_accusation', 'ti_accusative', 'ti_accuse', 'ti_accuser', 'ti_ache', 'ti_achievement', 'ti_achy', 'ti_acidity', 'ti_acne', 'ti_acrobat', 'ti_action', 'ti_action_figure', 'ti_activation', 'ti_addict', 'ti_addicted', 'ti_addiction', 'ti_adrenalin', 'ti_adrenaline', 'ti_adulterate', 'ti_adulterer', 'ti_adultery', 'ti_adventure', 'ti_adventurer', 'ti_adventurous', 'ti_adversary', 'ti_adversity', 'ti_aerobic', 'ti_afire', 'ti_afraid', 'ti_african', 'ti_african_american', 'ti_age', 'ti_aged', 'ti_agglomeration', 'ti_aggravate', 'ti_aggravating', 'ti_aggravation', 'ti_aggresive', 'ti_aggression', 'ti_aggressive', 'ti_aggressively', 'ti_aggressiveness', 'ti_aggressor', 'ti_aghast', 'ti_agitate', 'ti_agitation', 'ti_agonizing', 'ti_agony', 'ti_agoraphobia', 'ti_agressive', 'ti_ail', 'ti_ailment', 'ti_aimless', 'ti_airliner', 'ti_airspeed', 'ti_alabama_hot_pocket', 'ti_alarm', 'ti_alarming', 'ti_alaskan_pipeline', 'ti_alcoholic', 'ti_alcoholism', 'ti_alert', 'ti_alertness', 'ti_alienate', 'ti_allergic', 'ti_almighty', 'ti_aloof', 'ti_alter', 'ti_alteration', 'ti_altercation', 'ti_alzheimers', 'ti_amaze', 'ti_amazed', 'ti_amazedness', 'ti_amazement', 'ti_amazing', 'ti_amazingly', 'ti_ambiguity', 'ti_ambition', 'ti_ambitious', 'ti_ambush', 'ti_american', 'ti_ammo', 'ti_amphetamine', 'ti_amputate', 'ti_amputation', 'ti_amuse', 'ti_amusement', 'ti_amusing', 'ti_anaconda', 'ti_anal', 'ti_analplug', 'ti_analsex', 'ti_anarchism', 'ti_anarchist', 'ti_anarchy', 'ti_anemia', 'ti_anemic', 'ti_aneurysm', 'ti_anger', 'ti_angina', 'ti_angry', 'ti_angst', 'ti_anguish', 'ti_anilingus', 'ti_animate', 'ti_annihilate', 'ti_annihilation', 'ti_anniversary', 'ti_annoy', 'ti_annoyance', 'ti_annulment', 'ti_anomaly', 'ti_anorexic', 'ti_antagonism', 'ti_antagonist', 'ti_antagonize', 'ti_anthrax', 'ti_antichrist', 'ti_antipathy', 'ti_antisocial', 'ti_anus', 'ti_anxiety', 'ti_anxietyattack', 'ti_anxious', 'ti_anxiousness', 'ti_apathetic', 'ti_apathy', 'ti_apeshit', 'ti_aphrodisiac', 'ti_apocalypse', 'ti_apocalyptic', 'ti_appal', 'ti_appalling', 'ti_appendage', 'ti_appendectomy', 'ti_appendicitis', 'ti_applaud', 'ti_applause', 'ti_ardent', 'ti_ardor', 'ti_arduous', 'ti_argue', 'ti_armament', 'ti_armed', 'ti_army', 'ti_arousal', 'ti_arouse', 'ti_arraignment', 'ti_arrest', 'ti_arrogance', 'ti_arrogant', 'ti_arse', 'ti_arsehole', 'ti_arson', 'ti_arsonist', 'ti_arthritis', 'ti_artillery', 'ti_ashame', 'ti_asian', 'ti_asphyxia', 'ti_asphyxiation', 'ti_ass', 'ti_assailant', 'ti_assassin', 'ti_assassinate', 'ti_assassination', 'ti_assault', 'ti_asset', 'ti_asshole', 'ti_assmunch', 'ti_asthma', 'ti_asthmatic', 'ti_astigmatism', 'ti_astonish', 'ti_astonishing', 'ti_astonishingly', 'ti_astray', 'ti_asunder', 'ti_atheist', 'ti_athletic', 'ti_athleticism', 'ti_atomic', 'ti_atrocious', 'ti_atrocity', 'ti_atrophy', 'ti_attack', 'ti_attacker', 'ti_attestation', 'ti_attraction', 'ti_attrition', 'ti_audacious', 'ti_audacity', 'ti_audition', 'ti_autism', 'ti_auto_erotic', 'ti_autoerotic', 'ti_avalanche', 'ti_avarice', 'ti_avenge', 'ti_avenger', 'ti_aversion', 'ti_awe', 'ti_awesome', 'ti_awestruck', 'ti_awful', 'ti_awkwardness', 'ti_awry', 'ti_axis', 'ti_babeland', 'ti_baby_batter', 'ti_baby_juice', 'ti_bachelorette', 'ti_backoff', 'ti_backside', 'ti_backwardness', 'ti_bacteria', 'ti_bacterial', 'ti_bacterium', 'ti_bad', 'ti_badass', 'ti_badhabit', 'ti_badly', 'ti_badness', 'ti_baffle', 'ti_balk', 'ti_ball', 'ti_ball_gag', 'ti_ball_gravy', 'ti_ball_kicking', 'ti_ball_lick', 'ti_ball_sack', 'ti_ball_suck', 'ti_ballgame', 'ti_ballistic', 'ti_ballplayer', 'ti_ban', 'ti_bandage', 'ti_bandit', 'ti_bang', 'ti_bangbro', 'ti_bangbus', 'ti_banish', 'ti_banishment', 'ti_bankrupt', 'ti_bankruptcy', 'ti_bar', 'ti_barb', 'ti_barbarian', 'ti_barbaric', 'ti_barbarism', 'ti_bareback', 'ti_barely_legal', 'ti_barenaked', 'ti_barrage', 'ti_barren', 'ti_baseball', 'ti_basketball', 'ti_bastard', 'ti_bastarde', 'ti_bastardo', 'ti_bastinado', 'ti_battalion', 'ti_batter', 'ti_battle', 'ti_battlefield', 'ti_battleground', 'ti_bawdy', 'ti_bawl', 'ti_bayonet', 'ti_bazooka', 'ti_bbw', 'ti_bdsm', 'ti_beaner', 'ti_beast', 'ti_beastiality', 'ti_beastly', 'ti_beat', 'ti_beaver_cleaver', 'ti_beaver_lip', 'ti_befuddled', 'ti_beggar', 'ti_begrudge', 'ti_behemoth', 'ti_belated', 'ti_belch', 'ti_belittle', 'ti_bellow', 'ti_bellyful', 'ti_bereaved', 'ti_bereft', 'ti_bestial', 'ti_bestiality', 'ti_bet', 'ti_betray', 'ti_betrayal', 'ti_beware', 'ti_bewb', 'ti_bewildered', 'ti_bicker', 'ti_bickering', 'ti_big_black', 'ti_big_breast', 'ti_big_knocker', 'ti_big_tit', 'ti_biggestfear', 'ti_bigoted', 'ti_bile', 'ti_bimbo', 'ti_bipolar', 'ti_birdlock', 'ti_birth', 'ti_birthday', 'ti_bisexual', 'ti_bitch', 'ti_bitchy', 'ti_bite', 'ti_bitter', 'ti_bitterly', 'ti_bitterness', 'ti_black', 'ti_black_cock', 'ti_blacken', 'ti_blacklist', 'ti_blackmail', 'ti_blackmailer', 'ti_blackout', 'ti_blame', 'ti_blasphemous', 'ti_blasphemy', 'ti_blast', 'ti_blastoff', 'ti_blaze', 'ti_bleak', 'ti_bleed', 'ti_bleeder', 'ti_blemish', 'ti_blemished', 'ti_blight', 'ti_blind', 'ti_blindfold', 'ti_blindness', 'ti_bloat', 'ti_bloated', 'ti_blockhead', 'ti_blonde_action', 'ti_blood', 'ti_bloodbath', 'ti_bloodshe', 'ti_bloodshot', 'ti_bloodthirsty', 'ti_bloody', 'ti_bloodyhell', 'ti_blotch', 'ti_blow', 'ti_blow_job', 'ti_blow_your_load', 'ti_blowjob', 'ti_blowout', 'ti_blue_waffle', 'ti_blumpkin', 'ti_blunder', 'ti_blurry', 'ti_blush', 'ti_boa_constrictor', 'ti_boastful', 'ti_bogus', 'ti_boisterous', 'ti_bollock', 'ti_bomb', 'ti_bombard', 'ti_bombardier', 'ti_bombardment', 'ti_bomber', 'ti_bombshell', 'ti_bondage', 'ti_boner', 'ti_bonker', 'ti_boo', 'ti_boob', 'ti_booby', 'ti_bookmaker', 'ti_booty_call', 'ti_bored', 'ti_boredom', 'ti_boring', 'ti_bossy', 'ti_bother', 'ti_bounty', 'ti_bout', 'ti_bowel', 'ti_boxer', 'ti_boxing', 'ti_boy', 'ti_boycott', 'ti_brainless', 'ti_brainstorm', 'ti_brainwash', 'ti_brash', 'ti_brawl', 'ti_breach', 'ti_break', 'ti_breakable', 'ti_breakaway', 'ti_breakneck', 'ti_breathtaking', 'ti_bribe', 'ti_bribery', 'ti_brick', 'ti_brokenheart', 'ti_brokenhearted', 'ti_brothel', 'ti_brown_shower', 'ti_bruise', 'ti_brunette_action', 'ti_brunt', 'ti_brutal', 'ti_brutality', 'ti_brute', 'ti_brutish', 'ti_buddhist', 'ti_budge', 'ti_bugger', 'ti_bukkake', 'ti_bulimic', 'ti_bulldyke', 'ti_bullet', 'ti_bullet_vibe', 'ti_bullfighter', 'ti_bullheaded', 'ti_bullshit', 'ti_bully', 'ti_bummer', 'ti_bung_hole', 'ti_bunghole', 'ti_burdensome', 'ti_bureaucrat', 'ti_burglar', 'ti_burglary', 'ti_burial', 'ti_burn', 'ti_burner', 'ti_burnout', 'ti_burp', 'ti_burst', 'ti_bury', 'ti_bust', 'ti_bustle', 'ti_busty', 'ti_butt', 'ti_buttcheek', 'ti_butthole', 'ti_buy', 'ti_bygone', 'ti_cadaver', 'ti_caffeine', 'ti_calamitous', 'ti_calamity', 'ti_callous', 'ti_camel_toe', 'ti_camgirl', 'ti_camslut', 'ti_camwhore', 'ti_canadian', 'ti_cancel', 'ti_cancellation', 'ti_cancer', 'ti_cannibal', 'ti_cannibalism', 'ti_cannonball', 'ti_capricious', 'ti_captive', 'ti_captivity', 'ti_carcass', 'ti_carcinoma', 'ti_cardiac', 'ti_cardiology', 'ti_cardiomyopathy', 'ti_carelessness', 'ti_carie', 'ti_carnival', 'ti_carnivorous', 'ti_carpet_muncher', 'ti_carpetmuncher', 'ti_carsick', 'ti_casket', 'ti_castaway', 'ti_castrate', 'ti_castration', 'ti_casualty', 'ti_catapult', 'ti_catastrophe', 'ti_catastrophic', 'ti_catch', 'ti_catholic', 'ti_caveman', 'ti_cawk', 'ti_celebrate', 'ti_celebration', 'ti_cellblock', 'ti_cellmate', 'ti_cellulite', 'ti_cemetery', 'ti_censorship', 'ti_censure', 'ti_cesspool', 'ti_chagrin', 'ti_chainsaw', 'ti_challenge', 'ti_challenger', 'ti_champ', 'ti_champion', 'ti_championship', 'ti_chaos', 'ti_chaotic', 'ti_char', 'ti_charlatan', 'ti_chase', 'ti_chaser', 'ti_chastened', 'ti_chastisement', 'ti_cheapskate', 'ti_cheat', 'ti_cheater', 'ti_cheer', 'ti_cheerfulness', 'ti_cheerleading', 'ti_cheerless', 'ti_cheetah', 'ti_chemo', 'ti_chemotherapy', 'ti_chicken_pox', 'ti_chickenpox', 'ti_childbirth', 'ti_childloss', 'ti_chilling', 'ti_chinese', 'ti_chink', 'ti_choad', 'ti_chocolate_rosebud', 'ti_choke', 'ti_cholera', 'ti_cholesterol', 'ti_choosy', 'ti_christian', 'ti_cialis', 'ti_cigarette', 'ti_circlejerk', 'ti_cirrhosis', 'ti_claim', 'ti_clap', 'ti_clash', 'ti_clatter', 'ti_claustrophobia', 'ti_claustrophobic', 'ti_cleaver', 'ti_cleveland_steamer', 'ti_climax', 'ti_clingy', 'ti_clit', 'ti_clitoris', 'ti_clog', 'ti_clone', 'ti_close', 'ti_closure', 'ti_clot', 'ti_cloud', 'ti_clover_clamp', 'ti_clumsy', 'ti_clusterfuck', 'ti_clutter', 'ti_coach', 'ti_coaster', 'ti_cocaine', 'ti_cock', 'ti_cockroach', 'ti_cocksucker', 'ti_cocky', 'ti_coffin', 'ti_coldness', 'ti_colic', 'ti_collapse', 'ti_collide', 'ti_collision', 'ti_colonoscopy', 'ti_coma', 'ti_comatose', 'ti_combat', 'ti_combatant', 'ti_combustion', 'ti_command', 'ti_compel', 'ti_competence', 'ti_competency', 'ti_competition', 'ti_competitor', 'ti_complain', 'ti_complaint', 'ti_complicate', 'ti_compulsion', 'ti_compulsive', 'ti_conceited', 'ti_concert', 'ti_concerto', 'ti_concussion', 'ti_condemn', 'ti_condemnation', 'ti_condolence', 'ti_condom', 'ti_confiscation', 'ti_conflict', 'ti_confront', 'ti_confrontation', 'ti_confuse', 'ti_confused', 'ti_confusing', 'ti_congratulation', 'ti_conjure', 'ti_conquer', 'ti_conqueror', 'ti_conscription', 'ti_consequence', 'ti_conspiracy', 'ti_conspirator', 'ti_conspire', 'ti_consternation', 'ti_constipation', 'ti_constrain', 'ti_contagion', 'ti_contagious', 'ti_contaminate', 'ti_contamination', 'ti_contempt', 'ti_contemptible', 'ti_contemptuous', 'ti_contender', 'ti_contraband', 'ti_contraction', 'ti_contradict', 'ti_controversial', 'ti_controversy', 'ti_contusion', 'ti_convict', 'ti_coon', 'ti_cooter', 'ti_cop', 'ti_coprolagnia', 'ti_coprophilia', 'ti_cornhole', 'ti_corpse', 'ti_corrosion', 'ti_corrosive', 'ti_corrupt', 'ti_corruption', 'ti_counterattack', 'ti_counterclaim', 'ti_counterfeit', 'ti_coup', 'ti_court', 'ti_covet', 'ti_coward', 'ti_cowardice', 'ti_cowardly', 'ti_crabby', 'ti_crack', 'ti_cramp', 'ti_cramped', 'ti_cranky', 'ti_cranny', 'ti_crap', 'ti_crappy', 'ti_crash', 'ti_crass', 'ti_crave', 'ti_crazed', 'ti_craziness', 'ti_crazy', 'ti_creampie', 'ti_creepy', 'ti_cremation', 'ti_crestfallen', 'ti_cretin', 'ti_crime', 'ti_criminal', 'ti_criminality', 'ti_cringe', 'ti_cripple', 'ti_crisis', 'ti_critical', 'ti_criticise', 'ti_criticism', 'ti_criticize', 'ti_critique', 'ti_crook', 'ti_crooked', 'ti_crossfire', 'ti_crow', 'ti_crowd', 'ti_crucifixion', 'ti_crucify', 'ti_crude', 'ti_cruel', 'ti_cruelly', 'ti_cruelty', 'ti_crumble', 'ti_crummy', 'ti_crush', 'ti_cry', 'ti_crypt', 'ti_cuckold', 'ti_culpability', 'ti_culpable', 'ti_culprit', 'ti_cum', 'ti_cumme', 'ti_cumshot', 'ti_cunnilingus', 'ti_cunt', 'ti_curfew', 'ti_curiosity', 'ti_curse', 'ti_curt', 'ti_curtailment', 'ti_cuss', 'ti_cutlass', 'ti_cutter', 'ti_cutthroat', 'ti_cyanide', 'ti_cyclone', 'ti_cynic', 'ti_cynical', 'ti_cynicism', 'ti_cyst', 'ti_cytomegalovirus', 'ti_dagger', 'ti_damage', 'ti_damm', 'ti_dammit', 'ti_damn', 'ti_damnation', 'ti_dance', 'ti_dancer', 'ti_danger', 'ti_dangerous', 'ti_dangerously', 'ti_dare', 'ti_dark', 'ti_darken', 'ti_darkie', 'ti_darkly', 'ti_darkness', 'ti_darkroom', 'ti_darkside', 'ti_darn', 'ti_dastardly', 'ti_date_rape', 'ti_daterape', 'ti_daze', 'ti_dazzle', 'ti_dazzling', 'ti_deactivate', 'ti_dead', 'ti_deadbeat', 'ti_deadline', 'ti_deadlock', 'ti_deadly', 'ti_deaf', 'ti_deafen', 'ti_deafness', 'ti_dearth', 'ti_death', 'ti_deathbed', 'ti_deathly', 'ti_debacle', 'ti_debase', 'ti_debatable', 'ti_debauchery', 'ti_debilitate', 'ti_debrief', 'ti_debris', 'ti_debt', 'ti_debtor', 'ti_decadence', 'ti_decathlon', 'ti_decay', 'ti_deceased', 'ti_deceit', 'ti_deceitful', 'ti_deceive', 'ti_deception', 'ti_deceptive', 'ti_decline', 'ti_decompose', 'ti_decomposition', 'ti_decompression', 'ti_decoy', 'ti_decrease', 'ti_decrepit', 'ti_decry', 'ti_deep_throat', 'ti_deepthroat', 'ti_defamation', 'ti_defamatory', 'ti_defeat', 'ti_defeatist', 'ti_defect', 'ti_defection', 'ti_defective', 'ti_defector', 'ti_defend', 'ti_defenseless', 'ti_defer', 'ti_defiance', 'ti_defiant', 'ti_deficiency', 'ti_deficient', 'ti_deflate', 'ti_deflect', 'ti_deflection', 'ti_defloration', 'ti_deform', 'ti_deformity', 'ti_defraud', 'ti_defunct', 'ti_defuse', 'ti_defy', 'ti_degeneracy', 'ti_degenerate', 'ti_degeneration', 'ti_degradation', 'ti_degrade', 'ti_dehydration', 'ti_dejected', 'ti_delay', 'ti_deletion', 'ti_delinquency', 'ti_delinquent', 'ti_delirious', 'ti_delirium', 'ti_delude', 'ti_deluge', 'ti_delusional', 'ti_demeaning', 'ti_demented', 'ti_dementia', 'ti_demise', 'ti_demolish', 'ti_demolition', 'ti_demon', 'ti_demonic', 'ti_demoralize', 'ti_dendrophilia', 'ti_deniability', 'ti_denial', 'ti_denounce', 'ti_denunciation', 'ti_deny', 'ti_depart', 'ti_depletion', 'ti_deplorable', 'ti_deplore', 'ti_deport', 'ti_deportation', 'ti_depraved', 'ti_depravity', 'ti_depreciate', 'ti_depreciation', 'ti_depress', 'ti_depressed', 'ti_depression', 'ti_depressive', 'ti_depresson', 'ti_deprivation', 'ti_derail', 'ti_deranged', 'ti_derelict', 'ti_derogation', 'ti_derogatory', 'ti_descend', 'ti_desecrate', 'ti_desecration', 'ti_desert', 'ti_deserter', 'ti_desertion', 'ti_desire', 'ti_desirous', 'ti_desist', 'ti_desolate', 'ti_desolation', 'ti_despair', 'ti_desperate', 'ti_desperation', 'ti_despicable', 'ti_despise', 'ti_despondent', 'ti_despotic', 'ti_destitute', 'ti_destroy', 'ti_destroyer', 'ti_destruct', 'ti_destruction', 'ti_destructive', 'ti_detachment', 'ti_detective', 'ti_deteriorate', 'ti_deterioration', 'ti_detest', 'ti_detestation', 'ti_detonate', 'ti_detonation', 'ti_detonator', 'ti_detrimental', 'ti_devastate', 'ti_devastating', 'ti_devastation', 'ti_deviant', 'ti_deviate', 'ti_deviation', 'ti_devil', 'ti_devilish', 'ti_devoid', 'ti_devour', 'ti_diabete', 'ti_diabetic', 'ti_diabolical', 'ti_dialysis', 'ti_diarrhea', 'ti_diarrhoea', 'ti_dicey', 'ti_dick', 'ti_dickhead', 'ti_dictator', 'ti_dictatorial', 'ti_dictatorship', 'ti_die', 'ti_differ', 'ti_difficult', 'ti_difficulty', 'ti_dilapidated', 'ti_dildo', 'ti_dilemma', 'ti_diminish', 'ti_dingleberrie', 'ti_dingleberry', 'ti_dingy', 'ti_dire', 'ti_dirt', 'ti_dirty', 'ti_dirty_pillow', 'ti_dirty_sanchez', 'ti_disability', 'ti_disable', 'ti_disadvantage', 'ti_disaffected', 'ti_disagree', 'ti_disagreeable', 'ti_disagreement', 'ti_disallow', 'ti_disapointment', 'ti_disappear', 'ti_disappearance', 'ti_disappoint', 'ti_disappointing', 'ti_disappointment', 'ti_disapproval', 'ti_disapprove', 'ti_disarray', 'ti_disaster', 'ti_disastrous', 'ti_disbelief', 'ti_disbelieve', 'ti_disbursement', 'ti_discard', 'ti_disclaim', 'ti_disco', 'ti_discolor', 'ti_discoloration', 'ti_discomfort', 'ti_disconcert', 'ti_disconcerting', 'ti_disconnection', 'ti_discontent', 'ti_discontinuance', 'ti_discontinuous', 'ti_discord', 'ti_discourage', 'ti_discouragement', 'ti_discover', 'ti_discredit', 'ti_discriminate', 'ti_discrimination', 'ti_discuss', 'ti_discussion', 'ti_disdain', 'ti_disdainful', 'ti_disease', 'ti_diseased', 'ti_disembodied', 'ti_disfigure', 'ti_disgrace', 'ti_disgraceful', 'ti_disgruntled', 'ti_disgust', 'ti_disgusted', 'ti_disgusting', 'ti_dishearten', 'ti_disheartening', 'ti_dishonest', 'ti_dishonesty', 'ti_dishonor', 'ti_dishonorable', 'ti_disillusionment', 'ti_disinclination', 'ti_disinformation', 'ti_disingenuous', 'ti_disintegrate', 'ti_disintegration', 'ti_dislike', 'ti_dislocate', 'ti_dislocation', 'ti_dislodge', 'ti_disloyal', 'ti_disloyalty', 'ti_dismal', 'ti_dismay', 'ti_dismemberment', 'ti_dismiss', 'ti_dismissal', 'ti_dismissive', 'ti_disobedience', 'ti_disobey', 'ti_disorder', 'ti_disorderly', 'ti_disorganized', 'ti_disorient', 'ti_disorientation', 'ti_disown', 'ti_disparage', 'ti_disparity', 'ti_dispassionate', 'ti_dispirited', 'ti_displease', 'ti_displeasure', 'ti_disposal', 'ti_dispute', 'ti_disqualification', 'ti_disqualify', 'ti_disquiet', 'ti_disregard', 'ti_disreputable', 'ti_disrepute', 'ti_disrespect', 'ti_disrespectful', 'ti_disrupt', 'ti_disruption', 'ti_disruptive', 'ti_dissatisfaction', 'ti_dissatisfied', 'ti_dissent', 'ti_disservice', 'ti_dissociation', 'ti_dissolution', 'ti_dissonance', 'ti_distance', 'ti_distant', 'ti_distaste', 'ti_distort', 'ti_distract', 'ti_distraught', 'ti_distress', 'ti_distressing', 'ti_distrust', 'ti_disturb', 'ti_disturbance', 'ti_disuse', 'ti_diversion', 'ti_divorce', 'ti_divorcee', 'ti_dizziness', 'ti_dizzy', 'ti_dock', 'ti_dodge', 'ti_dog_style', 'ti_dogface', 'ti_doggie_style', 'ti_doggiestyle', 'ti_doggy_style', 'ti_doggystyle', 'ti_dolcett', 'ti_doldrum', 'ti_dolor', 'ti_dominance', 'ti_dominant', 'ti_dominate', 'ti_domination', 'ti_dominatrix', 'ti_domme', 'ti_dong', 'ti_donkey_punch', 'ti_dontlikeyou', 'ti_dontunderstand', 'ti_doom', 'ti_doomsday', 'ti_dope', 'ti_double_dong', 'ti_double_penetration', 'ti_doubt', 'ti_douche', 'ti_down', 'ti_downcast', 'ti_downer', 'ti_downfall', 'ti_downhearted', 'ti_downside', 'ti_downtime', 'ti_downward', 'ti_dp_action', 'ti_dragon', 'ti_drainage', 'ti_drama', 'ti_dramatic', 'ti_drastic', 'ti_dread', 'ti_dreadful', 'ti_dreadfully', 'ti_droop', 'ti_drought', 'ti_drown', 'ti_drudgery', 'ti_drug', 'ti_drug_deal', 'ti_druggist', 'ti_drunk', 'ti_drunk_driving', 'ti_drunkard', 'ti_drunken', 'ti_drunkenness', 'ti_dry_hump', 'ti_dud', 'ti_dull', 'ti_dumb', 'ti_dumpster', 'ti_dunce', 'ti_dung', 'ti_dupe', 'ti_dusky', 'ti_dvda', 'ti_dyke', 'ti_dynamite', 'ti_dysfunction', 'ti_dysfunctional', 'ti_dyspepsia', 'ti_eager', 'ti_earn', 'ti_earthquake', 'ti_eat_my_ass', 'ti_ebullient', 'ti_eccentric', 'ti_ecchi', 'ti_ecstasy', 'ti_ecstatic', 'ti_edgy', 'ti_eerie', 'ti_effort', 'ti_egomaniac', 'ti_egotistical', 'ti_egregious', 'ti_ejaculate', 'ti_ejaculation', 'ti_ejection', 'ti_elate', 'ti_elation', 'ti_elderly', 'ti_electricity', 'ti_electrify', 'ti_electrocution', 'ti_elevation', 'ti_elimination', 'ti_elusive', 'ti_emaciated', 'ti_embargo', 'ti_embarrass', 'ti_embarrassed', 'ti_embarrassment', 'ti_embattle', 'ti_embezzlement', 'ti_embezzler', 'ti_embolism', 'ti_emergence', 'ti_emergency', 'ti_emetophobia', 'ti_emigrate', 'ti_emotion', 'ti_emphysema', 'ti_empower', 'ti_emptiness', 'ti_empty', 'ti_enchantment', 'ti_end', 'ti_endanger', 'ti_endangerment', 'ti_endeavor', 'ti_endocarditis', 'ti_enemy', 'ti_energetic', 'ti_energize', 'ti_engage', 'ti_enjoy', 'ti_enmity', 'ti_enrage', 'ti_enslave', 'ti_enslavement', 'ti_entanglement', 'ti_enterprise', 'ti_enthusiasm', 'ti_enthusiast', 'ti_enthusiastic', 'ti_entice', 'ti_entrapment', 'ti_envious', 'ti_envy', 'ti_epidemic', 'ti_epilepsy', 'ti_epileptic', 'ti_eradication', 'ti_erase', 'ti_erect', 'ti_erectile', 'ti_erection', 'ti_erode', 'ti_erosion', 'ti_erotic', 'ti_erotica', 'ti_erotism', 'ti_err', 'ti_errant', 'ti_erroneous', 'ti_error', 'ti_erupt', 'ti_eruption', 'ti_escalation', 'ti_escape', 'ti_eschew', 'ti_escort', 'ti_estranged', 'ti_eunuch', 'ti_euphoria', 'ti_euphoric', 'ti_european', 'ti_euthanasia', 'ti_evacuate', 'ti_evacuation', 'ti_evasion', 'ti_evasive', 'ti_eventful', 'ti_evict', 'ti_eviction', 'ti_evil', 'ti_exacerbate', 'ti_exacerbation', 'ti_exaggerate', 'ti_exaggerated', 'ti_exaggeration', 'ti_exalt', 'ti_exaltation', 'ti_exasperate', 'ti_exasperation', 'ti_exceed', 'ti_excess', 'ti_excessively', 'ti_excitability', 'ti_excitable', 'ti_excitation', 'ti_excite', 'ti_excited', 'ti_exciting', 'ti_exclude', 'ti_exclusion', 'ti_excrement', 'ti_excruciating', 'ti_excuse', 'ti_execution', 'ti_executioner', 'ti_executor', 'ti_exercise', 'ti_exertion', 'ti_exhausted', 'ti_exhilarate', 'ti_exhilarated', 'ti_exhilaration', 'ti_exhumation', 'ti_exhume', 'ti_exile', 'ti_exorbitant', 'ti_exorcism', 'ti_exorcist', 'ti_expatriate', 'ti_expedite', 'ti_expedition', 'ti_expense', 'ti_experimental', 'ti_experimentation', 'ti_expire', 'ti_expiry', 'ti_explode', 'ti_exploit', 'ti_exploitation', 'ti_explosion', 'ti_explosive', 'ti_exposure', 'ti_expropriation', 'ti_expulsion', 'ti_exterminate', 'ti_extermination', 'ti_exterminator', 'ti_extinct', 'ti_extinction', 'ti_extinguish', 'ti_extort', 'ti_extortion', 'ti_extradition', 'ti_extraordinaire', 'ti_extraterrestrial', 'ti_extravagance', 'ti_extravagant', 'ti_extravaganza', 'ti_extreme', 'ti_extreme_disgust', 'ti_extreme_surprise', 'ti_extremely', 'ti_extremely_negative', 'ti_extrusion', 'ti_exuberance', 'ti_f0ck', 'ti_faceless', 'ti_faece', 'ti_fag', 'ti_faggot', 'ti_fail', 'ti_failure', 'ti_faint', 'ti_faithless', 'ti_fake', 'ti_faker', 'ti_fall', 'ti_fallacy', 'ti_false', 'ti_falsehood', 'ti_falsely', 'ti_falsification', 'ti_falsify', 'ti_falsity', 'ti_fame', 'ti_famine', 'ti_famished', 'ti_famous', 'ti_famously', 'ti_fanatic', 'ti_fanatical', 'ti_fanaticism', 'ti_fang', 'ti_fanny', 'ti_farewell', 'ti_fart', 'ti_fascinating', 'ti_fascination', 'ti_fascism', 'ti_fascist', 'ti_fat', 'ti_fatal', 'ti_fatalism', 'ti_fatality', 'ti_fatigue', 'ti_fault', 'ti_faulty', 'ti_fck', 'ti_fcker', 'ti_fckr', 'ti_fcku', 'ti_fcuk', 'ti_fear', 'ti_fearful', 'ti_fearfully', 'ti_fearless', 'ti_fearsome', 'ti_fecal', 'ti_fece', 'ti_feeble', 'ti_feign', 'ti_feisty', 'ti_felch', 'ti_fellatio', 'ti_felon', 'ti_felony', 'ti_feltch', 'ti_female', 'ti_female_squirting', 'ti_femdom', 'ti_feminist', 'ti_ferocious', 'ti_ferocity', 'ti_fervor', 'ti_feud', 'ti_feudalism', 'ti_fever', 'ti_fiasco', 'ti_fibrosis', 'ti_fictitious', 'ti_fidgety', 'ti_field_hockey', 'ti_fiend', 'ti_fiendish', 'ti_fierce', 'ti_fiery', 'ti_fiesta', 'ti_figging', 'ti_fight', 'ti_fighter', 'ti_filth', 'ti_filthy', 'ti_finalize', 'ti_finger', 'ti_fingerbang', 'ti_fire', 'ti_firearm', 'ti_fireball', 'ti_firefight', 'ti_firefighter', 'ti_firepower', 'ti_firestorm', 'ti_firework', 'ti_fishy', 'ti_fistfight', 'ti_fisting', 'ti_flabbergast', 'ti_flaccid', 'ti_flamboyant', 'ti_flamethrower', 'ti_flammable', 'ti_flare', 'ti_flatulence', 'ti_flawed', 'ti_flee', 'ti_flighty', 'ti_flinch', 'ti_flirt', 'ti_flood', 'ti_flop', 'ti_flu', 'ti_flunk', 'ti_flunky', 'ti_flurry', 'ti_flush', 'ti_flustered', 'ti_fly', 'ti_foe', 'ti_foil', 'ti_fold', 'ti_folly', 'ti_fool', 'ti_foolhardy', 'ti_foolishness', 'ti_foot_fetish', 'ti_football', 'ti_footjob', 'ti_forbid', 'ti_force', 'ti_foreclose', 'ti_foreclosure', 'ti_forensic', 'ti_foreskin', 'ti_forfeit', 'ti_forfeiture', 'ti_forger', 'ti_forgery', 'ti_forget', 'ti_forgetful', 'ti_fornicate', 'ti_fornication', 'ti_forsake', 'ti_fortification', 'ti_fortify', 'ti_foul', 'ti_fracture', 'ti_fragment', 'ti_frantic', 'ti_frantically', 'ti_fraud', 'ti_fraudulent', 'ti_freak', 'ti_freakingout', 'ti_freakish', 'ti_freaky', 'ti_freeze', 'ti_frenetic', 'ti_frenzied', 'ti_frenzy', 'ti_friction', 'ti_friendless', 'ti_fright', 'ti_frighten', 'ti_frightening', 'ti_frightful', 'ti_frigid', 'ti_frolic', 'ti_frostbite', 'ti_frotte', 'ti_frown', 'ti_frustrate', 'ti_frustrating', 'ti_frustration', 'ti_fuck', 'ti_fuck_button', 'ti_fuckedoff', 'ti_fucker', 'ti_fuckface', 'ti_fuckin', 'ti_fucking', 'ti_fuckoff', 'ti_fuckr', 'ti_fucksake', 'ti_fucktard', 'ti_fuckyeah', 'ti_fuct', 'ti_fudge_packer', 'ti_fudgepacker', 'ti_fugitive', 'ti_fuk', 'ti_fume', 'ti_fun', 'ti_funeral', 'ti_funky', 'ti_furious', 'ti_furiously', 'ti_furor', 'ti_fury', 'ti_fuss', 'ti_fustrated', 'ti_futanari', 'ti_futile', 'ti_futility', 'ti_g_-_spot', 'ti_gaiety', 'ti_gallop', 'ti_gallow', 'ti_gamble', 'ti_gambling', 'ti_game', 'ti_gang', 'ti_gang_bang', 'ti_gangbang', 'ti_gangrene', 'ti_gangster', 'ti_gaol', 'ti_garbage', 'ti_garbled', 'ti_gasp', 'ti_gaunt', 'ti_gay', 'ti_gay_sex', 'ti_genital', 'ti_genitalia', 'ti_genocide', 'ti_germ', 'ti_getaway', 'ti_ghastly', 'ti_ghost', 'ti_ghostly', 'ti_giant', 'ti_giant_cock', 'ti_giddy', 'ti_gift', 'ti_gig', 'ti_gigantic', 'ti_girl', 'ti_girl_go_wild', 'ti_girl_on', 'ti_girl_on_top', 'ti_girlfriend', 'ti_glad', 'ti_gladiator', 'ti_glare', 'ti_glaucoma', 'ti_gleeful', 'ti_gloom', 'ti_gloomy', 'ti_glory_hole', 'ti_gloryhole', 'ti_glum', 'ti_goatcx', 'ti_goatse', 'ti_gobshite', 'ti_god_damn', 'ti_godammet', 'ti_godammit', 'ti_goddammet', 'ti_goddammit', 'ti_goddamn', 'ti_goddamned', 'ti_gofuckyourself', 'ti_gokkun', 'ti_golden_shower', 'ti_gonorrhea', 'ti_goo_girl', 'ti_goodbye', 'ti_goodpoop', 'ti_gook', 'ti_goregasm', 'ti_gory', 'ti_gossip', 'ti_gothic', 'ti_grandeur', 'ti_grave', 'ti_graveyard', 'ti_great_disgust', 'ti_great_surprise', 'ti_greatly_negative', 'ti_greed', 'ti_greedy', 'ti_green_snake', 'ti_grenade', 'ti_grief', 'ti_grievance', 'ti_grieve', 'ti_grievous', 'ti_grime', 'ti_grimy', 'ti_gripe', 'ti_grisly', 'ti_groggy', 'ti_grope', 'ti_gross', 'ti_grotesque', 'ti_grouchy', 'ti_group_sex', 'ti_growl', 'ti_growthefuckup', 'ti_grr', 'ti_grrr', 'ti_grubby', 'ti_grudge', 'ti_grudging', 'ti_grudgingly', 'ti_gruele', 'ti_gruesome', 'ti_grumble', 'ti_grumpy', 'ti_grunt', 'ti_guerilla', 'ti_guerrilla', 'ti_guillotine', 'ti_guilt', 'ti_guilty', 'ti_gun', 'ti_gunboat', 'ti_gunfight', 'ti_gunfighter', 'ti_gunfire', 'ti_gunman', 'ti_gunner', 'ti_gunnery', 'ti_gunplay', 'ti_gunpoint', 'ti_gunpowder', 'ti_gunshot', 'ti_gunslinger', 'ti_guro', 'ti_gust', 'ti_gymnast', 'ti_gypo', 'ti_hack', 'ti_hacker', 'ti_hag', 'ti_haggard', 'ti_hairless', 'ti_halt', 'ti_hammer', 'ti_hamper', 'ti_hand_job', 'ti_handgun', 'ti_handicap', 'ti_handicapped', 'ti_handjob', 'ti_hangman', 'ti_hangover', 'ti_hangry', 'ti_happy', 'ti_happydance', 'ti_happynewyear', 'ti_happyvalentinesday', 'ti_harass', 'ti_harassment', 'ti_hard_core', 'ti_hardcore', 'ti_hardheaded', 'ti_hardship', 'ti_harlot', 'ti_harm', 'ti_harmful', 'ti_harrowing', 'ti_hassle', 'ti_hasty', 'ti_hate', 'ti_hateeee', 'ti_hateeveryone', 'ti_hateful', 'ti_hater', 'ti_hateyou', 'ti_hatred', 'ti_haughty', 'ti_havoc', 'ti_hazard', 'ti_hazardous', 'ti_headache', 'ti_headless', 'ti_headstone', 'ti_heady', 'ti_hearse', 'ti_heartache', 'ti_heartattack', 'ti_heartbreak', 'ti_heartbreaking', 'ti_heartbroken', 'ti_heartburn', 'ti_heartless', 'ti_heartsick', 'ti_heathen', 'ti_heave', 'ti_heaviness', 'ti_heavy_metal', 'ti_heck', 'ti_hectic', 'ti_heinous', 'ti_heist', 'ti_helicopter', 'ti_hell', 'ti_hellfire', 'ti_hellhole', 'ti_hellish', 'ti_helpless', 'ti_helplessness', 'ti_hematoma', 'ti_hemorrhage', 'ti_hemorrhoid', 'ti_hentai', 'ti_hepatitis', 'ti_heresy', 'ti_heretic', 'ti_heretical', 'ti_hernia', 'ti_hero', 'ti_heroic', 'ti_heroin', 'ti_heroine', 'ti_heroism', 'ti_herpe', 'ti_herpesvirus', 'ti_heterosexual', 'ti_hide', 'ti_hideous', 'ti_hijack', 'ti_hijacker', 'ti_hike', 'ti_hiker', 'ti_hindrance', 'ti_hispanic', 'ti_hit', 'ti_hitler', 'ti_hoax', 'ti_hockey', 'ti_holler', 'ti_holocaust', 'ti_homeless', 'ti_homicidal', 'ti_homicide', 'ti_homo', 'ti_homoerotic', 'ti_homophobic', 'ti_homosexual', 'ti_honkey', 'ti_hooker', 'ti_hopeless', 'ti_hopelessness', 'ti_hore', 'ti_horny', 'ti_horrendous', 'ti_horrible', 'ti_horribly', 'ti_horrid', 'ti_horrific', 'ti_horrify', 'ti_horrifying', 'ti_horror', 'ti_horseshit', 'ti_hostage', 'ti_hostile', 'ti_hostility', 'ti_hot_carl', 'ti_hot_chick', 'ti_hothead', 'ti_how_to_kill', 'ti_how_to_murder', 'ti_huge_fat', 'ti_humbug', 'ti_humiliate', 'ti_humiliation', 'ti_humorist', 'ti_hump', 'ti_humpback', 'ti_hunchback', 'ti_hunger', 'ti_hungry', 'ti_hunt', 'ti_hunter', 'ti_hurdle', 'ti_hurricane', 'ti_hurry', 'ti_hurryup', 'ti_hurt', 'ti_hurtful', 'ti_hussy', 'ti_hustler', 'ti_hydrophobia', 'ti_hyperactive', 'ti_hypertension', 'ti_hyperventilate', 'ti_hypochondriac', 'ti_hypocrisy', 'ti_hypocrite', 'ti_hypocritical', 'ti_hypodermic', 'ti_hypothermia', 'ti_hysterectomy', 'ti_hysteria', 'ti_hysterical', 'ti_idiocy', 'ti_idiot', 'ti_idiotic', 'ti_idle', 'ti_idler', 'ti_idol', 'ti_ignite', 'ti_ignorance', 'ti_ignorant', 'ti_ignore', 'ti_ihatespider', 'ti_ill', 'ti_illegal', 'ti_illegality', 'ti_illegally', 'ti_illegitimate', 'ti_illicit', 'ti_illiterate', 'ti_illness', 'ti_illogical', 'ti_imbalance', 'ti_imbecile', 'ti_immature', 'ti_immaturity', 'ti_immediately', 'ti_imminent', 'ti_immobile', 'ti_immoral', 'ti_immorality', 'ti_impact', 'ti_impair', 'ti_impairment', 'ti_impassioned', 'ti_impatience', 'ti_impatiently', 'ti_impeach', 'ti_impeachment', 'ti_impediment', 'ti_imperfect', 'ti_imperfection', 'ti_imperialist', 'ti_impermissible', 'ti_impertinence', 'ti_impertinent', 'ti_impetuous', 'ti_impolite', 'ti_impossibility', 'ti_impossible', 'ti_impostor', 'ti_impotence', 'ti_impotent', 'ti_impound', 'ti_impoverished', 'ti_impractical', 'ti_impress', 'ti_impressive', 'ti_imprison', 'ti_imprisonment', 'ti_improbable', 'ti_improper', 'ti_impropriety', 'ti_improvisation', 'ti_imprudent', 'ti_impudence', 'ti_impulse', 'ti_impulsive', 'ti_impurity', 'ti_inability', 'ti_inaccessible', 'ti_inaccurate', 'ti_inactivate', 'ti_inactivation', 'ti_inactivity', 'ti_inadequate', 'ti_inadequateness', 'ti_inadmissible', 'ti_inappropriate', 'ti_inattention', 'ti_incapable', 'ti_incapacity', 'ti_incarceration', 'ti_incendiary', 'ti_incessant', 'ti_incessantly', 'ti_incest', 'ti_incestuous', 'ti_incident', 'ti_incineration', 'ti_incision', 'ti_incitement', 'ti_incoherent', 'ti_incompatible', 'ti_incompetence', 'ti_incompetent', 'ti_incomplete', 'ti_inconceivable', 'ti_inconclusive', 'ti_incongruous', 'ti_inconsiderate', 'ti_inconsistency', 'ti_incontinence', 'ti_inconvenience', 'ti_inconvenient', 'ti_incorrect', 'ti_incorrigible', 'ti_incredible', 'ti_incriminate', 'ti_incrimination', 'ti_incurable', 'ti_incursion', 'ti_indebted', 'ti_indecency', 'ti_indecent', 'ti_indecision', 'ti_indefensible', 'ti_indian', 'ti_indict', 'ti_indictment', 'ti_indigent', 'ti_indigestion', 'ti_indignation', 'ti_indignity', 'ti_indiscreet', 'ti_indisposed', 'ti_indolent', 'ti_indomitable', 'ti_inducement', 'ti_ineffective', 'ti_ineffectual', 'ti_inefficiency', 'ti_inefficient', 'ti_ineligible', 'ti_inept', 'ti_ineptitude', 'ti_inequality', 'ti_inexact', 'ti_inexperience', 'ti_inexplicable', 'ti_inexpressible', 'ti_infamous', 'ti_infamy', 'ti_infanticide', 'ti_infarct', 'ti_infatuate', 'ti_infeasible', 'ti_infect', 'ti_infection', 'ti_infectious', 'ti_inferiority', 'ti_infernal', 'ti_inferno', 'ti_infertility', 'ti_infestation', 'ti_infidel', 'ti_infidelity', 'ti_infiltration', 'ti_infirm', 'ti_infirmity', 'ti_inflammation', 'ti_inflammatory', 'ti_inflation', 'ti_inflict', 'ti_infraction', 'ti_infrequently', 'ti_infringement', 'ti_infuriate', 'ti_infuriating', 'ti_ingrate', 'ti_inhibit', 'ti_inhuman', 'ti_inhumane', 'ti_inhumanity', 'ti_inimical', 'ti_iniquity', 'ti_injure', 'ti_injurious', 'ti_injury', 'ti_injustice', 'ti_inmate', 'ti_innovate', 'ti_inoperable', 'ti_inoperative', 'ti_inordinate', 'ti_inquisitor', 'ti_insane', 'ti_insanity', 'ti_insecticide', 'ti_insecure', 'ti_insecurity', 'ti_insensitive', 'ti_insidious', 'ti_insignificant', 'ti_insipid', 'ti_insolence', 'ti_insolent', 'ti_insolvent', 'ti_insomnia', 'ti_insomniac', 'ti_instability', 'ti_instigate', 'ti_instigation', 'ti_insubordination', 'ti_insufferable', 'ti_insufficiency', 'ti_insufficient', 'ti_insufficiently', 'ti_insulate', 'ti_insulation', 'ti_insult', 'ti_insurgent', 'ti_insurrection', 'ti_intense', 'ti_intensely', 'ti_intensify', 'ti_intensity', 'ti_intensive', 'ti_interactive', 'ti_intercept', 'ti_intercourse', 'ti_interment', 'ti_interrogate', 'ti_interrogation', 'ti_interrupt', 'ti_interruption', 'ti_interview', 'ti_intimacy', 'ti_intimidate', 'ti_intimidation', 'ti_intolerable', 'ti_intolerance', 'ti_intolerant', 'ti_intoxicate', 'ti_intoxicating', 'ti_intractable', 'ti_intrigue', 'ti_intrude', 'ti_intruder', 'ti_inundation', 'ti_invade', 'ti_invader', 'ti_invalid', 'ti_invalidation', 'ti_invalidity', 'ti_invasion', 'ti_invasive', 'ti_invidious', 'ti_invigorate', 'ti_invincible', 'ti_irate', 'ti_ire', 'ti_irk', 'ti_irrational', 'ti_irrationality', 'ti_irreconcilable', 'ti_irregularity', 'ti_irrelevant', 'ti_irreparable', 'ti_irresistible', 'ti_irresponsible', 'ti_irreverent', 'ti_irreversible', 'ti_irritability', 'ti_irritable', 'ti_irritate', 'ti_irritation', 'ti_islam', 'ti_isolate', 'ti_isolation', 'ti_issue', 'ti_itch', 'ti_jack_off', 'ti_jackass', 'ti_jackhammer', 'ti_jagged', 'ti_jail', 'ti_jail_bait', 'ti_jailbait', 'ti_jailbird', 'ti_jailer', 'ti_jailhouse', 'ti_jam', 'ti_japanese', 'ti_jar', 'ti_jaundice', 'ti_jealous', 'ti_jealousy', 'ti_jeer', 'ti_jelly_donut', 'ti_jeopardize', 'ti_jeopardy', 'ti_jerk', 'ti_jerk_off', 'ti_jerky', 'ti_jesussuck', 'ti_jewish', 'ti_jigaboo', 'ti_jiggaboo', 'ti_jiggerboo', 'ti_jitter', 'ti_jittery', 'ti_jiz', 'ti_jizz', 'ti_jizzum', 'ti_jobinterview', 'ti_joke', 'ti_joker', 'ti_joy', 'ti_judge', 'ti_judo', 'ti_juggle', 'ti_juggler', 'ti_juggs', 'ti_jump', 'ti_jumpy', 'ti_junk', 'ti_junkie', 'ti_junkyard', 'ti_kaffir', 'ti_kamikaze', 'ti_karate', 'ti_kick', 'ti_kickboxing', 'ti_kidder', 'ti_kidnap', 'ti_kidnapper', 'ti_kike', 'ti_kill', 'ti_killer', 'ti_killin', 'ti_killjoy', 'ti_kinbaku', 'ti_king_snake', 'ti_kinkster', 'ti_kinky', 'ti_kiss', 'ti_kneel', 'ti_knob', 'ti_knockout', 'ti_knot', 'ti_knucklehead', 'ti_kunt', 'ti_labia', 'ti_labyrinth', 'ti_laceration', 'ti_lack', 'ti_lag', 'ti_lame', 'ti_lament', 'ti_landslide', 'ti_languish', 'ti_larceny', 'ti_larva', 'ti_laryngitis', 'ti_lash', 'ti_late', 'ti_lateness', 'ti_latina', 'ti_latino', 'ti_latinx', 'ti_latrine', 'ti_laugh', 'ti_laughingstock', 'ti_launch', 'ti_lawless', 'ti_lawlessness', 'ti_lawsuit', 'ti_leak', 'ti_leakage', 'ti_leaky', 'ti_leather_restraint', 'ti_leather_straight_jacket', 'ti_leave', 'ti_leavemealone', 'ti_lecherous', 'ti_leech', 'ti_leftout', 'ti_leftover', 'ti_lemon_party', 'ti_leopard', 'ti_leper', 'ti_leprosy', 'ti_lesbian', 'ti_lesbo', 'ti_lesion', 'ti_lessen', 'ti_lethal', 'ti_lethargic', 'ti_lethargy', 'ti_leukemia', 'ti_lewd', 'ti_lgbt', 'ti_lgbtq', 'ti_liar', 'ti_libel', 'ti_libelous', 'ti_lice', 'ti_lie', 'ti_lifeless', 'ti_lifesuck', 'ti_limit', 'ti_limitation', 'ti_listless', 'ti_litigant', 'ti_litigate', 'ti_litigation', 'ti_lively', 'ti_livesex', 'ti_livid', 'ti_loafer', 'ti_loath', 'ti_loathe', 'ti_loathful', 'ti_loathsome', 'ti_lockup', 'ti_loco', 'ti_lolita', 'ti_lone', 'ti_loneliness', 'ti_loophole', 'ti_lopsided', 'ti_lose', 'ti_loser', 'ti_loss', 'ti_loudly', 'ti_louse', 'ti_lousy', 'ti_loveless', 'ti_lovemake', 'ti_lovemylife', 'ti_lover', 'ti_lovesick', 'ti_ludicrous', 'ti_lunacy', 'ti_lunatic', 'ti_lurid', 'ti_lurk', 'ti_lush', 'ti_lust', 'ti_lustful', 'ti_lusty', 'ti_lymphoma', 'ti_lynch', 'ti_mad', 'ti_madhouse', 'ti_madman', 'ti_madness', 'ti_mafia', 'ti_maggot', 'ti_magnificence', 'ti_maim', 'ti_make_i_come', 'ti_malady', 'ti_malaise', 'ti_malaria', 'ti_male', 'ti_male_squirting', 'ti_malevolent', 'ti_malfeasance', 'ti_malformation', 'ti_malfunction', 'ti_malice', 'ti_malicious', 'ti_malign', 'ti_malignancy', 'ti_malignant', 'ti_malnutrition', 'ti_malpractice', 'ti_man', 'ti_mangy', 'ti_manhunt', 'ti_maniac', 'ti_maniacal', 'ti_manic', 'ti_manipulation', 'ti_manipulative', 'ti_manslaughter', 'ti_marathon', 'ti_marginal', 'ti_marijuana', 'ti_marketing', 'ti_marksman', 'ti_maroon', 'ti_marred', 'ti_marry', 'ti_marvel', 'ti_marvellous', 'ti_masochism', 'ti_masochist', 'ti_massacre', 'ti_masturbate', 'ti_masturbation', 'ti_matador', 'ti_materialism', 'ti_mating', 'ti_maximize', 'ti_mayhem', 'ti_meager', 'ti_meaningless', 'ti_meanness', 'ti_measle', 'ti_medallist', 'ti_meddle', 'ti_mediocre', 'ti_mediocrity', 'ti_melancholic', 'ti_melancholy', 'ti_melodrama', 'ti_melodramatic', 'ti_menace', 'ti_menacing', 'ti_menage_a_trois', 'ti_meningitis', 'ti_menopause', 'ti_mense', 'ti_mercenary', 'ti_merciless', 'ti_mess', 'ti_metastasis', 'ti_meteoric', 'ti_meteorite', 'ti_methadone', 'ti_mexican', 'ti_middle_aged', 'ti_middle_eastern', 'ti_miff', 'ti_mighty', 'ti_migraine', 'ti_milf', 'ti_millennial', 'ti_millionaire', 'ti_mindless', 'ti_minefield', 'ti_misappropriation', 'ti_misbehave', 'ti_misbehavior', 'ti_miscalculation', 'ti_miscarriage', 'ti_mischief', 'ti_mischievous', 'ti_misconception', 'ti_misconduct', 'ti_misdemeanor', 'ti_misdirection', 'ti_miser', 'ti_miserable', 'ti_misery', 'ti_misfire', 'ti_misfit', 'ti_misfortune', 'ti_mishap', 'ti_misinformed', 'ti_misinterpretation', 'ti_mislead', 'ti_mismanagement', 'ti_misplace', 'ti_misread', 'ti_misrepresent', 'ti_missile', 'ti_missionary_position', 'ti_mistake', 'ti_mistreat', 'ti_mistress', 'ti_mistrust', 'ti_misunderstand', 'ti_misunderstanding', 'ti_misunderstood', 'ti_misuse', 'ti_mob', 'ti_mobster', 'ti_mock', 'ti_mockery', 'ti_moderate_disgust', 'ti_moderate_negative', 'ti_modicum', 'ti_moldy', 'ti_molest', 'ti_molestation', 'ti_molester', 'ti_mong', 'ti_mongoloid', 'ti_monster', 'ti_monstrosity', 'ti_monstrous', 'ti_moody', 'ti_morbid', 'ti_morbidness', 'ti_morgue', 'ti_moribund', 'ti_moron', 'ti_moronic', 'ti_morose', 'ti_morphine', 'ti_mortal', 'ti_mortality', 'ti_mortician', 'ti_mortification', 'ti_mortify', 'ti_mortuary', 'ti_mosquito', 'ti_moss', 'ti_motherfuck', 'ti_motherfucker', 'ti_motherfucking', 'ti_motherless', 'ti_motivate', 'ti_motivation', 'ti_motorcycle', 'ti_mound_of_venus', 'ti_mountaineer', 'ti_mourn', 'ti_mournful', 'ti_mousetrap', 'ti_mr_hand', 'ti_mthrfckr', 'ti_muck', 'ti_mucus', 'ti_muddle', 'ti_muff', 'ti_muff_diver', 'ti_muffdive', 'ti_mugger', 'ti_multiple_sclerosis', 'ti_multitude', 'ti_mumps', 'ti_murder', 'ti_murderer', 'ti_murderess', 'ti_murderous', 'ti_murky', 'ti_muslim', 'ti_mutilate', 'ti_mutilation', 'ti_mutiny', 'ti_myopia', 'ti_nail_gun', 'ti_naked', 'ti_nakedness', 'ti_nambla', 'ti_narcissism', 'ti_narcissist', 'ti_narcotic', 'ti_nasty', 'ti_naughty', 'ti_nausea', 'ti_nauseate', 'ti_nauseating', 'ti_nauseous', 'ti_navy', 'ti_nawashi', 'ti_nazi', 'ti_necrosis', 'ti_nefarious', 'ti_negative', 'ti_negativity', 'ti_neglect', 'ti_negligence', 'ti_negligent', 'ti_negligently', 'ti_negligible', 'ti_negro', 'ti_neonazi', 'ti_nerve', 'ti_nervous', 'ti_nervousness', 'ti_nervouswreck', 'ti_nervy', 'ti_nether', 'ti_neuralgia', 'ti_neurosis', 'ti_neurotic', 'ti_newyear', 'ti_nicotine', 'ti_nig_nog', 'ti_nigga', 'ti_niggah', 'ti_nigger', 'ti_nightclub', 'ti_nightlife', 'ti_nightmare', 'ti_nimphomania', 'ti_ninja', 'ti_nipple', 'ti_nitwit', 'ti_no_emotion', 'ti_no_sentiment', 'ti_no_surprise', 'ti_no_trust', 'ti_nohope', 'ti_noise', 'ti_noisy', 'ti_nonbinary', 'ti_nonce', 'ti_noncompliance', 'ti_nonexistent', 'ti_nonpayment', 'ti_nonsense', 'ti_nonsensical', 'ti_nosebleed', 'ti_not_positive', 'ti_nothappy', 'ti_nothingness', 'ti_notready', 'ti_noxious', 'ti_nsfw', 'ti_nsfw_image', 'ti_nuclear', 'ti_nude', 'ti_nudist', 'ti_nudity', 'ti_nuisance', 'ti_nuke', 'ti_numb', 'ti_nutcase', 'ti_nutsack', 'ti_nutten', 'ti_nympho', 'ti_nymphomania', 'ti_nymphomaniac', 'ti_obese', 'ti_obesity', 'ti_obituary', 'ti_obligation', 'ti_oblige', 'ti_obliterate', 'ti_obliteration', 'ti_oblivion', 'ti_oblivious', 'ti_obnoxious', 'ti_obscene', 'ti_obscenity', 'ti_obscure', 'ti_obscurity', 'ti_obsess', 'ti_obsession', 'ti_obsessive', 'ti_obstacle', 'ti_obstinate', 'ti_obstruct', 'ti_obstruction', 'ti_obstructive', 'ti_octopussy', 'ti_odious', 'ti_offence', 'ti_offend', 'ti_offender', 'ti_offense', 'ti_offensive', 'ti_ogre', 'ti_ohshit', 'ti_old', 'ti_omnipotence', 'ti_omorashi', 'ti_oncology', 'ti_onslaught', 'ti_ooze', 'ti_opinionated', 'ti_opponent', 'ti_opportunism', 'ti_oppose', 'ti_opposite', 'ti_opposition', 'ti_oppress', 'ti_oppression', 'ti_oppressor', 'ti_orc', 'ti_ordnance', 'ti_orgasm', 'ti_orgy', 'ti_orphan', 'ti_orphanage', 'ti_ostentatious', 'ti_ostracize', 'ti_outburst', 'ti_outcast', 'ti_outcry', 'ti_outdated', 'ti_outlast', 'ti_outlive', 'ti_outrage', 'ti_outrageous', 'ti_outrun', 'ti_outstanding', 'ti_outwit', 'ti_ovation', 'ti_overactive', 'ti_overbearing', 'ti_overburden', 'ti_overcharge', 'ti_overcome', 'ti_overdo', 'ti_overdose', 'ti_overdue', 'ti_overestimate', 'ti_overflow', 'ti_overgrowth', 'ti_overhang', 'ti_overkill', 'ti_overlord', 'ti_overplay', 'ti_overpower', 'ti_overreact', 'ti_override', 'ti_overrule', 'ti_overrun', 'ti_overstate', 'ti_overthinke', 'ti_overthrow', 'ti_overtired', 'ti_overturn', 'ti_overweight', 'ti_overwhelm', 'ti_overwhelming', 'ti_overworked', 'ti_overwrought', 'ti_overzealous', 'ti_paedo', 'ti_paedophile', 'ti_paganism', 'ti_pain', 'ti_pained', 'ti_painful', 'ti_painfully', 'ti_paki', 'ti_palsy', 'ti_pandemic', 'ti_pandemonium', 'ti_pang', 'ti_panic', 'ti_panicky', 'ti_pantheon', 'ti_pantie', 'ti_panty', 'ti_parachute', 'ti_paralysis', 'ti_paralyze', 'ti_paramilitary', 'ti_paranoia', 'ti_paranoid', 'ti_paranormal', 'ti_paraplegic', 'ti_parasite', 'ti_parasitic', 'ti_parkinson', 'ti_party', 'ti_passion', 'ti_passionate', 'ti_passivity', 'ti_pathetic', 'ti_pathological', 'ti_paucity', 'ti_peck', 'ti_pecker', 'ti_pedantic', 'ti_pedo', 'ti_pedobear', 'ti_pedofile', 'ti_pedophile', 'ti_peeper', 'ti_peeve', 'ti_peg', 'ti_pen1s', 'ti_penal', 'ti_penalty', 'ti_penance', 'ti_penetrate', 'ti_penetration', 'ti_penis', 'ti_penitentiary', 'ti_penniless', 'ti_perdition', 'ti_perforate', 'ti_peril', 'ti_perilous', 'ti_perish', 'ti_perjury', 'ti_perky', 'ti_pernicious', 'ti_perpetrate', 'ti_perpetrator', 'ti_persecute', 'ti_persecution', 'ti_perturbation', 'ti_perverse', 'ti_perversion', 'ti_pervert', 'ti_perverted', 'ti_pesky', 'ti_pessimism', 'ti_pessimist', 'ti_pessimistic', 'ti_pest', 'ti_pester', 'ti_pestilence', 'ti_petrify', 'ti_petty', 'ti_petulant', 'ti_phantom', 'ti_phlegm', 'ti_phobia', 'ti_phone_sex', 'ti_phony', 'ti_phuk', 'ti_piece_of_shit', 'ti_pieceofshit', 'ti_pig', 'ti_pigsty', 'ti_pikey', 'ti_pillage', 'ti_pimp', 'ti_pimple', 'ti_pinch', 'ti_piracy', 'ti_piranha', 'ti_pirate', 'ti_piss', 'ti_piss_pig', 'ti_pissedoff', 'ti_pissesmeoff', 'ti_pissingmeoff', 'ti_pisspig', 'ti_pistol', 'ti_pitfall', 'ti_pitiful', 'ti_pity', 'ti_plagiarism', 'ti_plague', 'ti_plaintiff', 'ti_plaudit', 'ti_play', 'ti_playboy', 'ti_plead', 'ti_pleasure_chest', 'ti_plucky', 'ti_plunder', 'ti_pneumonia', 'ti_poach', 'ti_poacher', 'ti_pointless', 'ti_poison', 'ti_poisonous', 'ti_pole_smoker', 'ti_polemic', 'ti_police', 'ti_police_officer', 'ti_pollute', 'ti_pollution', 'ti_poltergeist', 'ti_ponyplay', 'ti_poof', 'ti_poon', 'ti_poontang', 'ti_poop', 'ti_poop_chute', 'ti_poopchute', 'ti_poor', 'ti_poorly', 'ti_popularity', 'ti_popularize', 'ti_porky', 'ti_porn', 'ti_porno', 'ti_pornographic', 'ti_pornography', 'ti_possess', 'ti_posthumous', 'ti_potent', 'ti_pound', 'ti_poverty', 'ti_powerful', 'ti_powerhouse', 'ti_powerless', 'ti_pox', 'ti_precarious', 'ti_precipice', 'ti_precipitate', 'ti_predator', 'ti_predatory', 'ti_pregnancy', 'ti_pregnant', 'ti_prejudice', 'ti_prejudiced', 'ti_prejudicial', 'ti_premonition', 'ti_preposterous', 'ti_press', 'ti_pretend', 'ti_pretentious', 'ti_prick', 'ti_prince_albert_piercing', 'ti_prison', 'ti_prisoner', 'ti_prize', 'ti_probation', 'ti_problem', 'ti_problematic', 'ti_process', 'ti_proclamation', 'ti_procreate', 'ti_profane', 'ti_profanity', 'ti_proficiency', 'ti_prohibit', 'ti_prohibition', 'ti_prohibitive', 'ti_projectile', 'ti_promiscuity', 'ti_promiscuous', 'ti_promotion', 'ti_pron', 'ti_propel', 'ti_propulsion', 'ti_prosecution', 'ti_prostitute', 'ti_prostitution', 'ti_protest', 'ti_protestant', 'ti_protocol', 'ti_provocation', 'ti_provocative', 'ti_provoke', 'ti_psoriasis', 'ti_psychiatric', 'ti_psychiatry', 'ti_psycho', 'ti_psychopath', 'ti_psychopathic', 'ti_psychosis', 'ti_psychotic', 'ti_pthc', 'ti_puberty', 'ti_pubis', 'ti_publicspeake', 'ti_puke', 'ti_pump', 'ti_punani', 'ti_punany', 'ti_punch', 'ti_puncture', 'ti_pungent', 'ti_punish', 'ti_punishable', 'ti_punishment', 'ti_purge', 'ti_pursue', 'ti_pus', 'ti_pusher', 'ti_pushy', 'ti_pussy', 'ti_putrid', 'ti_puzzle', 'ti_pyrotechnic', 'ti_python', 'ti_quake', 'ti_quandary', 'ti_quarantine', 'ti_quarrel', 'ti_quarter', 'ti_queaf', 'ti_queasiness', 'ti_queef', 'ti_queer', 'ti_quick', 'ti_quickly', 'ti_quicksand', 'ti_quim', 'ti_quit', 'ti_quiver', 'ti_rabble', 'ti_rabid', 'ti_rabie', 'ti_racetrack', 'ti_racism', 'ti_racist', 'ti_racketeering', 'ti_radiation', 'ti_radical', 'ti_radioactive', 'ti_radioactivity', 'ti_rage', 'ti_rage_boner', 'ti_ragged', 'ti_raggedy', 'ti_raghead', 'ti_raider', 'ti_rampage', 'ti_rampant', 'ti_rancid', 'ti_ransom', 'ti_rant', 'ti_rape', 'ti_rapid', 'ti_rapidity', 'ti_rapist', 'ti_rapper', 'ti_raptor', 'ti_rapture', 'ti_rascal', 'ti_rash', 'ti_rattlesnake', 'ti_ravage', 'ti_rave', 'ti_ravish', 'ti_raw', 'ti_reaction', 'ti_reactive', 'ti_reactor', 'ti_rebel', 'ti_rebellion', 'ti_rebellious', 'ti_rebuke', 'ti_rebut', 'ti_recede', 'ti_recidivism', 'ti_reckless', 'ti_recklessness', 'ti_recluse', 'ti_recoil', 'ti_recruit', 'ti_rectal', 'ti_rectum', 'ti_redness', 'ti_reduce', 'ti_redundant', 'ti_reek', 'ti_refusal', 'ti_refuse', 'ti_regret', 'ti_regretful', 'ti_regrettable', 'ti_regurgitation', 'ti_reject', 'ti_rejection', 'ti_relapse', 'ti_reluctance', 'ti_remand', 'ti_remarry', 'ti_rematch', 'ti_remiss', 'ti_remorse', 'ti_removal', 'ti_remuneration', 'ti_renegade', 'ti_renounce', 'ti_repel', 'ti_repress', 'ti_repression', 'ti_reprimand', 'ti_reprisal', 'ti_reproach', 'ti_repudiation', 'ti_repugnance', 'ti_repugnant', 'ti_repulsion', 'ti_repulsive', 'ti_rescue', 'ti_resent', 'ti_resentful', 'ti_resentment', 'ti_resign', 'ti_resignation', 'ti_resist', 'ti_restless', 'ti_restlessness', 'ti_restrain', 'ti_restraint', 'ti_restrict', 'ti_restriction', 'ti_restrictive', 'ti_resuscitation', 'ti_retaliate', 'ti_retaliation', 'ti_retaliatory', 'ti_retard', 'ti_retardation', 'ti_retrenchment', 'ti_retrograde', 'ti_rev', 'ti_revenge', 'ti_reverse_cowgirl', 'ti_revive', 'ti_revolt', 'ti_revolting', 'ti_revolution', 'ti_revolutionary', 'ti_revolutionize', 'ti_revolver', 'ti_revulsion', 'ti_rheumatism', 'ti_rhythm', 'ti_richness', 'ti_rickety', 'ti_rid', 'ti_riddled', 'ti_ridicule', 'ti_ridiculous', 'ti_rifle', 'ti_rifleman', 'ti_rift', 'ti_rig', 'ti_rigidity', 'ti_rigorous', 'ti_rim', 'ti_rimjob', 'ti_riot', 'ti_riotous', 'ti_rip', 'ti_ripper', 'ti_risk', 'ti_risky', 'ti_rivalry', 'ti_roach', 'ti_roar', 'ti_rob', 'ti_robber', 'ti_robbery', 'ti_rocket', 'ti_rollercoaster', 'ti_rollick', 'ti_rosy_palm', 'ti_rot', 'ti_rotten', 'ti_rough', 'ti_roughness', 'ti_rout', 'ti_rowdy', 'ti_rubbish', 'ti_rude', 'ti_rudeness', 'ti_rueful', 'ti_ruffian', 'ti_rugby', 'ti_ruin', 'ti_ruination', 'ti_rule', 'ti_rumba', 'ti_rummage', 'ti_run', 'ti_runaway', 'ti_rupture', 'ti_rush', 'ti_rustler', 'ti_rusty_trombone', 'ti_ruthless', 'ti_s&m', 'ti_sabotage', 'ti_saboteur', 'ti_sacrifice', 'ti_sacrificial', 'ti_sacrilegious', 'ti_sad', 'ti_sadden', 'ti_sadism', 'ti_sadist', 'ti_sadistic', 'ti_sadly', 'ti_sadness', 'ti_sag', 'ti_saliva', 'ti_salmonella', 'ti_sanctimonious', 'ti_sanction', 'ti_sandstorm', 'ti_santorum', 'ti_sarcasm', 'ti_sarcastic', 'ti_sardonic', 'ti_satanic', 'ti_satisfy', 'ti_savage', 'ti_savagery', 'ti_scam', 'ti_scandal', 'ti_scandalous', 'ti_scapegoat', 'ti_scar', 'ti_scarcely', 'ti_scarcity', 'ti_scare', 'ti_scarecrow', 'ti_scary', 'ti_scat', 'ti_scatter', 'ti_scavenger', 'ti_sceptical', 'ti_schizophrenia', 'ti_schizophrenic', 'ti_schlong', 'ti_scissor', 'ti_scoff', 'ti_scold', 'ti_scorch', 'ti_scorn', 'ti_scornful', 'ti_scorpion', 'ti_scoundrel', 'ti_scourge', 'ti_scramble', 'ti_scrap', 'ti_scratchy', 'ti_scream', 'ti_screamer', 'ti_screech', 'ti_screw', 'ti_scrotum', 'ti_scrounge', 'ti_scruffy', 'ti_scuff', 'ti_scuffle', 'ti_scumbag', 'ti_sear', 'ti_seasick', 'ti_seclusion', 'ti_secondhand', 'ti_seduce', 'ti_seducer', 'ti_seduction', 'ti_seductive', 'ti_seedy', 'ti_seethe', 'ti_segregate', 'ti_seismic', 'ti_seizure', 'ti_selfish', 'ti_selfishness', 'ti_semen', 'ti_sensational', 'ti_senseless', 'ti_sensual', 'ti_sensuality', 'ti_sensuous', 'ti_sentencing', 'ti_separate', 'ti_separation', 'ti_separatist', 'ti_sepsis', 'ti_sequester', 'ti_sequestration', 'ti_serpent', 'ti_setback', 'ti_sever', 'ti_severe', 'ti_severely', 'ti_sewerage', 'ti_sex', 'ti_sexcam', 'ti_sexist', 'ti_sexo', 'ti_sexual', 'ti_sexuality', 'ti_sexually', 'ti_sexy', 'ti_shabby', 'ti_shadowy', 'ti_shag', 'ti_shake', 'ti_shame', 'ti_shameful', 'ti_shark', 'ti_sharpshooter', 'ti_shatter', 'ti_shave_beaver', 'ti_shave_pussy', 'ti_shell', 'ti_shemale', 'ti_shibari', 'ti_shipwreck', 'ti_shit', 'ti_shitblimp', 'ti_shite', 'ti_shitface', 'ti_shithead', 'ti_shitload', 'ti_shitt', 'ti_shitty', 'ti_shiver', 'ti_shiz', 'ti_shock', 'ti_shocker', 'ti_shocking', 'ti_shockingly', 'ti_shoddy', 'ti_shoot', 'ti_shooter', 'ti_shootout', 'ti_shoplift', 'ti_shoplifter', 'ti_short', 'ti_shortage', 'ti_shortcoming', 'ti_shota', 'ti_shotgun', 'ti_shout', 'ti_show', 'ti_showdown', 'ti_shrapnel', 'ti_shre', 'ti_shriek', 'ti_shrimping', 'ti_shrink', 'ti_shrivel', 'ti_shrug', 'ti_shudder', 'ti_shut', 'ti_shutdown', 'ti_shutter', 'ti_sick', 'ti_sicken', 'ti_sickening', 'ti_sickly', 'ti_sickness', 'ti_sikh', 'ti_sin', 'ti_sinful', 'ti_sinister', 'ti_sink', 'ti_sinner', 'ti_skater', 'ti_skeet', 'ti_skeleton', 'ti_skeptic', 'ti_skeptical', 'ti_skepticism', 'ti_ski', 'ti_skier', 'ti_skip', 'ti_skittish', 'ti_slag', 'ti_slander', 'ti_slanderous', 'ti_slanteye', 'ti_slap', 'ti_slaughter', 'ti_slaughterhouse', 'ti_slave', 'ti_slavery', 'ti_slay', 'ti_slayer', 'ti_sleepless', 'ti_sleeplessness', 'ti_slight_disgust', 'ti_slightly_negative', 'ti_slimy', 'ti_slippery', 'ti_sloth', 'ti_sluggish', 'ti_slump', 'ti_slur', 'ti_slut', 'ti_slutty', 'ti_smallpox', 'ti_smash', 'ti_smear', 'ti_smelly', 'ti_smite', 'ti_smitten', 'ti_smoke', 'ti_smoker', 'ti_smoking', 'ti_smolder', 'ti_smug', 'ti_smuggle', 'ti_smuggler', 'ti_smuggling', 'ti_smut', 'ti_snag', 'ti_snake', 'ti_snare', 'ti_snarl', 'ti_snatch', 'ti_snatcher', 'ti_sneak', 'ti_sneaky', 'ti_sneer', 'ti_snide', 'ti_snipe', 'ti_sniper', 'ti_snoop', 'ti_snooze', 'ti_snore', 'ti_snot', 'ti_snotty', 'ti_snowballing', 'ti_snowboarder', 'ti_snowstorm', 'ti_snub', 'ti_sob', 'ti_soccer', 'ti_sociopath', 'ti_sockpuppet', 'ti_sodding', 'ti_sodomize', 'ti_sodomy', 'ti_soil', 'ti_solitary', 'ti_solitude', 'ti_somber', 'ti_some_disgust', 'ti_some_surprise', 'ti_somersault', 'ti_somewhat_negative', 'ti_sordid', 'ti_sore', 'ti_soreness', 'ti_sorrow', 'ti_sorrowful', 'ti_soscare', 'ti_soulless', 'ti_sourpuss', 'ti_spaceship', 'ti_spam', 'ti_spank', 'ti_spar', 'ti_sparkle', 'ti_sparse', 'ti_spasm', 'ti_spastic', 'ti_spaz', 'ti_spectacle', 'ti_speed', 'ti_speedboat', 'ti_sperm', 'ti_spic', 'ti_spick', 'ti_spider', 'ti_spiny', 'ti_spirit', 'ti_spit', 'ti_spite', 'ti_spiteful', 'ti_spitfire', 'ti_splint', 'ti_splinter', 'ti_splitting', 'ti_splooge', 'ti_splooge_moose', 'ti_spoil', 'ti_spoo', 'ti_spooge', 'ti_spook', 'ti_spooky', 'ti_sprain', 'ti_spread_leg', 'ti_spunk', 'ti_spunky', 'ti_spurious', 'ti_squabble', 'ti_squall', 'ti_squander', 'ti_squeaky', 'ti_squeamish', 'ti_squirm', 'ti_squish', 'ti_stab', 'ti_stain', 'ti_stale', 'ti_stalker', 'ti_stampede', 'ti_standoff', 'ti_stardom', 'ti_startle', 'ti_startling', 'ti_starvation', 'ti_starve', 'ti_steal', 'ti_stench', 'ti_stereotype', 'ti_sterility', 'ti_stick', 'ti_stiff', 'ti_stifle', 'ti_stillbirth', 'ti_stimulant', 'ti_stimulate', 'ti_stimulation', 'ti_stimulus', 'ti_sting', 'ti_stingy', 'ti_stink', 'ti_stinker', 'ti_stinking', 'ti_stinky', 'ti_stir', 'ti_stomachache', 'ti_stomp', 'ti_stone', 'ti_stoppage', 'ti_storm', 'ti_stormy', 'ti_stowaway', 'ti_straight', 'ti_strain', 'ti_strained', 'ti_straitjacket', 'ti_strangle', 'ti_strangulation', 'ti_strap_on', 'ti_strapon', 'ti_strappado', 'ti_stray', 'ti_strengthen', 'ti_strenuous', 'ti_stress', 'ti_stressful', 'ti_stressin', 'ti_stricken', 'ti_strife', 'ti_strike', 'ti_strip_club', 'ti_stripper', 'ti_striptease', 'ti_strive', 'ti_strongly', 'ti_struggle', 'ti_stubborn', 'ti_stubbornness', 'ti_stumble', 'ti_stunner', 'ti_stunt', 'ti_stupefy', 'ti_stupid', 'ti_stupidity', 'ti_stupidpeople', 'ti_style_doggy', 'ti_subdue', 'ti_substandard', 'ti_subtract', 'ti_subtraction', 'ti_subversive', 'ti_succeed', 'ti_success', 'ti_succumb', 'ti_suck', 'ti_sue', 'ti_suffer', 'ti_sufferer', 'ti_suffocate', 'ti_suffocation', 'ti_suicidal', 'ti_suicide', 'ti_suicide_girl', 'ti_suicidebombe', 'ti_sulfur', 'ti_sultry_woman', 'ti_sunburn', 'ti_sunless', 'ti_superhero', 'ti_superman', 'ti_supernatural', 'ti_superpower', 'ti_superstar', 'ti_superstition', 'ti_surgery', 'ti_surly', 'ti_surprise', 'ti_surprising', 'ti_surprisingly', 'ti_surrender', 'ti_survival', 'ti_survive', 'ti_suspect', 'ti_suspend', 'ti_suspense', 'ti_suspicion', 'ti_suspicious', 'ti_suture', 'ti_swamp', 'ti_swastika', 'ti_sweatshop', 'ti_swelter', 'ti_swift', 'ti_swiftly', 'ti_swindle', 'ti_swindler', 'ti_swinger', 'ti_swollen', 'ti_swordsman', 'ti_syncope', 'ti_syndrome', 'ti_syphili', 'ti_taboo', 'ti_tacky', 'ti_taint', 'ti_taint_love', 'ti_takeoff', 'ti_tame', 'ti_tamper', 'ti_tantalize', 'ti_tantrum', 'ti_taoist', 'ti_tardy', 'ti_tarnish', 'ti_tart', 'ti_tartar', 'ti_taste_my', 'ti_tasteless', 'ti_tasty', 'ti_taunt', 'ti_tea_bagging', 'ti_tear', 'ti_tearful', 'ti_teary', 'ti_tease', 'ti_tedious', 'ti_tedium', 'ti_teenage', 'ti_telltale', 'ti_temperamental', 'ti_tempest', 'ti_tempt', 'ti_temptation', 'ti_temptress', 'ti_tension', 'ti_terminate', 'ti_terrible', 'ti_terribly', 'ti_terrify', 'ti_terrifying', 'ti_terror', 'ti_terrorism', 'ti_terrorist', 'ti_terrorize', 'ti_testosterone', 'ti_testy', 'ti_tetanus', 'ti_thankless', 'ti_theft', 'ti_thief', 'ti_thorny', 'ti_thoughtless', 'ti_threat', 'ti_threaten', 'ti_threesome', 'ti_thrill', 'ti_thriller', 'ti_throate', 'ti_throb', 'ti_throe', 'ti_throng', 'ti_throttle', 'ti_throw', 'ti_thruster', 'ti_thug', 'ti_thumbzilla', 'ti_thump', 'ti_thunder', 'ti_thunderclap', 'ti_thunderstorm', 'ti_thunderstruck', 'ti_thyroid', 'ti_ticklish', 'ti_tidal_wave', 'ti_tie_up', 'ti_tiger', 'ti_tight_white', 'ti_tired', 'ti_tiresome', 'ti_tiring', 'ti_tit', 'ti_titanic', 'ti_titty', 'ti_tittyfuck', 'ti_tomb', 'ti_tombstone', 'ti_tongue_in_a', 'ti_toothache', 'ti_topless', 'ti_topple', 'ti_torment', 'ti_tornado', 'ti_torpedo', 'ti_tort', 'ti_tortuous', 'ti_torture', 'ti_tosser', 'ti_touchdown', 'ti_towelhead', 'ti_toxic', 'ti_toxicity', 'ti_toxin', 'ti_tragedy', 'ti_tragic', 'ti_training', 'ti_traitor', 'ti_traitorous', 'ti_tramp', 'ti_trample', 'ti_tran', 'ti_tranny', 'ti_transcend', 'ti_transgender', 'ti_transgression', 'ti_transplant', 'ti_transsexual', 'ti_trap', 'ti_trapdoor', 'ti_trash', 'ti_trashy', 'ti_trauma', 'ti_traumatic', 'ti_treacherous', 'ti_treachery', 'ti_treason', 'ti_treasure', 'ti_tremble', 'ti_tremendous', 'ti_tremor', 'ti_trench', 'ti_trespass', 'ti_triathlon', 'ti_tribadism', 'ti_trickery', 'ti_tricky', 'ti_trigger', 'ti_triumph', 'ti_triumphant', 'ti_trouble', 'ti_troublemaker', 'ti_troublesome', 'ti_truculent', 'ti_tsunami', 'ti_tub_girl', 'ti_tuberculosis', 'ti_tubgirl', 'ti_tumor', 'ti_tumour', 'ti_tumultuous', 'ti_turbidity', 'ti_turbulence', 'ti_turbulent', 'ti_turd', 'ti_turmoil', 'ti_tushy', 'ti_tussle', 'ti_twat', 'ti_twink', 'ti_twinkie', 'ti_twist', 'ti_twit', 'ti_twitchy', 'ti_typhoon', 'ti_typo', 'ti_tyrannical', 'ti_tyranny', 'ti_tyrant', 'ti_ugliness', 'ti_ugly', 'ti_ultimatum', 'ti_unable', 'ti_unacceptable', 'ti_unaccountable', 'ti_unacknowledged', 'ti_unannounced', 'ti_unanticipated', 'ti_unappreciated', 'ti_unapproved', 'ti_unattached', 'ti_unattainable', 'ti_unattractive', 'ti_unaware', 'ti_unbearable', 'ti_unbeaten', 'ti_unbecoming', 'ti_unbelievable', 'ti_unbridled', 'ti_uncaring', 'ti_uncertainty', 'ti_uncharted', 'ti_uncivilized', 'ti_unclean', 'ti_unclear', 'ti_uncomfortable', 'ti_unconnected', 'ti_unconscionable', 'ti_unconscious', 'ti_unconsciousness', 'ti_unconstitutional', 'ti_uncontrollable', 'ti_uncontrolle', 'ti_unconventional', 'ti_unconvincing', 'ti_uncouth', 'ti_undefeated', 'ti_underhanded', 'ti_underpaid', 'ti_underprivileged', 'ti_underrated', 'ti_understaffed', 'ti_underworld', 'ti_undeserved', 'ti_undesirable', 'ti_undesired', 'ti_undetected', 'ti_undignified', 'ti_undo', 'ti_undress', 'ti_undue', 'ti_unearned', 'ti_uneasiness', 'ti_uneasy', 'ti_uneducated', 'ti_unemployed', 'ti_unemployment', 'ti_unequal', 'ti_unethical', 'ti_uneven', 'ti_unexpectedly', 'ti_unfair', 'ti_unfairness', 'ti_unfaithful', 'ti_unfamiliar', 'ti_unfavorable', 'ti_unfeeling', 'ti_unfinished', 'ti_unfortunate', 'ti_unfortunately', 'ti_unfriendly', 'ti_unfulfilled', 'ti_ungrateful', 'ti_unguarded', 'ti_unhappiness', 'ti_unhappy', 'ti_unhealthy', 'ti_unhelpful', 'ti_unimpresse', 'ti_unimproved', 'ti_uninformed', 'ti_uninspired', 'ti_unintelligible', 'ti_uninteresting', 'ti_uninvited', 'ti_unjust', 'ti_unjustifiable', 'ti_unkind', 'ti_unlawful', 'ti_unleash', 'ti_unlucky', 'ti_unmanageable', 'ti_unmanned', 'ti_unmove', 'ti_unnatural', 'ti_unnecessary', 'ti_unneeded', 'ti_unordere', 'ti_unpleasant', 'ti_unpleasantness', 'ti_unplug', 'ti_unpopular', 'ti_unpredictable', 'ti_unprepared', 'ti_unproductive', 'ti_unprofessional', 'ti_unprofitable', 'ti_unprotected', 'ti_unqualified', 'ti_unreachable', 'ti_unreal', 'ti_unrealistic', 'ti_unreasonable', 'ti_unrecorded', 'ti_unrelenting', 'ti_unreliable', 'ti_unrepentant', 'ti_unrequited', 'ti_unresolved', 'ti_unresponsive', 'ti_unrest', 'ti_unrestrained', 'ti_unromantic', 'ti_unruly', 'ti_unsafe', 'ti_unsanitary', 'ti_unsatisfactory', 'ti_unsatisfied', 'ti_unsavory', 'ti_unscrupulous', 'ti_unseat', 'ti_unsettled', 'ti_unsightly', 'ti_unsolicited', 'ti_unsolved', 'ti_unsound', 'ti_unspecified', 'ti_unspoken', 'ti_unstable', 'ti_unsteady', 'ti_unstoppable', 'ti_unsuccessful', 'ti_unsuitable', 'ti_unsure', 'ti_unsympathetic', 'ti_untamed', 'ti_untenable', 'ti_untidy', 'ti_untimely', 'ti_untitled', 'ti_untold', 'ti_untoward', 'ti_untrained', 'ti_untrue', 'ti_untrustworthy', 'ti_unverified', 'ti_unwanted', 'ti_unwarranted', 'ti_unwelcome', 'ti_unwell', 'ti_unwillingly', 'ti_unwillingness', 'ti_unwise', 'ti_unworthy', 'ti_unyielding', 'ti_upheaval', 'ti_uplift', 'ti_uprising', 'ti_uproar', 'ti_upset', 'ti_upskirt', 'ti_uptight', 'ti_urethra_play', 'ti_urgency', 'ti_urgent', 'ti_urinal', 'ti_urn', 'ti_urophilia', 'ti_useless', 'ti_usurp', 'ti_vag', 'ti_vagina', 'ti_vaginal', 'ti_vagrancy', 'ti_vagueness', 'ti_vamp', 'ti_vampire', 'ti_vandal', 'ti_vandalism', 'ti_vanish', 'ti_vanquish', 'ti_varicella', 'ti_varicose', 'ti_vasectomy', 'ti_velocity', 'ti_vendetta', 'ti_vengeance', 'ti_vengeful', 'ti_venom', 'ti_venomous', 'ti_venture', 'ti_venus_mound', 'ti_vermin', 'ti_verve', 'ti_very_negative', 'ti_vesicular', 'ti_vex', 'ti_viagra', 'ti_vibrant', 'ti_vibrator', 'ti_vice', 'ti_vicious', 'ti_victim', 'ti_victimize', 'ti_victoria', 'ti_victorious', 'ti_video_game', 'ti_vigor', 'ti_vigorous', 'ti_vike', 'ti_vile', 'ti_villain', 'ti_villainous', 'ti_vindictive', 'ti_violate', 'ti_violation', 'ti_violence', 'ti_violent', 'ti_violently', 'ti_violet_wand', 'ti_viper', 'ti_viral', 'ti_virulence', 'ti_vivacious', 'ti_void', 'ti_volatile', 'ti_volatility', 'ti_volcanic', 'ti_volcano', 'ti_voltage', 'ti_vomit', 'ti_voodoo', 'ti_voracious', 'ti_vorarephilia', 'ti_voyeur', 'ti_voyeurweb', 'ti_voyuer', 'ti_vulgar', 'ti_vulgarity', 'ti_vulnerable', 'ti_vulva', 'ti_wacky', 'ti_wager', 'ti_wait', 'ti_walkout', 'ti_wallop', 'ti_wallow', 'ti_wane', 'ti_wank', 'ti_wanker', 'ti_war', 'ti_warcrime', 'ti_warfare', 'ti_warhead', 'ti_warlike', 'ti_warlord', 'ti_warn', 'ti_warp', 'ti_warrior', 'ti_warship', 'ti_wart', 'ti_wartime', 'ti_waste', 'ti_wasteful', 'ti_watchdog', 'ti_weak', 'ti_weaken', 'ti_weakling', 'ti_weakness', 'ti_weapon', 'ti_weaponry', 'ti_weariness', 'ti_weary', 'ti_wedding', 'ti_weed', 'ti_weep', 'ti_weepy', 'ti_weirdo', 'ti_werewolf', 'ti_wet_dream', 'ti_wetback', 'ti_whack', 'ti_wheelchair', 'ti_wheeze', 'ti_whiny', 'ti_whip', 'ti_whiplash', 'ti_whirl', 'ti_whirlwind', 'ti_white', 'ti_white_power', 'ti_whor', 'ti_whore', 'ti_whorehouse', 'ti_wicked', 'ti_wickedness', 'ti_widow', 'ti_widower', 'ti_wild', 'ti_wildfire', 'ti_willpower', 'ti_wilt', 'ti_wimp', 'ti_wimpy', 'ti_windfall', 'ti_winger', 'ti_winner', 'ti_winning', 'ti_wiretap', 'ti_witchcraft', 'ti_withdraw', 'ti_wither', 'ti_withhold', 'ti_witless', 'ti_wo_nt', 'ti_wobbly', 'ti_woeful', 'ti_woefully', 'ti_wog', 'ti_woman', 'ti_womanizer', 'ti_wonder', 'ti_wonderful', 'ti_wonderfully', 'ti_woozy', 'ti_workload', 'ti_workout', 'ti_worldsex', 'ti_worm', 'ti_worry', 'ti_worsen', 'ti_worstfeele', 'ti_worthless', 'ti_wound', 'ti_wrack', 'ti_wrangle', 'ti_wrap_man', 'ti_wrath', 'ti_wrathful', 'ti_wreck', 'ti_wreckage', 'ti_wrecker', 'ti_wrench', 'ti_wrestle', 'ti_wrestler', 'ti_wretch', 'ti_wretched', 'ti_wrinkle', 'ti_wrinkled_starfish', 'ti_wrong', 'ti_wrongdoe', 'ti_wrongful', 'ti_wrongly', 'ti_wry', 'ti_wtf', 'ti_xenophobia', 'ti_xxx', 'ti_yaoi', 'ti_yeahhh', 'ti_yell', 'ti_yellow_shower', 'ti_yessss', 'ti_yiffy', 'ti_young', 'ti_yousuck', 'ti_yucky', 'ti_zealot', 'ti_zealous', 'ti_zest', 'ti_zombie', 'ti_zoophilia', 'upper_frac', 'valence_max', 'valence_mean', 'valence_min', 'words_per_sent']\n",
      "CPU times: user 317 ms, sys: 419 ms, total: 737 ms\n",
      "Wall time: 1.18 s\n"
     ]
    }
   ],
   "source": [
    "%%time\n",
    "model = lgb.Booster(model_file=conf.lgb_model)\n",
    "features = [\"length\"]\n",
    "features += list(char_fns.keys())\n",
    "features += [x[0] for x in textstat_fns]\n",
    "features += dtfy_fs\n",
    "features += list(conf.hatebert_models.keys()) \n",
    "features += list(conf.tweeteval_models.keys())\n",
    "features += vad_fs\n",
    "features += ti_features\n",
    "if conf.em_enable:\n",
    "    features += em_cols\n",
    "features.sort()\n",
    "print(f\"{len(features)} features\\n{features}\")\n",
    "x_test = df[features].to_numpy()"
   ]
  },
  {
   "cell_type": "code",
   "execution_count": 25,
   "id": "ea5a7db4",
   "metadata": {
    "execution": {
     "iopub.execute_input": "2022-02-07T12:24:06.877689Z",
     "iopub.status.busy": "2022-02-07T12:24:06.875358Z",
     "iopub.status.idle": "2022-02-07T12:24:09.240981Z",
     "shell.execute_reply": "2022-02-07T12:24:09.241440Z"
    },
    "papermill": {
     "duration": 4.199163,
     "end_time": "2022-02-07T12:24:09.241606",
     "exception": false,
     "start_time": "2022-02-07T12:24:05.042443",
     "status": "completed"
    },
    "tags": []
   },
   "outputs": [
    {
     "name": "stdout",
     "output_type": "stream",
     "text": [
      "CPU times: user 2.31 s, sys: 50 ms, total: 2.36 s\n",
      "Wall time: 2.36 s\n"
     ]
    }
   ],
   "source": [
    "%%time\n",
    "df[\"score\"] = model.predict(x_test)"
   ]
  },
  {
   "cell_type": "markdown",
   "id": "333923bc",
   "metadata": {
    "papermill": {
     "duration": 1.982057,
     "end_time": "2022-02-07T12:24:13.070415",
     "exception": false,
     "start_time": "2022-02-07T12:24:11.088358",
     "status": "completed"
    },
    "tags": []
   },
   "source": [
    "# Submission"
   ]
  },
  {
   "cell_type": "code",
   "execution_count": 26,
   "id": "7b18e4a3",
   "metadata": {
    "execution": {
     "iopub.execute_input": "2022-02-07T12:24:17.292062Z",
     "iopub.status.busy": "2022-02-07T12:24:17.291271Z",
     "iopub.status.idle": "2022-02-07T12:24:17.323888Z",
     "shell.execute_reply": "2022-02-07T12:24:17.323482Z"
    },
    "papermill": {
     "duration": 1.853508,
     "end_time": "2022-02-07T12:24:17.324029",
     "exception": false,
     "start_time": "2022-02-07T12:24:15.470521",
     "status": "completed"
    },
    "tags": []
   },
   "outputs": [
    {
     "name": "stdout",
     "output_type": "stream",
     "text": [
      "<class 'pandas.core.frame.DataFrame'>\n",
      "RangeIndex: 7537 entries, 0 to 7536\n",
      "Data columns (total 2 columns):\n",
      " #   Column      Non-Null Count  Dtype\n",
      "---  ------      --------------  -----\n",
      " 0   comment_id  7537 non-null   int64\n",
      " 1   score       7537 non-null   int64\n",
      "dtypes: int64(2)\n",
      "memory usage: 117.9 KB\n"
     ]
    }
   ],
   "source": [
    "df[\"score\"] = rankdata(df[\"score\"], method=\"ordinal\")\n",
    "cols = [\"comment_id\", \"score\"]\n",
    "sub = df[cols]\n",
    "sub.to_csv(\"submission.csv\", index=False)\n",
    "sub.info()"
   ]
  },
  {
   "cell_type": "code",
   "execution_count": 27,
   "id": "9573881c",
   "metadata": {
    "execution": {
     "iopub.execute_input": "2022-02-07T12:24:21.044892Z",
     "iopub.status.busy": "2022-02-07T12:24:21.044181Z",
     "iopub.status.idle": "2022-02-07T12:24:21.053826Z",
     "shell.execute_reply": "2022-02-07T12:24:21.054325Z"
    },
    "papermill": {
     "duration": 1.87944,
     "end_time": "2022-02-07T12:24:21.054475",
     "exception": false,
     "start_time": "2022-02-07T12:24:19.175035",
     "status": "completed"
    },
    "tags": []
   },
   "outputs": [
    {
     "data": {
      "text/html": [
       "<div>\n",
       "<style scoped>\n",
       "    .dataframe tbody tr th:only-of-type {\n",
       "        vertical-align: middle;\n",
       "    }\n",
       "\n",
       "    .dataframe tbody tr th {\n",
       "        vertical-align: top;\n",
       "    }\n",
       "\n",
       "    .dataframe thead th {\n",
       "        text-align: right;\n",
       "    }\n",
       "</style>\n",
       "<table border=\"1\" class=\"dataframe\">\n",
       "  <thead>\n",
       "    <tr style=\"text-align: right;\">\n",
       "      <th></th>\n",
       "      <th>comment_id</th>\n",
       "      <th>score</th>\n",
       "    </tr>\n",
       "  </thead>\n",
       "  <tbody>\n",
       "    <tr>\n",
       "      <th>0</th>\n",
       "      <td>114890</td>\n",
       "      <td>247</td>\n",
       "    </tr>\n",
       "    <tr>\n",
       "      <th>1</th>\n",
       "      <td>732895</td>\n",
       "      <td>1037</td>\n",
       "    </tr>\n",
       "    <tr>\n",
       "      <th>2</th>\n",
       "      <td>1139051</td>\n",
       "      <td>2465</td>\n",
       "    </tr>\n",
       "    <tr>\n",
       "      <th>3</th>\n",
       "      <td>1434512</td>\n",
       "      <td>820</td>\n",
       "    </tr>\n",
       "    <tr>\n",
       "      <th>4</th>\n",
       "      <td>2084821</td>\n",
       "      <td>5184</td>\n",
       "    </tr>\n",
       "  </tbody>\n",
       "</table>\n",
       "</div>"
      ],
      "text/plain": [
       "   comment_id  score\n",
       "0      114890    247\n",
       "1      732895   1037\n",
       "2     1139051   2465\n",
       "3     1434512    820\n",
       "4     2084821   5184"
      ]
     },
     "execution_count": 27,
     "metadata": {},
     "output_type": "execute_result"
    }
   ],
   "source": [
    "sub.head()"
   ]
  },
  {
   "cell_type": "markdown",
   "id": "50d75f69",
   "metadata": {
    "papermill": {
     "duration": 1.800744,
     "end_time": "2022-02-07T12:24:24.680602",
     "exception": false,
     "start_time": "2022-02-07T12:24:22.879858",
     "status": "completed"
    },
    "tags": []
   },
   "source": [
    "# Debug"
   ]
  },
  {
   "cell_type": "code",
   "execution_count": 28,
   "id": "51f1c016",
   "metadata": {
    "execution": {
     "iopub.execute_input": "2022-02-07T12:24:28.706630Z",
     "iopub.status.busy": "2022-02-07T12:24:28.705768Z",
     "iopub.status.idle": "2022-02-07T12:24:28.708372Z",
     "shell.execute_reply": "2022-02-07T12:24:28.707886Z"
    },
    "papermill": {
     "duration": 1.836444,
     "end_time": "2022-02-07T12:24:28.708489",
     "exception": false,
     "start_time": "2022-02-07T12:24:26.872045",
     "status": "completed"
    },
    "tags": []
   },
   "outputs": [],
   "source": [
    "#!pip list"
   ]
  }
 ],
 "metadata": {
  "kernelspec": {
   "display_name": "Python 3",
   "language": "python",
   "name": "python3"
  },
  "language_info": {
   "codemirror_mode": {
    "name": "ipython",
    "version": 3
   },
   "file_extension": ".py",
   "mimetype": "text/x-python",
   "name": "python",
   "nbconvert_exporter": "python",
   "pygments_lexer": "ipython3",
   "version": "3.7.12"
  },
  "papermill": {
   "default_parameters": {},
   "duration": 3329.205217,
   "end_time": "2022-02-07T12:24:33.485327",
   "environment_variables": {},
   "exception": null,
   "input_path": "__notebook__.ipynb",
   "output_path": "__notebook__.ipynb",
   "parameters": {},
   "start_time": "2022-02-07T11:29:04.280110",
   "version": "2.3.3"
  }
 },
 "nbformat": 4,
 "nbformat_minor": 5
}
