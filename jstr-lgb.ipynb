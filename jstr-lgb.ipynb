{
 "cells": [
  {
   "cell_type": "code",
   "execution_count": 1,
   "id": "374ed08c",
   "metadata": {
    "_cell_guid": "b1076dfc-b9ad-4769-8c92-a6c4dae69d19",
    "_uuid": "8f2839f25d086af736a60e9eeb907d3b93b6e0e5",
    "execution": {
     "iopub.execute_input": "2021-12-19T02:41:57.527749Z",
     "iopub.status.busy": "2021-12-19T02:41:57.526777Z",
     "iopub.status.idle": "2021-12-19T02:42:01.809640Z",
     "shell.execute_reply": "2021-12-19T02:42:01.808662Z",
     "shell.execute_reply.started": "2021-12-19T02:32:09.756840Z"
    },
    "papermill": {
     "duration": 4.323948,
     "end_time": "2021-12-19T02:42:01.809805",
     "exception": false,
     "start_time": "2021-12-19T02:41:57.485857",
     "status": "completed"
    },
    "tags": []
   },
   "outputs": [
    {
     "data": {
      "text/html": [
       "<style type='text/css'>\n",
       ".datatable table.frame { margin-bottom: 0; }\n",
       ".datatable table.frame thead { border-bottom: none; }\n",
       ".datatable table.frame tr.coltypes td {  color: #FFFFFF;  line-height: 6px;  padding: 0 0.5em;}\n",
       ".datatable .bool    { background: #DDDD99; }\n",
       ".datatable .object  { background: #565656; }\n",
       ".datatable .int     { background: #5D9E5D; }\n",
       ".datatable .float   { background: #4040CC; }\n",
       ".datatable .str     { background: #CC4040; }\n",
       ".datatable .time    { background: #40CC40; }\n",
       ".datatable .row_index {  background: var(--jp-border-color3);  border-right: 1px solid var(--jp-border-color0);  color: var(--jp-ui-font-color3);  font-size: 9px;}\n",
       ".datatable .frame tbody td { text-align: left; }\n",
       ".datatable .frame tr.coltypes .row_index {  background: var(--jp-border-color0);}\n",
       ".datatable th:nth-child(2) { padding-left: 12px; }\n",
       ".datatable .hellipsis {  color: var(--jp-cell-editor-border-color);}\n",
       ".datatable .vellipsis {  background: var(--jp-layout-color0);  color: var(--jp-cell-editor-border-color);}\n",
       ".datatable .na {  color: var(--jp-cell-editor-border-color);  font-size: 80%;}\n",
       ".datatable .sp {  opacity: 0.25;}\n",
       ".datatable .footer { font-size: 9px; }\n",
       ".datatable .frame_dimensions {  background: var(--jp-border-color3);  border-top: 1px solid var(--jp-border-color0);  color: var(--jp-ui-font-color3);  display: inline-block;  opacity: 0.6;  padding: 1px 10px 1px 5px;}\n",
       ".datatable .frame thead tr.colnames {  background-image: url('data:image/png;base64,iVBORw0KGgoAAAANSUhEUgAAABwAAAA4CAYAAADuMJi0AAAGR0lEQVR42rVZ21IbRxBtCbQrkIR2dQVjsLmDLBsET3nTQ8ouYRkQVf6e/E9+Im958qMfkgoXAaKSSj6C9Jnd2R2NeiRSRaZqitVOT5+Z6dNnWoKGlN94JFp8Ipofkb/7SOXjGyp8wF+z35K3f0uUp/GW4XfLQ8v2gefj3ZCCzojoNfue+43o1Q3l3xB/yA3JO7jnF2pCLnI+pNyx/qw7L+SQ7T2N9p2f8c60QcfcK6KGXsAd+ZvA4LlZYuSSAoOhMs5vwJkEGDlbPMaJoA+FcQ0IH38QLWkbAFLkOOhoMF5tU6/eBRhNjro0ZgKiPRAt3FLhCO/vqdgmNTm32LkmKpvBmQY4q5uAaAgbwDBG2BVv3bfI8KKAMWj2kfw9+pkZREIbEql4ST1x7hgHIANkbJ//MF8mAH/ilTCJ2tIi4ASr1IC3VNqXHKOxjy34mgoImnOQtx1g81fkqTiMOBVGcTogNhiT5iBHET8R8C+iApJUmgim3SQAXhsLQz7ee2G8gOAQNtJckBEplADiAxtX+G9NmhDl0qJKnTvyWlAMPYZnvIviGXRg6/Dh824DBXhP/tbfREXJEIvQ+aaPGjG7pvw6r3xdx+9hqb4dgZaP2XmdHO2K/B0c1+oUph6k8kShBryl/Ft0DYgjTlOieOACHFFpVyUl72T9V3cM1jUoYvxIC2vpCSys/ck70mDYuYvdvKjlMdKAUThneWVU1aAsyjv6PURDiwNsHGBZzY+JtAAgE2TFxdRHJdyIp/f+zqu09M5cDP2F08Ukkpj4YNSdX950HY2pNCCUK/Hhx5ZMBfjNSEzdsIihVzzAMdn9dz4eDYhnyQb9SSCiAryiJcQk82LiTbJ4x2FZJaUenpKnzP95WyDf4Y+QN9EFHHSeDLGdBjjKNQ5vKHf4XMA7KrY0y0GEObBOO/8e1ywuQExOHXktuQyJALEBpcEqhwtHqgiDuCK5b6i0p2MQpcckIIoh+6hYgTZtO8xlMi6O4tKCF/kOGHEg/W0UUpHW0ZoGNZ1ExZWcn7EErgwt4uj50E/sFBjXXIayWvh7WryjasxarZKssXon0zxvvkc32Q0bqbBCuZiKt9dWFysfQefeL29JYFaeztX6tePaZdz5mYx8+6Zq3Mk0wXECQxlhdzgS2wjBHju3j1RIgKyOMdNUE8X0+RAdbSapS11MRCv1SzUXmO6wGZe2SQYrv2MvCSWEv2VODE6DN7bz8ufypgQKW7uQskFTQHULLKyaEyrnlZbgOGLrV5qrn9U79jjm2HJmgkaVN98AfBub91lGPLZBqdroN5LYgjSu4zYZDDHXZOIPC691HqrWI1900I8qLzgKP4ft8DxEWigprPfrO+KcXno9gZz4jjGewWdUcpGCj0qVFuGPYbl2VturndZ2qRvlL8acDO6lF/DY/VjsFesiUK+ypJ+r/ep+cJkSQxEK4PG4WozgA75TYrDDqStE69K8/mzGEM+JXTeqvmedEElMmwCMm2SLd6bNNF9su02zEtoW6nAQtpMj5Gd7fKa//wqonF7UdtHFsVn+6hf1o7AfriPH7M6EeIUEF5zKVxXbYo7kS/OEtOqDYZKPoBsETIixn0uYrasThmzDkhdKPkz2EnaX0HdQbIgr59vAdGYDqjHrxkjS7WOxkTD8sqEqhiwcJETgBYigrBqF08KyDaje9SZ/I1A7MzaTzMGDEulPtZUkuKcyIRAjxEJPVrnVlb/9wkfij31D/pQt1IN+iL8bGJcstBIO7Y5VI/cwDqURbXhMuJxBqD0KLoK3esWFs0Jz5i5ZvJUAfFJMFb9XmGIOnzGpijpcWYCaMqXSQWp8EnCABepQ0Elyi4wfKfsw78ikIqif1pe1AGPlLmojl1SKxHHXp1L+Ut7AmDQHvhI5xHGi4EooO2BR7k78PEkJOdL7cAxQUZ/Tyclu9gnfwGgOmm2lNHGNmZXsq4Pqgc1EG1ATrvKl8s4R9ywwnqulGUnaRLVhxy8v3ieUwy2hbooT68uscW++DCDH0WSzuoyN2D4LUJ/tLECbcSKznwMIFs0ChF4mRTCnQbIIfk4SHJo6A9BMuTnXTs3Ku/KxsgZWqzuSe+Os8cEUfnMBY6UF5gi3SUbd5K7vDjq5WW0UENJlRsWn4sy21Er/E/AvPQSFHy1p4fgAAAAASUVORK5CYII=');  background-repeat: repeat-x;  background-size: 14px;  height: 28px;}\n",
       "</style>\n"
      ],
      "text/plain": [
       "<IPython.core.display.HTML object>"
      ]
     },
     "metadata": {},
     "output_type": "display_data"
    }
   ],
   "source": [
    "import random\n",
    "import glob\n",
    "import os\n",
    "import sys\n",
    "import gc\n",
    "import json\n",
    "import math\n",
    "import numpy as np\n",
    "import pandas as pd\n",
    "from scipy.stats import rankdata\n",
    "import torch\n",
    "import transformers\n",
    "import lightgbm as lgb\n",
    "from typing import Iterable, Dict, Set, List, NamedTuple\n",
    "from tqdm import tqdm"
   ]
  },
  {
   "cell_type": "code",
   "execution_count": 2,
   "id": "b4830cba",
   "metadata": {
    "execution": {
     "iopub.execute_input": "2021-12-19T02:42:01.875433Z",
     "iopub.status.busy": "2021-12-19T02:42:01.874620Z",
     "iopub.status.idle": "2021-12-19T02:42:01.930952Z",
     "shell.execute_reply": "2021-12-19T02:42:01.930478Z",
     "shell.execute_reply.started": "2021-12-19T02:32:14.028166Z"
    },
    "papermill": {
     "duration": 0.092039,
     "end_time": "2021-12-19T02:42:01.931080",
     "exception": false,
     "start_time": "2021-12-19T02:42:01.839041",
     "status": "completed"
    },
    "tags": []
   },
   "outputs": [
    {
     "name": "stdout",
     "output_type": "stream",
     "text": [
      "0: Tesla P100-PCIE-16GB\n",
      "Memory Allocated:\t 0.0 GB\n",
      "Memory Cached:\t\t 0.0 GB\n"
     ]
    }
   ],
   "source": [
    "# You can write up to 20GB to the current directory (/kaggle/working/) that gets preserved as output when you create a version using \"Save & Run All\" \n",
    "# You can also write temporary files to /kaggle/temp/, but they won't be saved outside of the current session\n",
    "class Conf(NamedTuple):\n",
    "    device: torch.device\n",
    "    input_dir: str = '/kaggle/input/'\n",
    "    comp_dir: str = f\"{input_dir}jigsaw-toxic-severity-rating/\"\n",
    "    temp_dir: str = '/kaggle/temp/'\n",
    "    working_dir: str = '/kaggle/working/'\n",
    "    resource_dir: str = f'{input_dir}jtsr-lib/kaggle-jigsaw-toxic-severity-rating-1.0/'\n",
    "    pretrained_dir: str = f\"{input_dir}pretrained/pretrained/\"\n",
    "    model_file: str = f'{resource_dir}models/lgb/20211218_124641/model.txt'\n",
    "    em_max_seq_length: int = 128\n",
    "    em_batch_size: int = 1000\n",
    "    em_models: Dict[str, str] = {\n",
    "        \"paraphrase-MiniLM-L6-v2\": f\"{pretrained_dir}sentence-transformers/paraphrase-MiniLM-L6-v2\"\n",
    "    }\n",
    "    dtfy_batch_size: int = 256\n",
    "    dtfy_model_max_length: int = 512\n",
    "    dtfy_original_model: str = f\"{pretrained_dir}unitaryai/detoxify/toxic_original-c1212f89.ckpt\"\n",
    "    dtfy_unbiased_model: str = f\"{pretrained_dir}unitaryai/detoxify/toxic_debiased-c7548aa0.ckpt\"\n",
    "    dtfy_multilingual_model: str = f\"{pretrained_dir}unitaryai/detoxify/multilingual_debiased-0b549669.ckpt\"\n",
    "    char_fs: List[str] = [\"length\", \"digit_frac\", \"letter_frac\", \"space_frac\", \"punc_frac\", \"upper_frac\"]\n",
    "    textstat_fs: List[str] = [\"syllable_count\", \"lexicon_count\", \"sentence_count\", \"flesch_reading_ease\", \"flesch_kincaid_grade\", \n",
    "                              \"gunning_fog\", \"smog_index\", \"automated_readability_index\", \"coleman_liau_index\", \n",
    "                              \"linsear_write_formula\", \"dale_chall_readability_score\"]\n",
    "\n",
    "\n",
    "\n",
    "device = torch.device('cpu')\n",
    "if torch.cuda.is_available():\n",
    "    device = torch.device('cuda')\n",
    "    for i in range(torch.cuda.device_count()):\n",
    "        print(f\"{i}: {torch.cuda.get_device_name(i)}\")\n",
    "        print('Memory Allocated:\\t', round(torch.cuda.memory_allocated(i)/1024**3,1), 'GB')\n",
    "        print('Memory Cached:\\t\\t', round(torch.cuda.memory_reserved(i)/1024**3,1), 'GB')\n",
    "conf = Conf(device=device)"
   ]
  },
  {
   "cell_type": "code",
   "execution_count": 3,
   "id": "bc814114",
   "metadata": {
    "execution": {
     "iopub.execute_input": "2021-12-19T02:42:01.998379Z",
     "iopub.status.busy": "2021-12-19T02:42:01.997455Z",
     "iopub.status.idle": "2021-12-19T02:42:07.916796Z",
     "shell.execute_reply": "2021-12-19T02:42:07.917297Z",
     "shell.execute_reply.started": "2021-12-19T02:32:14.089357Z"
    },
    "papermill": {
     "duration": 5.954469,
     "end_time": "2021-12-19T02:42:07.917465",
     "exception": false,
     "start_time": "2021-12-19T02:42:01.962996",
     "status": "completed"
    },
    "tags": []
   },
   "outputs": [],
   "source": [
    "os.environ[\"TOKENIZERS_PARALLELISM\"] = \"false\"\n",
    "pd.set_option(\"use_inf_as_na\", True)\n",
    "pd.set_option(\"max_info_columns\", 9999)\n",
    "pd.set_option(\"display.max_columns\", 9999)\n",
    "pd.set_option(\"display.max_rows\", 9999)\n",
    "pd.set_option('max_colwidth', 9999)\n",
    "tqdm.pandas()\n",
    "sys.path.append(f\"{conf.input_dir}pyphen/Pyphen-0.11.0\")\n",
    "sys.path.append(f\"{conf.input_dir}textstat/textstat-0.7.2\")\n",
    "sys.path.append(f\"{conf.input_dir}sentence-transformers/sentence-transformers-2.1.0\")\n",
    "sys.path.append(f'{conf.input_dir}d/ruhong/sgcharts-ml/src')\n",
    "sys.path.append(f'{conf.resource_dir}src')\n",
    "import textstat\n",
    "from sentence_transformers import SentenceTransformer\n",
    "import scml\n",
    "from scml import nlp as snlp\n",
    "import mylib"
   ]
  },
  {
   "cell_type": "code",
   "execution_count": 4,
   "id": "8a153979",
   "metadata": {
    "execution": {
     "iopub.execute_input": "2021-12-19T02:42:07.982525Z",
     "iopub.status.busy": "2021-12-19T02:42:07.981592Z",
     "iopub.status.idle": "2021-12-19T02:42:08.073954Z",
     "shell.execute_reply": "2021-12-19T02:42:08.074486Z",
     "shell.execute_reply.started": "2021-12-19T02:32:20.675131Z"
    },
    "papermill": {
     "duration": 0.128995,
     "end_time": "2021-12-19T02:42:08.074657",
     "exception": false,
     "start_time": "2021-12-19T02:42:07.945662",
     "status": "completed"
    },
    "tags": []
   },
   "outputs": [
    {
     "name": "stdout",
     "output_type": "stream",
     "text": [
      "<class 'pandas.core.frame.DataFrame'>\n",
      "RangeIndex: 7537 entries, 0 to 7536\n",
      "Data columns (total 2 columns):\n",
      " #   Column      Non-Null Count  Dtype \n",
      "---  ------      --------------  ----- \n",
      " 0   comment_id  7537 non-null   int64 \n",
      " 1   text        7537 non-null   object\n",
      "dtypes: int64(1), object(1)\n",
      "memory usage: 117.9+ KB\n"
     ]
    }
   ],
   "source": [
    "df = pd.read_csv(f\"{conf.comp_dir}comments_to_score.csv\")\n",
    "df.info()"
   ]
  },
  {
   "cell_type": "markdown",
   "id": "fb87e3e0",
   "metadata": {
    "papermill": {
     "duration": 0.028052,
     "end_time": "2021-12-19T02:42:08.134066",
     "exception": false,
     "start_time": "2021-12-19T02:42:08.106014",
     "status": "completed"
    },
    "tags": []
   },
   "source": [
    "# Preprocess text"
   ]
  },
  {
   "cell_type": "code",
   "execution_count": 5,
   "id": "e8bf0fe3",
   "metadata": {
    "execution": {
     "iopub.execute_input": "2021-12-19T02:42:08.196554Z",
     "iopub.status.busy": "2021-12-19T02:42:08.195965Z",
     "iopub.status.idle": "2021-12-19T02:42:18.100878Z",
     "shell.execute_reply": "2021-12-19T02:42:18.100451Z",
     "shell.execute_reply.started": "2021-12-19T02:32:20.906106Z"
    },
    "papermill": {
     "duration": 9.938688,
     "end_time": "2021-12-19T02:42:18.101000",
     "exception": false,
     "start_time": "2021-12-19T02:42:08.162312",
     "status": "completed"
    },
    "tags": []
   },
   "outputs": [
    {
     "name": "stderr",
     "output_type": "stream",
     "text": [
      "100%|██████████| 7537/7537 [00:09<00:00, 761.63it/s]\n"
     ]
    }
   ],
   "source": [
    "def preprocess(row) -> str:\n",
    "    return mylib.preprocess(row[\"text\"])\n",
    "\n",
    "\n",
    "col = \"text\"\n",
    "df[col] = df.progress_apply(preprocess, axis=1)"
   ]
  },
  {
   "cell_type": "markdown",
   "id": "5dd5e564",
   "metadata": {
    "papermill": {
     "duration": 0.051113,
     "end_time": "2021-12-19T02:42:18.204551",
     "exception": false,
     "start_time": "2021-12-19T02:42:18.153438",
     "status": "completed"
    },
    "tags": []
   },
   "source": [
    "# Character level features"
   ]
  },
  {
   "cell_type": "code",
   "execution_count": 6,
   "id": "ba4de614",
   "metadata": {
    "execution": {
     "iopub.execute_input": "2021-12-19T02:42:18.319021Z",
     "iopub.status.busy": "2021-12-19T02:42:18.318180Z",
     "iopub.status.idle": "2021-12-19T02:42:18.322570Z",
     "shell.execute_reply": "2021-12-19T02:42:18.322094Z",
     "shell.execute_reply.started": "2021-12-19T02:32:30.536671Z"
    },
    "papermill": {
     "duration": 0.066926,
     "end_time": "2021-12-19T02:42:18.322694",
     "exception": false,
     "start_time": "2021-12-19T02:42:18.255768",
     "status": "completed"
    },
    "tags": []
   },
   "outputs": [
    {
     "name": "stdout",
     "output_type": "stream",
     "text": [
      "CPU times: user 8.54 ms, sys: 41 µs, total: 8.58 ms\n",
      "Wall time: 8.05 ms\n"
     ]
    }
   ],
   "source": [
    "%%time\n",
    "col = \"length\"\n",
    "df[col] = df[\"text\"].str.len()\n",
    "df[col] = df[col].astype(np.int16)"
   ]
  },
  {
   "cell_type": "code",
   "execution_count": 7,
   "id": "7d63d58f",
   "metadata": {
    "execution": {
     "iopub.execute_input": "2021-12-19T02:42:18.432499Z",
     "iopub.status.busy": "2021-12-19T02:42:18.431668Z",
     "iopub.status.idle": "2021-12-19T02:42:18.433652Z",
     "shell.execute_reply": "2021-12-19T02:42:18.434050Z",
     "shell.execute_reply.started": "2021-12-19T02:32:30.551871Z"
    },
    "papermill": {
     "duration": 0.059865,
     "end_time": "2021-12-19T02:42:18.434180",
     "exception": false,
     "start_time": "2021-12-19T02:42:18.374315",
     "status": "completed"
    },
    "tags": []
   },
   "outputs": [],
   "source": [
    "def digit_frac(row) -> float:\n",
    "    return mylib.digit_frac(row[\"text\"])\n",
    "\n",
    "\n",
    "def letter_frac(row) -> float:\n",
    "    return mylib.letter_frac(row[\"text\"])\n",
    "\n",
    "\n",
    "def space_frac(row) -> float:\n",
    "    return mylib.space_frac(row[\"text\"])\n",
    "\n",
    "\n",
    "def punc_frac(row) -> float:\n",
    "    return mylib.punc_frac(row[\"text\"])\n",
    "\n",
    "\n",
    "def upper_frac(row) -> float:\n",
    "    return mylib.upper_frac(row[\"text\"])"
   ]
  },
  {
   "cell_type": "code",
   "execution_count": 8,
   "id": "b5f91471",
   "metadata": {
    "execution": {
     "iopub.execute_input": "2021-12-19T02:42:18.543432Z",
     "iopub.status.busy": "2021-12-19T02:42:18.542487Z",
     "iopub.status.idle": "2021-12-19T02:42:18.898445Z",
     "shell.execute_reply": "2021-12-19T02:42:18.897957Z",
     "shell.execute_reply.started": "2021-12-19T02:32:30.561785Z"
    },
    "papermill": {
     "duration": 0.412651,
     "end_time": "2021-12-19T02:42:18.898571",
     "exception": false,
     "start_time": "2021-12-19T02:42:18.485920",
     "status": "completed"
    },
    "tags": []
   },
   "outputs": [
    {
     "name": "stderr",
     "output_type": "stream",
     "text": [
      "100%|██████████| 7537/7537 [00:00<00:00, 21683.68it/s]\n"
     ]
    }
   ],
   "source": [
    "col = \"digit_frac\"\n",
    "df[col] = df.progress_apply(digit_frac, axis=1)\n",
    "df[col] = df[col].astype(np.float32)"
   ]
  },
  {
   "cell_type": "code",
   "execution_count": 9,
   "id": "331f2db6",
   "metadata": {
    "execution": {
     "iopub.execute_input": "2021-12-19T02:42:19.011794Z",
     "iopub.status.busy": "2021-12-19T02:42:19.010857Z",
     "iopub.status.idle": "2021-12-19T02:42:19.381064Z",
     "shell.execute_reply": "2021-12-19T02:42:19.381591Z",
     "shell.execute_reply.started": "2021-12-19T02:32:30.910653Z"
    },
    "papermill": {
     "duration": 0.429691,
     "end_time": "2021-12-19T02:42:19.381753",
     "exception": false,
     "start_time": "2021-12-19T02:42:18.952062",
     "status": "completed"
    },
    "tags": []
   },
   "outputs": [
    {
     "name": "stderr",
     "output_type": "stream",
     "text": [
      "100%|██████████| 7537/7537 [00:00<00:00, 20769.04it/s]\n"
     ]
    }
   ],
   "source": [
    "col = \"letter_frac\"\n",
    "df[col] = df.progress_apply(letter_frac, axis=1)\n",
    "df[col] = df[col].astype(np.float32)"
   ]
  },
  {
   "cell_type": "code",
   "execution_count": 10,
   "id": "da6a2ce0",
   "metadata": {
    "execution": {
     "iopub.execute_input": "2021-12-19T02:42:19.501777Z",
     "iopub.status.busy": "2021-12-19T02:42:19.500819Z",
     "iopub.status.idle": "2021-12-19T02:42:19.854595Z",
     "shell.execute_reply": "2021-12-19T02:42:19.854100Z",
     "shell.execute_reply.started": "2021-12-19T02:32:31.302143Z"
    },
    "papermill": {
     "duration": 0.414071,
     "end_time": "2021-12-19T02:42:19.854714",
     "exception": false,
     "start_time": "2021-12-19T02:42:19.440643",
     "status": "completed"
    },
    "tags": []
   },
   "outputs": [
    {
     "name": "stderr",
     "output_type": "stream",
     "text": [
      "100%|██████████| 7537/7537 [00:00<00:00, 21806.53it/s]\n"
     ]
    }
   ],
   "source": [
    "col = \"space_frac\"\n",
    "df[col] = df.progress_apply(space_frac, axis=1)\n",
    "df[col] = df[col].astype(np.float32)"
   ]
  },
  {
   "cell_type": "code",
   "execution_count": 11,
   "id": "581dd3c5",
   "metadata": {
    "execution": {
     "iopub.execute_input": "2021-12-19T02:42:19.975146Z",
     "iopub.status.busy": "2021-12-19T02:42:19.974143Z",
     "iopub.status.idle": "2021-12-19T02:42:20.395151Z",
     "shell.execute_reply": "2021-12-19T02:42:20.395691Z",
     "shell.execute_reply.started": "2021-12-19T02:32:31.799637Z"
    },
    "papermill": {
     "duration": 0.482905,
     "end_time": "2021-12-19T02:42:20.395833",
     "exception": false,
     "start_time": "2021-12-19T02:42:19.912928",
     "status": "completed"
    },
    "tags": []
   },
   "outputs": [
    {
     "name": "stderr",
     "output_type": "stream",
     "text": [
      "100%|██████████| 7537/7537 [00:00<00:00, 18172.21it/s]\n"
     ]
    }
   ],
   "source": [
    "col = \"punc_frac\"\n",
    "df[col] = df.progress_apply(punc_frac, axis=1)\n",
    "df[col] = df[col].astype(np.float32)"
   ]
  },
  {
   "cell_type": "code",
   "execution_count": 12,
   "id": "87dbaf05",
   "metadata": {
    "execution": {
     "iopub.execute_input": "2021-12-19T02:42:20.516749Z",
     "iopub.status.busy": "2021-12-19T02:42:20.515824Z",
     "iopub.status.idle": "2021-12-19T02:42:21.200958Z",
     "shell.execute_reply": "2021-12-19T02:42:21.200530Z",
     "shell.execute_reply.started": "2021-12-19T02:32:32.697162Z"
    },
    "papermill": {
     "duration": 0.747345,
     "end_time": "2021-12-19T02:42:21.201094",
     "exception": false,
     "start_time": "2021-12-19T02:42:20.453749",
     "status": "completed"
    },
    "tags": []
   },
   "outputs": [
    {
     "name": "stderr",
     "output_type": "stream",
     "text": [
      "100%|██████████| 7537/7537 [00:00<00:00, 11146.59it/s]\n"
     ]
    }
   ],
   "source": [
    "col = \"upper_frac\"\n",
    "df[col] = df.progress_apply(upper_frac, axis=1)\n",
    "df[col] = df[col].astype(np.float32)"
   ]
  },
  {
   "cell_type": "markdown",
   "id": "140d6a6f",
   "metadata": {
    "papermill": {
     "duration": 0.060109,
     "end_time": "2021-12-19T02:42:21.322146",
     "exception": false,
     "start_time": "2021-12-19T02:42:21.262037",
     "status": "completed"
    },
    "tags": []
   },
   "source": [
    "# Textstat features"
   ]
  },
  {
   "cell_type": "code",
   "execution_count": 13,
   "id": "19f542f2",
   "metadata": {
    "execution": {
     "iopub.execute_input": "2021-12-19T02:42:21.450799Z",
     "iopub.status.busy": "2021-12-19T02:42:21.444166Z",
     "iopub.status.idle": "2021-12-19T02:42:21.453029Z",
     "shell.execute_reply": "2021-12-19T02:42:21.452600Z",
     "shell.execute_reply.started": "2021-12-19T02:32:33.311565Z"
    },
    "papermill": {
     "duration": 0.071064,
     "end_time": "2021-12-19T02:42:21.453138",
     "exception": false,
     "start_time": "2021-12-19T02:42:21.382074",
     "status": "completed"
    },
    "tags": []
   },
   "outputs": [],
   "source": [
    "def syllable_count(row) -> int:\n",
    "    return textstat.syllable_count(row[\"text\"])\n",
    "\n",
    "\n",
    "def lexicon_count(row) -> int:\n",
    "    return textstat.lexicon_count(row[\"text\"])\n",
    "\n",
    "\n",
    "def sentence_count(row) -> int:\n",
    "    return textstat.sentence_count(row[\"text\"])\n",
    "\n",
    "\n",
    "def flesch_reading_ease(row) -> float:\n",
    "    return textstat.flesch_reading_ease(row[\"text\"])\n",
    "\n",
    "\n",
    "def flesch_kincaid_grade(row) -> float:\n",
    "    return textstat.flesch_kincaid_grade(row[\"text\"])\n",
    "\n",
    "\n",
    "def gunning_fog(row) -> float:\n",
    "    return textstat.gunning_fog(row[\"text\"])\n",
    "\n",
    "\n",
    "def smog_index(row) -> float:\n",
    "    return textstat.smog_index(row[\"text\"])\n",
    "\n",
    "\n",
    "def automated_readability_index(row) -> float:\n",
    "    return textstat.automated_readability_index(row[\"text\"])\n",
    "\n",
    "\n",
    "def coleman_liau_index(row) -> float:\n",
    "    return textstat.coleman_liau_index(row[\"text\"])\n",
    "\n",
    "\n",
    "def linsear_write_formula(row) -> float:\n",
    "    return textstat.linsear_write_formula(row[\"text\"])\n",
    "\n",
    "\n",
    "def dale_chall_readability_score(row) -> float:\n",
    "    return textstat.dale_chall_readability_score(row[\"text\"])"
   ]
  },
  {
   "cell_type": "code",
   "execution_count": 14,
   "id": "61917d62",
   "metadata": {
    "execution": {
     "iopub.execute_input": "2021-12-19T02:42:21.579336Z",
     "iopub.status.busy": "2021-12-19T02:42:21.578464Z",
     "iopub.status.idle": "2021-12-19T02:42:25.324405Z",
     "shell.execute_reply": "2021-12-19T02:42:25.324819Z",
     "shell.execute_reply.started": "2021-12-19T02:32:33.322128Z"
    },
    "papermill": {
     "duration": 3.812211,
     "end_time": "2021-12-19T02:42:25.324964",
     "exception": false,
     "start_time": "2021-12-19T02:42:21.512753",
     "status": "completed"
    },
    "tags": []
   },
   "outputs": [
    {
     "name": "stderr",
     "output_type": "stream",
     "text": [
      "100%|██████████| 7537/7537 [00:03<00:00, 2015.45it/s]\n"
     ]
    }
   ],
   "source": [
    "col = \"flesch_reading_ease\"\n",
    "df[col] = df.progress_apply(flesch_reading_ease, axis=1)\n",
    "df[col] = df[col].astype(np.float32)"
   ]
  },
  {
   "cell_type": "code",
   "execution_count": 15,
   "id": "11d0a778",
   "metadata": {
    "execution": {
     "iopub.execute_input": "2021-12-19T02:42:25.469044Z",
     "iopub.status.busy": "2021-12-19T02:42:25.468105Z",
     "iopub.status.idle": "2021-12-19T02:42:27.142263Z",
     "shell.execute_reply": "2021-12-19T02:42:27.141806Z",
     "shell.execute_reply.started": "2021-12-19T02:32:36.582750Z"
    },
    "papermill": {
     "duration": 1.748435,
     "end_time": "2021-12-19T02:42:27.142392",
     "exception": false,
     "start_time": "2021-12-19T02:42:25.393957",
     "status": "completed"
    },
    "tags": []
   },
   "outputs": [
    {
     "name": "stderr",
     "output_type": "stream",
     "text": [
      "100%|██████████| 7537/7537 [00:01<00:00, 4522.54it/s]\n"
     ]
    }
   ],
   "source": [
    "col = \"flesch_kincaid_grade\"\n",
    "df[col] = df.progress_apply(flesch_kincaid_grade, axis=1)\n",
    "df[col] = df[col].astype(np.float32)"
   ]
  },
  {
   "cell_type": "code",
   "execution_count": 16,
   "id": "fb3fd558",
   "metadata": {
    "execution": {
     "iopub.execute_input": "2021-12-19T02:42:27.297275Z",
     "iopub.status.busy": "2021-12-19T02:42:27.296267Z",
     "iopub.status.idle": "2021-12-19T02:42:28.375656Z",
     "shell.execute_reply": "2021-12-19T02:42:28.376055Z",
     "shell.execute_reply.started": "2021-12-19T02:32:38.218302Z"
    },
    "papermill": {
     "duration": 1.158911,
     "end_time": "2021-12-19T02:42:28.376199",
     "exception": false,
     "start_time": "2021-12-19T02:42:27.217288",
     "status": "completed"
    },
    "tags": []
   },
   "outputs": [
    {
     "name": "stderr",
     "output_type": "stream",
     "text": [
      "100%|██████████| 7537/7537 [00:01<00:00, 7030.36it/s]\n"
     ]
    }
   ],
   "source": [
    "col = \"syllable_count\"\n",
    "df[col] = df.progress_apply(syllable_count, axis=1)\n",
    "df[col] = df[col].astype(np.int16)"
   ]
  },
  {
   "cell_type": "code",
   "execution_count": 17,
   "id": "95e7b986",
   "metadata": {
    "execution": {
     "iopub.execute_input": "2021-12-19T02:42:28.535749Z",
     "iopub.status.busy": "2021-12-19T02:42:28.534795Z",
     "iopub.status.idle": "2021-12-19T02:42:28.778665Z",
     "shell.execute_reply": "2021-12-19T02:42:28.779117Z",
     "shell.execute_reply.started": "2021-12-19T02:32:39.283405Z"
    },
    "papermill": {
     "duration": 0.326133,
     "end_time": "2021-12-19T02:42:28.779297",
     "exception": false,
     "start_time": "2021-12-19T02:42:28.453164",
     "status": "completed"
    },
    "tags": []
   },
   "outputs": [
    {
     "name": "stderr",
     "output_type": "stream",
     "text": [
      "100%|██████████| 7537/7537 [00:00<00:00, 31961.29it/s]\n"
     ]
    }
   ],
   "source": [
    "col = \"lexicon_count\"\n",
    "df[col] = df.progress_apply(lexicon_count, axis=1)\n",
    "df[col] = df[col].astype(np.int16)"
   ]
  },
  {
   "cell_type": "code",
   "execution_count": 18,
   "id": "b9073bf0",
   "metadata": {
    "execution": {
     "iopub.execute_input": "2021-12-19T02:42:28.952825Z",
     "iopub.status.busy": "2021-12-19T02:42:28.951810Z",
     "iopub.status.idle": "2021-12-19T02:42:29.462713Z",
     "shell.execute_reply": "2021-12-19T02:42:29.462277Z",
     "shell.execute_reply.started": "2021-12-19T02:32:39.527782Z"
    },
    "papermill": {
     "duration": 0.599757,
     "end_time": "2021-12-19T02:42:29.462829",
     "exception": false,
     "start_time": "2021-12-19T02:42:28.863072",
     "status": "completed"
    },
    "tags": []
   },
   "outputs": [
    {
     "name": "stderr",
     "output_type": "stream",
     "text": [
      "100%|██████████| 7537/7537 [00:00<00:00, 14984.51it/s]\n"
     ]
    }
   ],
   "source": [
    "col = \"sentence_count\"\n",
    "df[col] = df.progress_apply(sentence_count, axis=1)\n",
    "df[col] = df[col].astype(np.int16)"
   ]
  },
  {
   "cell_type": "code",
   "execution_count": 19,
   "id": "112612ab",
   "metadata": {
    "execution": {
     "iopub.execute_input": "2021-12-19T02:42:29.628654Z",
     "iopub.status.busy": "2021-12-19T02:42:29.627734Z",
     "iopub.status.idle": "2021-12-19T02:42:31.697329Z",
     "shell.execute_reply": "2021-12-19T02:42:31.696411Z",
     "shell.execute_reply.started": "2021-12-19T02:32:40.031085Z"
    },
    "papermill": {
     "duration": 2.15469,
     "end_time": "2021-12-19T02:42:31.697459",
     "exception": false,
     "start_time": "2021-12-19T02:42:29.542769",
     "status": "completed"
    },
    "tags": []
   },
   "outputs": [
    {
     "name": "stderr",
     "output_type": "stream",
     "text": [
      "100%|██████████| 7537/7537 [00:02<00:00, 3671.46it/s]\n"
     ]
    }
   ],
   "source": [
    "col = \"gunning_fog\"\n",
    "df[col] = df.progress_apply(gunning_fog, axis=1)\n",
    "df[col] = df[col].astype(np.float32)"
   ]
  },
  {
   "cell_type": "code",
   "execution_count": 20,
   "id": "a2f4834b",
   "metadata": {
    "execution": {
     "iopub.execute_input": "2021-12-19T02:42:31.996792Z",
     "iopub.status.busy": "2021-12-19T02:42:31.995858Z",
     "iopub.status.idle": "2021-12-19T02:42:33.540800Z",
     "shell.execute_reply": "2021-12-19T02:42:33.541170Z",
     "shell.execute_reply.started": "2021-12-19T02:32:42.042486Z"
    },
    "papermill": {
     "duration": 1.695947,
     "end_time": "2021-12-19T02:42:33.541389",
     "exception": false,
     "start_time": "2021-12-19T02:42:31.845442",
     "status": "completed"
    },
    "tags": []
   },
   "outputs": [
    {
     "name": "stderr",
     "output_type": "stream",
     "text": [
      "100%|██████████| 7537/7537 [00:01<00:00, 4901.45it/s]\n"
     ]
    }
   ],
   "source": [
    "col = \"smog_index\"\n",
    "df[col] = df.progress_apply(smog_index, axis=1)\n",
    "df[col] = df[col].astype(np.float32)"
   ]
  },
  {
   "cell_type": "code",
   "execution_count": 21,
   "id": "721b8ff9",
   "metadata": {
    "execution": {
     "iopub.execute_input": "2021-12-19T02:42:33.728863Z",
     "iopub.status.busy": "2021-12-19T02:42:33.727955Z",
     "iopub.status.idle": "2021-12-19T02:42:34.401502Z",
     "shell.execute_reply": "2021-12-19T02:42:34.401904Z",
     "shell.execute_reply.started": "2021-12-19T02:32:43.739738Z"
    },
    "papermill": {
     "duration": 0.769718,
     "end_time": "2021-12-19T02:42:34.402055",
     "exception": false,
     "start_time": "2021-12-19T02:42:33.632337",
     "status": "completed"
    },
    "tags": []
   },
   "outputs": [
    {
     "name": "stderr",
     "output_type": "stream",
     "text": [
      "100%|██████████| 7537/7537 [00:00<00:00, 11279.25it/s]\n"
     ]
    }
   ],
   "source": [
    "col = \"automated_readability_index\"\n",
    "df[col] = df.progress_apply(automated_readability_index, axis=1)\n",
    "df[col] = df[col].astype(np.float32)"
   ]
  },
  {
   "cell_type": "code",
   "execution_count": 22,
   "id": "d03df961",
   "metadata": {
    "execution": {
     "iopub.execute_input": "2021-12-19T02:42:34.595296Z",
     "iopub.status.busy": "2021-12-19T02:42:34.594269Z",
     "iopub.status.idle": "2021-12-19T02:42:35.386629Z",
     "shell.execute_reply": "2021-12-19T02:42:35.387034Z",
     "shell.execute_reply.started": "2021-12-19T02:32:44.426442Z"
    },
    "papermill": {
     "duration": 0.893077,
     "end_time": "2021-12-19T02:42:35.387180",
     "exception": false,
     "start_time": "2021-12-19T02:42:34.494103",
     "status": "completed"
    },
    "tags": []
   },
   "outputs": [
    {
     "name": "stderr",
     "output_type": "stream",
     "text": [
      "100%|██████████| 7537/7537 [00:00<00:00, 9594.18it/s]\n"
     ]
    }
   ],
   "source": [
    "col = \"coleman_liau_index\"\n",
    "df[col] = df.progress_apply(coleman_liau_index, axis=1)\n",
    "df[col] = df[col].astype(np.float32)"
   ]
  },
  {
   "cell_type": "code",
   "execution_count": 23,
   "id": "9f569b74",
   "metadata": {
    "execution": {
     "iopub.execute_input": "2021-12-19T02:42:35.585983Z",
     "iopub.status.busy": "2021-12-19T02:42:35.584969Z",
     "iopub.status.idle": "2021-12-19T02:42:36.884942Z",
     "shell.execute_reply": "2021-12-19T02:42:36.884316Z",
     "shell.execute_reply.started": "2021-12-19T02:32:45.219098Z"
    },
    "papermill": {
     "duration": 1.401588,
     "end_time": "2021-12-19T02:42:36.885078",
     "exception": false,
     "start_time": "2021-12-19T02:42:35.483490",
     "status": "completed"
    },
    "tags": []
   },
   "outputs": [
    {
     "name": "stderr",
     "output_type": "stream",
     "text": [
      "100%|██████████| 7537/7537 [00:01<00:00, 5833.10it/s]\n"
     ]
    }
   ],
   "source": [
    "col = \"linsear_write_formula\"\n",
    "df[col] = df.progress_apply(linsear_write_formula, axis=1)\n",
    "df[col] = df[col].astype(np.float32)"
   ]
  },
  {
   "cell_type": "code",
   "execution_count": 24,
   "id": "1b642b26",
   "metadata": {
    "execution": {
     "iopub.execute_input": "2021-12-19T02:42:37.091066Z",
     "iopub.status.busy": "2021-12-19T02:42:37.090086Z",
     "iopub.status.idle": "2021-12-19T02:42:39.006777Z",
     "shell.execute_reply": "2021-12-19T02:42:39.006337Z",
     "shell.execute_reply.started": "2021-12-19T02:32:46.476943Z"
    },
    "papermill": {
     "duration": 2.022303,
     "end_time": "2021-12-19T02:42:39.006893",
     "exception": false,
     "start_time": "2021-12-19T02:42:36.984590",
     "status": "completed"
    },
    "tags": []
   },
   "outputs": [
    {
     "name": "stderr",
     "output_type": "stream",
     "text": [
      "100%|██████████| 7537/7537 [00:01<00:00, 3949.65it/s]\n"
     ]
    }
   ],
   "source": [
    "col = \"dale_chall_readability_score\"\n",
    "df[col] = df.progress_apply(dale_chall_readability_score, axis=1)\n",
    "df[col] = df[col].astype(np.float32)"
   ]
  },
  {
   "cell_type": "markdown",
   "id": "fa810db5",
   "metadata": {
    "papermill": {
     "duration": 0.104829,
     "end_time": "2021-12-19T02:42:39.217535",
     "exception": false,
     "start_time": "2021-12-19T02:42:39.112706",
     "status": "completed"
    },
    "tags": []
   },
   "source": [
    "# Detoxify labels"
   ]
  },
  {
   "cell_type": "code",
   "execution_count": 25,
   "id": "d15df674",
   "metadata": {
    "execution": {
     "iopub.execute_input": "2021-12-19T02:42:39.435418Z",
     "iopub.status.busy": "2021-12-19T02:42:39.434634Z",
     "iopub.status.idle": "2021-12-19T02:42:39.436768Z",
     "shell.execute_reply": "2021-12-19T02:42:39.437128Z",
     "shell.execute_reply.started": "2021-12-19T02:32:48.392371Z"
    },
    "papermill": {
     "duration": 0.115197,
     "end_time": "2021-12-19T02:42:39.437293",
     "exception": false,
     "start_time": "2021-12-19T02:42:39.322096",
     "status": "completed"
    },
    "tags": []
   },
   "outputs": [],
   "source": [
    "sentences = list(df[\"text\"])\n",
    "dtfy_fs = []"
   ]
  },
  {
   "cell_type": "code",
   "execution_count": 26,
   "id": "acdeb0a5",
   "metadata": {
    "execution": {
     "iopub.execute_input": "2021-12-19T02:42:39.654864Z",
     "iopub.status.busy": "2021-12-19T02:42:39.654244Z",
     "iopub.status.idle": "2021-12-19T02:45:20.928589Z",
     "shell.execute_reply": "2021-12-19T02:45:20.928061Z",
     "shell.execute_reply.started": "2021-12-19T02:32:48.400930Z"
    },
    "papermill": {
     "duration": 161.386532,
     "end_time": "2021-12-19T02:45:20.928727",
     "exception": false,
     "start_time": "2021-12-19T02:42:39.542195",
     "status": "completed"
    },
    "tags": []
   },
   "outputs": [
    {
     "name": "stdout",
     "output_type": "stream",
     "text": [
      "CPU times: user 2min 30s, sys: 1.59 s, total: 2min 32s\n",
      "Wall time: 2min 41s\n"
     ]
    },
    {
     "data": {
      "text/plain": [
       "4"
      ]
     },
     "execution_count": 26,
     "metadata": {},
     "output_type": "execute_result"
    }
   ],
   "source": [
    "%%time\n",
    "prefix = \"dto_\"\n",
    "res = mylib.detoxify_labels(\n",
    "    sentences,\n",
    "    checkpoint=conf.dtfy_original_model,\n",
    "    config_dir=f\"{conf.pretrained_dir}bert-base-uncased\",\n",
    "    model_max_length=conf.dtfy_model_max_length,\n",
    "    device=conf.device,\n",
    "    batch_size=conf.dtfy_batch_size\n",
    ")\n",
    "for k, v in res.items():\n",
    "    col = prefix + k\n",
    "    df[col] = v\n",
    "    df[col] = df[col].astype(np.float32)\n",
    "    dtfy_fs.append(col)\n",
    "gc.collect()"
   ]
  },
  {
   "cell_type": "code",
   "execution_count": 27,
   "id": "62de3208",
   "metadata": {
    "execution": {
     "iopub.execute_input": "2021-12-19T02:45:21.149161Z",
     "iopub.status.busy": "2021-12-19T02:45:21.148531Z",
     "iopub.status.idle": "2021-12-19T02:47:46.687602Z",
     "shell.execute_reply": "2021-12-19T02:47:46.687135Z",
     "shell.execute_reply.started": "2021-12-19T02:35:29.975646Z"
    },
    "papermill": {
     "duration": 145.649966,
     "end_time": "2021-12-19T02:47:46.687722",
     "exception": false,
     "start_time": "2021-12-19T02:45:21.037756",
     "status": "completed"
    },
    "tags": []
   },
   "outputs": [
    {
     "name": "stdout",
     "output_type": "stream",
     "text": [
      "CPU times: user 2min 18s, sys: 739 ms, total: 2min 19s\n",
      "Wall time: 2min 25s\n"
     ]
    },
    {
     "data": {
      "text/plain": [
       "4"
      ]
     },
     "execution_count": 27,
     "metadata": {},
     "output_type": "execute_result"
    }
   ],
   "source": [
    "%%time\n",
    "prefix = \"dtu_\"\n",
    "res = mylib.detoxify_labels(\n",
    "    sentences,\n",
    "    checkpoint=conf.dtfy_unbiased_model,\n",
    "    config_dir=f\"{conf.pretrained_dir}roberta-base\",\n",
    "    model_max_length=conf.dtfy_model_max_length,\n",
    "    device=conf.device,\n",
    "    batch_size=conf.dtfy_batch_size\n",
    ")\n",
    "for k, v in res.items():\n",
    "    col = prefix + k\n",
    "    df[col] = v\n",
    "    df[col] = df[col].astype(np.float32)\n",
    "    dtfy_fs.append(col)\n",
    "gc.collect()"
   ]
  },
  {
   "cell_type": "code",
   "execution_count": 28,
   "id": "0a9628f5",
   "metadata": {
    "execution": {
     "iopub.execute_input": "2021-12-19T02:47:46.905982Z",
     "iopub.status.busy": "2021-12-19T02:47:46.905241Z",
     "iopub.status.idle": "2021-12-19T02:50:15.083708Z",
     "shell.execute_reply": "2021-12-19T02:50:15.083250Z",
     "shell.execute_reply.started": "2021-12-19T02:37:56.228017Z"
    },
    "papermill": {
     "duration": 148.290514,
     "end_time": "2021-12-19T02:50:15.083831",
     "exception": false,
     "start_time": "2021-12-19T02:47:46.793317",
     "status": "completed"
    },
    "tags": []
   },
   "outputs": [
    {
     "name": "stdout",
     "output_type": "stream",
     "text": [
      "CPU times: user 2min 16s, sys: 1.36 s, total: 2min 17s\n",
      "Wall time: 2min 28s\n"
     ]
    },
    {
     "data": {
      "text/plain": [
       "0"
      ]
     },
     "execution_count": 28,
     "metadata": {},
     "output_type": "execute_result"
    }
   ],
   "source": [
    "%%time\n",
    "prefix = \"dtm_\"\n",
    "res = mylib.detoxify_labels(\n",
    "    sentences,\n",
    "    checkpoint=conf.dtfy_multilingual_model,\n",
    "    config_dir=f\"{conf.pretrained_dir}xlm-roberta-base\",\n",
    "    model_max_length=conf.dtfy_model_max_length,\n",
    "    device=conf.device,\n",
    "    batch_size=conf.dtfy_batch_size\n",
    ")\n",
    "for k, v in res.items():\n",
    "    col = prefix + k\n",
    "    df[col] = v\n",
    "    df[col] = df[col].astype(np.float32)\n",
    "    dtfy_fs.append(col)\n",
    "gc.collect()"
   ]
  },
  {
   "cell_type": "markdown",
   "id": "9b95a7bb",
   "metadata": {
    "papermill": {
     "duration": 0.10529,
     "end_time": "2021-12-19T02:50:15.294853",
     "exception": false,
     "start_time": "2021-12-19T02:50:15.189563",
     "status": "completed"
    },
    "tags": []
   },
   "source": [
    "# Embeddings"
   ]
  },
  {
   "cell_type": "code",
   "execution_count": 29,
   "id": "d5f33604",
   "metadata": {
    "execution": {
     "iopub.execute_input": "2021-12-19T02:50:15.511485Z",
     "iopub.status.busy": "2021-12-19T02:50:15.510842Z",
     "iopub.status.idle": "2021-12-19T02:50:24.802867Z",
     "shell.execute_reply": "2021-12-19T02:50:24.803846Z",
     "shell.execute_reply.started": "2021-12-19T02:40:27.260124Z"
    },
    "papermill": {
     "duration": 9.403051,
     "end_time": "2021-12-19T02:50:24.804125",
     "exception": false,
     "start_time": "2021-12-19T02:50:15.401074",
     "status": "completed"
    },
    "tags": []
   },
   "outputs": [
    {
     "data": {
      "application/vnd.jupyter.widget-view+json": {
       "model_id": "2ad990e030d443f2b6ce52cfac123d0b",
       "version_major": 2,
       "version_minor": 0
      },
      "text/plain": [
       "Batches:   0%|          | 0/8 [00:00<?, ?it/s]"
      ]
     },
     "metadata": {},
     "output_type": "display_data"
    },
    {
     "name": "stdout",
     "output_type": "stream",
     "text": [
      "em.shape=(7537, 384)\n"
     ]
    }
   ],
   "source": [
    "model = SentenceTransformer(conf.em_models[\"paraphrase-MiniLM-L6-v2\"], device=conf.device)\n",
    "model.max_seq_length = conf.em_max_seq_length\n",
    "em = model.encode(sentences=sentences, batch_size=conf.em_batch_size, show_progress_bar=True, convert_to_numpy=True)\n",
    "print(f\"em.shape={em.shape}\")"
   ]
  },
  {
   "cell_type": "code",
   "execution_count": 30,
   "id": "655527a9",
   "metadata": {
    "execution": {
     "iopub.execute_input": "2021-12-19T02:50:25.147506Z",
     "iopub.status.busy": "2021-12-19T02:50:25.146933Z",
     "iopub.status.idle": "2021-12-19T02:50:25.588281Z",
     "shell.execute_reply": "2021-12-19T02:50:25.588724Z",
     "shell.execute_reply.started": "2021-12-19T02:40:36.737985Z"
    },
    "papermill": {
     "duration": 0.607658,
     "end_time": "2021-12-19T02:50:25.588874",
     "exception": false,
     "start_time": "2021-12-19T02:50:24.981216",
     "status": "completed"
    },
    "tags": []
   },
   "outputs": [
    {
     "name": "stderr",
     "output_type": "stream",
     "text": [
      "/opt/conda/lib/python3.7/site-packages/pandas/core/frame.py:3678: PerformanceWarning: DataFrame is highly fragmented.  This is usually the result of calling `frame.insert` many times, which has poor performance.  Consider joining all columns at once using pd.concat(axis=1) instead.  To get a de-fragmented frame, use `newframe = frame.copy()`\n",
      "  self[col] = igetitem(value, i)\n"
     ]
    },
    {
     "name": "stdout",
     "output_type": "stream",
     "text": [
      "CPU times: user 431 ms, sys: 2.97 ms, total: 434 ms\n",
      "Wall time: 436 ms\n"
     ]
    },
    {
     "data": {
      "text/plain": [
       "26"
      ]
     },
     "execution_count": 30,
     "metadata": {},
     "output_type": "execute_result"
    }
   ],
   "source": [
    "%%time\n",
    "em_size = em.shape[1]\n",
    "em_cols = [f\"zz{i:04d}\" for i in range(em_size)]\n",
    "df[em_cols] = em\n",
    "df[em_cols] = df[em_cols].astype(np.float32)\n",
    "del sentences, model\n",
    "gc.collect()"
   ]
  },
  {
   "cell_type": "markdown",
   "id": "f07ea259",
   "metadata": {
    "papermill": {
     "duration": 0.108343,
     "end_time": "2021-12-19T02:50:25.809244",
     "exception": false,
     "start_time": "2021-12-19T02:50:25.700901",
     "status": "completed"
    },
    "tags": []
   },
   "source": [
    "# Inference"
   ]
  },
  {
   "cell_type": "code",
   "execution_count": 31,
   "id": "02ce0da7",
   "metadata": {
    "execution": {
     "iopub.execute_input": "2021-12-19T02:50:26.028884Z",
     "iopub.status.busy": "2021-12-19T02:50:26.028199Z",
     "iopub.status.idle": "2021-12-19T02:50:26.132647Z",
     "shell.execute_reply": "2021-12-19T02:50:26.132143Z",
     "shell.execute_reply.started": "2021-12-19T02:40:37.173013Z"
    },
    "papermill": {
     "duration": 0.216173,
     "end_time": "2021-12-19T02:50:26.132772",
     "exception": false,
     "start_time": "2021-12-19T02:50:25.916599",
     "status": "completed"
    },
    "tags": []
   },
   "outputs": [
    {
     "name": "stdout",
     "output_type": "stream",
     "text": [
      "421 features\n",
      "['automated_readability_index', 'coleman_liau_index', 'dale_chall_readability_score', 'digit_frac', 'dtm_identity_attack', 'dtm_insult', 'dtm_obscene', 'dtm_severe_toxicity', 'dtm_sexual_explicit', 'dtm_threat', 'dtm_toxicity', 'dto_identity_attack', 'dto_insult', 'dto_obscene', 'dto_severe_toxicity', 'dto_threat', 'dto_toxicity', 'dtu_identity_attack', 'dtu_insult', 'dtu_obscene', 'dtu_severe_toxicity', 'dtu_sexual_explicit', 'dtu_threat', 'dtu_toxicity', 'flesch_kincaid_grade', 'flesch_reading_ease', 'gunning_fog', 'length', 'letter_frac', 'lexicon_count', 'linsear_write_formula', 'punc_frac', 'sentence_count', 'smog_index', 'space_frac', 'syllable_count', 'upper_frac', 'zz0000', 'zz0001', 'zz0002', 'zz0003', 'zz0004', 'zz0005', 'zz0006', 'zz0007', 'zz0008', 'zz0009', 'zz0010', 'zz0011', 'zz0012', 'zz0013', 'zz0014', 'zz0015', 'zz0016', 'zz0017', 'zz0018', 'zz0019', 'zz0020', 'zz0021', 'zz0022', 'zz0023', 'zz0024', 'zz0025', 'zz0026', 'zz0027', 'zz0028', 'zz0029', 'zz0030', 'zz0031', 'zz0032', 'zz0033', 'zz0034', 'zz0035', 'zz0036', 'zz0037', 'zz0038', 'zz0039', 'zz0040', 'zz0041', 'zz0042', 'zz0043', 'zz0044', 'zz0045', 'zz0046', 'zz0047', 'zz0048', 'zz0049', 'zz0050', 'zz0051', 'zz0052', 'zz0053', 'zz0054', 'zz0055', 'zz0056', 'zz0057', 'zz0058', 'zz0059', 'zz0060', 'zz0061', 'zz0062', 'zz0063', 'zz0064', 'zz0065', 'zz0066', 'zz0067', 'zz0068', 'zz0069', 'zz0070', 'zz0071', 'zz0072', 'zz0073', 'zz0074', 'zz0075', 'zz0076', 'zz0077', 'zz0078', 'zz0079', 'zz0080', 'zz0081', 'zz0082', 'zz0083', 'zz0084', 'zz0085', 'zz0086', 'zz0087', 'zz0088', 'zz0089', 'zz0090', 'zz0091', 'zz0092', 'zz0093', 'zz0094', 'zz0095', 'zz0096', 'zz0097', 'zz0098', 'zz0099', 'zz0100', 'zz0101', 'zz0102', 'zz0103', 'zz0104', 'zz0105', 'zz0106', 'zz0107', 'zz0108', 'zz0109', 'zz0110', 'zz0111', 'zz0112', 'zz0113', 'zz0114', 'zz0115', 'zz0116', 'zz0117', 'zz0118', 'zz0119', 'zz0120', 'zz0121', 'zz0122', 'zz0123', 'zz0124', 'zz0125', 'zz0126', 'zz0127', 'zz0128', 'zz0129', 'zz0130', 'zz0131', 'zz0132', 'zz0133', 'zz0134', 'zz0135', 'zz0136', 'zz0137', 'zz0138', 'zz0139', 'zz0140', 'zz0141', 'zz0142', 'zz0143', 'zz0144', 'zz0145', 'zz0146', 'zz0147', 'zz0148', 'zz0149', 'zz0150', 'zz0151', 'zz0152', 'zz0153', 'zz0154', 'zz0155', 'zz0156', 'zz0157', 'zz0158', 'zz0159', 'zz0160', 'zz0161', 'zz0162', 'zz0163', 'zz0164', 'zz0165', 'zz0166', 'zz0167', 'zz0168', 'zz0169', 'zz0170', 'zz0171', 'zz0172', 'zz0173', 'zz0174', 'zz0175', 'zz0176', 'zz0177', 'zz0178', 'zz0179', 'zz0180', 'zz0181', 'zz0182', 'zz0183', 'zz0184', 'zz0185', 'zz0186', 'zz0187', 'zz0188', 'zz0189', 'zz0190', 'zz0191', 'zz0192', 'zz0193', 'zz0194', 'zz0195', 'zz0196', 'zz0197', 'zz0198', 'zz0199', 'zz0200', 'zz0201', 'zz0202', 'zz0203', 'zz0204', 'zz0205', 'zz0206', 'zz0207', 'zz0208', 'zz0209', 'zz0210', 'zz0211', 'zz0212', 'zz0213', 'zz0214', 'zz0215', 'zz0216', 'zz0217', 'zz0218', 'zz0219', 'zz0220', 'zz0221', 'zz0222', 'zz0223', 'zz0224', 'zz0225', 'zz0226', 'zz0227', 'zz0228', 'zz0229', 'zz0230', 'zz0231', 'zz0232', 'zz0233', 'zz0234', 'zz0235', 'zz0236', 'zz0237', 'zz0238', 'zz0239', 'zz0240', 'zz0241', 'zz0242', 'zz0243', 'zz0244', 'zz0245', 'zz0246', 'zz0247', 'zz0248', 'zz0249', 'zz0250', 'zz0251', 'zz0252', 'zz0253', 'zz0254', 'zz0255', 'zz0256', 'zz0257', 'zz0258', 'zz0259', 'zz0260', 'zz0261', 'zz0262', 'zz0263', 'zz0264', 'zz0265', 'zz0266', 'zz0267', 'zz0268', 'zz0269', 'zz0270', 'zz0271', 'zz0272', 'zz0273', 'zz0274', 'zz0275', 'zz0276', 'zz0277', 'zz0278', 'zz0279', 'zz0280', 'zz0281', 'zz0282', 'zz0283', 'zz0284', 'zz0285', 'zz0286', 'zz0287', 'zz0288', 'zz0289', 'zz0290', 'zz0291', 'zz0292', 'zz0293', 'zz0294', 'zz0295', 'zz0296', 'zz0297', 'zz0298', 'zz0299', 'zz0300', 'zz0301', 'zz0302', 'zz0303', 'zz0304', 'zz0305', 'zz0306', 'zz0307', 'zz0308', 'zz0309', 'zz0310', 'zz0311', 'zz0312', 'zz0313', 'zz0314', 'zz0315', 'zz0316', 'zz0317', 'zz0318', 'zz0319', 'zz0320', 'zz0321', 'zz0322', 'zz0323', 'zz0324', 'zz0325', 'zz0326', 'zz0327', 'zz0328', 'zz0329', 'zz0330', 'zz0331', 'zz0332', 'zz0333', 'zz0334', 'zz0335', 'zz0336', 'zz0337', 'zz0338', 'zz0339', 'zz0340', 'zz0341', 'zz0342', 'zz0343', 'zz0344', 'zz0345', 'zz0346', 'zz0347', 'zz0348', 'zz0349', 'zz0350', 'zz0351', 'zz0352', 'zz0353', 'zz0354', 'zz0355', 'zz0356', 'zz0357', 'zz0358', 'zz0359', 'zz0360', 'zz0361', 'zz0362', 'zz0363', 'zz0364', 'zz0365', 'zz0366', 'zz0367', 'zz0368', 'zz0369', 'zz0370', 'zz0371', 'zz0372', 'zz0373', 'zz0374', 'zz0375', 'zz0376', 'zz0377', 'zz0378', 'zz0379', 'zz0380', 'zz0381', 'zz0382', 'zz0383']\n",
      "CPU times: user 20.4 ms, sys: 3.97 ms, total: 24.4 ms\n",
      "Wall time: 99.9 ms\n"
     ]
    }
   ],
   "source": [
    "%%time\n",
    "model = lgb.Booster(model_file=conf.model_file)\n",
    "features = conf.char_fs + conf.textstat_fs + dtfy_fs + em_cols\n",
    "features.sort()\n",
    "print(f\"{len(features)} features\\n{features}\")\n",
    "x_test = df[features].to_numpy()"
   ]
  },
  {
   "cell_type": "code",
   "execution_count": 32,
   "id": "d14b75a7",
   "metadata": {
    "execution": {
     "iopub.execute_input": "2021-12-19T02:50:26.363781Z",
     "iopub.status.busy": "2021-12-19T02:50:26.363213Z",
     "iopub.status.idle": "2021-12-19T02:50:26.601125Z",
     "shell.execute_reply": "2021-12-19T02:50:26.601586Z",
     "shell.execute_reply.started": "2021-12-19T02:40:37.329146Z"
    },
    "papermill": {
     "duration": 0.357041,
     "end_time": "2021-12-19T02:50:26.601738",
     "exception": false,
     "start_time": "2021-12-19T02:50:26.244697",
     "status": "completed"
    },
    "tags": []
   },
   "outputs": [
    {
     "name": "stdout",
     "output_type": "stream",
     "text": [
      "CPU times: user 228 ms, sys: 0 ns, total: 228 ms\n",
      "Wall time: 234 ms\n"
     ]
    }
   ],
   "source": [
    "%%time\n",
    "df[\"score\"] = model.predict(x_test)"
   ]
  },
  {
   "cell_type": "markdown",
   "id": "5d534468",
   "metadata": {
    "papermill": {
     "duration": 0.117032,
     "end_time": "2021-12-19T02:50:26.832983",
     "exception": false,
     "start_time": "2021-12-19T02:50:26.715951",
     "status": "completed"
    },
    "tags": []
   },
   "source": [
    "# Submission"
   ]
  },
  {
   "cell_type": "code",
   "execution_count": 33,
   "id": "33cfe913",
   "metadata": {
    "execution": {
     "iopub.execute_input": "2021-12-19T02:50:27.062911Z",
     "iopub.status.busy": "2021-12-19T02:50:27.062109Z",
     "iopub.status.idle": "2021-12-19T02:50:27.088210Z",
     "shell.execute_reply": "2021-12-19T02:50:27.088693Z",
     "shell.execute_reply.started": "2021-12-19T02:40:37.577654Z"
    },
    "papermill": {
     "duration": 0.144116,
     "end_time": "2021-12-19T02:50:27.088832",
     "exception": false,
     "start_time": "2021-12-19T02:50:26.944716",
     "status": "completed"
    },
    "tags": []
   },
   "outputs": [
    {
     "name": "stdout",
     "output_type": "stream",
     "text": [
      "<class 'pandas.core.frame.DataFrame'>\n",
      "RangeIndex: 7537 entries, 0 to 7536\n",
      "Data columns (total 2 columns):\n",
      " #   Column      Non-Null Count  Dtype\n",
      "---  ------      --------------  -----\n",
      " 0   comment_id  7537 non-null   int64\n",
      " 1   score       7537 non-null   int64\n",
      "dtypes: int64(2)\n",
      "memory usage: 117.9 KB\n"
     ]
    }
   ],
   "source": [
    "df[\"score\"] = rankdata(df[\"score\"], method=\"ordinal\")\n",
    "cols = [\"comment_id\", \"score\"]\n",
    "sub = df[cols]\n",
    "sub.to_csv(\"submission.csv\", index=False)\n",
    "sub.info()"
   ]
  },
  {
   "cell_type": "code",
   "execution_count": 34,
   "id": "6ba48e59",
   "metadata": {
    "execution": {
     "iopub.execute_input": "2021-12-19T02:50:27.308880Z",
     "iopub.status.busy": "2021-12-19T02:50:27.308366Z",
     "iopub.status.idle": "2021-12-19T02:50:27.318038Z",
     "shell.execute_reply": "2021-12-19T02:50:27.318773Z",
     "shell.execute_reply.started": "2021-12-19T02:40:37.608621Z"
    },
    "papermill": {
     "duration": 0.122139,
     "end_time": "2021-12-19T02:50:27.318912",
     "exception": false,
     "start_time": "2021-12-19T02:50:27.196773",
     "status": "completed"
    },
    "tags": []
   },
   "outputs": [
    {
     "data": {
      "text/html": [
       "<div>\n",
       "<style scoped>\n",
       "    .dataframe tbody tr th:only-of-type {\n",
       "        vertical-align: middle;\n",
       "    }\n",
       "\n",
       "    .dataframe tbody tr th {\n",
       "        vertical-align: top;\n",
       "    }\n",
       "\n",
       "    .dataframe thead th {\n",
       "        text-align: right;\n",
       "    }\n",
       "</style>\n",
       "<table border=\"1\" class=\"dataframe\">\n",
       "  <thead>\n",
       "    <tr style=\"text-align: right;\">\n",
       "      <th></th>\n",
       "      <th>comment_id</th>\n",
       "      <th>score</th>\n",
       "    </tr>\n",
       "  </thead>\n",
       "  <tbody>\n",
       "    <tr>\n",
       "      <th>0</th>\n",
       "      <td>114890</td>\n",
       "      <td>1008</td>\n",
       "    </tr>\n",
       "    <tr>\n",
       "      <th>1</th>\n",
       "      <td>732895</td>\n",
       "      <td>1726</td>\n",
       "    </tr>\n",
       "    <tr>\n",
       "      <th>2</th>\n",
       "      <td>1139051</td>\n",
       "      <td>2656</td>\n",
       "    </tr>\n",
       "    <tr>\n",
       "      <th>3</th>\n",
       "      <td>1434512</td>\n",
       "      <td>1385</td>\n",
       "    </tr>\n",
       "    <tr>\n",
       "      <th>4</th>\n",
       "      <td>2084821</td>\n",
       "      <td>548</td>\n",
       "    </tr>\n",
       "  </tbody>\n",
       "</table>\n",
       "</div>"
      ],
      "text/plain": [
       "   comment_id  score\n",
       "0      114890   1008\n",
       "1      732895   1726\n",
       "2     1139051   2656\n",
       "3     1434512   1385\n",
       "4     2084821    548"
      ]
     },
     "execution_count": 34,
     "metadata": {},
     "output_type": "execute_result"
    }
   ],
   "source": [
    "sub.head()"
   ]
  },
  {
   "cell_type": "markdown",
   "id": "e2cf52fe",
   "metadata": {
    "papermill": {
     "duration": 0.107837,
     "end_time": "2021-12-19T02:50:27.534898",
     "exception": false,
     "start_time": "2021-12-19T02:50:27.427061",
     "status": "completed"
    },
    "tags": []
   },
   "source": [
    "# Debug"
   ]
  },
  {
   "cell_type": "code",
   "execution_count": 35,
   "id": "e60ba209",
   "metadata": {
    "execution": {
     "iopub.execute_input": "2021-12-19T02:50:27.762884Z",
     "iopub.status.busy": "2021-12-19T02:50:27.761292Z",
     "iopub.status.idle": "2021-12-19T02:50:27.763483Z",
     "shell.execute_reply": "2021-12-19T02:50:27.763880Z",
     "shell.execute_reply.started": "2021-12-19T02:40:37.621963Z"
    },
    "papermill": {
     "duration": 0.118634,
     "end_time": "2021-12-19T02:50:27.764019",
     "exception": false,
     "start_time": "2021-12-19T02:50:27.645385",
     "status": "completed"
    },
    "tags": []
   },
   "outputs": [],
   "source": [
    "#!pip list"
   ]
  }
 ],
 "metadata": {
  "kernelspec": {
   "display_name": "Python 3",
   "language": "python",
   "name": "python3"
  },
  "language_info": {
   "codemirror_mode": {
    "name": "ipython",
    "version": 3
   },
   "file_extension": ".py",
   "mimetype": "text/x-python",
   "name": "python",
   "nbconvert_exporter": "python",
   "pygments_lexer": "ipython3",
   "version": "3.7.12"
  },
  "papermill": {
   "default_parameters": {},
   "duration": 522.576453,
   "end_time": "2021-12-19T02:50:31.527865",
   "environment_variables": {},
   "exception": null,
   "input_path": "__notebook__.ipynb",
   "output_path": "__notebook__.ipynb",
   "parameters": {},
   "start_time": "2021-12-19T02:41:48.951412",
   "version": "2.3.3"
  },
  "widgets": {
   "application/vnd.jupyter.widget-state+json": {
    "state": {
     "195d45199b5e4227a72c16df618a9139": {
      "model_module": "@jupyter-widgets/controls",
      "model_module_version": "1.5.0",
      "model_name": "FloatProgressModel",
      "state": {
       "_dom_classes": [],
       "_model_module": "@jupyter-widgets/controls",
       "_model_module_version": "1.5.0",
       "_model_name": "FloatProgressModel",
       "_view_count": null,
       "_view_module": "@jupyter-widgets/controls",
       "_view_module_version": "1.5.0",
       "_view_name": "ProgressView",
       "bar_style": "success",
       "description": "",
       "description_tooltip": null,
       "layout": "IPY_MODEL_33bf1265cfe847438bee6d0ff1de54a3",
       "max": 8.0,
       "min": 0.0,
       "orientation": "horizontal",
       "style": "IPY_MODEL_1e9fac3f0e2f473db26155a4e5f744fb",
       "value": 8.0
      }
     },
     "1e9fac3f0e2f473db26155a4e5f744fb": {
      "model_module": "@jupyter-widgets/controls",
      "model_module_version": "1.5.0",
      "model_name": "ProgressStyleModel",
      "state": {
       "_model_module": "@jupyter-widgets/controls",
       "_model_module_version": "1.5.0",
       "_model_name": "ProgressStyleModel",
       "_view_count": null,
       "_view_module": "@jupyter-widgets/base",
       "_view_module_version": "1.2.0",
       "_view_name": "StyleView",
       "bar_color": null,
       "description_width": ""
      }
     },
     "1f545e616a5142248b325d0dd350e9b0": {
      "model_module": "@jupyter-widgets/controls",
      "model_module_version": "1.5.0",
      "model_name": "HTMLModel",
      "state": {
       "_dom_classes": [],
       "_model_module": "@jupyter-widgets/controls",
       "_model_module_version": "1.5.0",
       "_model_name": "HTMLModel",
       "_view_count": null,
       "_view_module": "@jupyter-widgets/controls",
       "_view_module_version": "1.5.0",
       "_view_name": "HTMLView",
       "description": "",
       "description_tooltip": null,
       "layout": "IPY_MODEL_513c0832f65745f1bfa1c1ba34af632b",
       "placeholder": "​",
       "style": "IPY_MODEL_449b199278cf4fbfb5775f94011a5b17",
       "value": " 8/8 [00:06&lt;00:00,  1.59it/s]"
      }
     },
     "2ad990e030d443f2b6ce52cfac123d0b": {
      "model_module": "@jupyter-widgets/controls",
      "model_module_version": "1.5.0",
      "model_name": "HBoxModel",
      "state": {
       "_dom_classes": [],
       "_model_module": "@jupyter-widgets/controls",
       "_model_module_version": "1.5.0",
       "_model_name": "HBoxModel",
       "_view_count": null,
       "_view_module": "@jupyter-widgets/controls",
       "_view_module_version": "1.5.0",
       "_view_name": "HBoxView",
       "box_style": "",
       "children": [
        "IPY_MODEL_7e4f2a5c27b84429ab951c40d8e5aa1d",
        "IPY_MODEL_195d45199b5e4227a72c16df618a9139",
        "IPY_MODEL_1f545e616a5142248b325d0dd350e9b0"
       ],
       "layout": "IPY_MODEL_d3bcad44ae3a43c480c61f4db72d2feb"
      }
     },
     "33bf1265cfe847438bee6d0ff1de54a3": {
      "model_module": "@jupyter-widgets/base",
      "model_module_version": "1.2.0",
      "model_name": "LayoutModel",
      "state": {
       "_model_module": "@jupyter-widgets/base",
       "_model_module_version": "1.2.0",
       "_model_name": "LayoutModel",
       "_view_count": null,
       "_view_module": "@jupyter-widgets/base",
       "_view_module_version": "1.2.0",
       "_view_name": "LayoutView",
       "align_content": null,
       "align_items": null,
       "align_self": null,
       "border": null,
       "bottom": null,
       "display": null,
       "flex": null,
       "flex_flow": null,
       "grid_area": null,
       "grid_auto_columns": null,
       "grid_auto_flow": null,
       "grid_auto_rows": null,
       "grid_column": null,
       "grid_gap": null,
       "grid_row": null,
       "grid_template_areas": null,
       "grid_template_columns": null,
       "grid_template_rows": null,
       "height": null,
       "justify_content": null,
       "justify_items": null,
       "left": null,
       "margin": null,
       "max_height": null,
       "max_width": null,
       "min_height": null,
       "min_width": null,
       "object_fit": null,
       "object_position": null,
       "order": null,
       "overflow": null,
       "overflow_x": null,
       "overflow_y": null,
       "padding": null,
       "right": null,
       "top": null,
       "visibility": null,
       "width": null
      }
     },
     "449b199278cf4fbfb5775f94011a5b17": {
      "model_module": "@jupyter-widgets/controls",
      "model_module_version": "1.5.0",
      "model_name": "DescriptionStyleModel",
      "state": {
       "_model_module": "@jupyter-widgets/controls",
       "_model_module_version": "1.5.0",
       "_model_name": "DescriptionStyleModel",
       "_view_count": null,
       "_view_module": "@jupyter-widgets/base",
       "_view_module_version": "1.2.0",
       "_view_name": "StyleView",
       "description_width": ""
      }
     },
     "513c0832f65745f1bfa1c1ba34af632b": {
      "model_module": "@jupyter-widgets/base",
      "model_module_version": "1.2.0",
      "model_name": "LayoutModel",
      "state": {
       "_model_module": "@jupyter-widgets/base",
       "_model_module_version": "1.2.0",
       "_model_name": "LayoutModel",
       "_view_count": null,
       "_view_module": "@jupyter-widgets/base",
       "_view_module_version": "1.2.0",
       "_view_name": "LayoutView",
       "align_content": null,
       "align_items": null,
       "align_self": null,
       "border": null,
       "bottom": null,
       "display": null,
       "flex": null,
       "flex_flow": null,
       "grid_area": null,
       "grid_auto_columns": null,
       "grid_auto_flow": null,
       "grid_auto_rows": null,
       "grid_column": null,
       "grid_gap": null,
       "grid_row": null,
       "grid_template_areas": null,
       "grid_template_columns": null,
       "grid_template_rows": null,
       "height": null,
       "justify_content": null,
       "justify_items": null,
       "left": null,
       "margin": null,
       "max_height": null,
       "max_width": null,
       "min_height": null,
       "min_width": null,
       "object_fit": null,
       "object_position": null,
       "order": null,
       "overflow": null,
       "overflow_x": null,
       "overflow_y": null,
       "padding": null,
       "right": null,
       "top": null,
       "visibility": null,
       "width": null
      }
     },
     "7e4f2a5c27b84429ab951c40d8e5aa1d": {
      "model_module": "@jupyter-widgets/controls",
      "model_module_version": "1.5.0",
      "model_name": "HTMLModel",
      "state": {
       "_dom_classes": [],
       "_model_module": "@jupyter-widgets/controls",
       "_model_module_version": "1.5.0",
       "_model_name": "HTMLModel",
       "_view_count": null,
       "_view_module": "@jupyter-widgets/controls",
       "_view_module_version": "1.5.0",
       "_view_name": "HTMLView",
       "description": "",
       "description_tooltip": null,
       "layout": "IPY_MODEL_e7c9deddff7a4b3bba0ef6b292de9254",
       "placeholder": "​",
       "style": "IPY_MODEL_aef6cbe35a4048d0a8eb7cd4947b48d6",
       "value": "Batches: 100%"
      }
     },
     "aef6cbe35a4048d0a8eb7cd4947b48d6": {
      "model_module": "@jupyter-widgets/controls",
      "model_module_version": "1.5.0",
      "model_name": "DescriptionStyleModel",
      "state": {
       "_model_module": "@jupyter-widgets/controls",
       "_model_module_version": "1.5.0",
       "_model_name": "DescriptionStyleModel",
       "_view_count": null,
       "_view_module": "@jupyter-widgets/base",
       "_view_module_version": "1.2.0",
       "_view_name": "StyleView",
       "description_width": ""
      }
     },
     "d3bcad44ae3a43c480c61f4db72d2feb": {
      "model_module": "@jupyter-widgets/base",
      "model_module_version": "1.2.0",
      "model_name": "LayoutModel",
      "state": {
       "_model_module": "@jupyter-widgets/base",
       "_model_module_version": "1.2.0",
       "_model_name": "LayoutModel",
       "_view_count": null,
       "_view_module": "@jupyter-widgets/base",
       "_view_module_version": "1.2.0",
       "_view_name": "LayoutView",
       "align_content": null,
       "align_items": null,
       "align_self": null,
       "border": null,
       "bottom": null,
       "display": null,
       "flex": null,
       "flex_flow": null,
       "grid_area": null,
       "grid_auto_columns": null,
       "grid_auto_flow": null,
       "grid_auto_rows": null,
       "grid_column": null,
       "grid_gap": null,
       "grid_row": null,
       "grid_template_areas": null,
       "grid_template_columns": null,
       "grid_template_rows": null,
       "height": null,
       "justify_content": null,
       "justify_items": null,
       "left": null,
       "margin": null,
       "max_height": null,
       "max_width": null,
       "min_height": null,
       "min_width": null,
       "object_fit": null,
       "object_position": null,
       "order": null,
       "overflow": null,
       "overflow_x": null,
       "overflow_y": null,
       "padding": null,
       "right": null,
       "top": null,
       "visibility": null,
       "width": null
      }
     },
     "e7c9deddff7a4b3bba0ef6b292de9254": {
      "model_module": "@jupyter-widgets/base",
      "model_module_version": "1.2.0",
      "model_name": "LayoutModel",
      "state": {
       "_model_module": "@jupyter-widgets/base",
       "_model_module_version": "1.2.0",
       "_model_name": "LayoutModel",
       "_view_count": null,
       "_view_module": "@jupyter-widgets/base",
       "_view_module_version": "1.2.0",
       "_view_name": "LayoutView",
       "align_content": null,
       "align_items": null,
       "align_self": null,
       "border": null,
       "bottom": null,
       "display": null,
       "flex": null,
       "flex_flow": null,
       "grid_area": null,
       "grid_auto_columns": null,
       "grid_auto_flow": null,
       "grid_auto_rows": null,
       "grid_column": null,
       "grid_gap": null,
       "grid_row": null,
       "grid_template_areas": null,
       "grid_template_columns": null,
       "grid_template_rows": null,
       "height": null,
       "justify_content": null,
       "justify_items": null,
       "left": null,
       "margin": null,
       "max_height": null,
       "max_width": null,
       "min_height": null,
       "min_width": null,
       "object_fit": null,
       "object_position": null,
       "order": null,
       "overflow": null,
       "overflow_x": null,
       "overflow_y": null,
       "padding": null,
       "right": null,
       "top": null,
       "visibility": null,
       "width": null
      }
     }
    },
    "version_major": 2,
    "version_minor": 0
   }
  }
 },
 "nbformat": 4,
 "nbformat_minor": 5
}
