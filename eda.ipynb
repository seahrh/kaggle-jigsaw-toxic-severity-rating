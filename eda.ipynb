{
 "cells": [
  {
   "cell_type": "code",
   "execution_count": 2,
   "id": "14cf5c48",
   "metadata": {},
   "outputs": [],
   "source": [
    "import numpy as np\n",
    "import pandas as pd"
   ]
  },
  {
   "cell_type": "code",
   "execution_count": 3,
   "id": "8f1c064c",
   "metadata": {},
   "outputs": [],
   "source": [
    "percentiles=[.01, .05, .1, .2, .3, .4, .5, .6, .7, .8, .9, .95, .99]\n",
    "pd.set_option(\"use_inf_as_na\", True)\n",
    "pd.set_option(\"max_info_columns\", 9999)\n",
    "pd.set_option(\"display.max_columns\", 9999)\n",
    "pd.set_option(\"display.max_rows\", 9999)\n",
    "pd.set_option('max_colwidth', 9999)"
   ]
  },
  {
   "cell_type": "code",
   "execution_count": 4,
   "id": "013b5409",
   "metadata": {},
   "outputs": [
    {
     "name": "stdout",
     "output_type": "stream",
     "text": [
      "<class 'pandas.core.frame.DataFrame'>\n",
      "RangeIndex: 30108 entries, 0 to 30107\n",
      "Data columns (total 3 columns):\n",
      " #   Column      Non-Null Count  Dtype \n",
      "---  ------      --------------  ----- \n",
      " 0   worker      30108 non-null  int64 \n",
      " 1   less_toxic  30108 non-null  object\n",
      " 2   more_toxic  30108 non-null  object\n",
      "dtypes: int64(1), object(2)\n",
      "memory usage: 705.8+ KB\n"
     ]
    }
   ],
   "source": [
    "df = pd.read_csv(\"input/validation_data.csv\", engine=\"c\", low_memory=False)\n",
    "df.info()"
   ]
  },
  {
   "cell_type": "code",
   "execution_count": 5,
   "id": "e5b998fc",
   "metadata": {},
   "outputs": [
    {
     "data": {
      "text/html": [
       "<div>\n",
       "<style scoped>\n",
       "    .dataframe tbody tr th:only-of-type {\n",
       "        vertical-align: middle;\n",
       "    }\n",
       "\n",
       "    .dataframe tbody tr th {\n",
       "        vertical-align: top;\n",
       "    }\n",
       "\n",
       "    .dataframe thead th {\n",
       "        text-align: right;\n",
       "    }\n",
       "</style>\n",
       "<table border=\"1\" class=\"dataframe\">\n",
       "  <thead>\n",
       "    <tr style=\"text-align: right;\">\n",
       "      <th></th>\n",
       "      <th>worker</th>\n",
       "      <th>less_toxic</th>\n",
       "      <th>more_toxic</th>\n",
       "    </tr>\n",
       "  </thead>\n",
       "  <tbody>\n",
       "    <tr>\n",
       "      <th>0</th>\n",
       "      <td>313</td>\n",
       "      <td>This article sucks \\n\\nwoo woo wooooooo</td>\n",
       "      <td>WHAT!!!!!!!!?!?!!?!?!!?!?!?!?!!!!!!!!!!!!!!!!!!!!!!!!??????????????????????????????????????????????????????!!!!!!=\\nWHER IS YOUR SEXY PIC GONE FROM YOUR MAIN PAGE???????? put it back</td>\n",
       "    </tr>\n",
       "    <tr>\n",
       "      <th>1</th>\n",
       "      <td>188</td>\n",
       "      <td>\"And yes, people should recognize that but they usually don't. One of the first objections you hear directed at someone who says he favors free markets is invariably \"\"There's no such thing as a free market.\"\" Ridiculously trivial. \"</td>\n",
       "      <td>Daphne Guinness \\n\\nTop of the mornin' my favourite Alien Life Form. I'm sorry, I can't marry you because you are a poor commoner so, therefore, unimportant. Can I have my dresses back. I hope your fat Oirish arse hasn't stretched them.</td>\n",
       "    </tr>\n",
       "    <tr>\n",
       "      <th>2</th>\n",
       "      <td>82</td>\n",
       "      <td>Western Media?\\n\\nYup, because every crime in the entire world is caused by the west.  Racists.</td>\n",
       "      <td>\"Atom you don't believe actual photos of masturbation is sexually explicit photos. I am sorry to say they are sexually explicit and so you said yourself that the disclaimer is used for that purpose. Also, Wikipedia itself is targeted for minors. In addition, you say that Wikipedia does not have child pornography photos. I do believe there is a photo of a real prepubescent child nude (not an illustration) that is in bondage with the title \"\"Virgin Killer\"\". Which recently Wikipedia archived so no more comments could be made. 211.220.23.15  \\n\\n\"</td>\n",
       "    </tr>\n",
       "    <tr>\n",
       "      <th>3</th>\n",
       "      <td>347</td>\n",
       "      <td>And you removed it! You numbskull! I don't care what you say anymore, this is my life! Go ahead with your own life, leave me alone! —</td>\n",
       "      <td>You seem to have sand in your vagina.\\n\\nMight want to wash that stinking hole out, bitch.</td>\n",
       "    </tr>\n",
       "    <tr>\n",
       "      <th>4</th>\n",
       "      <td>539</td>\n",
       "      <td>smelly vagina \\n\\nBluerasberry why don't you be a model for a cheesy blue vagina syndrome. A lot are experiencing this vaginal disease.</td>\n",
       "      <td>hey \\n\\nway to support nazis, you racist</td>\n",
       "    </tr>\n",
       "  </tbody>\n",
       "</table>\n",
       "</div>"
      ],
      "text/plain": [
       "   worker  \\\n",
       "0     313   \n",
       "1     188   \n",
       "2      82   \n",
       "3     347   \n",
       "4     539   \n",
       "\n",
       "                                                                                                                                                                                                                                  less_toxic  \\\n",
       "0                                                                                                                                                                                                    This article sucks \\n\\nwoo woo wooooooo   \n",
       "1  \"And yes, people should recognize that but they usually don't. One of the first objections you hear directed at someone who says he favors free markets is invariably \"\"There's no such thing as a free market.\"\" Ridiculously trivial. \"   \n",
       "2                                                                                                                                         Western Media?\\n\\nYup, because every crime in the entire world is caused by the west.  Racists.      \n",
       "3                                                                                                     And you removed it! You numbskull! I don't care what you say anymore, this is my life! Go ahead with your own life, leave me alone! —    \n",
       "4                                                                                                    smelly vagina \\n\\nBluerasberry why don't you be a model for a cheesy blue vagina syndrome. A lot are experiencing this vaginal disease.   \n",
       "\n",
       "                                                                                                                                                                                                                                                                                                                                                                                                                                                                                                                                                               more_toxic  \n",
       "0                                                                                                                                                                                                                                                                                                                                                                                  WHAT!!!!!!!!?!?!!?!?!!?!?!?!?!!!!!!!!!!!!!!!!!!!!!!!!??????????????????????????????????????????????????????!!!!!!=\\nWHER IS YOUR SEXY PIC GONE FROM YOUR MAIN PAGE???????? put it back  \n",
       "1                                                                                                                                                                                                                                                                                                                            Daphne Guinness \\n\\nTop of the mornin' my favourite Alien Life Form. I'm sorry, I can't marry you because you are a poor commoner so, therefore, unimportant. Can I have my dresses back. I hope your fat Oirish arse hasn't stretched them.  \n",
       "2  \"Atom you don't believe actual photos of masturbation is sexually explicit photos. I am sorry to say they are sexually explicit and so you said yourself that the disclaimer is used for that purpose. Also, Wikipedia itself is targeted for minors. In addition, you say that Wikipedia does not have child pornography photos. I do believe there is a photo of a real prepubescent child nude (not an illustration) that is in bondage with the title \"\"Virgin Killer\"\". Which recently Wikipedia archived so no more comments could be made. 211.220.23.15  \\n\\n\"  \n",
       "3                                                                                                                                                                                                                                                                                                                                                                                                                                                                              You seem to have sand in your vagina.\\n\\nMight want to wash that stinking hole out, bitch.  \n",
       "4                                                                                                                                                                                                                                                                                                                                                                                                                                                                                                                                hey \\n\\nway to support nazis, you racist  "
      ]
     },
     "execution_count": 5,
     "metadata": {},
     "output_type": "execute_result"
    }
   ],
   "source": [
    "df.head()"
   ]
  },
  {
   "cell_type": "code",
   "execution_count": 6,
   "id": "5c701d54",
   "metadata": {},
   "outputs": [
    {
     "name": "stdout",
     "output_type": "stream",
     "text": [
      "len(texts)=14251\n",
      "['\"\\nRemoved the following which had no place and no reason to be in an ENCYCLOPEDIA article and which could be taken as a personal attack:\\n\\nAccount of kinky sexual liaison in 1962\\nIn 1978 Harlan Ellison recounted as if telling a factual story how in 1962 he had ended a consensual sexual encounter, after tying his partner in the living-room of her parents\\' house so that she was naked and unable to move or release herself, by leaving her there to be discovered by her parents. The veracity of his own account cannot be determined; it resembles a common urban legend.\\n\\nAlso changed subtitle that may have been legally actionable and was undoubtedly a personal attack. It was put up 22 November 2006, reverted 28 November 2006, and has been there until now. Look for this abuse to return soon.\\n \\n Facts are stubborn. Comments? \\n The US Federal government\\'s definition of sexual assault includes \"\"inappropriate touching\"\" (see ) Ellison\\'s sexual assault on Willis at the Hugo Awards is thoroughly documented to an unusual extent for any encyclopedia: to use correct terminology for an event that is completely verifiable is certainly not actionable.\\nThe first of the \\'Three Most Important Things\\' anecdote was retitled by an anon editor who objected to having Ellison\\'s self-described behavior referred to as \\'sexual assault\\'. I put it back in because it is sourced as well as any of the other controversies and is certainly notable: Ellison not only published the anecdote he told, but is reported to have recounted it several times at conventions.  \\n\\nProvided it is from a reliable sourced (it is) and we make it clear it\\'s veracity is uncertain (we do) there are only two other issues. Is it sufficiently noteable (appears to be but can\\'t say for sure) and is it documented as controversial (no clear info on this)? The fact that you and I may think it is controversial is irrelevant if it isn\\'t documented as controversial. Given it\\'s noteability, there might be merit to include it somewhere else if it isn\\'t documented as controversial but not in the controversies section  \\n Will try to find documentation of controversy: what controversy I\\'m aware of occurred exclusively in fandom, which tends not to be documented up to Wikipedia standards.  \\ndeleted portion had nothing to do with Connie Willis incident. It was the quoted section from his essay. Pointless, with a title that amounts to a personal attack. It came back. It has been removed again. Please do not turn this into an edit war, but consider why you feel the need to hate Mr. Ellison and to continual find ways to attack him in an encyclopedia. Facts are stubborn. Comments? \\n Please remember: assume good faith. Accusations that wiki editors include information in biographies based on personal animosity towards the subject, is hardly an assumption of good faith. This anecdote is directly sourced to Ellison: it may or may not to be true, but not only did he repeat it at several conventions, he also published it under his own name as something he had done. It is therefore quite literally a self-incriminating account of a sexual assault Ellison carried out, or said he did, in 1962. The argument has been made that this is \"\"not controversial\"\", and therefore ought to be under a different section: I cannot, however, see any good reason to remove it altogether: though as you will see other anecdotes that are not sourced have been removed.  \\nI can still see no reason that this incident should even be in an \"\"encyclopedia\"\", even a self-labeled one. Use of the inflammatory label \"\"sexual assault\"\" appears to meet standard of personal attack, and if it cannot be supported in its legal meaning, it is actionable.\\nI also do not see why that particular terminology is so important when there are other terms that would not look like personal attack could easily be substituted. The insistance on the use of the term assult is my reason for not being able to assume good faith. \\'\\'(Aside: \"\"as', 'PISS COMING FROM MY ASSS!', 'Jeff G is a faggot, as well as J Delanoy. They suck on each others cocks and gurgle their AIDS infected semen passionately, while being smug, nigger loving liberal jewbags.', \"Then that's the problem, what if I don't want an ugly lie stinking up my talk page and ruining my reputation? \"]\n"
     ]
    }
   ],
   "source": [
    "texts = set(df[\"less_toxic\"]) | set(df[\"more_toxic\"])\n",
    "texts = list(texts)\n",
    "print(f\"len(texts)={len(texts)}\\n{texts[:4]}\")"
   ]
  },
  {
   "cell_type": "code",
   "execution_count": null,
   "id": "1b9a2247",
   "metadata": {},
   "outputs": [],
   "source": []
  }
 ],
 "metadata": {
  "kernelspec": {
   "display_name": "Python 3 (ipykernel)",
   "language": "python",
   "name": "python3"
  },
  "language_info": {
   "codemirror_mode": {
    "name": "ipython",
    "version": 3
   },
   "file_extension": ".py",
   "mimetype": "text/x-python",
   "name": "python",
   "nbconvert_exporter": "python",
   "pygments_lexer": "ipython3",
   "version": "3.7.5"
  }
 },
 "nbformat": 4,
 "nbformat_minor": 5
}
