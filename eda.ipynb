{
 "cells": [
  {
   "cell_type": "code",
   "execution_count": 4,
   "id": "14cf5c48",
   "metadata": {},
   "outputs": [],
   "source": [
    "import numpy as np\n",
    "import pandas as pd"
   ]
  },
  {
   "cell_type": "code",
   "execution_count": 5,
   "id": "8f1c064c",
   "metadata": {},
   "outputs": [],
   "source": [
    "percentiles=[.01, .05, .1, .2, .3, .4, .5, .6, .7, .8, .9, .95, .99]\n",
    "pd.set_option(\"use_inf_as_na\", True)\n",
    "pd.set_option(\"max_info_columns\", 9999)\n",
    "pd.set_option(\"display.max_columns\", 9999)\n",
    "pd.set_option(\"display.max_rows\", 9999)\n",
    "pd.set_option('max_colwidth', 9999)"
   ]
  },
  {
   "cell_type": "code",
   "execution_count": 6,
   "id": "013b5409",
   "metadata": {},
   "outputs": [
    {
     "name": "stdout",
     "output_type": "stream",
     "text": [
      "<class 'pandas.core.frame.DataFrame'>\n",
      "RangeIndex: 30108 entries, 0 to 30107\n",
      "Data columns (total 3 columns):\n",
      " #   Column      Non-Null Count  Dtype \n",
      "---  ------      --------------  ----- \n",
      " 0   worker      30108 non-null  int64 \n",
      " 1   less_toxic  30108 non-null  object\n",
      " 2   more_toxic  30108 non-null  object\n",
      "dtypes: int64(1), object(2)\n",
      "memory usage: 705.8+ KB\n"
     ]
    }
   ],
   "source": [
    "df = pd.read_csv(\"input/validation_data.csv\", engine=\"c\", low_memory=False)\n",
    "df.info()"
   ]
  },
  {
   "cell_type": "code",
   "execution_count": 7,
   "id": "e5b998fc",
   "metadata": {},
   "outputs": [
    {
     "data": {
      "text/html": [
       "<div>\n",
       "<style scoped>\n",
       "    .dataframe tbody tr th:only-of-type {\n",
       "        vertical-align: middle;\n",
       "    }\n",
       "\n",
       "    .dataframe tbody tr th {\n",
       "        vertical-align: top;\n",
       "    }\n",
       "\n",
       "    .dataframe thead th {\n",
       "        text-align: right;\n",
       "    }\n",
       "</style>\n",
       "<table border=\"1\" class=\"dataframe\">\n",
       "  <thead>\n",
       "    <tr style=\"text-align: right;\">\n",
       "      <th></th>\n",
       "      <th>worker</th>\n",
       "      <th>less_toxic</th>\n",
       "      <th>more_toxic</th>\n",
       "    </tr>\n",
       "  </thead>\n",
       "  <tbody>\n",
       "    <tr>\n",
       "      <th>0</th>\n",
       "      <td>313</td>\n",
       "      <td>This article sucks \\n\\nwoo woo wooooooo</td>\n",
       "      <td>WHAT!!!!!!!!?!?!!?!?!!?!?!?!?!!!!!!!!!!!!!!!!!!!!!!!!??????????????????????????????????????????????????????!!!!!!=\\nWHER IS YOUR SEXY PIC GONE FROM YOUR MAIN PAGE???????? put it back</td>\n",
       "    </tr>\n",
       "    <tr>\n",
       "      <th>1</th>\n",
       "      <td>188</td>\n",
       "      <td>\"And yes, people should recognize that but they usually don't. One of the first objections you hear directed at someone who says he favors free markets is invariably \"\"There's no such thing as a free market.\"\" Ridiculously trivial. \"</td>\n",
       "      <td>Daphne Guinness \\n\\nTop of the mornin' my favourite Alien Life Form. I'm sorry, I can't marry you because you are a poor commoner so, therefore, unimportant. Can I have my dresses back. I hope your fat Oirish arse hasn't stretched them.</td>\n",
       "    </tr>\n",
       "    <tr>\n",
       "      <th>2</th>\n",
       "      <td>82</td>\n",
       "      <td>Western Media?\\n\\nYup, because every crime in the entire world is caused by the west.  Racists.</td>\n",
       "      <td>\"Atom you don't believe actual photos of masturbation is sexually explicit photos. I am sorry to say they are sexually explicit and so you said yourself that the disclaimer is used for that purpose. Also, Wikipedia itself is targeted for minors. In addition, you say that Wikipedia does not have child pornography photos. I do believe there is a photo of a real prepubescent child nude (not an illustration) that is in bondage with the title \"\"Virgin Killer\"\". Which recently Wikipedia archived so no more comments could be made. 211.220.23.15  \\n\\n\"</td>\n",
       "    </tr>\n",
       "    <tr>\n",
       "      <th>3</th>\n",
       "      <td>347</td>\n",
       "      <td>And you removed it! You numbskull! I don't care what you say anymore, this is my life! Go ahead with your own life, leave me alone! —</td>\n",
       "      <td>You seem to have sand in your vagina.\\n\\nMight want to wash that stinking hole out, bitch.</td>\n",
       "    </tr>\n",
       "    <tr>\n",
       "      <th>4</th>\n",
       "      <td>539</td>\n",
       "      <td>smelly vagina \\n\\nBluerasberry why don't you be a model for a cheesy blue vagina syndrome. A lot are experiencing this vaginal disease.</td>\n",
       "      <td>hey \\n\\nway to support nazis, you racist</td>\n",
       "    </tr>\n",
       "  </tbody>\n",
       "</table>\n",
       "</div>"
      ],
      "text/plain": [
       "   worker  \\\n",
       "0     313   \n",
       "1     188   \n",
       "2      82   \n",
       "3     347   \n",
       "4     539   \n",
       "\n",
       "                                                                                                                                                                                                                                  less_toxic  \\\n",
       "0                                                                                                                                                                                                    This article sucks \\n\\nwoo woo wooooooo   \n",
       "1  \"And yes, people should recognize that but they usually don't. One of the first objections you hear directed at someone who says he favors free markets is invariably \"\"There's no such thing as a free market.\"\" Ridiculously trivial. \"   \n",
       "2                                                                                                                                         Western Media?\\n\\nYup, because every crime in the entire world is caused by the west.  Racists.      \n",
       "3                                                                                                     And you removed it! You numbskull! I don't care what you say anymore, this is my life! Go ahead with your own life, leave me alone! —    \n",
       "4                                                                                                    smelly vagina \\n\\nBluerasberry why don't you be a model for a cheesy blue vagina syndrome. A lot are experiencing this vaginal disease.   \n",
       "\n",
       "                                                                                                                                                                                                                                                                                                                                                                                                                                                                                                                                                               more_toxic  \n",
       "0                                                                                                                                                                                                                                                                                                                                                                                  WHAT!!!!!!!!?!?!!?!?!!?!?!?!?!!!!!!!!!!!!!!!!!!!!!!!!??????????????????????????????????????????????????????!!!!!!=\\nWHER IS YOUR SEXY PIC GONE FROM YOUR MAIN PAGE???????? put it back  \n",
       "1                                                                                                                                                                                                                                                                                                                            Daphne Guinness \\n\\nTop of the mornin' my favourite Alien Life Form. I'm sorry, I can't marry you because you are a poor commoner so, therefore, unimportant. Can I have my dresses back. I hope your fat Oirish arse hasn't stretched them.  \n",
       "2  \"Atom you don't believe actual photos of masturbation is sexually explicit photos. I am sorry to say they are sexually explicit and so you said yourself that the disclaimer is used for that purpose. Also, Wikipedia itself is targeted for minors. In addition, you say that Wikipedia does not have child pornography photos. I do believe there is a photo of a real prepubescent child nude (not an illustration) that is in bondage with the title \"\"Virgin Killer\"\". Which recently Wikipedia archived so no more comments could be made. 211.220.23.15  \\n\\n\"  \n",
       "3                                                                                                                                                                                                                                                                                                                                                                                                                                                                              You seem to have sand in your vagina.\\n\\nMight want to wash that stinking hole out, bitch.  \n",
       "4                                                                                                                                                                                                                                                                                                                                                                                                                                                                                                                                hey \\n\\nway to support nazis, you racist  "
      ]
     },
     "execution_count": 7,
     "metadata": {},
     "output_type": "execute_result"
    }
   ],
   "source": [
    "df.head()"
   ]
  },
  {
   "cell_type": "code",
   "execution_count": 9,
   "id": "5c701d54",
   "metadata": {},
   "outputs": [
    {
     "name": "stdout",
     "output_type": "stream",
     "text": [
      "len(texts)=14251\n",
      "[\"I have evry right to be pissed off!!!! even when I make decent edits you change them why whats up!?!?!? can't you're stupid American brains put the words together and form what we like to call a sentence????\", 'Please choke on a bucket of dicks. Thank you.', '\"\\n\\nAnd those sources are not sufficiently reliable for an accusation that amounts to \"\"Eichenwald is a pedophile.\"\"  \"', 'NJGW IS AN UNEMPLOYED MOTHER FUCKING BASTARD LOSER. ROTS HERE IN WIKI EVERYDAY! HE IS A LOSER IN LIFE. NJGW IS A FUCKING LOSER BASTARD WITH NO LIFE OUTSIDE OF WIKI. NJGW IS A FUCKING LOSER BASTARD.\\n\\nNJGW IS AN UNEMPLOYED MOTHER FUCKING BASTARD LOSER. ROTS HERE IN WIKI EVERYDAY! HE IS A LOSER IN LIFE. NJGW IS A FUCKING LOSER BASTARD WITH NO LIFE OUTSIDE OF WIKI. NJGW IS A FUCKING LOSER BASTARD.\\n\\nNJGW IS AN UNEMPLOYED MOTHER FUCKING BASTARD LOSER. ROTS HERE IN WIKI EVERYDAY! HE IS A LOSER IN LIFE. NJGW IS A FUCKING LOSER BASTARD WITH NO LIFE OUTSIDE OF WIKI. NJGW IS A FUCKING LOSER BASTARD.\\n\\nNJGW IS AN UNEMPLOYED MOTHER FUCKING BASTARD LOSER. ROTS HERE IN WIKI EVERYDAY! HE IS A LOSER IN LIFE. NJGW IS A FUCKING LOSER BASTARD WITH NO LIFE OUTSIDE OF WIKI. NJGW IS A FUCKING LOSER BASTARD.\\n\\nNJGW IS AN UNEMPLOYED MOTHER FUCKING BASTARD LOSER. ROTS HERE IN WIKI EVERYDAY! HE IS A LOSER IN LIFE. NJGW IS A FUCKING LOSER BASTARD WITH NO LIFE OUTSIDE OF WIKI. NJGW IS A FUCKING LOSER BASTARD.\\n\\nNJGW IS AN UNEMPLOYED MOTHER FUCKING BASTARD LOSER. ROTS HERE IN WIKI EVERYDAY! HE IS A LOSER IN LIFE. NJGW IS A FUCKING LOSER BASTARD WITH NO LIFE OUTSIDE OF WIKI. NJGW IS A FUCKING LOSER BASTARD.\\n\\nNJGW IS AN UNEMPLOYED MOTHER FUCKING BASTARD LOSER. ROTS HERE IN WIKI EVERYDAY! HE IS A LOSER IN LIFE. NJGW IS A FUCKING LOSER BASTARD WITH NO LIFE OUTSIDE OF WIKI. NJGW IS A FUCKING LOSER BASTARD.\\n\\nNJGW IS AN UNEMPLOYED MOTHER FUCKING BASTARD LOSER. ROTS HERE IN WIKI EVERYDAY! HE IS A LOSER IN LIFE. NJGW IS A FUCKING LOSER BASTARD WITH NO LIFE OUTSIDE OF WIKI. NJGW IS A FUCKING LOSER BASTARD.\\n\\nNJGW IS AN UNEMPLOYED MOTHER FUCKING BASTARD LOSER. ROTS HERE IN WIKI EVERYDAY! HE IS A LOSER IN LIFE. NJGW IS A FUCKING LOSER BASTARD WITH NO LIFE OUTSIDE OF WIKI. NJGW IS A FUCKING LOSER BASTARD.\\n\\nNJGW IS AN UNEMPLOYED MOTHER FUCKING BASTARD LOSER. ROTS HERE IN WIKI EVERYDAY! HE IS A LOSER IN LIFE. NJGW IS A FUCKING LOSER BASTARD WITH NO LIFE OUTSIDE OF WIKI. NJGW IS A FUCKING LOSER BASTARD.\\n\\nNJGW IS AN UNEMPLOYED MOTHER FUCKING BASTARD LOSER. ROTS HERE IN WIKI EVERYDAY! HE IS A LOSER IN LIFE. NJGW IS A FUCKING LOSER BASTARD WITH NO LIFE OUTSIDE OF WIKI. NJGW IS A FUCKING LOSER BASTARD.\\n\\nNJGW IS AN UNEMPLOYED MOTHER FUCKING BASTARD LOSER. ROTS HERE IN WIKI EVERYDAY! HE IS A LOSER IN LIFE. NJGW IS A FUCKING LOSER BASTARD WITH NO LIFE OUTSIDE OF WIKI. NJGW IS A FUCKING LOSER BASTARD.\\n\\nNJGW IS AN UNEMPLOYED MOTHER FUCKING BASTARD LOSER. ROTS HERE IN WIKI EVERYDAY! HE IS A LOSER IN LIFE. NJGW IS A FUCKING LOSER BASTARD WITH NO LIFE OUTSIDE OF WIKI. NJGW IS A FUCKING LOSER BASTARD.\\n\\nNJGW IS AN UNEMPLOYED MOTHER FUCKING BASTARD LOSER. ROTS HERE IN WIKI EVERYDAY! HE IS A LOSER IN LIFE. NJGW IS A FUCKING LOSER BASTARD WITH NO LIFE OUTSIDE OF WIKI. NJGW IS A FUCKING LOSER BASTARD.\\n\\nNJGW IS AN UNEMPLOYED MOTHER FUCKING BASTARD LOSER. ROTS HERE IN WIKI EVERYDAY! HE IS A LOSER IN LIFE. NJGW IS A FUCKING LOSER BASTARD WITH NO LIFE OUTSIDE OF WIKI. NJGW IS A FUCKING LOSER BASTARD.\\n\\nNJGW IS AN UNEMPLOYED MOTHER FUCKING BASTARD LOSER. ROTS HERE IN WIKI EVERYDAY! HE IS A LOSER IN LIFE. NJGW IS A FUCKING LOSER BASTARD WITH NO LIFE OUTSIDE OF WIKI. NJGW IS A FUCKING LOSER BASTARD.\\n\\nNJGW IS AN UNEMPLOYED MOTHER FUCKING BASTARD LOSER. ROTS HERE IN WIKI EVERYDAY! HE IS A LOSER IN LIFE. NJGW IS A FUCKING LOSER BASTARD WITH NO LIFE OUTSIDE OF WIKI. NJGW IS A FUCKING LOSER BASTARD.\\n\\nNJGW IS AN UNEMPLOYED MOTHER FUCKING BASTARD LOSER. ROTS HERE IN WIKI EVERYDAY! HE IS A LOSER IN LIFE. NJGW IS A FUCKING LOSER BASTARD WITH NO LIFE OUTSIDE OF WIKI. NJGW IS A FUCKING LOSER BASTARD.\\n\\nNJGW IS AN UNEMPLOYED MOTHER FUCKING BASTARD LOSER. ROTS HERE IN WIKI EVERYDAY! HE IS A LOSER IN LIFE. NJGW IS A FUCKING LOSER BASTARD WITH NO LIFE OUTSIDE OF WIKI. NJGW IS A FUCKING LOSER BASTARD.\\n\\nNJGW IS AN UNEMPLOYED MOTHER FUCKING BASTARD LOSER. ROTS HERE IN WIKI EVERYDAY! HE IS A LOSER IN LIFE. NJGW IS A FUCKING LOSER BASTARD WITH NO LIFE OUTSIDE OF WIKI. NJGW IS A FUCKING LOSER BASTARD.\\n\\nNJGW IS AN UNEMPLOYED MOTHER FUCKING BASTARD LOSER. ROTS HERE IN WIKI EVERYDAY! HE IS A LOSER IN LIFE. NJGW IS A FUCKING LOSER BASTARD WITH NO LIFE OUTSIDE OF WIKI. NJGW IS A FUCKING LOSER BASTARD.\\n\\nNJGW IS AN UNEMPLOYED MOTHER FUCKING BASTARD LOSER. ROTS HERE IN WIKI EVERYDAY! HE IS A LOSER IN LIFE. NJGW IS A FUCKING LOSER BASTARD WITH NO LIFE OUTSIDE OF WIKI. NJGW IS A FUCKING LOSER BASTARD.\\n\\nNJGW IS AN UNEMPLOYED MOTHER FUCKING BASTARD LOSER. ROTS HERE IN WIKI EVERYDAY! HE IS A LOSER IN LIFE. NJGW IS A FUCKING LOSER BASTARD WITH NO LIFE OUTSIDE OF WIKI. NJGW IS A FUCKING LOSER BASTARD.\\n\\nNJGW IS AN UNEMPLOYED MOTHER FUCKING BASTARD LOSER. ROTS HERE IN WIKI EVERYDAY! HE IS A LOSER IN LIFE. NJGW IS A FUCKING LOSER BASTARD WITH NO LIFE', '\"*I will ignore all trolling on this, and all related pages.  ¡digame! \\n\\n\"', \"in other words, don't use the word a s s with the letters back-to-back because it sends up a red f u c k i n g flag to the computer reader.\", '\" to PNT. I look forward to seeing you around WP. ) \\n\\n Transactional and transformational leadership \\n\\nDear Synchronism, I would be happier if next time you research a little bit more on the notability of the articles you\\'re proposing to delete before tagging them. Both theories are widely known among the leadership scholars, and a google or google scholar search would sufice. Also, it helps if you check the history page. There was some indication that some sort of bibliography existed before in transformational leadership, as the \"\"years\"\" were cited after the authors. In a couple of clicks, you could have discovered the bibliography that was deleted by some editor in the past. Happy edits,   \\n\\nA google hit count is not the same as a corpus token count. Anyway, ghits and corpus tokens don\\'t equate notability.  I clearly have different opinions on this subject than you, so I\\'d appreciate it if you wouldn\\'t conflate those differences with any complaints you have about my editting activity.  You responded to my proposed deletions sufficiently and then some. And for the record: I do look at page histories.  \\n\\nUser page\\nThanks for the revert.  Have a gorilla \\nNo problem,   \\n\\nBudgie (TV series)\\nAre you a lawyer by any chance? Having tidied up some appallingly written text in the article Budgie (TV series) it seems you have reverted it back on some minor technicality. If you aren\\'t a lawyer I suggest you contact the Department of Justice as they are looking for people just like you!  —Preceding unsigned comment added by 92.8.68.13   \\n\\nYou removed referenced text from the article without explanation.  I\\'ll happily restore your reversions partially, but do not remove substantial text without explanation.  \\n\\n Parapsychology is a pseudoscience and you guys are promoting it as science. \\n\\nCluebot reverted my edits removing unreliable sourcing on that article. Now, when I try to point out it is a pseudoscience, you revert my edits again. All you are are a bunch of frauds who want to promote ignorance and superstition. Why else would you revert edits which call a pseudoscience for what it is?  —Preceding unsigned comment added by  (talk • contribs) < ! Template:Unsigned > \\nHaving not ever read the article I wouldn\\'t know if it\\'s promoting anything. I reverted your edits because you removed the bulk of the articles text and replaced it with a comment that would have been more useful on the article\\'s talk page. As far as the \\'bots action\\'s are concerned, I support it. The references obviously don\\'t by themselves make anything true, but it least we know where it\\'s coming from. You could always just undo the bot\\'s edits...  \"', \"Yeah, you aren't a loser.  Did your mom tell you that?  That you are special?  That the kids making fun of you were wrong?  \\n\\nBy the way, when did it say that Rick Moro once got drunk?\", \"So because the site is owned by the company, it's ok if it's biased??? Two words - BULLSH**! You're about 30 seconds away from being labeled a walmart flunkie.  And I'll be civil when you quit trying to blow smoke up my ass. If I go back and see you've re-added walmart facts, You'll wind up coming under attack - I am NOT the type to let push their POV. \\n\\n \", \" BTW \\n\\nI've noticed your page, and with all those little boxes on it, I must say, you are definately one of those no-life wikis! thanks,\"]\n"
     ]
    }
   ],
   "source": [
    "texts = set(df[\"less_toxic\"]) | set(df[\"more_toxic\"])\n",
    "texts = list(texts)\n",
    "print(f\"len(texts)={len(texts)}\\n{texts[:10]}\")"
   ]
  },
  {
   "cell_type": "code",
   "execution_count": null,
   "id": "bfeea6d5",
   "metadata": {},
   "outputs": [],
   "source": []
  }
 ],
 "metadata": {
  "kernelspec": {
   "display_name": "Python 3 (ipykernel)",
   "language": "python",
   "name": "python3"
  },
  "language_info": {
   "codemirror_mode": {
    "name": "ipython",
    "version": 3
   },
   "file_extension": ".py",
   "mimetype": "text/x-python",
   "name": "python",
   "nbconvert_exporter": "python",
   "pygments_lexer": "ipython3",
   "version": "3.7.5"
  }
 },
 "nbformat": 4,
 "nbformat_minor": 5
}
